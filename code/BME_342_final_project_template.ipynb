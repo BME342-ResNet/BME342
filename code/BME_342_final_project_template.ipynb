{
 "cells": [
  {
   "cell_type": "markdown",
   "metadata": {},
   "source": [
    "# BME 342 - Final Project"
   ]
  },
  {
   "cell_type": "markdown",
   "metadata": {},
   "source": [
    "*Victor Ibañez & Lasse Meyer, Bodenmiller Lab, 15.11.2024*"
   ]
  },
  {
   "cell_type": "markdown",
   "metadata": {},
   "source": [
    "This script can be used as a template for the final project of block course **BME 342, Deep Learning in Biomedicine**. "
   ]
  },
  {
   "cell_type": "markdown",
   "metadata": {},
   "source": [
    "**It contains:**\n",
    "- *Information, guidelines*\n",
    "- *Imports of many useful packages*\n",
    "- *Some functions which can be used for preprocessing, image loading and image visualization.*\n",
    "- *A potential structure for the project*"
   ]
  },
  {
   "cell_type": "markdown",
   "metadata": {},
   "source": [
    "**Here is a guideline for the project that can be (but not has to be!) considered and may be helpful:**\n",
    "\n",
    "Preliminary EDA & data cleaning:\n",
    "-\tRead about the data type\n",
    "-\tInvestigate data & plot class distribution\n",
    "\n",
    "Preprocessing:\n",
    "-\tNormalization \n",
    "-\tTransformation\n",
    "-\tData augmentation\n",
    "-\tUp-/downsampling\n",
    "-\tChannel reduction\n",
    "-\tImage Resizing\n",
    "-\tLabel preparation\n",
    "\n",
    "Model architecture:\n",
    "-\tNNs, CNNs, Transformers, ABMILs, etc.\n",
    "\n",
    "Training framework:\n",
    "-\tTrain-/test split\n",
    "-\tDifferent optimizers\n",
    "-\tDifferent loss functions\n",
    "-\tDifferent metrics\n",
    "-\tCross validation\n",
    "-\tEarly Stopping\n",
    "-\tLearning rate scheduler\n",
    "\n",
    "Data management:\n",
    "-\tGenerator from file path or CPU\n",
    "-\tDisable GPU (if not enough RAM on GPU)\n",
    "\n",
    "Training log & Results visualization:\n",
    "-\tPlot training and validation process\n",
    "-\tLog training history\n",
    "-\tPlot Confusion matrix"
   ]
  },
  {
   "cell_type": "markdown",
   "metadata": {},
   "source": [
    "**Keep in mind when working with jupyter notebooks:**\n",
    "- Come up with a clear and concise structure of your project\n",
    "- Comment your working steps by changing the cell to Markdown\n",
    "- Use blocks for single code logic (at least try to)\n",
    "- Include plots & other visualizations; this is the advantage of using notebooks!"
   ]
  },
  {
   "cell_type": "markdown",
   "metadata": {},
   "source": [
    "But most importantly... happy coding! &#128512;"
   ]
  },
  {
   "cell_type": "code",
   "execution_count": null,
   "metadata": {},
   "outputs": [],
   "source": [
    "'''# Import standard libraries\n",
    "import os\n",
    "import sys\n",
    "import gc\n",
    "import numpy as np\n",
    "import pandas as pd\n",
    "import matplotlib.pyplot as plt\n",
    "import seaborn as sns\n",
    "\n",
    "# Import DL libraries\n",
    "import tensorflow as tf\n",
    "from keras.models import Sequential\n",
    "from keras.layers import Conv2D, MaxPooling2D, Flatten, Dense, Dropout\n",
    "from keras import layers, models, Model, Input\n",
    "from keras.utils import to_categorical\n",
    "from keras.optimizers import Adam\n",
    "from keras.callbacks import ReduceLROnPlateau, EarlyStopping\n",
    "\n",
    "# Suppress tensorflow warnings\n",
    "os.environ['TF_CPP_MIN_LOG_LEVEL'] = '2'\n",
    "\n",
    "# Import ML libraries\n",
    "from sklearn.metrics import f1_score, confusion_matrix, ConfusionMatrixDisplay\n",
    "from sklearn.preprocessing import LabelEncoder\n",
    "from sklearn.model_selection import train_test_split, StratifiedKFold\n",
    "from sklearn.utils.class_weight import compute_class_weight\n",
    "\n",
    "# Import image libraries\n",
    "from skimage import transform\n",
    "import tifffile as tiff\n",
    "\n",
    "# Appends current working dir\n",
    "current_path = os.getcwd()\n",
    "sys.path.append(current_path)\n",
    "\n",
    "# Import custom preprocessing class\n",
    "from imc_preprocessing import IMCPreprocessor'''"
   ]
  },
  {
   "cell_type": "code",
   "execution_count": null,
   "metadata": {},
   "outputs": [],
   "source": [
    "'''# Preprocessing (if needed)\n",
    "def preprocessing(image, transpose=True, normalize=True) -> np.ndarray:\n",
    "    if transpose:\n",
    "        return np.transpose(image, (1, 2, 0))\n",
    "    if normalize:\n",
    "        return IMCPreprocessor.normalize_multichannel_image(image)'''"
   ]
  },
  {
   "cell_type": "code",
   "execution_count": null,
   "metadata": {},
   "outputs": [],
   "source": [
    "'''# Load images\n",
    "def load_image(image_path) -> np.ndarray:\n",
    "    image = tiff.imread(image_path)\n",
    "    if image is None:\n",
    "        raise ValueError(f\"Failed to load image: {image_path}\")\n",
    "    return image'''"
   ]
  },
  {
   "cell_type": "code",
   "execution_count": null,
   "metadata": {},
   "outputs": [],
   "source": [
    "'''\n",
    "# Extract channel information\n",
    "panel_df = pd.read_csv('panel.csv')\n",
    "channel_names = dict(zip(panel_df['clean_target'].to_list(), panel_df['channel'].to_list()))\n",
    "\n",
    "# change 'your_image_array' to your actual array name that contains the images\n",
    "img_nb = 1\n",
    "channel_to_display = ['Yb173'] # choose a channel to display\n",
    "plt.imshow(IMCPreprocessor.drop_channels(your_image_array[img_nb], channel_to_display, list(channel_names.values()))[0], cmap='gray')\n",
    "plt.title(f\"{channel_to_display[0]} - channel\")\n",
    "plt.axis('off')\n",
    "plt.show()\n",
    "'''"
   ]
  },
  {
   "cell_type": "markdown",
   "metadata": {},
   "source": [
    "### Initialize Notebook"
   ]
  },
  {
   "cell_type": "code",
   "execution_count": null,
   "metadata": {},
   "outputs": [],
   "source": [
    "import helper as hp \n",
    "hp.initialize_notebook() # initialize with GPU enabled  \n",
    "# hp.initialize_notebook(False) # to disable GPU "
   ]
  },
  {
   "cell_type": "markdown",
   "metadata": {},
   "source": [
    "## Load & preprocess images"
   ]
  },
  {
   "cell_type": "markdown",
   "metadata": {},
   "source": [
    "## EDA & Data Cleaning"
   ]
  },
  {
   "cell_type": "code",
   "execution_count": null,
   "metadata": {},
   "outputs": [],
   "source": []
  },
  {
   "cell_type": "markdown",
   "metadata": {},
   "source": [
    "## Load & Filter dataframe"
   ]
  },
  {
   "cell_type": "markdown",
   "metadata": {},
   "source": [
    "## Training & testing"
   ]
  },
  {
   "cell_type": "markdown",
   "metadata": {},
   "source": [
    "## Visualize Results"
   ]
  },
  {
   "cell_type": "code",
   "execution_count": null,
   "metadata": {},
   "outputs": [],
   "source": []
  }
 ],
 "metadata": {
  "kernelspec": {
   "display_name": "Python 3 (ipykernel)",
   "language": "python",
   "name": "python3"
  },
  "language_info": {
   "codemirror_mode": {
    "name": "ipython",
    "version": 3
   },
   "file_extension": ".py",
   "mimetype": "text/x-python",
   "name": "python",
   "nbconvert_exporter": "python",
   "pygments_lexer": "ipython3",
   "version": "3.12.6"
  }
 },
 "nbformat": 4,
 "nbformat_minor": 4
}
