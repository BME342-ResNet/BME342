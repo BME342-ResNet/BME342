{
 "cells": [
  {
   "cell_type": "markdown",
   "id": "2b8bcebb-432e-4cc6-aa0f-0a055715ddea",
   "metadata": {},
   "source": [
    "## ResNet: Tensorflow Train\n",
    "\n",
    "Because ResNet50 is too large to train on our GPU, we will use pre-trained ResNet and modify the first and last layer respectively to try to assess whether accuracy increases "
   ]
  }
 ],
 "metadata": {
  "kernelspec": {
   "display_name": "BME342 Env",
   "language": "python",
   "name": "bme342_gpu_env"
  },
  "language_info": {
   "codemirror_mode": {
    "name": "ipython",
    "version": 3
   },
   "file_extension": ".py",
   "mimetype": "text/x-python",
   "name": "python",
   "nbconvert_exporter": "python",
   "pygments_lexer": "ipython3",
   "version": "3.12.6"
  }
 },
 "nbformat": 4,
 "nbformat_minor": 5
}
