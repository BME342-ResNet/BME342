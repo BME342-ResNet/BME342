{
 "cells": [
  {
   "cell_type": "markdown",
   "id": "6aeaf0f9-b966-4a8f-977a-0849325d6b40",
   "metadata": {},
   "source": [
    "## ResNet34: Tensorflow Train\n",
    "### Cross-Validation\n",
    "\n",
    "After assessing different model complexities (ResNet18), regularization techniques (Dropout), callbacks (Early Stopping, ReduceLROnPlateu), we now want to assess whether cross-validation can overcome the sparsity in our data and thus help our model to train better"
   ]
  }
 ],
 "metadata": {
  "kernelspec": {
   "display_name": "BME342 Env",
   "language": "python",
   "name": "bme342_gpu_env"
  },
  "language_info": {
   "codemirror_mode": {
    "name": "ipython",
    "version": 3
   },
   "file_extension": ".py",
   "mimetype": "text/x-python",
   "name": "python",
   "nbconvert_exporter": "python",
   "pygments_lexer": "ipython3",
   "version": "3.12.6"
  }
 },
 "nbformat": 4,
 "nbformat_minor": 5
}
