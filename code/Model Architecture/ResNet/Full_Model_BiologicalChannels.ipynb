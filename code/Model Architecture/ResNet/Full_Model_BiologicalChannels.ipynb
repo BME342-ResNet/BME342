{
 "cells": [
  {
   "cell_type": "markdown",
   "id": "6423c422-04da-4edb-ba56-2a146476f0ba",
   "metadata": {},
   "source": [
    "# ResNet: Balanced Data Set \n",
    "\n",
    "After evaluating F1 Score, we want to train our model on balanced dataset and then predict the unbalanced dataset"
   ]
  },
  {
   "cell_type": "markdown",
   "id": "d287ef90-f246-452c-82a0-9d04df91e2d6",
   "metadata": {},
   "source": [
    "### Initialize Notebook & packages"
   ]
  },
  {
   "cell_type": "code",
   "execution_count": 2,
   "id": "540f84f3-10a2-4635-b20c-3fd5939db3f4",
   "metadata": {},
   "outputs": [
    {
     "name": "stderr",
     "output_type": "stream",
     "text": [
      "2024-12-18 14:37:27.144024: E external/local_xla/xla/stream_executor/cuda/cuda_fft.cc:485] Unable to register cuFFT factory: Attempting to register factory for plugin cuFFT when one has already been registered\n",
      "2024-12-18 14:37:27.158339: E external/local_xla/xla/stream_executor/cuda/cuda_dnn.cc:8454] Unable to register cuDNN factory: Attempting to register factory for plugin cuDNN when one has already been registered\n",
      "2024-12-18 14:37:27.162781: E external/local_xla/xla/stream_executor/cuda/cuda_blas.cc:1452] Unable to register cuBLAS factory: Attempting to register factory for plugin cuBLAS when one has already been registered\n",
      "2024-12-18 14:37:27.173826: I tensorflow/core/platform/cpu_feature_guard.cc:210] This TensorFlow binary is optimized to use available CPU instructions in performance-critical operations.\n",
      "To enable the following instructions: SSE4.1 SSE4.2 AVX AVX2 FMA, in other operations, rebuild TensorFlow with the appropriate compiler flags.\n"
     ]
    },
    {
     "name": "stdout",
     "output_type": "stream",
     "text": [
      "GPU enabled. Checking for available GPUs...\n",
      "1 Physical GPUs, 1 Logical GPUs\n",
      "\n",
      "Verifying TensorFlow and PyTorch CUDA setup...\n",
      "TensorFlow version: 2.17.0\n",
      "Built with CUDA: True\n",
      "Num GPUs Available: 1\n",
      "\n",
      "Keras version: 3.6.0\n",
      "\n",
      "End checks and initialization.\n"
     ]
    },
    {
     "name": "stderr",
     "output_type": "stream",
     "text": [
      "WARNING: All log messages before absl::InitializeLog() is called are written to STDERR\n",
      "I0000 00:00:1734532648.970435  833766 cuda_executor.cc:1015] successful NUMA node read from SysFS had negative value (-1), but there must be at least one NUMA node, so returning NUMA node zero. See more at https://github.com/torvalds/linux/blob/v6.0/Documentation/ABI/testing/sysfs-bus-pci#L344-L355\n",
      "I0000 00:00:1734532649.009918  833766 cuda_executor.cc:1015] successful NUMA node read from SysFS had negative value (-1), but there must be at least one NUMA node, so returning NUMA node zero. See more at https://github.com/torvalds/linux/blob/v6.0/Documentation/ABI/testing/sysfs-bus-pci#L344-L355\n",
      "I0000 00:00:1734532649.013461  833766 cuda_executor.cc:1015] successful NUMA node read from SysFS had negative value (-1), but there must be at least one NUMA node, so returning NUMA node zero. See more at https://github.com/torvalds/linux/blob/v6.0/Documentation/ABI/testing/sysfs-bus-pci#L344-L355\n",
      "I0000 00:00:1734532649.018743  833766 cuda_executor.cc:1015] successful NUMA node read from SysFS had negative value (-1), but there must be at least one NUMA node, so returning NUMA node zero. See more at https://github.com/torvalds/linux/blob/v6.0/Documentation/ABI/testing/sysfs-bus-pci#L344-L355\n",
      "I0000 00:00:1734532649.022152  833766 cuda_executor.cc:1015] successful NUMA node read from SysFS had negative value (-1), but there must be at least one NUMA node, so returning NUMA node zero. See more at https://github.com/torvalds/linux/blob/v6.0/Documentation/ABI/testing/sysfs-bus-pci#L344-L355\n",
      "I0000 00:00:1734532649.025293  833766 cuda_executor.cc:1015] successful NUMA node read from SysFS had negative value (-1), but there must be at least one NUMA node, so returning NUMA node zero. See more at https://github.com/torvalds/linux/blob/v6.0/Documentation/ABI/testing/sysfs-bus-pci#L344-L355\n",
      "I0000 00:00:1734532649.215841  833766 cuda_executor.cc:1015] successful NUMA node read from SysFS had negative value (-1), but there must be at least one NUMA node, so returning NUMA node zero. See more at https://github.com/torvalds/linux/blob/v6.0/Documentation/ABI/testing/sysfs-bus-pci#L344-L355\n",
      "I0000 00:00:1734532649.217856  833766 cuda_executor.cc:1015] successful NUMA node read from SysFS had negative value (-1), but there must be at least one NUMA node, so returning NUMA node zero. See more at https://github.com/torvalds/linux/blob/v6.0/Documentation/ABI/testing/sysfs-bus-pci#L344-L355\n",
      "I0000 00:00:1734532649.219701  833766 cuda_executor.cc:1015] successful NUMA node read from SysFS had negative value (-1), but there must be at least one NUMA node, so returning NUMA node zero. See more at https://github.com/torvalds/linux/blob/v6.0/Documentation/ABI/testing/sysfs-bus-pci#L344-L355\n",
      "2024-12-18 14:37:29.221496: I tensorflow/core/common_runtime/gpu/gpu_device.cc:2021] Created device /job:localhost/replica:0/task:0/device:GPU:0 with 13312 MB memory:  -> device: 0, name: Tesla T4, pci bus id: 0000:00:06.0, compute capability: 7.5\n"
     ]
    }
   ],
   "source": [
    "import helper as hp \n",
    "hp.initialize_notebook() # initialize with GPU enabled  \n",
    "# hp.initialize_notebook(False) # to disable GPU "
   ]
  },
  {
   "cell_type": "code",
   "execution_count": 3,
   "id": "9a539d5b-87bd-4bef-9dce-e8ed23101a53",
   "metadata": {},
   "outputs": [],
   "source": [
    "# Import standard libraries\n",
    "import os\n",
    "import sys\n",
    "import gc\n",
    "import numpy as np\n",
    "import pandas as pd\n",
    "import matplotlib.pyplot as plt\n",
    "import seaborn as sns\n",
    "import time\n",
    "import keras\n",
    "# Import DL libraries\n",
    "import tensorflow as tf\n",
    "from keras.models import Sequential\n",
    "from keras.layers import Input, Add, Dense, Activation, ZeroPadding2D, BatchNormalization, Flatten, Conv2D, AveragePooling2D, MaxPooling2D, Dropout # General Layers\n",
    "from keras.layers import RandomRotation, RandomFlip\n",
    "from keras import layers, models, Model, Input\n",
    "from keras.utils import to_categorical\n",
    "from keras.optimizers import Adam\n",
    "from keras.callbacks import ReduceLROnPlateau, EarlyStopping, TensorBoard\n",
    "from keras.initializers import glorot_uniform\n",
    "from keras.utils import plot_model\n",
    "from keras.metrics import F1Score, AUC\n",
    "# Suppress tensorflow warnings\n",
    "os.environ['TF_CPP_MIN_LOG_LEVEL'] = '2'\n",
    "\n",
    "# Import ML libraries\n",
    "from sklearn.metrics import f1_score, confusion_matrix, ConfusionMatrixDisplay\n",
    "from sklearn.preprocessing import LabelEncoder\n",
    "from sklearn.model_selection import train_test_split, StratifiedKFold, StratifiedShuffleSplit\n",
    "from sklearn.utils.class_weight import compute_class_weight\n",
    "\n",
    "# Import image libraries\n",
    "from skimage import transform\n",
    "import tifffile as tiff\n",
    "from tifffile import imread\n",
    "\n",
    "# Appends current working dir\n",
    "current_path = os.getcwd()\n",
    "sys.path.append(current_path)\n",
    "\n",
    "# Import custom preprocessing class\n",
    "from imc_preprocessing import IMCPreprocessor"
   ]
  },
  {
   "cell_type": "markdown",
   "id": "ffae5700-11b4-45a2-8685-0f902de0fe82",
   "metadata": {},
   "source": [
    "### Clear GPU memory"
   ]
  },
  {
   "cell_type": "code",
   "execution_count": 3,
   "id": "e6d5b5a3-ffb8-4aa6-a104-007089a21c2b",
   "metadata": {},
   "outputs": [],
   "source": [
    "import tensorflow as tf\n",
    "from keras import backend as K\n",
    "\n",
    "# Clear TensorFlow session and reset the graph\n",
    "K.clear_session()\n",
    "tf.compat.v1.reset_default_graph()"
   ]
  },
  {
   "cell_type": "markdown",
   "id": "a4b81817-ac05-4c27-9a08-c4358a629c1b",
   "metadata": {},
   "source": [
    "## IMPORT DATA"
   ]
  },
  {
   "cell_type": "markdown",
   "id": "1c2b0bc5-7e74-41b4-a06f-35ada36a27fc",
   "metadata": {},
   "source": [
    "### Train, validation and test split "
   ]
  },
  {
   "cell_type": "code",
   "execution_count": 4,
   "id": "fb5405b3-fab2-4569-8522-f7b2c02a69ad",
   "metadata": {},
   "outputs": [],
   "source": [
    "images_dir = '../../../IMC_images' \n",
    "metadata_dir = '../../../metadata.csv'\n",
    "# --- Load CSV and filter dataset ---\n",
    "csv_file = metadata_dir\n",
    "image_folder = images_dir\n",
    "\n",
    "# Load the CSV\n",
    "df = pd.read_csv(csv_file)\n",
    "\n",
    "# Filter rows with NA in PDL1_score and convert to binary\n",
    "df = df.dropna(subset=[\"PDL1_score\"])\n",
    "df[\"PDL1_score\"] = df[\"PDL1_score\"].astype(int)\n",
    "\n",
    "# --- Train-Test-Validation Split ---\n",
    "train_df, val_and_test_df = train_test_split(df, test_size=0.4, random_state=42, stratify=df[\"PDL1_score\"])\n",
    "test_df, val_df = train_test_split(val_and_test_df, test_size=0.5, random_state=42, stratify=val_and_test_df[\"PDL1_score\"])\n"
   ]
  },
  {
   "cell_type": "markdown",
   "id": "eebbbc41-02aa-43bb-b875-552d15b12834",
   "metadata": {},
   "source": [
    "### Import function for dataset"
   ]
  },
  {
   "cell_type": "code",
   "execution_count": 5,
   "id": "9f060b1f-09d4-4828-b6c6-06305c1d984a",
   "metadata": {},
   "outputs": [],
   "source": [
    "# --- Load Images and Compute Mean and Standard Deviation ---\n",
    "# Function to load a single image\n",
    "def load_image(image_path):\n",
    "    image = imread(image_path)  # Load all 46 channels\n",
    "    return image.astype(np.float32)\n",
    "\n",
    "# Initialize variables to accumulate sum and sum of squares\n",
    "nr_images = 0\n",
    "sum_images = np.zeros((46, 224, 224))\n",
    "sum_squared_images = np.zeros((46, 224, 224))\n",
    "\n",
    "# Accumulate the sum and sum of squares for the training dataset\n",
    "for _, row in train_df.iterrows():\n",
    "    image_path = os.path.join(image_folder, f\"{row['sample_id']}.tiff\")\n",
    "    image = load_image(image_path)\n",
    "    nr_images += 1\n",
    "    sum_images += image\n",
    "    sum_squared_images += image ** 2\n",
    "\n",
    "# Compute mean and standard deviation\n",
    "mean = sum_images / nr_images\n",
    "std = np.sqrt(sum_squared_images / nr_images - mean ** 2)\n",
    "\n",
    "# --- Dataset Loading Function ---\n",
    "\n",
    "def load_dataset(dataframe, image_folder, normalize = True): # augment = False\n",
    "    images = []\n",
    "    labels = []\n",
    "    \n",
    "    for _, row in dataframe.iterrows():\n",
    "        image_path = os.path.join(image_folder, f\"{row['sample_id']}.tiff\")\n",
    "        image = load_image(image_path)\n",
    "\n",
    "        if normalize:\n",
    "            image = (image - mean) / std # Z-Score\n",
    "\n",
    "        # Convert to channels-last format (224, 224, 46)\n",
    "        image = np.transpose(image, (1, 2, 0))\n",
    "\n",
    "        # # Apply data augmentation if specified\n",
    "        # if augment:\n",
    "        #     # Random horizontal flip\n",
    "        #     if np.random.rand() > 0.5:\n",
    "        #         image = np.flip(image, axis=2)\n",
    "        #     # Random vertical flip\n",
    "        #     if np.random.rand() > 0.5:\n",
    "        #         image = np.flip(image, axis=1)\n",
    "\n",
    "        images.append(image)\n",
    "        labels.append(row[\"PDL1_score\"])\n",
    "\n",
    "    return np.array(images), np.array(labels)"
   ]
  },
  {
   "cell_type": "markdown",
   "id": "06dfaf9f-8ab2-4b85-b576-fe70bbb53ffc",
   "metadata": {},
   "source": [
    "## ResNet18: with Tensor Board + 3 Channels + with Dropout + ReduceLR + EarlyStopping + sigmoid instead of softmax + 1 neuron instead of "
   ]
  },
  {
   "cell_type": "markdown",
   "id": "7db913bb-2abf-4c3a-aa86-523e2f5390f7",
   "metadata": {},
   "source": [
    "Adjust the last classificaiton layer to contain 1 neuron and the sigmoid activation function (instead of 2 neurons and the softmax), because this is more suited for binary classificaiton. Model retrained underneath"
   ]
  },
  {
   "cell_type": "markdown",
   "id": "d993d258-5cfe-4b4d-8e6a-4d484243aa18",
   "metadata": {},
   "source": [
    "### Create Datasets: Disable one-hot encoding for sigmoid / F1-Score"
   ]
  },
  {
   "cell_type": "code",
   "execution_count": 27,
   "id": "0b8101ec-37e6-40e5-9463-00f60c31e4b8",
   "metadata": {},
   "outputs": [
    {
     "name": "stdout",
     "output_type": "stream",
     "text": [
      "X_train shape: (590, 224, 224, 46), y_train shape: (590,)\n",
      "X_val shape: (197, 224, 224, 46), y_val shape: (197,)\n",
      "X_test shape: (197, 224, 224, 46), y_test shape: (197,)\n"
     ]
    }
   ],
   "source": [
    "# Training dataset without augmentation\n",
    "X_train, y_train = load_dataset(train_df, image_folder, normalize = True)\n",
    "# # Training dataset with data augmentation\n",
    "# X_train_aug, y_train_aug = load_dataset(train_df, image_folder, augment=True)\n",
    "# Validation dataset\n",
    "X_val, y_val = load_dataset(val_df, image_folder, normalize = True)\n",
    "# Test dataset\n",
    "X_test, y_test = load_dataset(test_df, image_folder, normalize = True)\n",
    "\n",
    "# #  Disable for F1_score / Sigmoid \n",
    "# # One Hot Encoding\n",
    "# y_train= to_categorical(y_train)\n",
    "# y_val= to_categorical(y_val)\n",
    "# y_test = to_categorical(y_test)\n",
    "\n",
    "print(f\"X_train shape: {X_train.shape}, y_train shape: {y_train.shape}\")\n",
    "print(f\"X_val shape: {X_val.shape}, y_val shape: {y_val.shape}\")\n",
    "print(f\"X_test shape: {X_test.shape}, y_test shape: {y_test.shape}\")"
   ]
  },
  {
   "cell_type": "markdown",
   "id": "04802160-2647-4c04-b574-0c83d3b17045",
   "metadata": {},
   "source": [
    "### Drop biological irrelevant channels"
   ]
  },
  {
   "cell_type": "code",
   "execution_count": 28,
   "id": "1cc1cd02-9694-429c-9707-fec88f1490f0",
   "metadata": {},
   "outputs": [],
   "source": [
    "def drop_channels(image, channels_of_interest, channel_names):\n",
    "        channel_names_new = [i for i in channel_names if i not in channels_of_interest]\n",
    "        mask = np.zeros(image.shape[2], dtype=bool) # Error: np.zeros(image.shape[0], dtype=bool) and NOT np.zeros(image.shape[2], dtype=bool) (ONLY ERROR IF YOU DONT TRANSPOSE THE IMAGE, OTHERWISE OKEY)\n",
    "        \n",
    "        for i in channels_of_interest:\n",
    "            mask[channel_names.index(i)] = True\n",
    "        image = image[:, :, mask] # Error: image[mask, :, :] and not image[:, :, mask] ! (ONLY ERROR IF YOU DONT TRANSPOSE THE IMAGE, OTHERWISE OKEY)\n",
    "        \n",
    "        return image"
   ]
  },
  {
   "cell_type": "code",
   "execution_count": 29,
   "id": "77afc4b7-ca50-4d07-9fa8-f9335beac8aa",
   "metadata": {},
   "outputs": [],
   "source": [
    "channel_names_new = [\"Gd160\", \"Eu153\", \"Gd155\"]\n",
    "\n",
    "panel_dir = '../../../panel.csv' \n",
    "panel_df = pd.read_csv(panel_dir)\n",
    "channel_names = dict(zip(panel_df['clean_target'].to_list(), panel_df['channel'].to_list()))"
   ]
  },
  {
   "cell_type": "code",
   "execution_count": 30,
   "id": "284cb64a-ca3c-41d3-b17e-e15533fdbdf1",
   "metadata": {},
   "outputs": [],
   "source": [
    "X_train = [drop_channels(i, channel_names_new, list(channel_names.values())) for i in X_train]\n",
    "X_val = [drop_channels(i, channel_names_new, list(channel_names.values())) for i in X_val]\n",
    "X_test = [drop_channels(i, channel_names_new, list(channel_names.values())) for i in X_test]"
   ]
  },
  {
   "cell_type": "code",
   "execution_count": 31,
   "id": "3f3b74f3-4f7c-4f9f-a26e-f2af7c0634db",
   "metadata": {},
   "outputs": [],
   "source": [
    "X_train = np.array(X_train)\n",
    "X_val = np.array(X_val)\n",
    "X_test = np.array(X_test)\n"
   ]
  },
  {
   "cell_type": "markdown",
   "id": "25bfb016-edd4-468f-9107-b9f3b1bcbbb4",
   "metadata": {},
   "source": [
    "### ResNet18: with Tensor Board + 3 Channels + with Dropout + ReduceLR + EarlyStopping + sigmoid (1 neuron) + binary cross entropy + 3 Channels"
   ]
  },
  {
   "cell_type": "code",
   "execution_count": 11,
   "id": "b2b46899-0938-4817-bb2d-c6771a086e13",
   "metadata": {},
   "outputs": [],
   "source": [
    "def identity_block(x, filter, dropout_rate = 0.5):\n",
    "    # copy tensor to variable called x_skip\n",
    "    x_skip = x\n",
    "    # Layer 1\n",
    "    x = tf.keras.layers.Conv2D(filter, (3,3), padding = 'same')(x)\n",
    "    x = tf.keras.layers.BatchNormalization(axis=3)(x)\n",
    "    x = Dropout(dropout_rate)(x)\n",
    "    x = tf.keras.layers.Activation('relu')(x)\n",
    "    # Layer 2\n",
    "    x = tf.keras.layers.Conv2D(filter, (3,3), padding = 'same')(x)\n",
    "    x = tf.keras.layers.BatchNormalization(axis=3)(x)\n",
    "    # Add Residue\n",
    "    x = tf.keras.layers.Add()([x, x_skip])     \n",
    "    x = tf.keras.layers.Activation('relu')(x)\n",
    "    return x\n",
    "\n",
    "def convolutional_block(x, filter, dropout_rate = 0.5):\n",
    "    # copy tensor to variable called x_skip\n",
    "    x_skip = x\n",
    "    # Layer 1\n",
    "    x = tf.keras.layers.Conv2D(filter, (3,3), padding = 'same', strides = (2,2))(x)\n",
    "    x = tf.keras.layers.BatchNormalization(axis=3)(x)\n",
    "    x = Dropout(dropout_rate)(x)\n",
    "    x = tf.keras.layers.Activation('relu')(x)\n",
    "    # Layer 2\n",
    "    x = tf.keras.layers.Conv2D(filter, (3,3), padding = 'same')(x)\n",
    "    x = tf.keras.layers.BatchNormalization(axis=3)(x)\n",
    "    # Processing Residue with conv(1,1)\n",
    "    x_skip = tf.keras.layers.Conv2D(filter, (1,1), strides = (2,2))(x_skip)\n",
    "    # Add Residue\n",
    "    x = tf.keras.layers.Add()([x, x_skip])     \n",
    "    x = tf.keras.layers.Activation('relu')(x)\n",
    "    return x\n",
    "\n",
    "def ResNet(shape = (32, 32, 3), classes = 10, block_layers = [3, 4, 6, 3], dropout_rate = 0.5):\n",
    "    # Step 1 (Setup Input Layer)\n",
    "    x_input = tf.keras.layers.Input(shape)\n",
    "    x = tf.keras.layers.ZeroPadding2D((3, 3))(x_input)\n",
    "    # Step 2 (Initial Conv layer along with maxPool)\n",
    "    x = tf.keras.layers.Conv2D(64, kernel_size=7, strides=2, padding='same')(x)\n",
    "    x = tf.keras.layers.BatchNormalization()(x)\n",
    "    x = Dropout(dropout_rate)(x)\n",
    "    x = tf.keras.layers.Activation('relu')(x)\n",
    "    x = tf.keras.layers.MaxPool2D(pool_size=3, strides=2, padding='same')(x)\n",
    "    # Define size of sub-blocks and initial filter size\n",
    "    block_layers = block_layers\n",
    "    filter_size = 64\n",
    "    # Step 3 Add the Resnet Blocks\n",
    "    for i in range(4):\n",
    "        if i == 0:\n",
    "            # For sub-block 1 Residual/Convolutional block not needed\n",
    "            for j in range(block_layers[i]):\n",
    "                x = identity_block(x, filter_size)\n",
    "        else:\n",
    "            # One Residual/Convolutional Block followed by Identity blocks\n",
    "            # The filter size will go on increasing by a factor of 2\n",
    "            filter_size = filter_size*2\n",
    "            x = convolutional_block(x, filter_size)\n",
    "            for j in range(block_layers[i] - 1):\n",
    "                x = identity_block(x, filter_size)\n",
    "    # Step 4 End Dense Network\n",
    "    x = tf.keras.layers.AveragePooling2D((2,2), padding = 'same')(x)\n",
    "    x = tf.keras.layers.Flatten()(x)\n",
    "    x = tf.keras.layers.Dense(512, activation = 'relu')(x)\n",
    "    x = Dropout(dropout_rate)(x)\n",
    "    x = tf.keras.layers.Dense(1, activation = 'sigmoid')(x) # Change last layer here: sigmoid and 1 neuron (classes -1)\n",
    "    model = tf.keras.models.Model(inputs = x_input, outputs = x, name = \"ResNet18\")\n",
    "    return model"
   ]
  },
  {
   "cell_type": "markdown",
   "id": "2a4f2069-52eb-4f95-b038-5e2fbbc75f40",
   "metadata": {},
   "source": [
    "### Callbacks "
   ]
  },
  {
   "cell_type": "code",
   "execution_count": 16,
   "id": "613392c7-5ea6-4641-85f2-de0172872332",
   "metadata": {
    "jupyter": {
     "source_hidden": true
    }
   },
   "outputs": [],
   "source": [
    "# Callbacks\n",
    "log_dir = os.path.join(\"logs_ResNet50\", \"fit\", \"model_ResNet18_46_dropout_callbacks_sigmoid_biological_channels_trained\" + time.strftime(\"%Y%m%d-%H%M%S\"))\n",
    "tb_callback = TensorBoard(log_dir=log_dir, histogram_freq=1)\n",
    "\n",
    "callbacks_list = [\n",
    "    keras.callbacks.EarlyStopping(\n",
    "        monitor=\"val_loss\",\n",
    "        patience=12,   # Optimal patience value for validation accuracy\n",
    "    ),\n",
    "    keras.callbacks.ModelCheckpoint(\n",
    "        filepath=\"./models_ResNet/model_ResNet18_46_dropout_callbacks_sigmoid_biological_channels_trained.keras\", # save validation loss into file\n",
    "        monitor=\"val_loss\",  # monitor validation accuracy\n",
    "        save_best_only=True,\n",
    "    ),\n",
    "    ReduceLROnPlateau(\n",
    "    monitor=\"val_loss\",\n",
    "    factor=0.5,  \n",
    "    patience=3,\n",
    "    verbose=1,\n",
    "    mode=\"auto\",\n",
    "    min_delta=0.001,\n",
    "    min_lr=1.e-6,\n",
    "    ), \n",
    "    tb_callback\n",
    "]"
   ]
  },
  {
   "cell_type": "markdown",
   "id": "01b74064-c987-475d-9c91-23c09fd358d1",
   "metadata": {},
   "source": [
    "### Train Model: NOW ONLY 3 CHANNELS"
   ]
  },
  {
   "cell_type": "code",
   "execution_count": 18,
   "id": "2a43deb3-3a42-41b7-a801-942b7a8559d1",
   "metadata": {
    "collapsed": true,
    "jupyter": {
     "outputs_hidden": true,
     "source_hidden": true
    }
   },
   "outputs": [
    {
     "name": "stdout",
     "output_type": "stream",
     "text": [
      "Epoch 1/50\n"
     ]
    },
    {
     "name": "stderr",
     "output_type": "stream",
     "text": [
      "I0000 00:00:1734476922.660306  748125 service.cc:146] XLA service 0x7efd6c005720 initialized for platform CUDA (this does not guarantee that XLA will be used). Devices:\n",
      "I0000 00:00:1734476922.660342  748125 service.cc:154]   StreamExecutor device (0): Tesla T4, Compute Capability 7.5\n",
      "2024-12-17 23:08:42.952908: I tensorflow/compiler/mlir/tensorflow/utils/dump_mlir_util.cc:268] disabling MLIR crash reproducer, set env var `MLIR_CRASH_REPRODUCER_DIRECTORY` to enable.\n",
      "2024-12-17 23:08:43.956313: I external/local_xla/xla/stream_executor/cuda/cuda_dnn.cc:531] Loaded cuDNN version 90300\n",
      "I0000 00:00:1734476942.125781  748125 device_compiler.h:188] Compiled cluster using XLA!  This line is logged at most once for the lifetime of the process.\n"
     ]
    },
    {
     "name": "stdout",
     "output_type": "stream",
     "text": [
      "\u001b[1m10/10\u001b[0m \u001b[32m━━━━━━━━━━━━━━━━━━━━\u001b[0m\u001b[37m\u001b[0m \u001b[1m51s\u001b[0m 3s/step - accuracy: 0.6364 - loss: 1.2215 - val_accuracy: 0.4772 - val_loss: 0.7406 - learning_rate: 1.0000e-04\n",
      "Epoch 2/50\n",
      "\u001b[1m10/10\u001b[0m \u001b[32m━━━━━━━━━━━━━━━━━━━━\u001b[0m\u001b[37m\u001b[0m \u001b[1m5s\u001b[0m 497ms/step - accuracy: 0.7671 - loss: 0.6652 - val_accuracy: 0.7817 - val_loss: 0.5766 - learning_rate: 1.0000e-04\n",
      "Epoch 3/50\n",
      "\u001b[1m10/10\u001b[0m \u001b[32m━━━━━━━━━━━━━━━━━━━━\u001b[0m\u001b[37m\u001b[0m \u001b[1m4s\u001b[0m 446ms/step - accuracy: 0.7917 - loss: 0.5535 - val_accuracy: 0.7665 - val_loss: 0.5324 - learning_rate: 1.0000e-04\n",
      "Epoch 4/50\n",
      "\u001b[1m10/10\u001b[0m \u001b[32m━━━━━━━━━━━━━━━━━━━━\u001b[0m\u001b[37m\u001b[0m \u001b[1m4s\u001b[0m 430ms/step - accuracy: 0.8141 - loss: 0.4327 - val_accuracy: 0.7817 - val_loss: 0.5287 - learning_rate: 1.0000e-04\n",
      "Epoch 5/50\n",
      "\u001b[1m10/10\u001b[0m \u001b[32m━━━━━━━━━━━━━━━━━━━━\u001b[0m\u001b[37m\u001b[0m \u001b[1m4s\u001b[0m 452ms/step - accuracy: 0.8658 - loss: 0.3454 - val_accuracy: 0.7970 - val_loss: 0.4584 - learning_rate: 1.0000e-04\n",
      "Epoch 6/50\n",
      "\u001b[1m10/10\u001b[0m \u001b[32m━━━━━━━━━━━━━━━━━━━━\u001b[0m\u001b[37m\u001b[0m \u001b[1m3s\u001b[0m 331ms/step - accuracy: 0.8608 - loss: 0.3679 - val_accuracy: 0.7817 - val_loss: 0.4686 - learning_rate: 1.0000e-04\n",
      "Epoch 7/50\n",
      "\u001b[1m10/10\u001b[0m \u001b[32m━━━━━━━━━━━━━━━━━━━━\u001b[0m\u001b[37m\u001b[0m \u001b[1m4s\u001b[0m 462ms/step - accuracy: 0.8652 - loss: 0.3831 - val_accuracy: 0.8274 - val_loss: 0.4568 - learning_rate: 1.0000e-04\n",
      "Epoch 8/50\n",
      "\u001b[1m10/10\u001b[0m \u001b[32m━━━━━━━━━━━━━━━━━━━━\u001b[0m\u001b[37m\u001b[0m \u001b[1m5s\u001b[0m 428ms/step - accuracy: 0.8726 - loss: 0.3226 - val_accuracy: 0.7970 - val_loss: 0.4399 - learning_rate: 1.0000e-04\n",
      "Epoch 9/50\n",
      "\u001b[1m10/10\u001b[0m \u001b[32m━━━━━━━━━━━━━━━━━━━━\u001b[0m\u001b[37m\u001b[0m \u001b[1m3s\u001b[0m 320ms/step - accuracy: 0.8396 - loss: 0.3871 - val_accuracy: 0.8223 - val_loss: 0.4561 - learning_rate: 1.0000e-04\n",
      "Epoch 10/50\n",
      "\u001b[1m10/10\u001b[0m \u001b[32m━━━━━━━━━━━━━━━━━━━━\u001b[0m\u001b[37m\u001b[0m \u001b[1m3s\u001b[0m 335ms/step - accuracy: 0.8842 - loss: 0.2940 - val_accuracy: 0.8020 - val_loss: 0.4529 - learning_rate: 1.0000e-04\n",
      "Epoch 11/50\n",
      "\u001b[1m10/10\u001b[0m \u001b[32m━━━━━━━━━━━━━━━━━━━━\u001b[0m\u001b[37m\u001b[0m \u001b[1m4s\u001b[0m 462ms/step - accuracy: 0.8604 - loss: 0.3606 - val_accuracy: 0.8020 - val_loss: 0.4373 - learning_rate: 1.0000e-04\n",
      "Epoch 12/50\n",
      "\u001b[1m10/10\u001b[0m \u001b[32m━━━━━━━━━━━━━━━━━━━━\u001b[0m\u001b[37m\u001b[0m \u001b[1m5s\u001b[0m 478ms/step - accuracy: 0.8777 - loss: 0.2998 - val_accuracy: 0.8376 - val_loss: 0.4164 - learning_rate: 1.0000e-04\n",
      "Epoch 13/50\n",
      "\u001b[1m10/10\u001b[0m \u001b[32m━━━━━━━━━━━━━━━━━━━━\u001b[0m\u001b[37m\u001b[0m \u001b[1m3s\u001b[0m 328ms/step - accuracy: 0.8677 - loss: 0.3498 - val_accuracy: 0.8173 - val_loss: 0.4319 - learning_rate: 1.0000e-04\n",
      "Epoch 14/50\n",
      "\u001b[1m10/10\u001b[0m \u001b[32m━━━━━━━━━━━━━━━━━━━━\u001b[0m\u001b[37m\u001b[0m \u001b[1m3s\u001b[0m 341ms/step - accuracy: 0.8513 - loss: 0.3620 - val_accuracy: 0.8477 - val_loss: 0.4549 - learning_rate: 1.0000e-04\n",
      "Epoch 15/50\n",
      "\u001b[1m10/10\u001b[0m \u001b[32m━━━━━━━━━━━━━━━━━━━━\u001b[0m\u001b[37m\u001b[0m \u001b[1m0s\u001b[0m 178ms/step - accuracy: 0.8692 - loss: 0.3250\n",
      "Epoch 15: ReduceLROnPlateau reducing learning rate to 4.999999873689376e-05.\n",
      "\u001b[1m10/10\u001b[0m \u001b[32m━━━━━━━━━━━━━━━━━━━━\u001b[0m\u001b[37m\u001b[0m \u001b[1m3s\u001b[0m 338ms/step - accuracy: 0.8697 - loss: 0.3243 - val_accuracy: 0.8325 - val_loss: 0.4272 - learning_rate: 1.0000e-04\n",
      "Epoch 16/50\n",
      "\u001b[1m10/10\u001b[0m \u001b[32m━━━━━━━━━━━━━━━━━━━━\u001b[0m\u001b[37m\u001b[0m \u001b[1m3s\u001b[0m 345ms/step - accuracy: 0.8756 - loss: 0.2955 - val_accuracy: 0.8477 - val_loss: 0.4292 - learning_rate: 5.0000e-05\n",
      "Epoch 17/50\n",
      "\u001b[1m10/10\u001b[0m \u001b[32m━━━━━━━━━━━━━━━━━━━━\u001b[0m\u001b[37m\u001b[0m \u001b[1m3s\u001b[0m 334ms/step - accuracy: 0.8959 - loss: 0.2715 - val_accuracy: 0.8071 - val_loss: 0.4694 - learning_rate: 5.0000e-05\n",
      "Epoch 18/50\n",
      "\u001b[1m10/10\u001b[0m \u001b[32m━━━━━━━━━━━━━━━━━━━━\u001b[0m\u001b[37m\u001b[0m \u001b[1m0s\u001b[0m 180ms/step - accuracy: 0.8649 - loss: 0.2963\n",
      "Epoch 18: ReduceLROnPlateau reducing learning rate to 2.499999936844688e-05.\n",
      "\u001b[1m10/10\u001b[0m \u001b[32m━━━━━━━━━━━━━━━━━━━━\u001b[0m\u001b[37m\u001b[0m \u001b[1m3s\u001b[0m 351ms/step - accuracy: 0.8646 - loss: 0.2972 - val_accuracy: 0.8122 - val_loss: 0.4686 - learning_rate: 5.0000e-05\n",
      "Epoch 19/50\n",
      "\u001b[1m10/10\u001b[0m \u001b[32m━━━━━━━━━━━━━━━━━━━━\u001b[0m\u001b[37m\u001b[0m \u001b[1m3s\u001b[0m 337ms/step - accuracy: 0.8922 - loss: 0.2838 - val_accuracy: 0.8020 - val_loss: 0.4555 - learning_rate: 2.5000e-05\n",
      "Epoch 20/50\n",
      "\u001b[1m10/10\u001b[0m \u001b[32m━━━━━━━━━━━━━━━━━━━━\u001b[0m\u001b[37m\u001b[0m \u001b[1m3s\u001b[0m 325ms/step - accuracy: 0.8925 - loss: 0.2772 - val_accuracy: 0.7868 - val_loss: 0.4567 - learning_rate: 2.5000e-05\n",
      "Epoch 21/50\n",
      "\u001b[1m10/10\u001b[0m \u001b[32m━━━━━━━━━━━━━━━━━━━━\u001b[0m\u001b[37m\u001b[0m \u001b[1m0s\u001b[0m 179ms/step - accuracy: 0.8731 - loss: 0.3117\n",
      "Epoch 21: ReduceLROnPlateau reducing learning rate to 1.249999968422344e-05.\n",
      "\u001b[1m10/10\u001b[0m \u001b[32m━━━━━━━━━━━━━━━━━━━━\u001b[0m\u001b[37m\u001b[0m \u001b[1m3s\u001b[0m 344ms/step - accuracy: 0.8741 - loss: 0.3098 - val_accuracy: 0.7868 - val_loss: 0.4702 - learning_rate: 2.5000e-05\n",
      "Epoch 22/50\n",
      "\u001b[1m10/10\u001b[0m \u001b[32m━━━━━━━━━━━━━━━━━━━━\u001b[0m\u001b[37m\u001b[0m \u001b[1m3s\u001b[0m 351ms/step - accuracy: 0.8850 - loss: 0.2910 - val_accuracy: 0.7868 - val_loss: 0.4741 - learning_rate: 1.2500e-05\n",
      "Epoch 23/50\n",
      "\u001b[1m10/10\u001b[0m \u001b[32m━━━━━━━━━━━━━━━━━━━━\u001b[0m\u001b[37m\u001b[0m \u001b[1m3s\u001b[0m 324ms/step - accuracy: 0.8883 - loss: 0.2941 - val_accuracy: 0.7868 - val_loss: 0.4771 - learning_rate: 1.2500e-05\n",
      "Epoch 24/50\n",
      "\u001b[1m10/10\u001b[0m \u001b[32m━━━━━━━━━━━━━━━━━━━━\u001b[0m\u001b[37m\u001b[0m \u001b[1m0s\u001b[0m 179ms/step - accuracy: 0.8958 - loss: 0.2723\n",
      "Epoch 24: ReduceLROnPlateau reducing learning rate to 6.24999984211172e-06.\n",
      "\u001b[1m10/10\u001b[0m \u001b[32m━━━━━━━━━━━━━━━━━━━━\u001b[0m\u001b[37m\u001b[0m \u001b[1m3s\u001b[0m 325ms/step - accuracy: 0.8951 - loss: 0.2743 - val_accuracy: 0.7919 - val_loss: 0.4793 - learning_rate: 1.2500e-05\n",
      "\n",
      "Elapsed time: 138.8389768600464 seconds\n"
     ]
    }
   ],
   "source": [
    "ROWS = 224; COLS = 224; CHANNELS = 3; CLASSES = 2; block_layers = [2,2,2,2] # ResNet18\n",
    "dropout_rate = 0.5\n",
    "# Build Network Graph \n",
    "model_ResNet18 = ResNet(shape = (ROWS, COLS, CHANNELS), classes = CLASSES, block_layers = block_layers, dropout_rate = dropout_rate)\n",
    "\n",
    "# Compile Model \n",
    "l_rate = 1.e-4 # CHANGE HERE\n",
    "opt = keras.optimizers.Adam(learning_rate=l_rate)\n",
    "model_ResNet18.compile(optimizer=opt, loss='binary_crossentropy', metrics=[\"accuracy\"]) # Set threshold here\n",
    "\n",
    "# Train Model \n",
    "batch = 64\n",
    "epochs = 50\n",
    "start_time = time.time()\n",
    "\n",
    "history_ResNet18 = model_ResNet18.fit(X_train, y_train,\n",
    "                                      epochs = epochs, batch_size = batch, \n",
    "                                      validation_data = (X_val, y_val), callbacks = callbacks_list)\n",
    "\n",
    "end_time = time.time()\n",
    "elapsed_time = end_time - start_time\n",
    "print(f\"\\nElapsed time: {elapsed_time} seconds\")"
   ]
  },
  {
   "cell_type": "markdown",
   "id": "787f0048-24a3-4ad9-9da4-eea881800c07",
   "metadata": {},
   "source": [
    "### Testing Accuracy! "
   ]
  },
  {
   "cell_type": "code",
   "execution_count": 30,
   "id": "2dfb078d-18b8-42a7-910d-1a37feb0cc6e",
   "metadata": {},
   "outputs": [
    {
     "name": "stdout",
     "output_type": "stream",
     "text": [
      "\u001b[1m7/7\u001b[0m \u001b[32m━━━━━━━━━━━━━━━━━━━━\u001b[0m\u001b[37m\u001b[0m \u001b[1m2s\u001b[0m 113ms/step - accuracy: 0.8187 - loss: 0.4215\n",
      "Test Accuracy (for unbalanced test set) is: 0.82%\n"
     ]
    }
   ],
   "source": [
    "# To load the model from file uncomment and run the following \n",
    "loaded_model = keras.saving.load_model('./models_ResNet/model_ResNet18_46_dropout_callbacks_sigmoid_biological_channels_trained.keras')\n",
    "print(\"Test Accuracy (for unbalanced test set) is: {:.2f}%\".format(loaded_model.evaluate(X_test, y_test)[1]))"
   ]
  },
  {
   "cell_type": "markdown",
   "id": "b499da9e-c437-4899-b202-f904f0b51303",
   "metadata": {},
   "source": [
    "### F1-Score"
   ]
  },
  {
   "cell_type": "code",
   "execution_count": 22,
   "id": "698f6f69-e833-4c43-bbba-177584908ba4",
   "metadata": {},
   "outputs": [
    {
     "name": "stdout",
     "output_type": "stream",
     "text": [
      "\u001b[1m7/7\u001b[0m \u001b[32m━━━━━━━━━━━━━━━━━━━━\u001b[0m\u001b[37m\u001b[0m \u001b[1m2s\u001b[0m 201ms/step\n"
     ]
    }
   ],
   "source": [
    "from sklearn.metrics import f1_score\n",
    "\n",
    "y_pred_test = loaded_model.predict(X_test)\n",
    "y_pred_test = (y_pred_test > 0.5).astype(int)\n",
    "f1 = f1_score(y_test, y_pred_test)"
   ]
  },
  {
   "cell_type": "code",
   "execution_count": 24,
   "id": "7c50b18c-b000-4aa0-af48-1335396888fc",
   "metadata": {},
   "outputs": [
    {
     "name": "stdout",
     "output_type": "stream",
     "text": [
      "F1-Score (for balanced test set) is: 0.70\n"
     ]
    }
   ],
   "source": [
    "print(\"F1-Score (for balanced test set) is: {:.2f}\".format(f1))"
   ]
  },
  {
   "cell_type": "markdown",
   "id": "cb5e4f49-be48-4059-ad40-5b8e2b850706",
   "metadata": {},
   "source": [
    "### Confusion Matrix"
   ]
  },
  {
   "cell_type": "code",
   "execution_count": 25,
   "id": "10155bb2-7fc3-44de-a822-0bc724ad4a58",
   "metadata": {},
   "outputs": [
    {
     "name": "stdout",
     "output_type": "stream",
     "text": [
      "\u001b[1m7/7\u001b[0m \u001b[32m━━━━━━━━━━━━━━━━━━━━\u001b[0m\u001b[37m\u001b[0m \u001b[1m2s\u001b[0m 179ms/step\n"
     ]
    }
   ],
   "source": [
    "from sklearn.metrics import confusion_matrix\n",
    "loaded_model = keras.saving.load_model('./models_ResNet/model_ResNet18_46_dropout_callbacks_sigmoid_biological_channels_trained.keras')\n",
    "y_pred_test = loaded_model.predict(X_test)\n",
    "y_pred_test = (y_pred_test > 0.5).astype(int)\n",
    "# Compute confusion matrix\n",
    "cm = confusion_matrix(y_test, y_pred_test)"
   ]
  },
  {
   "cell_type": "markdown",
   "id": "a7761262-fe71-43fb-8d81-033a2923f6ae",
   "metadata": {},
   "source": [
    "### Saving History"
   ]
  },
  {
   "cell_type": "code",
   "execution_count": 31,
   "id": "76533899-5797-49a8-a4b0-ea4db0eb043d",
   "metadata": {},
   "outputs": [],
   "source": [
    "# Save the history of your experiments \n",
    "import pickle\n",
    "with open('./models_ResNet/model_ResNet18_46_dropout_callbacks_sigmoid_biological_channels_trained.pkl', 'wb') as f:\n",
    "    pickle.dump(history_ResNet18.history, f)\n",
    "\n",
    "with open('./models_ResNet/model_ResNet18_46_dropout_callbacks_sigmoid_biological_channels_trained.pkl', 'rb') as f:\n",
    "    loaded_history = pickle.load(f)"
   ]
  },
  {
   "cell_type": "markdown",
   "id": "a3b40d2e-8e0e-4442-99d7-cf93708b4bc5",
   "metadata": {},
   "source": [
    "### Comments\n",
    "\n",
    "When using only 3 channels, the model converges way faster than with all 46 channels!\n",
    "\n",
    "    - Achieves similar accuracy, but lower F1 Score (Higher FN but lower FT)\n",
    "    - Lets try with balanced dataset!"
   ]
  },
  {
   "cell_type": "markdown",
   "id": "cea606f9-8d79-46e2-a369-7269a6ffb7b2",
   "metadata": {},
   "source": [
    "### ResNet18: with Tensor Board + 3 Channels + with Dropout + ReduceLR + EarlyStopping + sigmoid (1 neuron) + binary cross entropy + 3 Channels + BALANCED DATA"
   ]
  },
  {
   "cell_type": "markdown",
   "id": "ba3cb3fc-a0a2-4e59-a292-dd2e7e142f91",
   "metadata": {},
   "source": [
    "### Downsample majority class"
   ]
  },
  {
   "cell_type": "code",
   "execution_count": 32,
   "id": "f5448783-6ff5-4bdb-ba0e-b23da94bd289",
   "metadata": {},
   "outputs": [
    {
     "name": "stderr",
     "output_type": "stream",
     "text": [
      "/home/jupyter-luvogt/.local/lib/python3.12/site-packages/sklearn/utils/deprecation.py:151: FutureWarning: 'force_all_finite' was renamed to 'ensure_all_finite' in 1.6 and will be removed in 1.8.\n",
      "  warnings.warn(\n",
      "/home/jupyter-luvogt/.local/lib/python3.12/site-packages/sklearn/base.py:484: FutureWarning: `BaseEstimator._check_n_features` is deprecated in 1.6 and will be removed in 1.7. Use `sklearn.utils.validation._check_n_features` instead.\n",
      "  warnings.warn(\n",
      "/home/jupyter-luvogt/.local/lib/python3.12/site-packages/sklearn/base.py:493: FutureWarning: `BaseEstimator._check_feature_names` is deprecated in 1.6 and will be removed in 1.7. Use `sklearn.utils.validation._check_feature_names` instead.\n",
      "  warnings.warn(\n",
      "/home/jupyter-luvogt/.local/lib/python3.12/site-packages/sklearn/utils/deprecation.py:151: FutureWarning: 'force_all_finite' was renamed to 'ensure_all_finite' in 1.6 and will be removed in 1.8.\n",
      "  warnings.warn(\n",
      "/home/jupyter-luvogt/.local/lib/python3.12/site-packages/sklearn/base.py:484: FutureWarning: `BaseEstimator._check_n_features` is deprecated in 1.6 and will be removed in 1.7. Use `sklearn.utils.validation._check_n_features` instead.\n",
      "  warnings.warn(\n",
      "/home/jupyter-luvogt/.local/lib/python3.12/site-packages/sklearn/base.py:493: FutureWarning: `BaseEstimator._check_feature_names` is deprecated in 1.6 and will be removed in 1.7. Use `sklearn.utils.validation._check_feature_names` instead.\n",
      "  warnings.warn(\n"
     ]
    }
   ],
   "source": [
    "import imblearn\n",
    "from imblearn.under_sampling import RandomUnderSampler\n",
    "\n",
    "# X_train: Define Undersampling balancing method\n",
    "balancer = RandomUnderSampler(random_state = 42) # Undersampling majority class\n",
    "X_train_flat = X_train.reshape(X_train.shape[0], -1) # Reshape images for balancer\n",
    "X_train_resampled, y_train_resampled = balancer.fit_resample(X_train_flat, y_train) # resample (Undersampling)\n",
    "X_train_resampled = X_train_resampled.reshape(-1, *X_train.shape[1:]) # Reshape the image\n",
    "\n",
    "# X_val: Define Undersampling balancing method\n",
    "balancer = RandomUnderSampler(random_state = 42) # Undersampling majority class\n",
    "X_val_flat = X_val.reshape(X_val.shape[0], -1) # Reshape images for balancer\n",
    "X_val_resampled, y_val_resampled = balancer.fit_resample(X_val_flat, y_val) # resample (Undersampling)\n",
    "X_val_resampled = X_val_resampled.reshape(-1, *X_val.shape[1:]) # Reshape the image"
   ]
  },
  {
   "cell_type": "markdown",
   "id": "eda55537-67b1-48a1-bca6-081fe30b1e5a",
   "metadata": {},
   "source": [
    "### Callbacks"
   ]
  },
  {
   "cell_type": "code",
   "execution_count": 33,
   "id": "fcf3d94b-e591-4603-bb56-b36ef13a0768",
   "metadata": {},
   "outputs": [],
   "source": [
    "# Callbacks\n",
    "log_dir = os.path.join(\"logs_ResNet50\", \"fit\", \"model_ResNet18_46_dropout_callbacks_sigmoid_balanced_biological_channels_trained\" + time.strftime(\"%Y%m%d-%H%M%S\"))\n",
    "tb_callback = TensorBoard(log_dir=log_dir, histogram_freq=1)\n",
    "\n",
    "callbacks_list = [\n",
    "    keras.callbacks.EarlyStopping(\n",
    "        monitor=\"val_loss\",\n",
    "        patience=12,   # Optimal patience value for validation accuracy\n",
    "    ),\n",
    "    keras.callbacks.ModelCheckpoint(\n",
    "        filepath=\"./models_ResNet/model_ResNet18_46_dropout_callbacks_sigmoid_balanced_biological_channels_trained.keras\", # save validation loss into file\n",
    "        monitor=\"val_loss\",  # monitor validation accuracy\n",
    "        save_best_only=True,\n",
    "    ),\n",
    "    ReduceLROnPlateau(\n",
    "    monitor=\"val_loss\",\n",
    "    factor=0.5,  \n",
    "    patience=3,\n",
    "    verbose=1,\n",
    "    mode=\"auto\",\n",
    "    min_delta=0.001,\n",
    "    min_lr=1.e-6,\n",
    "    ), \n",
    "    tb_callback\n",
    "]"
   ]
  },
  {
   "cell_type": "markdown",
   "id": "d8fc80c8-ba11-4516-8b60-383b1c8fad52",
   "metadata": {},
   "source": [
    "### Train Model on balanced training data set & only 3 channels"
   ]
  },
  {
   "cell_type": "code",
   "execution_count": 34,
   "id": "4bb41b2d-7f41-4648-8c24-cd7d4bdd1cff",
   "metadata": {
    "scrolled": true
   },
   "outputs": [
    {
     "name": "stdout",
     "output_type": "stream",
     "text": [
      "Epoch 1/50\n",
      "\u001b[1m7/7\u001b[0m \u001b[32m━━━━━━━━━━━━━━━━━━━━\u001b[0m\u001b[37m\u001b[0m \u001b[1m46s\u001b[0m 4s/step - accuracy: 0.6340 - loss: 1.1652 - val_accuracy: 0.5000 - val_loss: 1.2645 - learning_rate: 1.0000e-04\n",
      "Epoch 2/50\n",
      "\u001b[1m7/7\u001b[0m \u001b[32m━━━━━━━━━━━━━━━━━━━━\u001b[0m\u001b[37m\u001b[0m \u001b[1m4s\u001b[0m 584ms/step - accuracy: 0.6738 - loss: 0.8663 - val_accuracy: 0.7113 - val_loss: 0.6288 - learning_rate: 1.0000e-04\n",
      "Epoch 3/50\n",
      "\u001b[1m7/7\u001b[0m \u001b[32m━━━━━━━━━━━━━━━━━━━━\u001b[0m\u001b[37m\u001b[0m \u001b[1m10s\u001b[0m 2s/step - accuracy: 0.7252 - loss: 0.5269 - val_accuracy: 0.8028 - val_loss: 0.5332 - learning_rate: 1.0000e-04\n",
      "Epoch 4/50\n",
      "\u001b[1m7/7\u001b[0m \u001b[32m━━━━━━━━━━━━━━━━━━━━\u001b[0m\u001b[37m\u001b[0m \u001b[1m4s\u001b[0m 580ms/step - accuracy: 0.7906 - loss: 0.4568 - val_accuracy: 0.7606 - val_loss: 0.5099 - learning_rate: 1.0000e-04\n",
      "Epoch 5/50\n",
      "\u001b[1m7/7\u001b[0m \u001b[32m━━━━━━━━━━━━━━━━━━━━\u001b[0m\u001b[37m\u001b[0m \u001b[1m4s\u001b[0m 553ms/step - accuracy: 0.8448 - loss: 0.4331 - val_accuracy: 0.7535 - val_loss: 0.4964 - learning_rate: 1.0000e-04\n",
      "Epoch 6/50\n",
      "\u001b[1m7/7\u001b[0m \u001b[32m━━━━━━━━━━━━━━━━━━━━\u001b[0m\u001b[37m\u001b[0m \u001b[1m4s\u001b[0m 610ms/step - accuracy: 0.8337 - loss: 0.3880 - val_accuracy: 0.7535 - val_loss: 0.4868 - learning_rate: 1.0000e-04\n",
      "Epoch 7/50\n",
      "\u001b[1m7/7\u001b[0m \u001b[32m━━━━━━━━━━━━━━━━━━━━\u001b[0m\u001b[37m\u001b[0m \u001b[1m3s\u001b[0m 367ms/step - accuracy: 0.8545 - loss: 0.3572 - val_accuracy: 0.7676 - val_loss: 0.4983 - learning_rate: 1.0000e-04\n",
      "Epoch 8/50\n",
      "\u001b[1m7/7\u001b[0m \u001b[32m━━━━━━━━━━━━━━━━━━━━\u001b[0m\u001b[37m\u001b[0m \u001b[1m4s\u001b[0m 577ms/step - accuracy: 0.8437 - loss: 0.3559 - val_accuracy: 0.7817 - val_loss: 0.4573 - learning_rate: 1.0000e-04\n",
      "Epoch 9/50\n",
      "\u001b[1m7/7\u001b[0m \u001b[32m━━━━━━━━━━━━━━━━━━━━\u001b[0m\u001b[37m\u001b[0m \u001b[1m5s\u001b[0m 595ms/step - accuracy: 0.8614 - loss: 0.3397 - val_accuracy: 0.7887 - val_loss: 0.4409 - learning_rate: 1.0000e-04\n",
      "Epoch 10/50\n",
      "\u001b[1m7/7\u001b[0m \u001b[32m━━━━━━━━━━━━━━━━━━━━\u001b[0m\u001b[37m\u001b[0m \u001b[1m3s\u001b[0m 423ms/step - accuracy: 0.8630 - loss: 0.3129 - val_accuracy: 0.7958 - val_loss: 0.4548 - learning_rate: 1.0000e-04\n",
      "Epoch 11/50\n",
      "\u001b[1m7/7\u001b[0m \u001b[32m━━━━━━━━━━━━━━━━━━━━\u001b[0m\u001b[37m\u001b[0m \u001b[1m3s\u001b[0m 413ms/step - accuracy: 0.8252 - loss: 0.3794 - val_accuracy: 0.7958 - val_loss: 0.4475 - learning_rate: 1.0000e-04\n",
      "Epoch 12/50\n",
      "\u001b[1m7/7\u001b[0m \u001b[32m━━━━━━━━━━━━━━━━━━━━\u001b[0m\u001b[37m\u001b[0m \u001b[1m0s\u001b[0m 182ms/step - accuracy: 0.8615 - loss: 0.3382\n",
      "Epoch 12: ReduceLROnPlateau reducing learning rate to 4.999999873689376e-05.\n",
      "\u001b[1m7/7\u001b[0m \u001b[32m━━━━━━━━━━━━━━━━━━━━\u001b[0m\u001b[37m\u001b[0m \u001b[1m5s\u001b[0m 392ms/step - accuracy: 0.8632 - loss: 0.3362 - val_accuracy: 0.7606 - val_loss: 0.4639 - learning_rate: 1.0000e-04\n",
      "Epoch 13/50\n",
      "\u001b[1m7/7\u001b[0m \u001b[32m━━━━━━━━━━━━━━━━━━━━\u001b[0m\u001b[37m\u001b[0m \u001b[1m3s\u001b[0m 396ms/step - accuracy: 0.8484 - loss: 0.3303 - val_accuracy: 0.7676 - val_loss: 0.4677 - learning_rate: 5.0000e-05\n",
      "Epoch 14/50\n",
      "\u001b[1m7/7\u001b[0m \u001b[32m━━━━━━━━━━━━━━━━━━━━\u001b[0m\u001b[37m\u001b[0m \u001b[1m3s\u001b[0m 388ms/step - accuracy: 0.9077 - loss: 0.2831 - val_accuracy: 0.7606 - val_loss: 0.4834 - learning_rate: 5.0000e-05\n",
      "Epoch 15/50\n",
      "\u001b[1m7/7\u001b[0m \u001b[32m━━━━━━━━━━━━━━━━━━━━\u001b[0m\u001b[37m\u001b[0m \u001b[1m0s\u001b[0m 180ms/step - accuracy: 0.8546 - loss: 0.3317\n",
      "Epoch 15: ReduceLROnPlateau reducing learning rate to 2.499999936844688e-05.\n",
      "\u001b[1m7/7\u001b[0m \u001b[32m━━━━━━━━━━━━━━━━━━━━\u001b[0m\u001b[37m\u001b[0m \u001b[1m2s\u001b[0m 369ms/step - accuracy: 0.8561 - loss: 0.3283 - val_accuracy: 0.7606 - val_loss: 0.4961 - learning_rate: 5.0000e-05\n",
      "Epoch 16/50\n",
      "\u001b[1m7/7\u001b[0m \u001b[32m━━━━━━━━━━━━━━━━━━━━\u001b[0m\u001b[37m\u001b[0m \u001b[1m3s\u001b[0m 378ms/step - accuracy: 0.8710 - loss: 0.3015 - val_accuracy: 0.7465 - val_loss: 0.5021 - learning_rate: 2.5000e-05\n",
      "Epoch 17/50\n",
      "\u001b[1m7/7\u001b[0m \u001b[32m━━━━━━━━━━━━━━━━━━━━\u001b[0m\u001b[37m\u001b[0m \u001b[1m3s\u001b[0m 384ms/step - accuracy: 0.8614 - loss: 0.3124 - val_accuracy: 0.7394 - val_loss: 0.5069 - learning_rate: 2.5000e-05\n",
      "Epoch 18/50\n",
      "\u001b[1m7/7\u001b[0m \u001b[32m━━━━━━━━━━━━━━━━━━━━\u001b[0m\u001b[37m\u001b[0m \u001b[1m0s\u001b[0m 180ms/step - accuracy: 0.8803 - loss: 0.2833\n",
      "Epoch 18: ReduceLROnPlateau reducing learning rate to 1.249999968422344e-05.\n",
      "\u001b[1m7/7\u001b[0m \u001b[32m━━━━━━━━━━━━━━━━━━━━\u001b[0m\u001b[37m\u001b[0m \u001b[1m3s\u001b[0m 443ms/step - accuracy: 0.8803 - loss: 0.2830 - val_accuracy: 0.7254 - val_loss: 0.5123 - learning_rate: 2.5000e-05\n",
      "Epoch 19/50\n",
      "\u001b[1m7/7\u001b[0m \u001b[32m━━━━━━━━━━━━━━━━━━━━\u001b[0m\u001b[37m\u001b[0m \u001b[1m2s\u001b[0m 376ms/step - accuracy: 0.8805 - loss: 0.2841 - val_accuracy: 0.7254 - val_loss: 0.5191 - learning_rate: 1.2500e-05\n",
      "Epoch 20/50\n",
      "\u001b[1m7/7\u001b[0m \u001b[32m━━━━━━━━━━━━━━━━━━━━\u001b[0m\u001b[37m\u001b[0m \u001b[1m3s\u001b[0m 402ms/step - accuracy: 0.8604 - loss: 0.3427 - val_accuracy: 0.7254 - val_loss: 0.5252 - learning_rate: 1.2500e-05\n",
      "Epoch 21/50\n",
      "\u001b[1m7/7\u001b[0m \u001b[32m━━━━━━━━━━━━━━━━━━━━\u001b[0m\u001b[37m\u001b[0m \u001b[1m0s\u001b[0m 182ms/step - accuracy: 0.8707 - loss: 0.2906\n",
      "Epoch 21: ReduceLROnPlateau reducing learning rate to 6.24999984211172e-06.\n",
      "\u001b[1m7/7\u001b[0m \u001b[32m━━━━━━━━━━━━━━━━━━━━\u001b[0m\u001b[37m\u001b[0m \u001b[1m3s\u001b[0m 415ms/step - accuracy: 0.8713 - loss: 0.2901 - val_accuracy: 0.7183 - val_loss: 0.5299 - learning_rate: 1.2500e-05\n",
      "\n",
      "Elapsed time: 118.03136396408081 seconds\n"
     ]
    }
   ],
   "source": [
    "ROWS = 224; COLS = 224; CHANNELS = 3; CLASSES = 2; block_layers = [2,2,2,2] # ResNet18\n",
    "dropout_rate = 0.5\n",
    "# Build Network Graph \n",
    "model_ResNet18 = ResNet(shape = (ROWS, COLS, CHANNELS), classes = CLASSES, block_layers = block_layers, dropout_rate = dropout_rate)\n",
    "\n",
    "# Compile Model \n",
    "l_rate = 1.e-4 # CHANGE HERE\n",
    "opt = keras.optimizers.Adam(learning_rate=l_rate)\n",
    "model_ResNet18.compile(optimizer=opt, loss='binary_crossentropy', metrics=[\"accuracy\"]) # Set threshold here\n",
    "\n",
    "# Train Model \n",
    "batch = 64\n",
    "epochs = 50\n",
    "start_time = time.time()\n",
    "\n",
    "history_ResNet18 = model_ResNet18.fit(X_train_resampled, y_train_resampled,\n",
    "                                      epochs = epochs, batch_size = batch, \n",
    "                                      validation_data = (X_val_resampled, y_val_resampled), callbacks = callbacks_list)\n",
    "\n",
    "end_time = time.time()\n",
    "elapsed_time = end_time - start_time\n",
    "print(f\"\\nElapsed time: {elapsed_time} seconds\")"
   ]
  },
  {
   "cell_type": "markdown",
   "id": "709beed1-a75a-400a-9904-8340e3b55139",
   "metadata": {},
   "source": [
    "### Testing Accuracy"
   ]
  },
  {
   "cell_type": "code",
   "execution_count": 38,
   "id": "9fefed7a-c815-4be1-83d5-cee9d889cc8f",
   "metadata": {},
   "outputs": [
    {
     "name": "stdout",
     "output_type": "stream",
     "text": [
      "\u001b[1m7/7\u001b[0m \u001b[32m━━━━━━━━━━━━━━━━━━━━\u001b[0m\u001b[37m\u001b[0m \u001b[1m2s\u001b[0m 108ms/step - accuracy: 0.8209 - loss: 0.4509\n",
      "Test Accuracy (for unbalanced test set) is: 0.83%\n"
     ]
    }
   ],
   "source": [
    "# To load the model from file uncomment and run the following \n",
    "loaded_model = keras.saving.load_model('./models_ResNet/model_ResNet18_46_dropout_callbacks_sigmoid_balanced_biological_channels_trained.keras')\n",
    "print(\"Test Accuracy (for unbalanced test set) is: {:.2f}%\".format(loaded_model.evaluate(X_test, y_test)[1]))"
   ]
  },
  {
   "cell_type": "markdown",
   "id": "3f6c791d-09f6-43bc-a375-1af27bde97ca",
   "metadata": {},
   "source": [
    "### Testing Accuracy on balanced test set"
   ]
  },
  {
   "cell_type": "code",
   "execution_count": 39,
   "id": "0da348ca-177d-493d-a96a-8f8e9321ac9d",
   "metadata": {},
   "outputs": [
    {
     "name": "stderr",
     "output_type": "stream",
     "text": [
      "/home/jupyter-luvogt/.local/lib/python3.12/site-packages/sklearn/utils/deprecation.py:151: FutureWarning: 'force_all_finite' was renamed to 'ensure_all_finite' in 1.6 and will be removed in 1.8.\n",
      "  warnings.warn(\n",
      "/home/jupyter-luvogt/.local/lib/python3.12/site-packages/sklearn/base.py:484: FutureWarning: `BaseEstimator._check_n_features` is deprecated in 1.6 and will be removed in 1.7. Use `sklearn.utils.validation._check_n_features` instead.\n",
      "  warnings.warn(\n",
      "/home/jupyter-luvogt/.local/lib/python3.12/site-packages/sklearn/base.py:493: FutureWarning: `BaseEstimator._check_feature_names` is deprecated in 1.6 and will be removed in 1.7. Use `sklearn.utils.validation._check_feature_names` instead.\n",
      "  warnings.warn(\n"
     ]
    }
   ],
   "source": [
    "# X_train: Define Undersampling balancing method\n",
    "import imblearn\n",
    "from imblearn.under_sampling import RandomUnderSampler\n",
    "balancer = RandomUnderSampler(random_state = 42) # Undersampling majority class\n",
    "X_test_flat = X_test.reshape(X_test.shape[0], -1) # Reshape images for balancer\n",
    "X_test_resampled, y_test_resampled = balancer.fit_resample(X_test_flat, y_test) # resample (Undersampling)\n",
    "X_test_resampled = X_test_resampled.reshape(-1, *X_test.shape[1:]) # Reshape the image"
   ]
  },
  {
   "cell_type": "code",
   "execution_count": 40,
   "id": "e9e8bcb4-28a0-4146-8c40-e3887a092488",
   "metadata": {},
   "outputs": [
    {
     "name": "stdout",
     "output_type": "stream",
     "text": [
      "\u001b[1m5/5\u001b[0m \u001b[32m━━━━━━━━━━━━━━━━━━━━\u001b[0m\u001b[37m\u001b[0m \u001b[1m1s\u001b[0m 161ms/step - accuracy: 0.8487 - loss: 0.4495\n",
      "Test Accuracy (for balanced test set) is: 0.78%\n"
     ]
    }
   ],
   "source": [
    "print(\"Test Accuracy (for balanced test set) is: {:.2f}%\".format(loaded_model.evaluate(X_test_resampled, y_test_resampled)[1]))"
   ]
  },
  {
   "cell_type": "markdown",
   "id": "d681e8bf-b623-4994-b7d7-90a91f4f3490",
   "metadata": {},
   "source": [
    "### F1-Score Balanced"
   ]
  },
  {
   "cell_type": "code",
   "execution_count": 41,
   "id": "5e38bbf4-3b62-4cb2-80b3-98eb39dd64a2",
   "metadata": {},
   "outputs": [
    {
     "name": "stdout",
     "output_type": "stream",
     "text": [
      "WARNING:tensorflow:5 out of the last 15 calls to <function TensorFlowTrainer.make_predict_function.<locals>.one_step_on_data_distributed at 0x7f40c202cfe0> triggered tf.function retracing. Tracing is expensive and the excessive number of tracings could be due to (1) creating @tf.function repeatedly in a loop, (2) passing tensors with different shapes, (3) passing Python objects instead of tensors. For (1), please define your @tf.function outside of the loop. For (2), @tf.function has reduce_retracing=True option that can avoid unnecessary retracing. For (3), please refer to https://www.tensorflow.org/guide/function#controlling_retracing and https://www.tensorflow.org/api_docs/python/tf/function for  more details.\n",
      "\u001b[1m5/5\u001b[0m \u001b[32m━━━━━━━━━━━━━━━━━━━━\u001b[0m\u001b[37m\u001b[0m \u001b[1m2s\u001b[0m 282ms/step\n"
     ]
    }
   ],
   "source": [
    "from sklearn.metrics import f1_score\n",
    "\n",
    "y_pred_test = loaded_model.predict(X_test_resampled)\n",
    "y_pred_test = (y_pred_test > 0.5).astype(int)\n",
    "f1 = f1_score(y_test_resampled, y_pred_test)"
   ]
  },
  {
   "cell_type": "code",
   "execution_count": 42,
   "id": "228ae34b-3a3c-4c0e-88d2-de282ce1b1f1",
   "metadata": {},
   "outputs": [
    {
     "name": "stdout",
     "output_type": "stream",
     "text": [
      "F1-Score (for balanced test set) is: 0.73\n"
     ]
    }
   ],
   "source": [
    "print(\"F1-Score (for balanced test set) is: {:.2f}\".format(f1))"
   ]
  },
  {
   "cell_type": "markdown",
   "id": "cb304e13-a98d-480a-bc8e-bc2e3e62b9ab",
   "metadata": {},
   "source": [
    "### F1-Score Unbalanced"
   ]
  },
  {
   "cell_type": "code",
   "execution_count": 44,
   "id": "1ff543d7-1ded-4eaa-9f0d-17365267cab5",
   "metadata": {},
   "outputs": [
    {
     "name": "stdout",
     "output_type": "stream",
     "text": [
      "\u001b[1m7/7\u001b[0m \u001b[32m━━━━━━━━━━━━━━━━━━━━\u001b[0m\u001b[37m\u001b[0m \u001b[1m1s\u001b[0m 125ms/step\n"
     ]
    }
   ],
   "source": [
    "y_pred_test = loaded_model.predict(X_test)\n",
    "y_pred_test = (y_pred_test > 0.5).astype(int)\n",
    "f1 = f1_score(y_test, y_pred_test)"
   ]
  },
  {
   "cell_type": "code",
   "execution_count": 45,
   "id": "f9f5526f-4657-4186-a11e-03b8a75e176f",
   "metadata": {},
   "outputs": [
    {
     "name": "stdout",
     "output_type": "stream",
     "text": [
      "F1-Score (for unbalanced test set) is: 0.73\n"
     ]
    }
   ],
   "source": [
    "print(\"F1-Score (for unbalanced test set) is: {:.2f}\".format(f1))"
   ]
  },
  {
   "cell_type": "markdown",
   "id": "e3d36761-ed02-46a4-960d-9544a41bb5a2",
   "metadata": {},
   "source": [
    "### Confusion Matrix: Balanced Dataset"
   ]
  },
  {
   "cell_type": "code",
   "execution_count": 46,
   "id": "372fdfdd-e910-4693-b223-e5f3bec15845",
   "metadata": {},
   "outputs": [
    {
     "name": "stdout",
     "output_type": "stream",
     "text": [
      "\u001b[1m5/5\u001b[0m \u001b[32m━━━━━━━━━━━━━━━━━━━━\u001b[0m\u001b[37m\u001b[0m \u001b[1m2s\u001b[0m 244ms/step\n"
     ]
    }
   ],
   "source": [
    "from sklearn.metrics import confusion_matrix\n",
    "loaded_model = keras.saving.load_model('./models_ResNet/model_ResNet18_46_dropout_callbacks_sigmoid_balanced_biological_channels_trained.keras')\n",
    "y_pred_test = loaded_model.predict(X_test_resampled)\n",
    "y_pred_test = (y_pred_test > 0.5).astype(int)\n",
    "# Compute confusion matrix\n",
    "cm = confusion_matrix(y_test_resampled, y_pred_test)"
   ]
  },
  {
   "cell_type": "code",
   "execution_count": 47,
   "id": "7cadadb5-0d22-43a6-952e-ee1d34476711",
   "metadata": {},
   "outputs": [
    {
     "data": {
      "image/png": "[encoded data removed]",
      "text/plain": [
       "<Figure size 800x600 with 2 Axes>"
      ]
     },
     "metadata": {},
     "output_type": "display_data"
    }
   ],
   "source": [
    "def plot_confusion_matrix(cm, class_names):\n",
    "    plt.figure(figsize=(8, 6))\n",
    "    plt.imshow(cm, interpolation='nearest', cmap=plt.cm.Blues)\n",
    "    plt.title(\"Confusion Matrix (Balanced Test Dataset)\")\n",
    "    plt.colorbar()\n",
    "\n",
    "    # Add class labels to axes\n",
    "    tick_marks = np.arange(len(class_names))\n",
    "    plt.xticks(tick_marks, class_names, rotation=45)\n",
    "    plt.yticks(tick_marks, class_names)\n",
    "\n",
    "    # Add text annotations for each cell\n",
    "    thresh = cm.max() / 2  # Threshold for text color\n",
    "    for i, j in np.ndindex(cm.shape):\n",
    "        plt.text(j, i, format(cm[i, j], 'd'),\n",
    "                 horizontalalignment=\"center\",\n",
    "                 color=\"white\" if cm[i, j] > thresh else \"black\")\n",
    "\n",
    "    plt.ylabel(\"True Label\")\n",
    "    plt.xlabel(\"Predicted Label\")\n",
    "    plt.tight_layout()\n",
    "    plt.show()\n",
    "\n",
    "\n",
    "# # Example confusion matrix (computed earlier or loaded)\n",
    "# cm_ex = np.array([\n",
    "#     [50, 2, 1],\n",
    "#     [5, 45, 3],\n",
    "#     [2, 6, 40]\n",
    "# ])\n",
    "\n",
    "# Class names (optional, for labeling the axes)\n",
    "class_names = ['PDL1 == 0', 'PDL1 == 1']\n",
    "\n",
    "# Call the function to plot the confusion matrix\n",
    "plot_confusion_matrix(cm, class_names)"
   ]
  },
  {
   "cell_type": "markdown",
   "id": "ef6f3a1b-8a2c-4373-b337-8475a13a7032",
   "metadata": {},
   "source": [
    "### Confusion Matrix: Unbalanced Dataset"
   ]
  },
  {
   "cell_type": "code",
   "execution_count": 48,
   "id": "304dc1c9-bd80-44b0-96b5-5841348a208d",
   "metadata": {},
   "outputs": [
    {
     "name": "stdout",
     "output_type": "stream",
     "text": [
      "\u001b[1m7/7\u001b[0m \u001b[32m━━━━━━━━━━━━━━━━━━━━\u001b[0m\u001b[37m\u001b[0m \u001b[1m2s\u001b[0m 179ms/step\n"
     ]
    }
   ],
   "source": [
    "from sklearn.metrics import confusion_matrix\n",
    "loaded_model = keras.saving.load_model('./models_ResNet/model_ResNet18_46_dropout_callbacks_sigmoid_balanced_biological_channels_trained.keras')\n",
    "y_pred_test = loaded_model.predict(X_test)\n",
    "y_pred_test = (y_pred_test > 0.5).astype(int)\n",
    "# Compute confusion matrix\n",
    "cm = confusion_matrix(y_test, y_pred_test)"
   ]
  },
  {
   "cell_type": "code",
   "execution_count": 49,
   "id": "fcebf9de-9493-4631-9dd4-60ec9bf38501",
   "metadata": {},
   "outputs": [
    {
     "data": {
      "image/png": "[encoded data removed]",
      "text/plain": [
       "<Figure size 800x600 with 2 Axes>"
      ]
     },
     "metadata": {},
     "output_type": "display_data"
    }
   ],
   "source": [
    "def plot_confusion_matrix(cm, class_names):\n",
    "    plt.figure(figsize=(8, 6))\n",
    "    plt.imshow(cm, interpolation='nearest', cmap=plt.cm.Blues)\n",
    "    plt.title(\"Confusion Matrix (Unbalanced Test Dataset)\")\n",
    "    plt.colorbar()\n",
    "\n",
    "    # Add class labels to axes\n",
    "    tick_marks = np.arange(len(class_names))\n",
    "    plt.xticks(tick_marks, class_names, rotation=45)\n",
    "    plt.yticks(tick_marks, class_names)\n",
    "\n",
    "    # Add text annotations for each cell\n",
    "    thresh = cm.max() / 2  # Threshold for text color\n",
    "    for i, j in np.ndindex(cm.shape):\n",
    "        plt.text(j, i, format(cm[i, j], 'd'),\n",
    "                 horizontalalignment=\"center\",\n",
    "                 color=\"white\" if cm[i, j] > thresh else \"black\")\n",
    "\n",
    "    plt.ylabel(\"True Label\")\n",
    "    plt.xlabel(\"Predicted Label\")\n",
    "    plt.tight_layout()\n",
    "    plt.show()\n",
    "\n",
    "\n",
    "# # Example confusion matrix (computed earlier or loaded)\n",
    "# cm_ex = np.array([\n",
    "#     [50, 2, 1],\n",
    "#     [5, 45, 3],\n",
    "#     [2, 6, 40]\n",
    "# ])\n",
    "\n",
    "# Class names (optional, for labeling the axes)\n",
    "class_names = ['PDL1 == 0', 'PDL1 == 1']\n",
    "\n",
    "# Call the function to plot the confusion matrix\n",
    "plot_confusion_matrix(cm, class_names)"
   ]
  },
  {
   "cell_type": "markdown",
   "id": "053634fe-c922-4939-88fd-aef2d8cc8b66",
   "metadata": {},
   "source": [
    "### Saving Model History"
   ]
  },
  {
   "cell_type": "code",
   "execution_count": 40,
   "id": "7deab983-a45f-4d39-a86f-3ccd99de9b19",
   "metadata": {},
   "outputs": [],
   "source": [
    "# Save the history of your experiments \n",
    "import pickle\n",
    "with open('./models_ResNet/model_ResNet18_46_dropout_callbacks_sigmoid_balanced_biological_channels_trained.pkl', 'wb') as f:\n",
    "    pickle.dump(history_ResNet18.history, f)\n",
    "\n",
    "with open('./models_ResNet/model_ResNet18_46_dropout_callbacks_sigmoid_balanced_biological_channels_trained.pkl', 'rb') as f:\n",
    "    loaded_history = pickle.load(f)"
   ]
  },
  {
   "cell_type": "markdown",
   "id": "cba17eb5-2490-48bb-9216-f4347c66a7eb",
   "metadata": {},
   "source": [
    "### COMMENTS: \n",
    "\n",
    "With balanced dataset and biological relevant channels, we get: \n",
    "\n",
    "    - Test Accuracy (balanced dataset): 78%\n",
    "    - F1 Score (balanced dataset): 0.73\n",
    "\n",
    "Even though this is suprising, the validation accuracy was constantly smaller and the model seemed to have a hard time to overfit."
   ]
  },
  {
   "cell_type": "markdown",
   "id": "9c2cdc0d-db75-47a0-a671-a599cfc0d0cc",
   "metadata": {},
   "source": [
    "## ResNet18: with Tensor Board + with Dropout + ReduceLR + EarlyStopping + sigmoid (1 neuron) + binary cross entropy + 10 Biological relevant channels"
   ]
  },
  {
   "cell_type": "markdown",
   "id": "90783537-c72e-48f4-8dca-c584c483b52f",
   "metadata": {},
   "source": [
    "### Create Datasets"
   ]
  },
  {
   "cell_type": "code",
   "execution_count": 6,
   "id": "281cf7f3-26a6-4630-8862-d1cfbae4b007",
   "metadata": {},
   "outputs": [],
   "source": [
    "# Training dataset without augmentation\n",
    "X_train, y_train = load_dataset(train_df, image_folder, normalize = True)\n",
    "# # Training dataset with data augmentation\n",
    "# X_train_aug, y_train_aug = load_dataset(train_df, image_folder, augment=True)\n",
    "# Validation dataset\n",
    "X_val, y_val = load_dataset(val_df, image_folder, normalize = True)\n",
    "# Test dataset\n",
    "X_test, y_test = load_dataset(test_df, image_folder, normalize = True)\n",
    "\n",
    "# #  Disable for F1_score / Sigmoid \n",
    "# # One Hot Encoding\n",
    "# y_train= to_categorical(y_train)\n",
    "# y_val= to_categorical(y_val)\n",
    "# y_test = to_categorical(y_test)"
   ]
  },
  {
   "cell_type": "markdown",
   "id": "3ba5b129-aaf2-4627-afcc-804be7a534ae",
   "metadata": {},
   "source": [
    "### Drop Biological irrelevant channels"
   ]
  },
  {
   "cell_type": "code",
   "execution_count": 7,
   "id": "50f62d49-06d7-4b8c-8103-407cf45b7f26",
   "metadata": {},
   "outputs": [],
   "source": [
    "def drop_channels(image, channels_of_interest, channel_names):\n",
    "        channel_names_new = [i for i in channel_names if i not in channels_of_interest]\n",
    "        mask = np.zeros(image.shape[2], dtype=bool) # Error: np.zeros(image.shape[0], dtype=bool) and NOT np.zeros(image.shape[2], dtype=bool) (ONLY ERROR IF YOU DONT TRANSPOSE THE IMAGE, OTHERWISE OKEY)\n",
    "        \n",
    "        for i in channels_of_interest:\n",
    "            mask[channel_names.index(i)] = True\n",
    "        image = image[:, :, mask] # Error: image[mask, :, :] and not image[:, :, mask] ! (ONLY ERROR IF YOU DONT TRANSPOSE THE IMAGE, OTHERWISE OKEY)\n",
    "        \n",
    "        return image"
   ]
  },
  {
   "cell_type": "code",
   "execution_count": 8,
   "id": "cce6e406-e9ba-4d21-b6ca-6746a8050b51",
   "metadata": {},
   "outputs": [],
   "source": [
    "channel_names_new = [\"Gd160\", \"Eu153\", \"Gd155\", \"Nd142\", \"Nd146\", \"Er166\", \"Er170\", \"Yb171\", \"Yb173\", \"Yb174\"]\n",
    "\n",
    "panel_dir = '../../../panel.csv' \n",
    "panel_df = pd.read_csv(panel_dir)\n",
    "channel_names = dict(zip(panel_df['clean_target'].to_list(), panel_df['channel'].to_list()))"
   ]
  },
  {
   "cell_type": "code",
   "execution_count": 9,
   "id": "ae794469-7975-41bd-bb94-83a5a96e5ccf",
   "metadata": {},
   "outputs": [],
   "source": [
    "X_train = [drop_channels(i, channel_names_new, list(channel_names.values())) for i in X_train]\n",
    "X_val = [drop_channels(i, channel_names_new, list(channel_names.values())) for i in X_val]\n",
    "X_test = [drop_channels(i, channel_names_new, list(channel_names.values())) for i in X_test]"
   ]
  },
  {
   "cell_type": "code",
   "execution_count": 10,
   "id": "392ae47f-2121-4037-b615-5a9e496262fe",
   "metadata": {},
   "outputs": [],
   "source": [
    "X_train = np.array(X_train)\n",
    "X_val = np.array(X_val)\n",
    "X_test = np.array(X_test)"
   ]
  },
  {
   "cell_type": "markdown",
   "id": "520db462-7eee-4d54-b63c-e3c674de180a",
   "metadata": {},
   "source": [
    "### Define ResNet18 "
   ]
  },
  {
   "cell_type": "code",
   "execution_count": 11,
   "id": "34b2b207-ca16-497c-b31d-8ef01bf0908e",
   "metadata": {},
   "outputs": [],
   "source": [
    "def identity_block(x, filter, dropout_rate = 0.5):\n",
    "    # copy tensor to variable called x_skip\n",
    "    x_skip = x\n",
    "    # Layer 1\n",
    "    x = tf.keras.layers.Conv2D(filter, (3,3), padding = 'same')(x)\n",
    "    x = tf.keras.layers.BatchNormalization(axis=3)(x)\n",
    "    x = Dropout(dropout_rate)(x)\n",
    "    x = tf.keras.layers.Activation('relu')(x)\n",
    "    # Layer 2\n",
    "    x = tf.keras.layers.Conv2D(filter, (3,3), padding = 'same')(x)\n",
    "    x = tf.keras.layers.BatchNormalization(axis=3)(x)\n",
    "    # Add Residue\n",
    "    x = tf.keras.layers.Add()([x, x_skip])     \n",
    "    x = tf.keras.layers.Activation('relu')(x)\n",
    "    return x\n",
    "\n",
    "def convolutional_block(x, filter, dropout_rate = 0.5):\n",
    "    # copy tensor to variable called x_skip\n",
    "    x_skip = x\n",
    "    # Layer 1\n",
    "    x = tf.keras.layers.Conv2D(filter, (3,3), padding = 'same', strides = (2,2))(x)\n",
    "    x = tf.keras.layers.BatchNormalization(axis=3)(x)\n",
    "    x = Dropout(dropout_rate)(x)\n",
    "    x = tf.keras.layers.Activation('relu')(x)\n",
    "    # Layer 2\n",
    "    x = tf.keras.layers.Conv2D(filter, (3,3), padding = 'same')(x)\n",
    "    x = tf.keras.layers.BatchNormalization(axis=3)(x)\n",
    "    # Processing Residue with conv(1,1)\n",
    "    x_skip = tf.keras.layers.Conv2D(filter, (1,1), strides = (2,2))(x_skip)\n",
    "    # Add Residue\n",
    "    x = tf.keras.layers.Add()([x, x_skip])     \n",
    "    x = tf.keras.layers.Activation('relu')(x)\n",
    "    return x\n",
    "\n",
    "def ResNet(shape = (32, 32, 3), classes = 10, block_layers = [3, 4, 6, 3], dropout_rate = 0.5):\n",
    "    # Step 1 (Setup Input Layer)\n",
    "    x_input = tf.keras.layers.Input(shape)\n",
    "    x = tf.keras.layers.ZeroPadding2D((3, 3))(x_input)\n",
    "    # Step 2 (Initial Conv layer along with maxPool)\n",
    "    x = tf.keras.layers.Conv2D(64, kernel_size=7, strides=2, padding='same')(x)\n",
    "    x = tf.keras.layers.BatchNormalization()(x)\n",
    "    x = Dropout(dropout_rate)(x)\n",
    "    x = tf.keras.layers.Activation('relu')(x)\n",
    "    x = tf.keras.layers.MaxPool2D(pool_size=3, strides=2, padding='same')(x)\n",
    "    # Define size of sub-blocks and initial filter size\n",
    "    block_layers = block_layers\n",
    "    filter_size = 64\n",
    "    # Step 3 Add the Resnet Blocks\n",
    "    for i in range(4):\n",
    "        if i == 0:\n",
    "            # For sub-block 1 Residual/Convolutional block not needed\n",
    "            for j in range(block_layers[i]):\n",
    "                x = identity_block(x, filter_size)\n",
    "        else:\n",
    "            # One Residual/Convolutional Block followed by Identity blocks\n",
    "            # The filter size will go on increasing by a factor of 2\n",
    "            filter_size = filter_size*2\n",
    "            x = convolutional_block(x, filter_size)\n",
    "            for j in range(block_layers[i] - 1):\n",
    "                x = identity_block(x, filter_size)\n",
    "    # Step 4 End Dense Network\n",
    "    x = tf.keras.layers.AveragePooling2D((2,2), padding = 'same')(x)\n",
    "    x = tf.keras.layers.Flatten()(x)\n",
    "    x = tf.keras.layers.Dense(512, activation = 'relu')(x)\n",
    "    x = Dropout(dropout_rate)(x)\n",
    "    x = tf.keras.layers.Dense(1, activation = 'sigmoid')(x) # Change last layer here: sigmoid and 1 neuron (classes -1)\n",
    "    model = tf.keras.models.Model(inputs = x_input, outputs = x, name = \"ResNet18\")\n",
    "    return model"
   ]
  },
  {
   "cell_type": "markdown",
   "id": "6951f57e-5bab-4a8d-925e-a2c4d88663ef",
   "metadata": {},
   "source": [
    "### Callbacks"
   ]
  },
  {
   "cell_type": "code",
   "execution_count": 12,
   "id": "2fe7ef3b-3d5f-4b87-81e5-214f5fa161a9",
   "metadata": {},
   "outputs": [],
   "source": [
    "# Callbacks\n",
    "log_dir = os.path.join(\"logs_ResNet50\", \"fit\", \"model_ResNet18_10_dropout_callbacks_sigmoid_10_biological_channels_trained\" + time.strftime(\"%Y%m%d-%H%M%S\"))\n",
    "tb_callback = TensorBoard(log_dir=log_dir, histogram_freq=1)\n",
    "\n",
    "callbacks_list = [\n",
    "    keras.callbacks.EarlyStopping(\n",
    "        monitor=\"val_loss\",\n",
    "        patience=12,   # Optimal patience value for validation accuracy\n",
    "    ),\n",
    "    keras.callbacks.ModelCheckpoint(\n",
    "        filepath=\"./models_ResNet/model_ResNet18_10_dropout_callbacks_sigmoid_10_biological_channels_trained.keras\", # save validation loss into file\n",
    "        monitor=\"val_loss\",  # monitor validation accuracy\n",
    "        save_best_only=True,\n",
    "    ),\n",
    "    ReduceLROnPlateau(\n",
    "    monitor=\"val_loss\",\n",
    "    factor=0.5,  \n",
    "    patience=3,\n",
    "    verbose=1,\n",
    "    mode=\"auto\",\n",
    "    min_delta=0.001,\n",
    "    min_lr=1.e-6,\n",
    "    ), \n",
    "    tb_callback\n",
    "]"
   ]
  },
  {
   "cell_type": "markdown",
   "id": "d31ec353-bfc9-4778-b547-682c210d76e1",
   "metadata": {},
   "source": [
    "### Train Model: now with 10 relevant biological channels"
   ]
  },
  {
   "cell_type": "code",
   "execution_count": 13,
   "id": "5deb2702-4a2f-4786-be9c-697054f0e85e",
   "metadata": {},
   "outputs": [
    {
     "name": "stdout",
     "output_type": "stream",
     "text": [
      "Epoch 1/50\n"
     ]
    },
    {
     "name": "stderr",
     "output_type": "stream",
     "text": [
      "I0000 00:00:1734532701.405598  834149 service.cc:146] XLA service 0x7f40f400b890 initialized for platform CUDA (this does not guarantee that XLA will be used). Devices:\n",
      "I0000 00:00:1734532701.405634  834149 service.cc:154]   StreamExecutor device (0): Tesla T4, Compute Capability 7.5\n",
      "2024-12-18 14:38:21.724212: I tensorflow/compiler/mlir/tensorflow/utils/dump_mlir_util.cc:268] disabling MLIR crash reproducer, set env var `MLIR_CRASH_REPRODUCER_DIRECTORY` to enable.\n",
      "2024-12-18 14:38:22.718843: I external/local_xla/xla/stream_executor/cuda/cuda_dnn.cc:531] Loaded cuDNN version 90300\n",
      "I0000 00:00:1734532722.222261  834149 device_compiler.h:188] Compiled cluster using XLA!  This line is logged at most once for the lifetime of the process.\n"
     ]
    },
    {
     "name": "stdout",
     "output_type": "stream",
     "text": [
      "\u001b[1m10/10\u001b[0m \u001b[32m━━━━━━━━━━━━━━━━━━━━\u001b[0m\u001b[37m\u001b[0m \u001b[1m54s\u001b[0m 3s/step - accuracy: 0.5326 - loss: 1.9484 - val_accuracy: 0.3706 - val_loss: 0.8165 - learning_rate: 1.0000e-04\n",
      "Epoch 2/50\n",
      "\u001b[1m10/10\u001b[0m \u001b[32m━━━━━━━━━━━━━━━━━━━━\u001b[0m\u001b[37m\u001b[0m \u001b[1m5s\u001b[0m 544ms/step - accuracy: 0.6235 - loss: 1.1048 - val_accuracy: 0.5482 - val_loss: 0.6828 - learning_rate: 1.0000e-04\n",
      "Epoch 3/50\n",
      "\u001b[1m10/10\u001b[0m \u001b[32m━━━━━━━━━━━━━━━━━━━━\u001b[0m\u001b[37m\u001b[0m \u001b[1m5s\u001b[0m 544ms/step - accuracy: 0.6948 - loss: 0.6035 - val_accuracy: 0.7665 - val_loss: 0.5835 - learning_rate: 1.0000e-04\n",
      "Epoch 4/50\n",
      "\u001b[1m10/10\u001b[0m \u001b[32m━━━━━━━━━━━━━━━━━━━━\u001b[0m\u001b[37m\u001b[0m \u001b[1m5s\u001b[0m 524ms/step - accuracy: 0.7810 - loss: 0.5012 - val_accuracy: 0.8274 - val_loss: 0.5057 - learning_rate: 1.0000e-04\n",
      "Epoch 5/50\n",
      "\u001b[1m10/10\u001b[0m \u001b[32m━━━━━━━━━━━━━━━━━━━━\u001b[0m\u001b[37m\u001b[0m \u001b[1m6s\u001b[0m 565ms/step - accuracy: 0.7893 - loss: 0.4768 - val_accuracy: 0.8122 - val_loss: 0.4424 - learning_rate: 1.0000e-04\n",
      "Epoch 6/50\n",
      "\u001b[1m10/10\u001b[0m \u001b[32m━━━━━━━━━━━━━━━━━━━━\u001b[0m\u001b[37m\u001b[0m \u001b[1m5s\u001b[0m 523ms/step - accuracy: 0.8115 - loss: 0.4281 - val_accuracy: 0.8376 - val_loss: 0.3842 - learning_rate: 1.0000e-04\n",
      "Epoch 7/50\n",
      "\u001b[1m10/10\u001b[0m \u001b[32m━━━━━━━━━━━━━━━━━━━━\u001b[0m\u001b[37m\u001b[0m \u001b[1m5s\u001b[0m 544ms/step - accuracy: 0.8172 - loss: 0.4123 - val_accuracy: 0.8325 - val_loss: 0.3751 - learning_rate: 1.0000e-04\n",
      "Epoch 8/50\n",
      "\u001b[1m10/10\u001b[0m \u001b[32m━━━━━━━━━━━━━━━━━━━━\u001b[0m\u001b[37m\u001b[0m \u001b[1m4s\u001b[0m 395ms/step - accuracy: 0.8433 - loss: 0.3797 - val_accuracy: 0.8528 - val_loss: 0.3795 - learning_rate: 1.0000e-04\n",
      "Epoch 9/50\n",
      "\u001b[1m10/10\u001b[0m \u001b[32m━━━━━━━━━━━━━━━━━━━━\u001b[0m\u001b[37m\u001b[0m \u001b[1m4s\u001b[0m 416ms/step - accuracy: 0.8538 - loss: 0.3774 - val_accuracy: 0.8274 - val_loss: 0.3962 - learning_rate: 1.0000e-04\n",
      "Epoch 10/50\n",
      "\u001b[1m10/10\u001b[0m \u001b[32m━━━━━━━━━━━━━━━━━━━━\u001b[0m\u001b[37m\u001b[0m \u001b[1m0s\u001b[0m 205ms/step - accuracy: 0.8727 - loss: 0.3518\n",
      "Epoch 10: ReduceLROnPlateau reducing learning rate to 4.999999873689376e-05.\n",
      "\u001b[1m10/10\u001b[0m \u001b[32m━━━━━━━━━━━━━━━━━━━━\u001b[0m\u001b[37m\u001b[0m \u001b[1m4s\u001b[0m 398ms/step - accuracy: 0.8724 - loss: 0.3509 - val_accuracy: 0.8325 - val_loss: 0.4180 - learning_rate: 1.0000e-04\n",
      "Epoch 11/50\n",
      "\u001b[1m10/10\u001b[0m \u001b[32m━━━━━━━━━━━━━━━━━━━━\u001b[0m\u001b[37m\u001b[0m \u001b[1m4s\u001b[0m 398ms/step - accuracy: 0.8277 - loss: 0.3773 - val_accuracy: 0.8426 - val_loss: 0.3801 - learning_rate: 5.0000e-05\n",
      "Epoch 12/50\n",
      "\u001b[1m10/10\u001b[0m \u001b[32m━━━━━━━━━━━━━━━━━━━━\u001b[0m\u001b[37m\u001b[0m \u001b[1m4s\u001b[0m 401ms/step - accuracy: 0.8562 - loss: 0.3433 - val_accuracy: 0.8274 - val_loss: 0.3886 - learning_rate: 5.0000e-05\n",
      "Epoch 13/50\n",
      "\u001b[1m10/10\u001b[0m \u001b[32m━━━━━━━━━━━━━━━━━━━━\u001b[0m\u001b[37m\u001b[0m \u001b[1m5s\u001b[0m 557ms/step - accuracy: 0.8621 - loss: 0.3056 - val_accuracy: 0.8376 - val_loss: 0.3724 - learning_rate: 5.0000e-05\n",
      "Epoch 14/50\n",
      "\u001b[1m10/10\u001b[0m \u001b[32m━━━━━━━━━━━━━━━━━━━━\u001b[0m\u001b[37m\u001b[0m \u001b[1m9s\u001b[0m 434ms/step - accuracy: 0.8600 - loss: 0.3309 - val_accuracy: 0.8274 - val_loss: 0.4042 - learning_rate: 5.0000e-05\n",
      "Epoch 15/50\n",
      "\u001b[1m10/10\u001b[0m \u001b[32m━━━━━━━━━━━━━━━━━━━━\u001b[0m\u001b[37m\u001b[0m \u001b[1m4s\u001b[0m 415ms/step - accuracy: 0.8547 - loss: 0.3525 - val_accuracy: 0.8223 - val_loss: 0.3961 - learning_rate: 5.0000e-05\n",
      "Epoch 16/50\n",
      "\u001b[1m10/10\u001b[0m \u001b[32m━━━━━━━━━━━━━━━━━━━━\u001b[0m\u001b[37m\u001b[0m \u001b[1m0s\u001b[0m 204ms/step - accuracy: 0.8717 - loss: 0.2950\n",
      "Epoch 16: ReduceLROnPlateau reducing learning rate to 2.499999936844688e-05.\n",
      "\u001b[1m10/10\u001b[0m \u001b[32m━━━━━━━━━━━━━━━━━━━━\u001b[0m\u001b[37m\u001b[0m \u001b[1m4s\u001b[0m 400ms/step - accuracy: 0.8717 - loss: 0.2965 - val_accuracy: 0.8274 - val_loss: 0.4002 - learning_rate: 5.0000e-05\n",
      "Epoch 17/50\n",
      "\u001b[1m10/10\u001b[0m \u001b[32m━━━━━━━━━━━━━━━━━━━━\u001b[0m\u001b[37m\u001b[0m \u001b[1m4s\u001b[0m 400ms/step - accuracy: 0.8691 - loss: 0.3109 - val_accuracy: 0.8223 - val_loss: 0.4185 - learning_rate: 2.5000e-05\n",
      "Epoch 18/50\n",
      "\u001b[1m10/10\u001b[0m \u001b[32m━━━━━━━━━━━━━━━━━━━━\u001b[0m\u001b[37m\u001b[0m \u001b[1m4s\u001b[0m 406ms/step - accuracy: 0.8883 - loss: 0.2819 - val_accuracy: 0.8274 - val_loss: 0.4089 - learning_rate: 2.5000e-05\n",
      "Epoch 19/50\n",
      "\u001b[1m10/10\u001b[0m \u001b[32m━━━━━━━━━━━━━━━━━━━━\u001b[0m\u001b[37m\u001b[0m \u001b[1m0s\u001b[0m 204ms/step - accuracy: 0.8717 - loss: 0.3424\n",
      "Epoch 19: ReduceLROnPlateau reducing learning rate to 1.249999968422344e-05.\n",
      "\u001b[1m10/10\u001b[0m \u001b[32m━━━━━━━━━━━━━━━━━━━━\u001b[0m\u001b[37m\u001b[0m \u001b[1m4s\u001b[0m 394ms/step - accuracy: 0.8710 - loss: 0.3432 - val_accuracy: 0.8122 - val_loss: 0.4621 - learning_rate: 2.5000e-05\n",
      "Epoch 20/50\n",
      "\u001b[1m10/10\u001b[0m \u001b[32m━━━━━━━━━━━━━━━━━━━━\u001b[0m\u001b[37m\u001b[0m \u001b[1m4s\u001b[0m 407ms/step - accuracy: 0.8553 - loss: 0.3266 - val_accuracy: 0.8223 - val_loss: 0.4215 - learning_rate: 1.2500e-05\n",
      "Epoch 21/50\n",
      "\u001b[1m10/10\u001b[0m \u001b[32m━━━━━━━━━━━━━━━━━━━━\u001b[0m\u001b[37m\u001b[0m \u001b[1m4s\u001b[0m 408ms/step - accuracy: 0.8731 - loss: 0.3034 - val_accuracy: 0.8223 - val_loss: 0.4197 - learning_rate: 1.2500e-05\n",
      "Epoch 22/50\n",
      "\u001b[1m10/10\u001b[0m \u001b[32m━━━━━━━━━━━━━━━━━━━━\u001b[0m\u001b[37m\u001b[0m \u001b[1m0s\u001b[0m 208ms/step - accuracy: 0.8440 - loss: 0.3392\n",
      "Epoch 22: ReduceLROnPlateau reducing learning rate to 6.24999984211172e-06.\n",
      "\u001b[1m10/10\u001b[0m \u001b[32m━━━━━━━━━━━━━━━━━━━━\u001b[0m\u001b[37m\u001b[0m \u001b[1m4s\u001b[0m 399ms/step - accuracy: 0.8452 - loss: 0.3388 - val_accuracy: 0.8223 - val_loss: 0.4386 - learning_rate: 1.2500e-05\n",
      "Epoch 23/50\n",
      "\u001b[1m10/10\u001b[0m \u001b[32m━━━━━━━━━━━━━━━━━━━━\u001b[0m\u001b[37m\u001b[0m \u001b[1m4s\u001b[0m 410ms/step - accuracy: 0.9000 - loss: 0.2772 - val_accuracy: 0.8173 - val_loss: 0.4509 - learning_rate: 6.2500e-06\n",
      "Epoch 24/50\n",
      "\u001b[1m10/10\u001b[0m \u001b[32m━━━━━━━━━━━━━━━━━━━━\u001b[0m\u001b[37m\u001b[0m \u001b[1m4s\u001b[0m 397ms/step - accuracy: 0.8758 - loss: 0.3169 - val_accuracy: 0.8173 - val_loss: 0.4539 - learning_rate: 6.2500e-06\n",
      "Epoch 25/50\n",
      "\u001b[1m10/10\u001b[0m \u001b[32m━━━━━━━━━━━━━━━━━━━━\u001b[0m\u001b[37m\u001b[0m \u001b[1m0s\u001b[0m 204ms/step - accuracy: 0.8465 - loss: 0.3863\n",
      "Epoch 25: ReduceLROnPlateau reducing learning rate to 3.12499992105586e-06.\n",
      "\u001b[1m10/10\u001b[0m \u001b[32m━━━━━━━━━━━━━━━━━━━━\u001b[0m\u001b[37m\u001b[0m \u001b[1m4s\u001b[0m 388ms/step - accuracy: 0.8486 - loss: 0.3828 - val_accuracy: 0.8071 - val_loss: 0.4588 - learning_rate: 6.2500e-06\n",
      "\n",
      "Elapsed time: 166.16032075881958 seconds\n"
     ]
    }
   ],
   "source": [
    "ROWS = 224; COLS = 224; CHANNELS = 10; CLASSES = 2; block_layers = [2,2,2,2] # ResNet18\n",
    "dropout_rate = 0.5\n",
    "# Build Network Graph \n",
    "model_ResNet18 = ResNet(shape = (ROWS, COLS, CHANNELS), classes = CLASSES, block_layers = block_layers, dropout_rate = dropout_rate)\n",
    "\n",
    "# Compile Model \n",
    "l_rate = 1.e-4 # CHANGE HERE\n",
    "opt = keras.optimizers.Adam(learning_rate=l_rate)\n",
    "model_ResNet18.compile(optimizer=opt, loss='binary_crossentropy', metrics=[\"accuracy\"]) # Set threshold here\n",
    "\n",
    "# Train Model \n",
    "batch = 64\n",
    "epochs = 50\n",
    "start_time = time.time()\n",
    "\n",
    "history_ResNet18 = model_ResNet18.fit(X_train, y_train,\n",
    "                                      epochs = epochs, batch_size = batch, \n",
    "                                      validation_data = (X_val, y_val), callbacks = callbacks_list)\n",
    "\n",
    "end_time = time.time()\n",
    "elapsed_time = end_time - start_time\n",
    "print(f\"\\nElapsed time: {elapsed_time} seconds\")"
   ]
  },
  {
   "cell_type": "markdown",
   "id": "48dcb0f5-d5bb-4246-a2c8-64da034bcabc",
   "metadata": {},
   "source": [
    "### Testing Accuracy"
   ]
  },
  {
   "cell_type": "code",
   "execution_count": 18,
   "id": "cffe7bbc-17b9-4f33-99c4-3f75bc0d3117",
   "metadata": {},
   "outputs": [
    {
     "name": "stdout",
     "output_type": "stream",
     "text": [
      "\u001b[1m7/7\u001b[0m \u001b[32m━━━━━━━━━━━━━━━━━━━━\u001b[0m\u001b[37m\u001b[0m \u001b[1m2s\u001b[0m 117ms/step - accuracy: 0.8029 - loss: 0.4065\n",
      "Test Accuracy (for unbalanced test set) is: 0.81%\n"
     ]
    }
   ],
   "source": [
    "# To load the model from file uncomment and run the following \n",
    "loaded_model = keras.saving.load_model('./models_ResNet/model_ResNet18_10_dropout_callbacks_sigmoid_10_biological_channels_trained.keras')\n",
    "print(\"Test Accuracy (for unbalanced test set) is: {:.2f}%\".format(loaded_model.evaluate(X_test, y_test)[1]))"
   ]
  },
  {
   "cell_type": "markdown",
   "id": "e113359c-aa38-4bac-9e26-bf27bdec1ef6",
   "metadata": {},
   "source": [
    "### F1 Score"
   ]
  },
  {
   "cell_type": "code",
   "execution_count": 15,
   "id": "586a0571-7db1-449c-8924-62f4dea50d18",
   "metadata": {},
   "outputs": [
    {
     "name": "stdout",
     "output_type": "stream",
     "text": [
      "\u001b[1m7/7\u001b[0m \u001b[32m━━━━━━━━━━━━━━━━━━━━\u001b[0m\u001b[37m\u001b[0m \u001b[1m2s\u001b[0m 206ms/step\n"
     ]
    }
   ],
   "source": [
    "from sklearn.metrics import f1_score\n",
    "\n",
    "y_pred_test = loaded_model.predict(X_test)\n",
    "y_pred_test = (y_pred_test > 0.5).astype(int)\n",
    "f1 = f1_score(y_test, y_pred_test)"
   ]
  },
  {
   "cell_type": "code",
   "execution_count": 16,
   "id": "d95ad61c-440a-4d86-afac-d093097c34e0",
   "metadata": {},
   "outputs": [
    {
     "name": "stdout",
     "output_type": "stream",
     "text": [
      "F1-Score (for balanced test set) is: 0.71\n"
     ]
    }
   ],
   "source": [
    "print(\"F1-Score (for balanced test set) is: {:.2f}\".format(f1))"
   ]
  },
  {
   "cell_type": "markdown",
   "id": "2e2df7a3-a62a-45fe-9a0c-56f442a25a75",
   "metadata": {},
   "source": [
    "### Confusion Matrix"
   ]
  },
  {
   "cell_type": "code",
   "execution_count": 22,
   "id": "2ba4c107-c657-43e0-b27f-df0fa9a46e28",
   "metadata": {},
   "outputs": [
    {
     "name": "stdout",
     "output_type": "stream",
     "text": [
      "WARNING:tensorflow:5 out of the last 15 calls to <function TensorFlowTrainer.make_predict_function.<locals>.one_step_on_data_distributed at 0x7f405295fa60> triggered tf.function retracing. Tracing is expensive and the excessive number of tracings could be due to (1) creating @tf.function repeatedly in a loop, (2) passing tensors with different shapes, (3) passing Python objects instead of tensors. For (1), please define your @tf.function outside of the loop. For (2), @tf.function has reduce_retracing=True option that can avoid unnecessary retracing. For (3), please refer to https://www.tensorflow.org/guide/function#controlling_retracing and https://www.tensorflow.org/api_docs/python/tf/function for  more details.\n",
      "\u001b[1m7/7\u001b[0m \u001b[32m━━━━━━━━━━━━━━━━━━━━\u001b[0m\u001b[37m\u001b[0m \u001b[1m2s\u001b[0m 205ms/step\n"
     ]
    }
   ],
   "source": [
    "from sklearn.metrics import confusion_matrix\n",
    "loaded_model = keras.saving.load_model('./models_ResNet/model_ResNet18_10_dropout_callbacks_sigmoid_10_biological_channels_trained.keras')\n",
    "y_pred_test = loaded_model.predict(X_test)\n",
    "y_pred_test = (y_pred_test > 0.5).astype(int)\n",
    "# Compute confusion matrix\n",
    "cm = confusion_matrix(y_test, y_pred_test)"
   ]
  },
  {
   "cell_type": "code",
   "execution_count": 23,
   "id": "95ea391d-bce8-48f0-9a06-52f7872d962e",
   "metadata": {},
   "outputs": [
    {
     "data": {
      "image/png": "[encoded data removed]",
      "text/plain": [
       "<Figure size 800x600 with 2 Axes>"
      ]
     },
     "metadata": {},
     "output_type": "display_data"
    }
   ],
   "source": [
    "def plot_confusion_matrix(cm, class_names):\n",
    "    plt.figure(figsize=(8, 6))\n",
    "    plt.imshow(cm, interpolation='nearest', cmap=plt.cm.Blues)\n",
    "    plt.title(\"Confusion Matrix (Unbalanced Test Dataset)\")\n",
    "    plt.colorbar()\n",
    "\n",
    "    # Add class labels to axes\n",
    "    tick_marks = np.arange(len(class_names))\n",
    "    plt.xticks(tick_marks, class_names, rotation=45)\n",
    "    plt.yticks(tick_marks, class_names)\n",
    "\n",
    "    # Add text annotations for each cell\n",
    "    thresh = cm.max() / 2  # Threshold for text color\n",
    "    for i, j in np.ndindex(cm.shape):\n",
    "        plt.text(j, i, format(cm[i, j], 'd'),\n",
    "                 horizontalalignment=\"center\",\n",
    "                 color=\"white\" if cm[i, j] > thresh else \"black\")\n",
    "\n",
    "    plt.ylabel(\"True Label\")\n",
    "    plt.xlabel(\"Predicted Label\")\n",
    "    plt.tight_layout()\n",
    "    plt.show()\n",
    "\n",
    "\n",
    "# # Example confusion matrix (computed earlier or loaded)\n",
    "# cm_ex = np.array([\n",
    "#     [50, 2, 1],\n",
    "#     [5, 45, 3],\n",
    "#     [2, 6, 40]\n",
    "# ])\n",
    "\n",
    "# Class names (optional, for labeling the axes)\n",
    "class_names = ['PDL1 == 0', 'PDL1 == 1']\n",
    "\n",
    "# Call the function to plot the confusion matrix\n",
    "plot_confusion_matrix(cm, class_names)"
   ]
  }
 ],
 "metadata": {
  "kernelspec": {
   "display_name": "BME342 Env",
   "language": "python",
   "name": "bme342_gpu_env"
  },
  "language_info": {
   "codemirror_mode": {
    "name": "ipython",
    "version": 3
   },
   "file_extension": ".py",
   "mimetype": "text/x-python",
   "name": "python",
   "nbconvert_exporter": "python",
   "pygments_lexer": "ipython3",
   "version": "3.12.6"
  }
 },
 "nbformat": 4,
 "nbformat_minor": 5
}
