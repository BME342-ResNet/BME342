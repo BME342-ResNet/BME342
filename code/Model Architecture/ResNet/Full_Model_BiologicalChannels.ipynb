{
 "cells": [
  {
   "cell_type": "markdown",
   "id": "6423c422-04da-4edb-ba56-2a146476f0ba",
   "metadata": {},
   "source": [
    "# ResNet: Balanced Data Set \n",
    "\n",
    "After evaluating F1 Score, we want to train our model on balanced dataset and then predict the unbalanced dataset"
   ]
  },
  {
   "cell_type": "markdown",
   "id": "d287ef90-f246-452c-82a0-9d04df91e2d6",
   "metadata": {},
   "source": [
    "### Initialize Notebook & packages"
   ]
  },
  {
   "cell_type": "code",
<<<<<<< HEAD
   "execution_count": 2,
=======
   "execution_count": 1,
>>>>>>> luca4
   "id": "540f84f3-10a2-4635-b20c-3fd5939db3f4",
   "metadata": {},
   "outputs": [
    {
     "name": "stderr",
     "output_type": "stream",
     "text": [
<<<<<<< HEAD
      "2024-12-18 14:37:27.144024: E external/local_xla/xla/stream_executor/cuda/cuda_fft.cc:485] Unable to register cuFFT factory: Attempting to register factory for plugin cuFFT when one has already been registered\n",
      "2024-12-18 14:37:27.158339: E external/local_xla/xla/stream_executor/cuda/cuda_dnn.cc:8454] Unable to register cuDNN factory: Attempting to register factory for plugin cuDNN when one has already been registered\n",
      "2024-12-18 14:37:27.162781: E external/local_xla/xla/stream_executor/cuda/cuda_blas.cc:1452] Unable to register cuBLAS factory: Attempting to register factory for plugin cuBLAS when one has already been registered\n",
      "2024-12-18 14:37:27.173826: I tensorflow/core/platform/cpu_feature_guard.cc:210] This TensorFlow binary is optimized to use available CPU instructions in performance-critical operations.\n",
      "To enable the following instructions: SSE4.1 SSE4.2 AVX AVX2 FMA, in other operations, rebuild TensorFlow with the appropriate compiler flags.\n"
=======
      "2024-12-22 12:23:23.113232: E external/local_xla/xla/stream_executor/cuda/cuda_fft.cc:477] Unable to register cuFFT factory: Attempting to register factory for plugin cuFFT when one has already been registered\n",
      "WARNING: All log messages before absl::InitializeLog() is called are written to STDERR\n",
      "E0000 00:00:1734870203.130905 1021000 cuda_dnn.cc:8310] Unable to register cuDNN factory: Attempting to register factory for plugin cuDNN when one has already been registered\n",
      "E0000 00:00:1734870203.136354 1021000 cuda_blas.cc:1418] Unable to register cuBLAS factory: Attempting to register factory for plugin cuBLAS when one has already been registered\n",
      "2024-12-22 12:23:23.153765: I tensorflow/core/platform/cpu_feature_guard.cc:210] This TensorFlow binary is optimized to use available CPU instructions in performance-critical operations.\n",
      "To enable the following instructions: AVX2 FMA, in other operations, rebuild TensorFlow with the appropriate compiler flags.\n"
>>>>>>> luca4
     ]
    },
    {
     "name": "stdout",
     "output_type": "stream",
     "text": [
      "GPU enabled. Checking for available GPUs...\n",
      "1 Physical GPUs, 1 Logical GPUs\n",
      "\n",
      "Verifying TensorFlow and PyTorch CUDA setup...\n",
<<<<<<< HEAD
      "TensorFlow version: 2.17.0\n",
      "Built with CUDA: True\n",
      "Num GPUs Available: 1\n",
      "\n",
      "Keras version: 3.6.0\n",
=======
      "TensorFlow version: 2.18.0\n",
      "Built with CUDA: True\n",
      "Num GPUs Available: 1\n",
      "\n",
      "Keras version: 3.7.0\n",
>>>>>>> luca4
      "\n",
      "End checks and initialization.\n"
     ]
    },
    {
     "name": "stderr",
     "output_type": "stream",
     "text": [
<<<<<<< HEAD
      "WARNING: All log messages before absl::InitializeLog() is called are written to STDERR\n",
      "I0000 00:00:1734532648.970435  833766 cuda_executor.cc:1015] successful NUMA node read from SysFS had negative value (-1), but there must be at least one NUMA node, so returning NUMA node zero. See more at https://github.com/torvalds/linux/blob/v6.0/Documentation/ABI/testing/sysfs-bus-pci#L344-L355\n",
      "I0000 00:00:1734532649.009918  833766 cuda_executor.cc:1015] successful NUMA node read from SysFS had negative value (-1), but there must be at least one NUMA node, so returning NUMA node zero. See more at https://github.com/torvalds/linux/blob/v6.0/Documentation/ABI/testing/sysfs-bus-pci#L344-L355\n",
      "I0000 00:00:1734532649.013461  833766 cuda_executor.cc:1015] successful NUMA node read from SysFS had negative value (-1), but there must be at least one NUMA node, so returning NUMA node zero. See more at https://github.com/torvalds/linux/blob/v6.0/Documentation/ABI/testing/sysfs-bus-pci#L344-L355\n",
      "I0000 00:00:1734532649.018743  833766 cuda_executor.cc:1015] successful NUMA node read from SysFS had negative value (-1), but there must be at least one NUMA node, so returning NUMA node zero. See more at https://github.com/torvalds/linux/blob/v6.0/Documentation/ABI/testing/sysfs-bus-pci#L344-L355\n",
      "I0000 00:00:1734532649.022152  833766 cuda_executor.cc:1015] successful NUMA node read from SysFS had negative value (-1), but there must be at least one NUMA node, so returning NUMA node zero. See more at https://github.com/torvalds/linux/blob/v6.0/Documentation/ABI/testing/sysfs-bus-pci#L344-L355\n",
      "I0000 00:00:1734532649.025293  833766 cuda_executor.cc:1015] successful NUMA node read from SysFS had negative value (-1), but there must be at least one NUMA node, so returning NUMA node zero. See more at https://github.com/torvalds/linux/blob/v6.0/Documentation/ABI/testing/sysfs-bus-pci#L344-L355\n",
      "I0000 00:00:1734532649.215841  833766 cuda_executor.cc:1015] successful NUMA node read from SysFS had negative value (-1), but there must be at least one NUMA node, so returning NUMA node zero. See more at https://github.com/torvalds/linux/blob/v6.0/Documentation/ABI/testing/sysfs-bus-pci#L344-L355\n",
      "I0000 00:00:1734532649.217856  833766 cuda_executor.cc:1015] successful NUMA node read from SysFS had negative value (-1), but there must be at least one NUMA node, so returning NUMA node zero. See more at https://github.com/torvalds/linux/blob/v6.0/Documentation/ABI/testing/sysfs-bus-pci#L344-L355\n",
      "I0000 00:00:1734532649.219701  833766 cuda_executor.cc:1015] successful NUMA node read from SysFS had negative value (-1), but there must be at least one NUMA node, so returning NUMA node zero. See more at https://github.com/torvalds/linux/blob/v6.0/Documentation/ABI/testing/sysfs-bus-pci#L344-L355\n",
      "2024-12-18 14:37:29.221496: I tensorflow/core/common_runtime/gpu/gpu_device.cc:2021] Created device /job:localhost/replica:0/task:0/device:GPU:0 with 13312 MB memory:  -> device: 0, name: Tesla T4, pci bus id: 0000:00:06.0, compute capability: 7.5\n"
=======
      "I0000 00:00:1734870205.834946 1021000 gpu_device.cc:2022] Created device /job:localhost/replica:0/task:0/device:GPU:0 with 13312 MB memory:  -> device: 0, name: Tesla T4, pci bus id: 0000:00:06.0, compute capability: 7.5\n"
>>>>>>> luca4
     ]
    }
   ],
   "source": [
    "import helper as hp \n",
    "hp.initialize_notebook() # initialize with GPU enabled  \n",
    "# hp.initialize_notebook(False) # to disable GPU "
   ]
  },
  {
   "cell_type": "code",
<<<<<<< HEAD
   "execution_count": 3,
=======
   "execution_count": 2,
>>>>>>> luca4
   "id": "9a539d5b-87bd-4bef-9dce-e8ed23101a53",
   "metadata": {},
   "outputs": [],
   "source": [
    "# Import standard libraries\n",
    "import os\n",
    "import sys\n",
    "import gc\n",
    "import numpy as np\n",
    "import pandas as pd\n",
    "import matplotlib.pyplot as plt\n",
    "import seaborn as sns\n",
    "import time\n",
    "import keras\n",
    "# Import DL libraries\n",
    "import tensorflow as tf\n",
    "from keras.models import Sequential\n",
    "from keras.layers import Input, Add, Dense, Activation, ZeroPadding2D, BatchNormalization, Flatten, Conv2D, AveragePooling2D, MaxPooling2D, Dropout # General Layers\n",
    "from keras.layers import RandomRotation, RandomFlip\n",
    "from keras import layers, models, Model, Input\n",
    "from keras.utils import to_categorical\n",
    "from keras.optimizers import Adam\n",
    "from keras.callbacks import ReduceLROnPlateau, EarlyStopping, TensorBoard\n",
    "from keras.initializers import glorot_uniform\n",
    "from keras.utils import plot_model\n",
    "from keras.metrics import F1Score, AUC\n",
    "# Suppress tensorflow warnings\n",
    "os.environ['TF_CPP_MIN_LOG_LEVEL'] = '2'\n",
    "\n",
    "# Import ML libraries\n",
    "from sklearn.metrics import f1_score, confusion_matrix, ConfusionMatrixDisplay\n",
    "from sklearn.preprocessing import LabelEncoder\n",
    "from sklearn.model_selection import train_test_split, StratifiedKFold, StratifiedShuffleSplit\n",
    "from sklearn.utils.class_weight import compute_class_weight\n",
    "\n",
    "# Import image libraries\n",
    "from skimage import transform\n",
    "import tifffile as tiff\n",
    "from tifffile import imread\n",
    "\n",
    "# Appends current working dir\n",
    "current_path = os.getcwd()\n",
    "sys.path.append(current_path)\n",
    "\n",
    "# Import custom preprocessing class\n",
    "from imc_preprocessing import IMCPreprocessor"
   ]
  },
  {
<<<<<<< HEAD
=======
   "cell_type": "code",
   "execution_count": 3,
   "id": "3e17f164-34ce-44c3-a4da-3b764fb2e296",
   "metadata": {},
   "outputs": [
    {
     "name": "stdout",
     "output_type": "stream",
     "text": [
      "2.18.0\n"
     ]
    }
   ],
   "source": [
    "import tensorflow as tf\n",
    "print(tf.__version__)"
   ]
  },
  {
>>>>>>> luca4
   "cell_type": "markdown",
   "id": "ffae5700-11b4-45a2-8685-0f902de0fe82",
   "metadata": {},
   "source": [
    "### Clear GPU memory"
   ]
  },
  {
   "cell_type": "code",
<<<<<<< HEAD
   "execution_count": 3,
=======
   "execution_count": 4,
>>>>>>> luca4
   "id": "e6d5b5a3-ffb8-4aa6-a104-007089a21c2b",
   "metadata": {},
   "outputs": [],
   "source": [
    "import tensorflow as tf\n",
    "from keras import backend as K\n",
    "\n",
    "# Clear TensorFlow session and reset the graph\n",
    "K.clear_session()\n",
    "tf.compat.v1.reset_default_graph()"
   ]
  },
  {
   "cell_type": "markdown",
   "id": "a4b81817-ac05-4c27-9a08-c4358a629c1b",
   "metadata": {},
   "source": [
    "## IMPORT DATA"
   ]
  },
  {
   "cell_type": "markdown",
   "id": "1c2b0bc5-7e74-41b4-a06f-35ada36a27fc",
   "metadata": {},
   "source": [
<<<<<<< HEAD
    "### Train, validation and test split "
=======
    "### Full Model: Only train and validation"
>>>>>>> luca4
   ]
  },
  {
   "cell_type": "code",
<<<<<<< HEAD
   "execution_count": 4,
=======
   "execution_count": 5,
>>>>>>> luca4
   "id": "fb5405b3-fab2-4569-8522-f7b2c02a69ad",
   "metadata": {},
   "outputs": [],
   "source": [
<<<<<<< HEAD
    "images_dir = '../../../IMC_images' \n",
    "metadata_dir = '../../../metadata.csv'\n",
=======
    "images_dir = '/home/jupyter-luvogt/Final_Project_LR/IMC_images' \n",
    "metadata_dir = '/home/jupyter-luvogt/Final_Project_LR/metadata.csv'\n",
>>>>>>> luca4
    "# --- Load CSV and filter dataset ---\n",
    "csv_file = metadata_dir\n",
    "image_folder = images_dir\n",
    "\n",
    "# Load the CSV\n",
    "df = pd.read_csv(csv_file)\n",
    "\n",
    "# Filter rows with NA in PDL1_score and convert to binary\n",
    "df = df.dropna(subset=[\"PDL1_score\"])\n",
    "df[\"PDL1_score\"] = df[\"PDL1_score\"].astype(int)\n",
    "\n",
    "# --- Train-Test-Validation Split ---\n",
    "train_df, val_and_test_df = train_test_split(df, test_size=0.4, random_state=42, stratify=df[\"PDL1_score\"])\n",
    "test_df, val_df = train_test_split(val_and_test_df, test_size=0.5, random_state=42, stratify=val_and_test_df[\"PDL1_score\"])\n"
   ]
  },
  {
   "cell_type": "markdown",
   "id": "eebbbc41-02aa-43bb-b875-552d15b12834",
   "metadata": {},
   "source": [
    "### Import function for dataset"
   ]
  },
  {
   "cell_type": "code",
<<<<<<< HEAD
   "execution_count": 5,
=======
   "execution_count": 6,
>>>>>>> luca4
   "id": "9f060b1f-09d4-4828-b6c6-06305c1d984a",
   "metadata": {},
   "outputs": [],
   "source": [
    "# --- Load Images and Compute Mean and Standard Deviation ---\n",
    "# Function to load a single image\n",
    "def load_image(image_path):\n",
    "    image = imread(image_path)  # Load all 46 channels\n",
    "    return image.astype(np.float32)\n",
    "\n",
    "# Initialize variables to accumulate sum and sum of squares\n",
    "nr_images = 0\n",
    "sum_images = np.zeros((46, 224, 224))\n",
    "sum_squared_images = np.zeros((46, 224, 224))\n",
    "\n",
    "# Accumulate the sum and sum of squares for the training dataset\n",
    "for _, row in train_df.iterrows():\n",
    "    image_path = os.path.join(image_folder, f\"{row['sample_id']}.tiff\")\n",
    "    image = load_image(image_path)\n",
    "    nr_images += 1\n",
    "    sum_images += image\n",
    "    sum_squared_images += image ** 2\n",
    "\n",
    "# Compute mean and standard deviation\n",
    "mean = sum_images / nr_images\n",
    "std = np.sqrt(sum_squared_images / nr_images - mean ** 2)\n",
    "\n",
    "# --- Dataset Loading Function ---\n",
    "\n",
    "def load_dataset(dataframe, image_folder, normalize = True): # augment = False\n",
    "    images = []\n",
    "    labels = []\n",
    "    \n",
    "    for _, row in dataframe.iterrows():\n",
    "        image_path = os.path.join(image_folder, f\"{row['sample_id']}.tiff\")\n",
    "        image = load_image(image_path)\n",
    "\n",
    "        if normalize:\n",
    "            image = (image - mean) / std # Z-Score\n",
    "\n",
    "        # Convert to channels-last format (224, 224, 46)\n",
    "        image = np.transpose(image, (1, 2, 0))\n",
    "\n",
    "        # # Apply data augmentation if specified\n",
    "        # if augment:\n",
    "        #     # Random horizontal flip\n",
    "        #     if np.random.rand() > 0.5:\n",
    "        #         image = np.flip(image, axis=2)\n",
    "        #     # Random vertical flip\n",
    "        #     if np.random.rand() > 0.5:\n",
    "        #         image = np.flip(image, axis=1)\n",
    "\n",
    "        images.append(image)\n",
    "        labels.append(row[\"PDL1_score\"])\n",
    "\n",
    "    return np.array(images), np.array(labels)"
   ]
  },
  {
   "cell_type": "markdown",
   "id": "06dfaf9f-8ab2-4b85-b576-fe70bbb53ffc",
   "metadata": {},
   "source": [
    "## ResNet18: with Tensor Board + 3 Channels + with Dropout + ReduceLR + EarlyStopping + sigmoid instead of softmax + 1 neuron instead of "
   ]
  },
  {
   "cell_type": "markdown",
   "id": "7db913bb-2abf-4c3a-aa86-523e2f5390f7",
   "metadata": {},
   "source": [
    "Adjust the last classificaiton layer to contain 1 neuron and the sigmoid activation function (instead of 2 neurons and the softmax), because this is more suited for binary classificaiton. Model retrained underneath"
   ]
  },
  {
   "cell_type": "markdown",
   "id": "d993d258-5cfe-4b4d-8e6a-4d484243aa18",
   "metadata": {},
   "source": [
    "### Create Datasets: Disable one-hot encoding for sigmoid / F1-Score"
   ]
  },
  {
   "cell_type": "code",
<<<<<<< HEAD
   "execution_count": 27,
=======
   "execution_count": 7,
>>>>>>> luca4
   "id": "0b8101ec-37e6-40e5-9463-00f60c31e4b8",
   "metadata": {},
   "outputs": [
    {
<<<<<<< HEAD
     "name": "stdout",
     "output_type": "stream",
     "text": [
      "X_train shape: (590, 224, 224, 46), y_train shape: (590,)\n",
      "X_val shape: (197, 224, 224, 46), y_val shape: (197,)\n",
      "X_test shape: (197, 224, 224, 46), y_test shape: (197,)\n"
=======
     "ename": "KeyboardInterrupt",
     "evalue": "",
     "output_type": "error",
     "traceback": [
      "\u001b[0;31m---------------------------------------------------------------------------\u001b[0m",
      "\u001b[0;31mKeyboardInterrupt\u001b[0m                         Traceback (most recent call last)",
      "Cell \u001b[0;32mIn[7], line 8\u001b[0m\n\u001b[1;32m      6\u001b[0m X_val, y_val \u001b[38;5;241m=\u001b[39m load_dataset(val_df, image_folder, normalize \u001b[38;5;241m=\u001b[39m \u001b[38;5;28;01mTrue\u001b[39;00m)\n\u001b[1;32m      7\u001b[0m \u001b[38;5;66;03m# Test dataset\u001b[39;00m\n\u001b[0;32m----> 8\u001b[0m X_test, y_test \u001b[38;5;241m=\u001b[39m \u001b[43mload_dataset\u001b[49m\u001b[43m(\u001b[49m\u001b[43mtest_df\u001b[49m\u001b[43m,\u001b[49m\u001b[43m \u001b[49m\u001b[43mimage_folder\u001b[49m\u001b[43m,\u001b[49m\u001b[43m \u001b[49m\u001b[43mnormalize\u001b[49m\u001b[43m \u001b[49m\u001b[38;5;241;43m=\u001b[39;49m\u001b[43m \u001b[49m\u001b[38;5;28;43;01mTrue\u001b[39;49;00m\u001b[43m)\u001b[49m\n",
      "Cell \u001b[0;32mIn[6], line 38\u001b[0m, in \u001b[0;36mload_dataset\u001b[0;34m(dataframe, image_folder, normalize)\u001b[0m\n\u001b[1;32m     35\u001b[0m     image \u001b[38;5;241m=\u001b[39m (image \u001b[38;5;241m-\u001b[39m mean) \u001b[38;5;241m/\u001b[39m std \u001b[38;5;66;03m# Z-Score\u001b[39;00m\n\u001b[1;32m     37\u001b[0m \u001b[38;5;66;03m# Convert to channels-last format (224, 224, 46)\u001b[39;00m\n\u001b[0;32m---> 38\u001b[0m image \u001b[38;5;241m=\u001b[39m \u001b[43mnp\u001b[49m\u001b[38;5;241;43m.\u001b[39;49m\u001b[43mtranspose\u001b[49m\u001b[43m(\u001b[49m\u001b[43mimage\u001b[49m\u001b[43m,\u001b[49m\u001b[43m \u001b[49m\u001b[43m(\u001b[49m\u001b[38;5;241;43m1\u001b[39;49m\u001b[43m,\u001b[49m\u001b[43m \u001b[49m\u001b[38;5;241;43m2\u001b[39;49m\u001b[43m,\u001b[49m\u001b[43m \u001b[49m\u001b[38;5;241;43m0\u001b[39;49m\u001b[43m)\u001b[49m\u001b[43m)\u001b[49m\n\u001b[1;32m     40\u001b[0m \u001b[38;5;66;03m# # Apply data augmentation if specified\u001b[39;00m\n\u001b[1;32m     41\u001b[0m \u001b[38;5;66;03m# if augment:\u001b[39;00m\n\u001b[1;32m     42\u001b[0m \u001b[38;5;66;03m#     # Random horizontal flip\u001b[39;00m\n\u001b[0;32m   (...)\u001b[0m\n\u001b[1;32m     46\u001b[0m \u001b[38;5;66;03m#     if np.random.rand() > 0.5:\u001b[39;00m\n\u001b[1;32m     47\u001b[0m \u001b[38;5;66;03m#         image = np.flip(image, axis=1)\u001b[39;00m\n\u001b[1;32m     49\u001b[0m images\u001b[38;5;241m.\u001b[39mappend(image)\n",
      "File \u001b[0;32m~/.local/lib/python3.12/site-packages/numpy/_core/fromnumeric.py:598\u001b[0m, in \u001b[0;36m_transpose_dispatcher\u001b[0;34m(a, axes)\u001b[0m\n\u001b[1;32m    553\u001b[0m \u001b[38;5;250m    \u001b[39m\u001b[38;5;124;03m\"\"\"\u001b[39;00m\n\u001b[1;32m    554\u001b[0m \u001b[38;5;124;03m    Interchange two axes of an array.\u001b[39;00m\n\u001b[1;32m    555\u001b[0m \n\u001b[0;32m   (...)\u001b[0m\n\u001b[1;32m    593\u001b[0m \n\u001b[1;32m    594\u001b[0m \u001b[38;5;124;03m    \"\"\"\u001b[39;00m\n\u001b[1;32m    595\u001b[0m     \u001b[38;5;28;01mreturn\u001b[39;00m _wrapfunc(a, \u001b[38;5;124m'\u001b[39m\u001b[38;5;124mswapaxes\u001b[39m\u001b[38;5;124m'\u001b[39m, axis1, axis2)\n\u001b[0;32m--> 598\u001b[0m \u001b[38;5;28;01mdef\u001b[39;00m \u001b[38;5;21m_transpose_dispatcher\u001b[39m(a, axes\u001b[38;5;241m=\u001b[39m\u001b[38;5;28;01mNone\u001b[39;00m):\n\u001b[1;32m    599\u001b[0m     \u001b[38;5;28;01mreturn\u001b[39;00m (a,)\n\u001b[1;32m    602\u001b[0m \u001b[38;5;129m@array_function_dispatch\u001b[39m(_transpose_dispatcher)\n\u001b[1;32m    603\u001b[0m \u001b[38;5;28;01mdef\u001b[39;00m \u001b[38;5;21mtranspose\u001b[39m(a, axes\u001b[38;5;241m=\u001b[39m\u001b[38;5;28;01mNone\u001b[39;00m):\n",
      "\u001b[0;31mKeyboardInterrupt\u001b[0m: "
>>>>>>> luca4
     ]
    }
   ],
   "source": [
    "# Training dataset without augmentation\n",
    "X_train, y_train = load_dataset(train_df, image_folder, normalize = True)\n",
    "# # Training dataset with data augmentation\n",
    "# X_train_aug, y_train_aug = load_dataset(train_df, image_folder, augment=True)\n",
    "# Validation dataset\n",
    "X_val, y_val = load_dataset(val_df, image_folder, normalize = True)\n",
    "# Test dataset\n",
<<<<<<< HEAD
    "X_test, y_test = load_dataset(test_df, image_folder, normalize = True)\n",
    "\n",
    "# #  Disable for F1_score / Sigmoid \n",
    "# # One Hot Encoding\n",
    "# y_train= to_categorical(y_train)\n",
    "# y_val= to_categorical(y_val)\n",
    "# y_test = to_categorical(y_test)\n",
    "\n",
    "print(f\"X_train shape: {X_train.shape}, y_train shape: {y_train.shape}\")\n",
    "print(f\"X_val shape: {X_val.shape}, y_val shape: {y_val.shape}\")\n",
    "print(f\"X_test shape: {X_test.shape}, y_test shape: {y_test.shape}\")"
=======
    "X_test, y_test = load_dataset(test_df, image_folder, normalize = True)\n"
   ]
  },
  {
   "cell_type": "code",
   "execution_count": 7,
   "id": "4a0ba141-4419-414a-8aa7-c68fb0928894",
   "metadata": {},
   "outputs": [],
   "source": [
    "X_train = np.concatenate((X_train, X_val), axis = 0) # Concatenate to have full training set"
   ]
  },
  {
   "cell_type": "code",
   "execution_count": 17,
   "id": "b8f2a317-aa21-4fc9-ae8c-f815a7c0fe82",
   "metadata": {},
   "outputs": [],
   "source": [
    "y_train = np.concatenate((y_train, y_val), axis = 0) # Concatenate to have full training set"
>>>>>>> luca4
   ]
  },
  {
   "cell_type": "markdown",
   "id": "04802160-2647-4c04-b574-0c83d3b17045",
   "metadata": {},
   "source": [
    "### Drop biological irrelevant channels"
   ]
  },
  {
   "cell_type": "code",
<<<<<<< HEAD
   "execution_count": 28,
=======
   "execution_count": 8,
>>>>>>> luca4
   "id": "1cc1cd02-9694-429c-9707-fec88f1490f0",
   "metadata": {},
   "outputs": [],
   "source": [
    "def drop_channels(image, channels_of_interest, channel_names):\n",
    "        channel_names_new = [i for i in channel_names if i not in channels_of_interest]\n",
    "        mask = np.zeros(image.shape[2], dtype=bool) # Error: np.zeros(image.shape[0], dtype=bool) and NOT np.zeros(image.shape[2], dtype=bool) (ONLY ERROR IF YOU DONT TRANSPOSE THE IMAGE, OTHERWISE OKEY)\n",
    "        \n",
    "        for i in channels_of_interest:\n",
    "            mask[channel_names.index(i)] = True\n",
    "        image = image[:, :, mask] # Error: image[mask, :, :] and not image[:, :, mask] ! (ONLY ERROR IF YOU DONT TRANSPOSE THE IMAGE, OTHERWISE OKEY)\n",
    "        \n",
    "        return image"
   ]
  },
  {
   "cell_type": "code",
<<<<<<< HEAD
   "execution_count": 29,
=======
   "execution_count": 9,
>>>>>>> luca4
   "id": "77afc4b7-ca50-4d07-9fa8-f9335beac8aa",
   "metadata": {},
   "outputs": [],
   "source": [
<<<<<<< HEAD
    "channel_names_new = [\"Gd160\", \"Eu153\", \"Gd155\"]\n",
    "\n",
    "panel_dir = '../../../panel.csv' \n",
=======
    "channel_names_new = [\"Gd160\", \"Eu153\", \"Gd155\", \"Nd142\", \"Nd146\", \"Er166\", \"Er170\", \"Yb171\", \"Yb173\", \"Yb174\"]\n",
    "\n",
    "panel_dir = '/home/jupyter-luvogt/Final_Project_LR/panel.csv' \n",
>>>>>>> luca4
    "panel_df = pd.read_csv(panel_dir)\n",
    "channel_names = dict(zip(panel_df['clean_target'].to_list(), panel_df['channel'].to_list()))"
   ]
  },
  {
   "cell_type": "code",
<<<<<<< HEAD
   "execution_count": 30,
=======
   "execution_count": 10,
>>>>>>> luca4
   "id": "284cb64a-ca3c-41d3-b17e-e15533fdbdf1",
   "metadata": {},
   "outputs": [],
   "source": [
    "X_train = [drop_channels(i, channel_names_new, list(channel_names.values())) for i in X_train]\n",
<<<<<<< HEAD
    "X_val = [drop_channels(i, channel_names_new, list(channel_names.values())) for i in X_val]\n",
=======
>>>>>>> luca4
    "X_test = [drop_channels(i, channel_names_new, list(channel_names.values())) for i in X_test]"
   ]
  },
  {
   "cell_type": "code",
<<<<<<< HEAD
   "execution_count": 31,
=======
   "execution_count": 11,
>>>>>>> luca4
   "id": "3f3b74f3-4f7c-4f9f-a26e-f2af7c0634db",
   "metadata": {},
   "outputs": [],
   "source": [
    "X_train = np.array(X_train)\n",
<<<<<<< HEAD
    "X_val = np.array(X_val)\n",
=======
>>>>>>> luca4
    "X_test = np.array(X_test)\n"
   ]
  },
  {
   "cell_type": "markdown",
   "id": "25bfb016-edd4-468f-9107-b9f3b1bcbbb4",
   "metadata": {},
   "source": [
    "### ResNet18: with Tensor Board + 3 Channels + with Dropout + ReduceLR + EarlyStopping + sigmoid (1 neuron) + binary cross entropy + 3 Channels"
   ]
  },
  {
   "cell_type": "code",
<<<<<<< HEAD
   "execution_count": 11,
=======
   "execution_count": 12,
>>>>>>> luca4
   "id": "b2b46899-0938-4817-bb2d-c6771a086e13",
   "metadata": {},
   "outputs": [],
   "source": [
    "def identity_block(x, filter, dropout_rate = 0.5):\n",
    "    # copy tensor to variable called x_skip\n",
    "    x_skip = x\n",
    "    # Layer 1\n",
    "    x = tf.keras.layers.Conv2D(filter, (3,3), padding = 'same')(x)\n",
    "    x = tf.keras.layers.BatchNormalization(axis=3)(x)\n",
    "    x = Dropout(dropout_rate)(x)\n",
    "    x = tf.keras.layers.Activation('relu')(x)\n",
    "    # Layer 2\n",
    "    x = tf.keras.layers.Conv2D(filter, (3,3), padding = 'same')(x)\n",
    "    x = tf.keras.layers.BatchNormalization(axis=3)(x)\n",
    "    # Add Residue\n",
    "    x = tf.keras.layers.Add()([x, x_skip])     \n",
    "    x = tf.keras.layers.Activation('relu')(x)\n",
    "    return x\n",
    "\n",
    "def convolutional_block(x, filter, dropout_rate = 0.5):\n",
    "    # copy tensor to variable called x_skip\n",
    "    x_skip = x\n",
    "    # Layer 1\n",
    "    x = tf.keras.layers.Conv2D(filter, (3,3), padding = 'same', strides = (2,2))(x)\n",
    "    x = tf.keras.layers.BatchNormalization(axis=3)(x)\n",
    "    x = Dropout(dropout_rate)(x)\n",
    "    x = tf.keras.layers.Activation('relu')(x)\n",
    "    # Layer 2\n",
    "    x = tf.keras.layers.Conv2D(filter, (3,3), padding = 'same')(x)\n",
    "    x = tf.keras.layers.BatchNormalization(axis=3)(x)\n",
    "    # Processing Residue with conv(1,1)\n",
    "    x_skip = tf.keras.layers.Conv2D(filter, (1,1), strides = (2,2))(x_skip)\n",
    "    # Add Residue\n",
    "    x = tf.keras.layers.Add()([x, x_skip])     \n",
    "    x = tf.keras.layers.Activation('relu')(x)\n",
    "    return x\n",
    "\n",
    "def ResNet(shape = (32, 32, 3), classes = 10, block_layers = [3, 4, 6, 3], dropout_rate = 0.5):\n",
    "    # Step 1 (Setup Input Layer)\n",
    "    x_input = tf.keras.layers.Input(shape)\n",
    "    x = tf.keras.layers.ZeroPadding2D((3, 3))(x_input)\n",
    "    # Step 2 (Initial Conv layer along with maxPool)\n",
    "    x = tf.keras.layers.Conv2D(64, kernel_size=7, strides=2, padding='same')(x)\n",
    "    x = tf.keras.layers.BatchNormalization()(x)\n",
    "    x = Dropout(dropout_rate)(x)\n",
    "    x = tf.keras.layers.Activation('relu')(x)\n",
    "    x = tf.keras.layers.MaxPool2D(pool_size=3, strides=2, padding='same')(x)\n",
    "    # Define size of sub-blocks and initial filter size\n",
    "    block_layers = block_layers\n",
    "    filter_size = 64\n",
    "    # Step 3 Add the Resnet Blocks\n",
    "    for i in range(4):\n",
    "        if i == 0:\n",
    "            # For sub-block 1 Residual/Convolutional block not needed\n",
    "            for j in range(block_layers[i]):\n",
    "                x = identity_block(x, filter_size)\n",
    "        else:\n",
    "            # One Residual/Convolutional Block followed by Identity blocks\n",
    "            # The filter size will go on increasing by a factor of 2\n",
    "            filter_size = filter_size*2\n",
    "            x = convolutional_block(x, filter_size)\n",
    "            for j in range(block_layers[i] - 1):\n",
    "                x = identity_block(x, filter_size)\n",
    "    # Step 4 End Dense Network\n",
    "    x = tf.keras.layers.AveragePooling2D((2,2), padding = 'same')(x)\n",
    "    x = tf.keras.layers.Flatten()(x)\n",
    "    x = tf.keras.layers.Dense(512, activation = 'relu')(x)\n",
    "    x = Dropout(dropout_rate)(x)\n",
    "    x = tf.keras.layers.Dense(1, activation = 'sigmoid')(x) # Change last layer here: sigmoid and 1 neuron (classes -1)\n",
    "    model = tf.keras.models.Model(inputs = x_input, outputs = x, name = \"ResNet18\")\n",
    "    return model"
   ]
  },
  {
   "cell_type": "markdown",
   "id": "2a4f2069-52eb-4f95-b038-5e2fbbc75f40",
   "metadata": {},
   "source": [
    "### Callbacks "
   ]
  },
  {
   "cell_type": "code",
<<<<<<< HEAD
   "execution_count": 16,
   "id": "613392c7-5ea6-4641-85f2-de0172872332",
   "metadata": {
    "jupyter": {
     "source_hidden": true
    }
   },
   "outputs": [],
   "source": [
    "# Callbacks\n",
    "log_dir = os.path.join(\"logs_ResNet50\", \"fit\", \"model_ResNet18_46_dropout_callbacks_sigmoid_biological_channels_trained\" + time.strftime(\"%Y%m%d-%H%M%S\"))\n",
=======
   "execution_count": 19,
   "id": "613392c7-5ea6-4641-85f2-de0172872332",
   "metadata": {},
   "outputs": [],
   "source": [
    "# Callbacks\n",
    "log_dir = os.path.join(\"logs_ResNet50\", \"fit\", \"model_ResNet18_10_dropout_callbacks_sigmoid_10_biological_channels_full_trained\" + time.strftime(\"%Y%m%d-%H%M%S\"))\n",
>>>>>>> luca4
    "tb_callback = TensorBoard(log_dir=log_dir, histogram_freq=1)\n",
    "\n",
    "callbacks_list = [\n",
    "    keras.callbacks.EarlyStopping(\n",
<<<<<<< HEAD
    "        monitor=\"val_loss\",\n",
    "        patience=12,   # Optimal patience value for validation accuracy\n",
    "    ),\n",
    "    keras.callbacks.ModelCheckpoint(\n",
    "        filepath=\"./models_ResNet/model_ResNet18_46_dropout_callbacks_sigmoid_biological_channels_trained.keras\", # save validation loss into file\n",
    "        monitor=\"val_loss\",  # monitor validation accuracy\n",
    "        save_best_only=True,\n",
    "    ),\n",
    "    ReduceLROnPlateau(\n",
    "    monitor=\"val_loss\",\n",
=======
    "        monitor=\"loss\",\n",
    "        patience=12,   # Optimal patience value for validation accuracy\n",
    "    ),\n",
    "    keras.callbacks.ModelCheckpoint(\n",
    "        filepath=\"./models_ResNet/model_ResNet18_10_dropout_callbacks_sigmoid_10_biological_channels_full_trained.keras\", # save validation loss into file\n",
    "        monitor=\"loss\",  # monitor validation accuracy\n",
    "        save_best_only=True,\n",
    "    ),\n",
    "    ReduceLROnPlateau(\n",
    "    monitor=\"loss\",\n",
>>>>>>> luca4
    "    factor=0.5,  \n",
    "    patience=3,\n",
    "    verbose=1,\n",
    "    mode=\"auto\",\n",
    "    min_delta=0.001,\n",
    "    min_lr=1.e-6,\n",
    "    ), \n",
    "    tb_callback\n",
    "]"
   ]
  },
  {
   "cell_type": "markdown",
   "id": "01b74064-c987-475d-9c91-23c09fd358d1",
   "metadata": {},
   "source": [
<<<<<<< HEAD
    "### Train Model: NOW ONLY 3 CHANNELS"
=======
    "### Train Model: 10 Channels"
>>>>>>> luca4
   ]
  },
  {
   "cell_type": "code",
<<<<<<< HEAD
   "execution_count": 18,
=======
   "execution_count": 20,
>>>>>>> luca4
   "id": "2a43deb3-3a42-41b7-a801-942b7a8559d1",
   "metadata": {
    "collapsed": true,
    "jupyter": {
<<<<<<< HEAD
     "outputs_hidden": true,
     "source_hidden": true
=======
     "outputs_hidden": true
>>>>>>> luca4
    }
   },
   "outputs": [
    {
     "name": "stdout",
     "output_type": "stream",
     "text": [
<<<<<<< HEAD
      "Epoch 1/50\n"
     ]
    },
    {
     "name": "stderr",
     "output_type": "stream",
     "text": [
      "I0000 00:00:1734476922.660306  748125 service.cc:146] XLA service 0x7efd6c005720 initialized for platform CUDA (this does not guarantee that XLA will be used). Devices:\n",
      "I0000 00:00:1734476922.660342  748125 service.cc:154]   StreamExecutor device (0): Tesla T4, Compute Capability 7.5\n",
      "2024-12-17 23:08:42.952908: I tensorflow/compiler/mlir/tensorflow/utils/dump_mlir_util.cc:268] disabling MLIR crash reproducer, set env var `MLIR_CRASH_REPRODUCER_DIRECTORY` to enable.\n",
      "2024-12-17 23:08:43.956313: I external/local_xla/xla/stream_executor/cuda/cuda_dnn.cc:531] Loaded cuDNN version 90300\n",
      "I0000 00:00:1734476942.125781  748125 device_compiler.h:188] Compiled cluster using XLA!  This line is logged at most once for the lifetime of the process.\n"
     ]
    },
    {
     "name": "stdout",
     "output_type": "stream",
     "text": [
      "\u001b[1m10/10\u001b[0m \u001b[32m━━━━━━━━━━━━━━━━━━━━\u001b[0m\u001b[37m\u001b[0m \u001b[1m51s\u001b[0m 3s/step - accuracy: 0.6364 - loss: 1.2215 - val_accuracy: 0.4772 - val_loss: 0.7406 - learning_rate: 1.0000e-04\n",
      "Epoch 2/50\n",
      "\u001b[1m10/10\u001b[0m \u001b[32m━━━━━━━━━━━━━━━━━━━━\u001b[0m\u001b[37m\u001b[0m \u001b[1m5s\u001b[0m 497ms/step - accuracy: 0.7671 - loss: 0.6652 - val_accuracy: 0.7817 - val_loss: 0.5766 - learning_rate: 1.0000e-04\n",
      "Epoch 3/50\n",
      "\u001b[1m10/10\u001b[0m \u001b[32m━━━━━━━━━━━━━━━━━━━━\u001b[0m\u001b[37m\u001b[0m \u001b[1m4s\u001b[0m 446ms/step - accuracy: 0.7917 - loss: 0.5535 - val_accuracy: 0.7665 - val_loss: 0.5324 - learning_rate: 1.0000e-04\n",
      "Epoch 4/50\n",
      "\u001b[1m10/10\u001b[0m \u001b[32m━━━━━━━━━━━━━━━━━━━━\u001b[0m\u001b[37m\u001b[0m \u001b[1m4s\u001b[0m 430ms/step - accuracy: 0.8141 - loss: 0.4327 - val_accuracy: 0.7817 - val_loss: 0.5287 - learning_rate: 1.0000e-04\n",
      "Epoch 5/50\n",
      "\u001b[1m10/10\u001b[0m \u001b[32m━━━━━━━━━━━━━━━━━━━━\u001b[0m\u001b[37m\u001b[0m \u001b[1m4s\u001b[0m 452ms/step - accuracy: 0.8658 - loss: 0.3454 - val_accuracy: 0.7970 - val_loss: 0.4584 - learning_rate: 1.0000e-04\n",
      "Epoch 6/50\n",
      "\u001b[1m10/10\u001b[0m \u001b[32m━━━━━━━━━━━━━━━━━━━━\u001b[0m\u001b[37m\u001b[0m \u001b[1m3s\u001b[0m 331ms/step - accuracy: 0.8608 - loss: 0.3679 - val_accuracy: 0.7817 - val_loss: 0.4686 - learning_rate: 1.0000e-04\n",
      "Epoch 7/50\n",
      "\u001b[1m10/10\u001b[0m \u001b[32m━━━━━━━━━━━━━━━━━━━━\u001b[0m\u001b[37m\u001b[0m \u001b[1m4s\u001b[0m 462ms/step - accuracy: 0.8652 - loss: 0.3831 - val_accuracy: 0.8274 - val_loss: 0.4568 - learning_rate: 1.0000e-04\n",
      "Epoch 8/50\n",
      "\u001b[1m10/10\u001b[0m \u001b[32m━━━━━━━━━━━━━━━━━━━━\u001b[0m\u001b[37m\u001b[0m \u001b[1m5s\u001b[0m 428ms/step - accuracy: 0.8726 - loss: 0.3226 - val_accuracy: 0.7970 - val_loss: 0.4399 - learning_rate: 1.0000e-04\n",
      "Epoch 9/50\n",
      "\u001b[1m10/10\u001b[0m \u001b[32m━━━━━━━━━━━━━━━━━━━━\u001b[0m\u001b[37m\u001b[0m \u001b[1m3s\u001b[0m 320ms/step - accuracy: 0.8396 - loss: 0.3871 - val_accuracy: 0.8223 - val_loss: 0.4561 - learning_rate: 1.0000e-04\n",
      "Epoch 10/50\n",
      "\u001b[1m10/10\u001b[0m \u001b[32m━━━━━━━━━━━━━━━━━━━━\u001b[0m\u001b[37m\u001b[0m \u001b[1m3s\u001b[0m 335ms/step - accuracy: 0.8842 - loss: 0.2940 - val_accuracy: 0.8020 - val_loss: 0.4529 - learning_rate: 1.0000e-04\n",
      "Epoch 11/50\n",
      "\u001b[1m10/10\u001b[0m \u001b[32m━━━━━━━━━━━━━━━━━━━━\u001b[0m\u001b[37m\u001b[0m \u001b[1m4s\u001b[0m 462ms/step - accuracy: 0.8604 - loss: 0.3606 - val_accuracy: 0.8020 - val_loss: 0.4373 - learning_rate: 1.0000e-04\n",
      "Epoch 12/50\n",
      "\u001b[1m10/10\u001b[0m \u001b[32m━━━━━━━━━━━━━━━━━━━━\u001b[0m\u001b[37m\u001b[0m \u001b[1m5s\u001b[0m 478ms/step - accuracy: 0.8777 - loss: 0.2998 - val_accuracy: 0.8376 - val_loss: 0.4164 - learning_rate: 1.0000e-04\n",
      "Epoch 13/50\n",
      "\u001b[1m10/10\u001b[0m \u001b[32m━━━━━━━━━━━━━━━━━━━━\u001b[0m\u001b[37m\u001b[0m \u001b[1m3s\u001b[0m 328ms/step - accuracy: 0.8677 - loss: 0.3498 - val_accuracy: 0.8173 - val_loss: 0.4319 - learning_rate: 1.0000e-04\n",
      "Epoch 14/50\n",
      "\u001b[1m10/10\u001b[0m \u001b[32m━━━━━━━━━━━━━━━━━━━━\u001b[0m\u001b[37m\u001b[0m \u001b[1m3s\u001b[0m 341ms/step - accuracy: 0.8513 - loss: 0.3620 - val_accuracy: 0.8477 - val_loss: 0.4549 - learning_rate: 1.0000e-04\n",
      "Epoch 15/50\n",
      "\u001b[1m10/10\u001b[0m \u001b[32m━━━━━━━━━━━━━━━━━━━━\u001b[0m\u001b[37m\u001b[0m \u001b[1m0s\u001b[0m 178ms/step - accuracy: 0.8692 - loss: 0.3250\n",
      "Epoch 15: ReduceLROnPlateau reducing learning rate to 4.999999873689376e-05.\n",
      "\u001b[1m10/10\u001b[0m \u001b[32m━━━━━━━━━━━━━━━━━━━━\u001b[0m\u001b[37m\u001b[0m \u001b[1m3s\u001b[0m 338ms/step - accuracy: 0.8697 - loss: 0.3243 - val_accuracy: 0.8325 - val_loss: 0.4272 - learning_rate: 1.0000e-04\n",
      "Epoch 16/50\n",
      "\u001b[1m10/10\u001b[0m \u001b[32m━━━━━━━━━━━━━━━━━━━━\u001b[0m\u001b[37m\u001b[0m \u001b[1m3s\u001b[0m 345ms/step - accuracy: 0.8756 - loss: 0.2955 - val_accuracy: 0.8477 - val_loss: 0.4292 - learning_rate: 5.0000e-05\n",
      "Epoch 17/50\n",
      "\u001b[1m10/10\u001b[0m \u001b[32m━━━━━━━━━━━━━━━━━━━━\u001b[0m\u001b[37m\u001b[0m \u001b[1m3s\u001b[0m 334ms/step - accuracy: 0.8959 - loss: 0.2715 - val_accuracy: 0.8071 - val_loss: 0.4694 - learning_rate: 5.0000e-05\n",
      "Epoch 18/50\n",
      "\u001b[1m10/10\u001b[0m \u001b[32m━━━━━━━━━━━━━━━━━━━━\u001b[0m\u001b[37m\u001b[0m \u001b[1m0s\u001b[0m 180ms/step - accuracy: 0.8649 - loss: 0.2963\n",
      "Epoch 18: ReduceLROnPlateau reducing learning rate to 2.499999936844688e-05.\n",
      "\u001b[1m10/10\u001b[0m \u001b[32m━━━━━━━━━━━━━━━━━━━━\u001b[0m\u001b[37m\u001b[0m \u001b[1m3s\u001b[0m 351ms/step - accuracy: 0.8646 - loss: 0.2972 - val_accuracy: 0.8122 - val_loss: 0.4686 - learning_rate: 5.0000e-05\n",
      "Epoch 19/50\n",
      "\u001b[1m10/10\u001b[0m \u001b[32m━━━━━━━━━━━━━━━━━━━━\u001b[0m\u001b[37m\u001b[0m \u001b[1m3s\u001b[0m 337ms/step - accuracy: 0.8922 - loss: 0.2838 - val_accuracy: 0.8020 - val_loss: 0.4555 - learning_rate: 2.5000e-05\n",
      "Epoch 20/50\n",
      "\u001b[1m10/10\u001b[0m \u001b[32m━━━━━━━━━━━━━━━━━━━━\u001b[0m\u001b[37m\u001b[0m \u001b[1m3s\u001b[0m 325ms/step - accuracy: 0.8925 - loss: 0.2772 - val_accuracy: 0.7868 - val_loss: 0.4567 - learning_rate: 2.5000e-05\n",
      "Epoch 21/50\n",
      "\u001b[1m10/10\u001b[0m \u001b[32m━━━━━━━━━━━━━━━━━━━━\u001b[0m\u001b[37m\u001b[0m \u001b[1m0s\u001b[0m 179ms/step - accuracy: 0.8731 - loss: 0.3117\n",
      "Epoch 21: ReduceLROnPlateau reducing learning rate to 1.249999968422344e-05.\n",
      "\u001b[1m10/10\u001b[0m \u001b[32m━━━━━━━━━━━━━━━━━━━━\u001b[0m\u001b[37m\u001b[0m \u001b[1m3s\u001b[0m 344ms/step - accuracy: 0.8741 - loss: 0.3098 - val_accuracy: 0.7868 - val_loss: 0.4702 - learning_rate: 2.5000e-05\n",
      "Epoch 22/50\n",
      "\u001b[1m10/10\u001b[0m \u001b[32m━━━━━━━━━━━━━━━━━━━━\u001b[0m\u001b[37m\u001b[0m \u001b[1m3s\u001b[0m 351ms/step - accuracy: 0.8850 - loss: 0.2910 - val_accuracy: 0.7868 - val_loss: 0.4741 - learning_rate: 1.2500e-05\n",
      "Epoch 23/50\n",
      "\u001b[1m10/10\u001b[0m \u001b[32m━━━━━━━━━━━━━━━━━━━━\u001b[0m\u001b[37m\u001b[0m \u001b[1m3s\u001b[0m 324ms/step - accuracy: 0.8883 - loss: 0.2941 - val_accuracy: 0.7868 - val_loss: 0.4771 - learning_rate: 1.2500e-05\n",
      "Epoch 24/50\n",
      "\u001b[1m10/10\u001b[0m \u001b[32m━━━━━━━━━━━━━━━━━━━━\u001b[0m\u001b[37m\u001b[0m \u001b[1m0s\u001b[0m 179ms/step - accuracy: 0.8958 - loss: 0.2723\n",
      "Epoch 24: ReduceLROnPlateau reducing learning rate to 6.24999984211172e-06.\n",
      "\u001b[1m10/10\u001b[0m \u001b[32m━━━━━━━━━━━━━━━━━━━━\u001b[0m\u001b[37m\u001b[0m \u001b[1m3s\u001b[0m 325ms/step - accuracy: 0.8951 - loss: 0.2743 - val_accuracy: 0.7919 - val_loss: 0.4793 - learning_rate: 1.2500e-05\n",
      "\n",
      "Elapsed time: 138.8389768600464 seconds\n"
=======
      "Epoch 1/50\n",
      "\u001b[1m13/13\u001b[0m \u001b[32m━━━━━━━━━━━━━━━━━━━━\u001b[0m\u001b[37m\u001b[0m \u001b[1m38s\u001b[0m 1s/step - accuracy: 0.5919 - loss: 1.1608 - learning_rate: 1.0000e-04\n",
      "Epoch 2/50\n",
      "\u001b[1m13/13\u001b[0m \u001b[32m━━━━━━━━━━━━━━━━━━━━\u001b[0m\u001b[37m\u001b[0m \u001b[1m18s\u001b[0m 488ms/step - accuracy: 0.6677 - loss: 0.7173 - learning_rate: 1.0000e-04\n",
      "Epoch 3/50\n",
      "\u001b[1m13/13\u001b[0m \u001b[32m━━━━━━━━━━━━━━━━━━━━\u001b[0m\u001b[37m\u001b[0m \u001b[1m6s\u001b[0m 482ms/step - accuracy: 0.7450 - loss: 0.5799 - learning_rate: 1.0000e-04\n",
      "Epoch 4/50\n",
      "\u001b[1m13/13\u001b[0m \u001b[32m━━━━━━━━━━━━━━━━━━━━\u001b[0m\u001b[37m\u001b[0m \u001b[1m10s\u001b[0m 475ms/step - accuracy: 0.7935 - loss: 0.4746 - learning_rate: 1.0000e-04\n",
      "Epoch 5/50\n",
      "\u001b[1m13/13\u001b[0m \u001b[32m━━━━━━━━━━━━━━━━━━━━\u001b[0m\u001b[37m\u001b[0m \u001b[1m6s\u001b[0m 456ms/step - accuracy: 0.8552 - loss: 0.4086 - learning_rate: 1.0000e-04\n",
      "Epoch 6/50\n",
      "\u001b[1m13/13\u001b[0m \u001b[32m━━━━━━━━━━━━━━━━━━━━\u001b[0m\u001b[37m\u001b[0m \u001b[1m6s\u001b[0m 479ms/step - accuracy: 0.8420 - loss: 0.4176 - learning_rate: 1.0000e-04\n",
      "Epoch 7/50\n",
      "\u001b[1m13/13\u001b[0m \u001b[32m━━━━━━━━━━━━━━━━━━━━\u001b[0m\u001b[37m\u001b[0m \u001b[1m5s\u001b[0m 364ms/step - accuracy: 0.8337 - loss: 0.4481 - learning_rate: 1.0000e-04\n",
      "Epoch 8/50\n",
      "\u001b[1m13/13\u001b[0m \u001b[32m━━━━━━━━━━━━━━━━━━━━\u001b[0m\u001b[37m\u001b[0m \u001b[1m6s\u001b[0m 478ms/step - accuracy: 0.8571 - loss: 0.3616 - learning_rate: 1.0000e-04\n",
      "Epoch 9/50\n",
      "\u001b[1m13/13\u001b[0m \u001b[32m━━━━━━━━━━━━━━━━━━━━\u001b[0m\u001b[37m\u001b[0m \u001b[1m6s\u001b[0m 475ms/step - accuracy: 0.8786 - loss: 0.3186 - learning_rate: 1.0000e-04\n",
      "Epoch 10/50\n",
      "\u001b[1m13/13\u001b[0m \u001b[32m━━━━━━━━━━━━━━━━━━━━\u001b[0m\u001b[37m\u001b[0m \u001b[1m6s\u001b[0m 446ms/step - accuracy: 0.8827 - loss: 0.3065 - learning_rate: 1.0000e-04\n",
      "Epoch 11/50\n",
      "\u001b[1m13/13\u001b[0m \u001b[32m━━━━━━━━━━━━━━━━━━━━\u001b[0m\u001b[37m\u001b[0m \u001b[1m5s\u001b[0m 355ms/step - accuracy: 0.8602 - loss: 0.3678 - learning_rate: 1.0000e-04\n",
      "Epoch 12/50\n",
      "\u001b[1m13/13\u001b[0m \u001b[32m━━━━━━━━━━━━━━━━━━━━\u001b[0m\u001b[37m\u001b[0m \u001b[1m5s\u001b[0m 363ms/step - accuracy: 0.8478 - loss: 0.3747 - learning_rate: 1.0000e-04\n",
      "Epoch 13/50\n",
      "\u001b[1m13/13\u001b[0m \u001b[32m━━━━━━━━━━━━━━━━━━━━\u001b[0m\u001b[37m\u001b[0m \u001b[1m6s\u001b[0m 453ms/step - accuracy: 0.8650 - loss: 0.3223 - learning_rate: 1.0000e-04\n",
      "Epoch 14/50\n",
      "\u001b[1m13/13\u001b[0m \u001b[32m━━━━━━━━━━━━━━━━━━━━\u001b[0m\u001b[37m\u001b[0m \u001b[1m6s\u001b[0m 465ms/step - accuracy: 0.8762 - loss: 0.3132 - learning_rate: 1.0000e-04\n",
      "Epoch 15/50\n",
      "\u001b[1m13/13\u001b[0m \u001b[32m━━━━━━━━━━━━━━━━━━━━\u001b[0m\u001b[37m\u001b[0m \u001b[1m6s\u001b[0m 467ms/step - accuracy: 0.8757 - loss: 0.3248 - learning_rate: 1.0000e-04\n",
      "Epoch 16/50\n",
      "\u001b[1m13/13\u001b[0m \u001b[32m━━━━━━━━━━━━━━━━━━━━\u001b[0m\u001b[37m\u001b[0m \u001b[1m5s\u001b[0m 359ms/step - accuracy: 0.8702 - loss: 0.3170 - learning_rate: 1.0000e-04\n",
      "Epoch 17/50\n",
      "\u001b[1m13/13\u001b[0m \u001b[32m━━━━━━━━━━━━━━━━━━━━\u001b[0m\u001b[37m\u001b[0m \u001b[1m5s\u001b[0m 363ms/step - accuracy: 0.8760 - loss: 0.3170 - learning_rate: 1.0000e-04\n",
      "Epoch 18/50\n",
      "\u001b[1m13/13\u001b[0m \u001b[32m━━━━━━━━━━━━━━━━━━━━\u001b[0m\u001b[37m\u001b[0m \u001b[1m0s\u001b[0m 228ms/step - accuracy: 0.8884 - loss: 0.2880\n",
      "Epoch 18: ReduceLROnPlateau reducing learning rate to 4.999999873689376e-05.\n",
      "\u001b[1m13/13\u001b[0m \u001b[32m━━━━━━━━━━━━━━━━━━━━\u001b[0m\u001b[37m\u001b[0m \u001b[1m5s\u001b[0m 357ms/step - accuracy: 0.8868 - loss: 0.2904 - learning_rate: 1.0000e-04\n",
      "Epoch 19/50\n",
      "\u001b[1m13/13\u001b[0m \u001b[32m━━━━━━━━━━━━━━━━━━━━\u001b[0m\u001b[37m\u001b[0m \u001b[1m11s\u001b[0m 835ms/step - accuracy: 0.8614 - loss: 0.3142 - learning_rate: 5.0000e-05\n",
      "Epoch 20/50\n",
      "\u001b[1m13/13\u001b[0m \u001b[32m━━━━━━━━━━━━━━━━━━━━\u001b[0m\u001b[37m\u001b[0m \u001b[1m5s\u001b[0m 345ms/step - accuracy: 0.8856 - loss: 0.2945 - learning_rate: 5.0000e-05\n",
      "Epoch 21/50\n",
      "\u001b[1m13/13\u001b[0m \u001b[32m━━━━━━━━━━━━━━━━━━━━\u001b[0m\u001b[37m\u001b[0m \u001b[1m5s\u001b[0m 346ms/step - accuracy: 0.8745 - loss: 0.3076 - learning_rate: 5.0000e-05\n",
      "Epoch 22/50\n",
      "\u001b[1m13/13\u001b[0m \u001b[32m━━━━━━━━━━━━━━━━━━━━\u001b[0m\u001b[37m\u001b[0m \u001b[1m0s\u001b[0m 228ms/step - accuracy: 0.8865 - loss: 0.2899\n",
      "Epoch 22: ReduceLROnPlateau reducing learning rate to 2.499999936844688e-05.\n",
      "\u001b[1m13/13\u001b[0m \u001b[32m━━━━━━━━━━━━━━━━━━━━\u001b[0m\u001b[37m\u001b[0m \u001b[1m5s\u001b[0m 359ms/step - accuracy: 0.8862 - loss: 0.2909 - learning_rate: 5.0000e-05\n",
      "Epoch 23/50\n",
      "\u001b[1m13/13\u001b[0m \u001b[32m━━━━━━━━━━━━━━━━━━━━\u001b[0m\u001b[37m\u001b[0m \u001b[1m6s\u001b[0m 448ms/step - accuracy: 0.8860 - loss: 0.2828 - learning_rate: 2.5000e-05\n",
      "Epoch 24/50\n",
      "\u001b[1m13/13\u001b[0m \u001b[32m━━━━━━━━━━━━━━━━━━━━\u001b[0m\u001b[37m\u001b[0m \u001b[1m6s\u001b[0m 453ms/step - accuracy: 0.8856 - loss: 0.2902 - learning_rate: 2.5000e-05\n",
      "Epoch 25/50\n",
      "\u001b[1m13/13\u001b[0m \u001b[32m━━━━━━━━━━━━━━━━━━━━\u001b[0m\u001b[37m\u001b[0m \u001b[1m6s\u001b[0m 443ms/step - accuracy: 0.8946 - loss: 0.2741 - learning_rate: 2.5000e-05\n",
      "Epoch 26/50\n",
      "\u001b[1m13/13\u001b[0m \u001b[32m━━━━━━━━━━━━━━━━━━━━\u001b[0m\u001b[37m\u001b[0m \u001b[1m5s\u001b[0m 359ms/step - accuracy: 0.9124 - loss: 0.2655 - learning_rate: 2.5000e-05\n",
      "Epoch 27/50\n",
      "\u001b[1m13/13\u001b[0m \u001b[32m━━━━━━━━━━━━━━━━━━━━\u001b[0m\u001b[37m\u001b[0m \u001b[1m6s\u001b[0m 461ms/step - accuracy: 0.8987 - loss: 0.2623 - learning_rate: 2.5000e-05\n",
      "Epoch 28/50\n",
      "\u001b[1m13/13\u001b[0m \u001b[32m━━━━━━━━━━━━━━━━━━━━\u001b[0m\u001b[37m\u001b[0m \u001b[1m5s\u001b[0m 350ms/step - accuracy: 0.8912 - loss: 0.2973 - learning_rate: 2.5000e-05\n",
      "Epoch 29/50\n",
      "\u001b[1m13/13\u001b[0m \u001b[32m━━━━━━━━━━━━━━━━━━━━\u001b[0m\u001b[37m\u001b[0m \u001b[1m5s\u001b[0m 353ms/step - accuracy: 0.8721 - loss: 0.2883 - learning_rate: 2.5000e-05\n",
      "Epoch 30/50\n",
      "\u001b[1m13/13\u001b[0m \u001b[32m━━━━━━━━━━━━━━━━━━━━\u001b[0m\u001b[37m\u001b[0m \u001b[1m0s\u001b[0m 227ms/step - accuracy: 0.9053 - loss: 0.2646\n",
      "Epoch 30: ReduceLROnPlateau reducing learning rate to 1.249999968422344e-05.\n",
      "\u001b[1m13/13\u001b[0m \u001b[32m━━━━━━━━━━━━━━━━━━━━\u001b[0m\u001b[37m\u001b[0m \u001b[1m5s\u001b[0m 357ms/step - accuracy: 0.9041 - loss: 0.2655 - learning_rate: 2.5000e-05\n",
      "Epoch 31/50\n",
      "\u001b[1m13/13\u001b[0m \u001b[32m━━━━━━━━━━━━━━━━━━━━\u001b[0m\u001b[37m\u001b[0m \u001b[1m6s\u001b[0m 454ms/step - accuracy: 0.9003 - loss: 0.2638 - learning_rate: 1.2500e-05\n",
      "Epoch 32/50\n",
      "\u001b[1m13/13\u001b[0m \u001b[32m━━━━━━━━━━━━━━━━━━━━\u001b[0m\u001b[37m\u001b[0m \u001b[1m10s\u001b[0m 467ms/step - accuracy: 0.9115 - loss: 0.2502 - learning_rate: 1.2500e-05\n",
      "Epoch 33/50\n",
      "\u001b[1m13/13\u001b[0m \u001b[32m━━━━━━━━━━━━━━━━━━━━\u001b[0m\u001b[37m\u001b[0m \u001b[1m5s\u001b[0m 348ms/step - accuracy: 0.9121 - loss: 0.2412 - learning_rate: 1.2500e-05\n",
      "Epoch 34/50\n",
      "\u001b[1m13/13\u001b[0m \u001b[32m━━━━━━━━━━━━━━━━━━━━\u001b[0m\u001b[37m\u001b[0m \u001b[1m5s\u001b[0m 357ms/step - accuracy: 0.8915 - loss: 0.2716 - learning_rate: 1.2500e-05\n",
      "Epoch 35/50\n",
      "\u001b[1m13/13\u001b[0m \u001b[32m━━━━━━━━━━━━━━━━━━━━\u001b[0m\u001b[37m\u001b[0m \u001b[1m0s\u001b[0m 228ms/step - accuracy: 0.8854 - loss: 0.2616\n",
      "Epoch 35: ReduceLROnPlateau reducing learning rate to 6.24999984211172e-06.\n",
      "\u001b[1m13/13\u001b[0m \u001b[32m━━━━━━━━━━━━━━━━━━━━\u001b[0m\u001b[37m\u001b[0m \u001b[1m5s\u001b[0m 352ms/step - accuracy: 0.8850 - loss: 0.2622 - learning_rate: 1.2500e-05\n",
      "Epoch 36/50\n",
      "\u001b[1m13/13\u001b[0m \u001b[32m━━━━━━━━━━━━━━━━━━━━\u001b[0m\u001b[37m\u001b[0m \u001b[1m6s\u001b[0m 468ms/step - accuracy: 0.9107 - loss: 0.2596 - learning_rate: 6.2500e-06\n",
      "Epoch 37/50\n",
      "\u001b[1m13/13\u001b[0m \u001b[32m━━━━━━━━━━━━━━━━━━━━\u001b[0m\u001b[37m\u001b[0m \u001b[1m6s\u001b[0m 465ms/step - accuracy: 0.9027 - loss: 0.2313 - learning_rate: 6.2500e-06\n",
      "Epoch 38/50\n",
      "\u001b[1m13/13\u001b[0m \u001b[32m━━━━━━━━━━━━━━━━━━━━\u001b[0m\u001b[37m\u001b[0m \u001b[1m5s\u001b[0m 357ms/step - accuracy: 0.8913 - loss: 0.2793 - learning_rate: 6.2500e-06\n",
      "Epoch 39/50\n",
      "\u001b[1m13/13\u001b[0m \u001b[32m━━━━━━━━━━━━━━━━━━━━\u001b[0m\u001b[37m\u001b[0m \u001b[1m5s\u001b[0m 356ms/step - accuracy: 0.8783 - loss: 0.2682 - learning_rate: 6.2500e-06\n",
      "Epoch 40/50\n",
      "\u001b[1m13/13\u001b[0m \u001b[32m━━━━━━━━━━━━━━━━━━━━\u001b[0m\u001b[37m\u001b[0m \u001b[1m0s\u001b[0m 230ms/step - accuracy: 0.8877 - loss: 0.2685\n",
      "Epoch 40: ReduceLROnPlateau reducing learning rate to 3.12499992105586e-06.\n",
      "\u001b[1m13/13\u001b[0m \u001b[32m━━━━━━━━━━━━━━━━━━━━\u001b[0m\u001b[37m\u001b[0m \u001b[1m5s\u001b[0m 361ms/step - accuracy: 0.8877 - loss: 0.2686 - learning_rate: 6.2500e-06\n",
      "Epoch 41/50\n",
      "\u001b[1m13/13\u001b[0m \u001b[32m━━━━━━━━━━━━━━━━━━━━\u001b[0m\u001b[37m\u001b[0m \u001b[1m6s\u001b[0m 474ms/step - accuracy: 0.9108 - loss: 0.2382 - learning_rate: 3.1250e-06\n",
      "Epoch 42/50\n",
      "\u001b[1m13/13\u001b[0m \u001b[32m━━━━━━━━━━━━━━━━━━━━\u001b[0m\u001b[37m\u001b[0m \u001b[1m5s\u001b[0m 353ms/step - accuracy: 0.8871 - loss: 0.2574 - learning_rate: 3.1250e-06\n",
      "Epoch 43/50\n",
      "\u001b[1m13/13\u001b[0m \u001b[32m━━━━━━━━━━━━━━━━━━━━\u001b[0m\u001b[37m\u001b[0m \u001b[1m5s\u001b[0m 354ms/step - accuracy: 0.9003 - loss: 0.2612 - learning_rate: 3.1250e-06\n",
      "Epoch 44/50\n",
      "\u001b[1m13/13\u001b[0m \u001b[32m━━━━━━━━━━━━━━━━━━━━\u001b[0m\u001b[37m\u001b[0m \u001b[1m0s\u001b[0m 227ms/step - accuracy: 0.8948 - loss: 0.2509\n",
      "Epoch 44: ReduceLROnPlateau reducing learning rate to 1.56249996052793e-06.\n",
      "\u001b[1m13/13\u001b[0m \u001b[32m━━━━━━━━━━━━━━━━━━━━\u001b[0m\u001b[37m\u001b[0m \u001b[1m5s\u001b[0m 356ms/step - accuracy: 0.8946 - loss: 0.2512 - learning_rate: 3.1250e-06\n",
      "Epoch 45/50\n",
      "\u001b[1m13/13\u001b[0m \u001b[32m━━━━━━━━━━━━━━━━━━━━\u001b[0m\u001b[37m\u001b[0m \u001b[1m5s\u001b[0m 352ms/step - accuracy: 0.8989 - loss: 0.2712 - learning_rate: 1.5625e-06\n",
      "Epoch 46/50\n",
      "\u001b[1m13/13\u001b[0m \u001b[32m━━━━━━━━━━━━━━━━━━━━\u001b[0m\u001b[37m\u001b[0m \u001b[1m6s\u001b[0m 491ms/step - accuracy: 0.9076 - loss: 0.2504 - learning_rate: 1.5625e-06\n",
      "Epoch 47/50\n",
      "\u001b[1m13/13\u001b[0m \u001b[32m━━━━━━━━━━━━━━━━━━━━\u001b[0m\u001b[37m\u001b[0m \u001b[1m0s\u001b[0m 227ms/step - accuracy: 0.9069 - loss: 0.2624\n",
      "Epoch 47: ReduceLROnPlateau reducing learning rate to 1e-06.\n",
      "\u001b[1m13/13\u001b[0m \u001b[32m━━━━━━━━━━━━━━━━━━━━\u001b[0m\u001b[37m\u001b[0m \u001b[1m5s\u001b[0m 358ms/step - accuracy: 0.9061 - loss: 0.2623 - learning_rate: 1.5625e-06\n",
      "Epoch 48/50\n",
      "\u001b[1m13/13\u001b[0m \u001b[32m━━━━━━━━━━━━━━━━━━━━\u001b[0m\u001b[37m\u001b[0m \u001b[1m5s\u001b[0m 363ms/step - accuracy: 0.8840 - loss: 0.2762 - learning_rate: 1.0000e-06\n",
      "Epoch 49/50\n",
      "\u001b[1m13/13\u001b[0m \u001b[32m━━━━━━━━━━━━━━━━━━━━\u001b[0m\u001b[37m\u001b[0m \u001b[1m5s\u001b[0m 360ms/step - accuracy: 0.8727 - loss: 0.2840 - learning_rate: 1.0000e-06\n",
      "Epoch 50/50\n",
      "\u001b[1m13/13\u001b[0m \u001b[32m━━━━━━━━━━━━━━━━━━━━\u001b[0m\u001b[37m\u001b[0m \u001b[1m5s\u001b[0m 364ms/step - accuracy: 0.8834 - loss: 0.2773 - learning_rate: 1.0000e-06\n",
      "\n",
      "Elapsed time: 327.65658497810364 seconds\n"
>>>>>>> luca4
     ]
    }
   ],
   "source": [
<<<<<<< HEAD
    "ROWS = 224; COLS = 224; CHANNELS = 3; CLASSES = 2; block_layers = [2,2,2,2] # ResNet18\n",
=======
    "ROWS = 224; COLS = 224; CHANNELS = 10; CLASSES = 2; block_layers = [2,2,2,2] # ResNet18\n",
>>>>>>> luca4
    "dropout_rate = 0.5\n",
    "# Build Network Graph \n",
    "model_ResNet18 = ResNet(shape = (ROWS, COLS, CHANNELS), classes = CLASSES, block_layers = block_layers, dropout_rate = dropout_rate)\n",
    "\n",
    "# Compile Model \n",
    "l_rate = 1.e-4 # CHANGE HERE\n",
    "opt = keras.optimizers.Adam(learning_rate=l_rate)\n",
    "model_ResNet18.compile(optimizer=opt, loss='binary_crossentropy', metrics=[\"accuracy\"]) # Set threshold here\n",
    "\n",
    "# Train Model \n",
    "batch = 64\n",
    "epochs = 50\n",
    "start_time = time.time()\n",
    "\n",
    "history_ResNet18 = model_ResNet18.fit(X_train, y_train,\n",
    "                                      epochs = epochs, batch_size = batch, \n",
<<<<<<< HEAD
    "                                      validation_data = (X_val, y_val), callbacks = callbacks_list)\n",
=======
    "                                      callbacks = callbacks_list)\n",
>>>>>>> luca4
    "\n",
    "end_time = time.time()\n",
    "elapsed_time = end_time - start_time\n",
    "print(f\"\\nElapsed time: {elapsed_time} seconds\")"
   ]
  },
  {
   "cell_type": "markdown",
   "id": "787f0048-24a3-4ad9-9da4-eea881800c07",
   "metadata": {},
   "source": [
    "### Testing Accuracy! "
   ]
  },
  {
   "cell_type": "code",
<<<<<<< HEAD
   "execution_count": 30,
=======
   "execution_count": 21,
>>>>>>> luca4
   "id": "2dfb078d-18b8-42a7-910d-1a37feb0cc6e",
   "metadata": {},
   "outputs": [
    {
     "name": "stdout",
     "output_type": "stream",
     "text": [
<<<<<<< HEAD
      "\u001b[1m7/7\u001b[0m \u001b[32m━━━━━━━━━━━━━━━━━━━━\u001b[0m\u001b[37m\u001b[0m \u001b[1m2s\u001b[0m 113ms/step - accuracy: 0.8187 - loss: 0.4215\n",
      "Test Accuracy (for unbalanced test set) is: 0.82%\n"
=======
      "\u001b[1m7/7\u001b[0m \u001b[32m━━━━━━━━━━━━━━━━━━━━\u001b[0m\u001b[37m\u001b[0m \u001b[1m5s\u001b[0m 284ms/step - accuracy: 0.8056 - loss: 0.5397\n",
      "Test Accuracy (for unbalanced test set) is: 0.80%\n"
>>>>>>> luca4
     ]
    }
   ],
   "source": [
    "# To load the model from file uncomment and run the following \n",
<<<<<<< HEAD
    "loaded_model = keras.saving.load_model('./models_ResNet/model_ResNet18_46_dropout_callbacks_sigmoid_biological_channels_trained.keras')\n",
=======
    "loaded_model = keras.saving.load_model('./models_ResNet/model_ResNet18_10_dropout_callbacks_sigmoid_10_biological_channels_full_trained.keras')\n",
>>>>>>> luca4
    "print(\"Test Accuracy (for unbalanced test set) is: {:.2f}%\".format(loaded_model.evaluate(X_test, y_test)[1]))"
   ]
  },
  {
   "cell_type": "markdown",
   "id": "b499da9e-c437-4899-b202-f904f0b51303",
   "metadata": {},
   "source": [
    "### F1-Score"
   ]
  },
  {
   "cell_type": "code",
   "execution_count": 22,
   "id": "698f6f69-e833-4c43-bbba-177584908ba4",
   "metadata": {},
   "outputs": [
    {
     "name": "stdout",
     "output_type": "stream",
     "text": [
<<<<<<< HEAD
      "\u001b[1m7/7\u001b[0m \u001b[32m━━━━━━━━━━━━━━━━━━━━\u001b[0m\u001b[37m\u001b[0m \u001b[1m2s\u001b[0m 201ms/step\n"
=======
      "\u001b[1m7/7\u001b[0m \u001b[32m━━━━━━━━━━━━━━━━━━━━\u001b[0m\u001b[37m\u001b[0m \u001b[1m2s\u001b[0m 221ms/step\n"
>>>>>>> luca4
     ]
    }
   ],
   "source": [
    "from sklearn.metrics import f1_score\n",
    "\n",
    "y_pred_test = loaded_model.predict(X_test)\n",
    "y_pred_test = (y_pred_test > 0.5).astype(int)\n",
    "f1 = f1_score(y_test, y_pred_test)"
   ]
  },
  {
   "cell_type": "code",
   "execution_count": 24,
   "id": "7c50b18c-b000-4aa0-af48-1335396888fc",
   "metadata": {},
   "outputs": [
    {
     "name": "stdout",
     "output_type": "stream",
     "text": [
<<<<<<< HEAD
      "F1-Score (for balanced test set) is: 0.70\n"
=======
      "F1-Score (for unbalanced test set) is: 0.63\n"
>>>>>>> luca4
     ]
    }
   ],
   "source": [
<<<<<<< HEAD
    "print(\"F1-Score (for balanced test set) is: {:.2f}\".format(f1))"
=======
    "print(\"F1-Score (for unbalanced test set) is: {:.2f}\".format(f1))"
>>>>>>> luca4
   ]
  },
  {
   "cell_type": "markdown",
   "id": "cb5e4f49-be48-4059-ad40-5b8e2b850706",
   "metadata": {},
   "source": [
    "### Confusion Matrix"
   ]
  },
  {
   "cell_type": "code",
   "execution_count": 25,
   "id": "10155bb2-7fc3-44de-a822-0bc724ad4a58",
   "metadata": {},
   "outputs": [
    {
     "name": "stdout",
     "output_type": "stream",
     "text": [
<<<<<<< HEAD
      "\u001b[1m7/7\u001b[0m \u001b[32m━━━━━━━━━━━━━━━━━━━━\u001b[0m\u001b[37m\u001b[0m \u001b[1m2s\u001b[0m 179ms/step\n"
=======
      "\u001b[1m7/7\u001b[0m \u001b[32m━━━━━━━━━━━━━━━━━━━━\u001b[0m\u001b[37m\u001b[0m \u001b[1m2s\u001b[0m 197ms/step\n"
>>>>>>> luca4
     ]
    }
   ],
   "source": [
    "from sklearn.metrics import confusion_matrix\n",
<<<<<<< HEAD
    "loaded_model = keras.saving.load_model('./models_ResNet/model_ResNet18_46_dropout_callbacks_sigmoid_biological_channels_trained.keras')\n",
=======
    "loaded_model = keras.saving.load_model('./models_ResNet/model_ResNet18_10_dropout_callbacks_sigmoid_10_biological_channels_full_trained.keras')\n",
>>>>>>> luca4
    "y_pred_test = loaded_model.predict(X_test)\n",
    "y_pred_test = (y_pred_test > 0.5).astype(int)\n",
    "# Compute confusion matrix\n",
    "cm = confusion_matrix(y_test, y_pred_test)"
   ]
  },
  {
<<<<<<< HEAD
   "cell_type": "markdown",
   "id": "a7761262-fe71-43fb-8d81-033a2923f6ae",
   "metadata": {},
   "source": [
    "### Saving History"
=======
   "cell_type": "code",
   "execution_count": 26,
   "id": "9f701c86-ba76-4905-a616-04ef73102f66",
   "metadata": {},
   "outputs": [
    {
     "data": {
      "image/png": "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",
      "text/plain": [
       "<Figure size 800x600 with 2 Axes>"
      ]
     },
     "metadata": {},
     "output_type": "display_data"
    }
   ],
   "source": [
    "def plot_confusion_matrix(cm, class_names):\n",
    "    plt.figure(figsize=(8, 6))\n",
    "    plt.imshow(cm, interpolation='nearest', cmap=plt.cm.Blues)\n",
    "    plt.title(\"Confusion Matrix (Unbalanced Test Dataset): Full Model\")\n",
    "    plt.colorbar()\n",
    "\n",
    "    # Add class labels to axes\n",
    "    tick_marks = np.arange(len(class_names))\n",
    "    plt.xticks(tick_marks, class_names, rotation=45)\n",
    "    plt.yticks(tick_marks, class_names)\n",
    "\n",
    "    # Add text annotations for each cell\n",
    "    thresh = cm.max() / 2  # Threshold for text color\n",
    "    for i, j in np.ndindex(cm.shape):\n",
    "        plt.text(j, i, format(cm[i, j], 'd'),\n",
    "                 horizontalalignment=\"center\",\n",
    "                 color=\"white\" if cm[i, j] > thresh else \"black\")\n",
    "\n",
    "    plt.ylabel(\"True Label\")\n",
    "    plt.xlabel(\"Predicted Label\")\n",
    "    plt.tight_layout()\n",
    "    plt.show()\n",
    "    \n",
    "# Class names (optional, for labeling the axes)\n",
    "class_names = ['PDL1 == 0', 'PDL1 == 1']\n",
    "\n",
    "# Call the function to plot the confusion matrix\n",
    "plot_confusion_matrix(cm, class_names)"
   ]
  },
  {
   "cell_type": "markdown",
   "id": "d2800b04-448d-4b6f-99d5-06b7338be26f",
   "metadata": {},
   "source": [
    "## BALANCED"
>>>>>>> luca4
   ]
  },
  {
   "cell_type": "code",
<<<<<<< HEAD
   "execution_count": 31,
   "id": "76533899-5797-49a8-a4b0-ea4db0eb043d",
   "metadata": {},
   "outputs": [],
   "source": [
    "# Save the history of your experiments \n",
    "import pickle\n",
    "with open('./models_ResNet/model_ResNet18_46_dropout_callbacks_sigmoid_biological_channels_trained.pkl', 'wb') as f:\n",
    "    pickle.dump(history_ResNet18.history, f)\n",
    "\n",
    "with open('./models_ResNet/model_ResNet18_46_dropout_callbacks_sigmoid_biological_channels_trained.pkl', 'rb') as f:\n",
    "    loaded_history = pickle.load(f)"
   ]
  },
  {
   "cell_type": "markdown",
   "id": "a3b40d2e-8e0e-4442-99d7-cf93708b4bc5",
   "metadata": {},
   "source": [
    "### Comments\n",
    "\n",
    "When using only 3 channels, the model converges way faster than with all 46 channels!\n",
    "\n",
    "    - Achieves similar accuracy, but lower F1 Score (Higher FN but lower FT)\n",
    "    - Lets try with balanced dataset!"
   ]
  },
  {
   "cell_type": "markdown",
   "id": "cea606f9-8d79-46e2-a369-7269a6ffb7b2",
   "metadata": {},
   "source": [
    "### ResNet18: with Tensor Board + 3 Channels + with Dropout + ReduceLR + EarlyStopping + sigmoid (1 neuron) + binary cross entropy + 3 Channels + BALANCED DATA"
   ]
  },
  {
   "cell_type": "markdown",
   "id": "ba3cb3fc-a0a2-4e59-a292-dd2e7e142f91",
   "metadata": {},
   "source": [
    "### Downsample majority class"
   ]
  },
  {
   "cell_type": "code",
   "execution_count": 32,
   "id": "f5448783-6ff5-4bdb-ba0e-b23da94bd289",
   "metadata": {},
=======
   "execution_count": 27,
   "id": "768e5d7d-0eb4-40c1-9c7d-fe12cb071374",
   "metadata": {
    "collapsed": true,
    "jupyter": {
     "outputs_hidden": true
    }
   },
>>>>>>> luca4
   "outputs": [
    {
     "name": "stderr",
     "output_type": "stream",
     "text": [
      "/home/jupyter-luvogt/.local/lib/python3.12/site-packages/sklearn/utils/deprecation.py:151: FutureWarning: 'force_all_finite' was renamed to 'ensure_all_finite' in 1.6 and will be removed in 1.8.\n",
      "  warnings.warn(\n",
      "/home/jupyter-luvogt/.local/lib/python3.12/site-packages/sklearn/base.py:484: FutureWarning: `BaseEstimator._check_n_features` is deprecated in 1.6 and will be removed in 1.7. Use `sklearn.utils.validation._check_n_features` instead.\n",
      "  warnings.warn(\n",
      "/home/jupyter-luvogt/.local/lib/python3.12/site-packages/sklearn/base.py:493: FutureWarning: `BaseEstimator._check_feature_names` is deprecated in 1.6 and will be removed in 1.7. Use `sklearn.utils.validation._check_feature_names` instead.\n",
      "  warnings.warn(\n",
      "/home/jupyter-luvogt/.local/lib/python3.12/site-packages/sklearn/utils/deprecation.py:151: FutureWarning: 'force_all_finite' was renamed to 'ensure_all_finite' in 1.6 and will be removed in 1.8.\n",
      "  warnings.warn(\n",
      "/home/jupyter-luvogt/.local/lib/python3.12/site-packages/sklearn/base.py:484: FutureWarning: `BaseEstimator._check_n_features` is deprecated in 1.6 and will be removed in 1.7. Use `sklearn.utils.validation._check_n_features` instead.\n",
      "  warnings.warn(\n",
      "/home/jupyter-luvogt/.local/lib/python3.12/site-packages/sklearn/base.py:493: FutureWarning: `BaseEstimator._check_feature_names` is deprecated in 1.6 and will be removed in 1.7. Use `sklearn.utils.validation._check_feature_names` instead.\n",
      "  warnings.warn(\n"
     ]
    }
   ],
   "source": [
    "import imblearn\n",
    "from imblearn.under_sampling import RandomUnderSampler\n",
    "\n",
    "# X_train: Define Undersampling balancing method\n",
    "balancer = RandomUnderSampler(random_state = 42) # Undersampling majority class\n",
    "X_train_flat = X_train.reshape(X_train.shape[0], -1) # Reshape images for balancer\n",
    "X_train_resampled, y_train_resampled = balancer.fit_resample(X_train_flat, y_train) # resample (Undersampling)\n",
    "X_train_resampled = X_train_resampled.reshape(-1, *X_train.shape[1:]) # Reshape the image\n",
    "\n",
    "# X_val: Define Undersampling balancing method\n",
    "balancer = RandomUnderSampler(random_state = 42) # Undersampling majority class\n",
<<<<<<< HEAD
    "X_val_flat = X_val.reshape(X_val.shape[0], -1) # Reshape images for balancer\n",
    "X_val_resampled, y_val_resampled = balancer.fit_resample(X_val_flat, y_val) # resample (Undersampling)\n",
    "X_val_resampled = X_val_resampled.reshape(-1, *X_val.shape[1:]) # Reshape the image"
   ]
  },
  {
   "cell_type": "markdown",
   "id": "eda55537-67b1-48a1-bca6-081fe30b1e5a",
   "metadata": {},
   "source": [
    "### Callbacks"
=======
    "X_train_flat = X_train.reshape(X_train.shape[0], -1) # Reshape images for balancer\n",
    "X_train_resampled, y_train_resampled = balancer.fit_resample(X_train_flat, y_train) # resample (Undersampling)\n",
    "X_train_resampled = X_train_resampled.reshape(-1, *X_train.shape[1:]) # Reshape the image"
>>>>>>> luca4
   ]
  },
  {
   "cell_type": "code",
   "execution_count": 33,
<<<<<<< HEAD
   "id": "fcf3d94b-e591-4603-bb56-b36ef13a0768",
=======
   "id": "77f81546-65cd-48f7-9233-2e80c0104856",
>>>>>>> luca4
   "metadata": {},
   "outputs": [],
   "source": [
    "# Callbacks\n",
<<<<<<< HEAD
    "log_dir = os.path.join(\"logs_ResNet50\", \"fit\", \"model_ResNet18_46_dropout_callbacks_sigmoid_balanced_biological_channels_trained\" + time.strftime(\"%Y%m%d-%H%M%S\"))\n",
=======
    "log_dir = os.path.join(\"logs_ResNet50\", \"fit\", \"model_ResNet18_10_dropout_callbacks_sigmoid_balanced_10_biological_channels_full_trained\" + time.strftime(\"%Y%m%d-%H%M%S\"))\n",
>>>>>>> luca4
    "tb_callback = TensorBoard(log_dir=log_dir, histogram_freq=1)\n",
    "\n",
    "callbacks_list = [\n",
    "    keras.callbacks.EarlyStopping(\n",
<<<<<<< HEAD
    "        monitor=\"val_loss\",\n",
    "        patience=12,   # Optimal patience value for validation accuracy\n",
    "    ),\n",
    "    keras.callbacks.ModelCheckpoint(\n",
    "        filepath=\"./models_ResNet/model_ResNet18_46_dropout_callbacks_sigmoid_balanced_biological_channels_trained.keras\", # save validation loss into file\n",
    "        monitor=\"val_loss\",  # monitor validation accuracy\n",
    "        save_best_only=True,\n",
    "    ),\n",
    "    ReduceLROnPlateau(\n",
    "    monitor=\"val_loss\",\n",
=======
    "        monitor=\"loss\",\n",
    "        patience=12,   # Optimal patience value for validation accuracy\n",
    "    ),\n",
    "    keras.callbacks.ModelCheckpoint(\n",
    "        filepath=\"./models_ResNet/model_ResNet18_10_dropout_callbacks_sigmoid_balanced_10_biological_channels_full_trained.keras\", # save validation loss into file\n",
    "        monitor=\"loss\",  # monitor validation accuracy\n",
    "        save_best_only=True,\n",
    "    ),\n",
    "    ReduceLROnPlateau(\n",
    "    monitor=\"loss\",\n",
>>>>>>> luca4
    "    factor=0.5,  \n",
    "    patience=3,\n",
    "    verbose=1,\n",
    "    mode=\"auto\",\n",
    "    min_delta=0.001,\n",
    "    min_lr=1.e-6,\n",
    "    ), \n",
    "    tb_callback\n",
    "]"
   ]
  },
  {
<<<<<<< HEAD
   "cell_type": "markdown",
   "id": "d8fc80c8-ba11-4516-8b60-383b1c8fad52",
   "metadata": {},
   "source": [
    "### Train Model on balanced training data set & only 3 channels"
   ]
  },
  {
   "cell_type": "code",
   "execution_count": 34,
   "id": "4bb41b2d-7f41-4648-8c24-cd7d4bdd1cff",
   "metadata": {
    "scrolled": true
   },
=======
   "cell_type": "code",
   "execution_count": 34,
   "id": "12711e50-8fea-495a-be01-bcd2cd912529",
   "metadata": {},
>>>>>>> luca4
   "outputs": [
    {
     "name": "stdout",
     "output_type": "stream",
     "text": [
      "Epoch 1/50\n",
<<<<<<< HEAD
      "\u001b[1m7/7\u001b[0m \u001b[32m━━━━━━━━━━━━━━━━━━━━\u001b[0m\u001b[37m\u001b[0m \u001b[1m46s\u001b[0m 4s/step - accuracy: 0.6340 - loss: 1.1652 - val_accuracy: 0.5000 - val_loss: 1.2645 - learning_rate: 1.0000e-04\n",
      "Epoch 2/50\n",
      "\u001b[1m7/7\u001b[0m \u001b[32m━━━━━━━━━━━━━━━━━━━━\u001b[0m\u001b[37m\u001b[0m \u001b[1m4s\u001b[0m 584ms/step - accuracy: 0.6738 - loss: 0.8663 - val_accuracy: 0.7113 - val_loss: 0.6288 - learning_rate: 1.0000e-04\n",
      "Epoch 3/50\n",
      "\u001b[1m7/7\u001b[0m \u001b[32m━━━━━━━━━━━━━━━━━━━━\u001b[0m\u001b[37m\u001b[0m \u001b[1m10s\u001b[0m 2s/step - accuracy: 0.7252 - loss: 0.5269 - val_accuracy: 0.8028 - val_loss: 0.5332 - learning_rate: 1.0000e-04\n",
      "Epoch 4/50\n",
      "\u001b[1m7/7\u001b[0m \u001b[32m━━━━━━━━━━━━━━━━━━━━\u001b[0m\u001b[37m\u001b[0m \u001b[1m4s\u001b[0m 580ms/step - accuracy: 0.7906 - loss: 0.4568 - val_accuracy: 0.7606 - val_loss: 0.5099 - learning_rate: 1.0000e-04\n",
      "Epoch 5/50\n",
      "\u001b[1m7/7\u001b[0m \u001b[32m━━━━━━━━━━━━━━━━━━━━\u001b[0m\u001b[37m\u001b[0m \u001b[1m4s\u001b[0m 553ms/step - accuracy: 0.8448 - loss: 0.4331 - val_accuracy: 0.7535 - val_loss: 0.4964 - learning_rate: 1.0000e-04\n",
      "Epoch 6/50\n",
      "\u001b[1m7/7\u001b[0m \u001b[32m━━━━━━━━━━━━━━━━━━━━\u001b[0m\u001b[37m\u001b[0m \u001b[1m4s\u001b[0m 610ms/step - accuracy: 0.8337 - loss: 0.3880 - val_accuracy: 0.7535 - val_loss: 0.4868 - learning_rate: 1.0000e-04\n",
      "Epoch 7/50\n",
      "\u001b[1m7/7\u001b[0m \u001b[32m━━━━━━━━━━━━━━━━━━━━\u001b[0m\u001b[37m\u001b[0m \u001b[1m3s\u001b[0m 367ms/step - accuracy: 0.8545 - loss: 0.3572 - val_accuracy: 0.7676 - val_loss: 0.4983 - learning_rate: 1.0000e-04\n",
      "Epoch 8/50\n",
      "\u001b[1m7/7\u001b[0m \u001b[32m━━━━━━━━━━━━━━━━━━━━\u001b[0m\u001b[37m\u001b[0m \u001b[1m4s\u001b[0m 577ms/step - accuracy: 0.8437 - loss: 0.3559 - val_accuracy: 0.7817 - val_loss: 0.4573 - learning_rate: 1.0000e-04\n",
      "Epoch 9/50\n",
      "\u001b[1m7/7\u001b[0m \u001b[32m━━━━━━━━━━━━━━━━━━━━\u001b[0m\u001b[37m\u001b[0m \u001b[1m5s\u001b[0m 595ms/step - accuracy: 0.8614 - loss: 0.3397 - val_accuracy: 0.7887 - val_loss: 0.4409 - learning_rate: 1.0000e-04\n",
      "Epoch 10/50\n",
      "\u001b[1m7/7\u001b[0m \u001b[32m━━━━━━━━━━━━━━━━━━━━\u001b[0m\u001b[37m\u001b[0m \u001b[1m3s\u001b[0m 423ms/step - accuracy: 0.8630 - loss: 0.3129 - val_accuracy: 0.7958 - val_loss: 0.4548 - learning_rate: 1.0000e-04\n",
      "Epoch 11/50\n",
      "\u001b[1m7/7\u001b[0m \u001b[32m━━━━━━━━━━━━━━━━━━━━\u001b[0m\u001b[37m\u001b[0m \u001b[1m3s\u001b[0m 413ms/step - accuracy: 0.8252 - loss: 0.3794 - val_accuracy: 0.7958 - val_loss: 0.4475 - learning_rate: 1.0000e-04\n",
      "Epoch 12/50\n",
      "\u001b[1m7/7\u001b[0m \u001b[32m━━━━━━━━━━━━━━━━━━━━\u001b[0m\u001b[37m\u001b[0m \u001b[1m0s\u001b[0m 182ms/step - accuracy: 0.8615 - loss: 0.3382\n",
      "Epoch 12: ReduceLROnPlateau reducing learning rate to 4.999999873689376e-05.\n",
      "\u001b[1m7/7\u001b[0m \u001b[32m━━━━━━━━━━━━━━━━━━━━\u001b[0m\u001b[37m\u001b[0m \u001b[1m5s\u001b[0m 392ms/step - accuracy: 0.8632 - loss: 0.3362 - val_accuracy: 0.7606 - val_loss: 0.4639 - learning_rate: 1.0000e-04\n",
      "Epoch 13/50\n",
      "\u001b[1m7/7\u001b[0m \u001b[32m━━━━━━━━━━━━━━━━━━━━\u001b[0m\u001b[37m\u001b[0m \u001b[1m3s\u001b[0m 396ms/step - accuracy: 0.8484 - loss: 0.3303 - val_accuracy: 0.7676 - val_loss: 0.4677 - learning_rate: 5.0000e-05\n",
      "Epoch 14/50\n",
      "\u001b[1m7/7\u001b[0m \u001b[32m━━━━━━━━━━━━━━━━━━━━\u001b[0m\u001b[37m\u001b[0m \u001b[1m3s\u001b[0m 388ms/step - accuracy: 0.9077 - loss: 0.2831 - val_accuracy: 0.7606 - val_loss: 0.4834 - learning_rate: 5.0000e-05\n",
      "Epoch 15/50\n",
      "\u001b[1m7/7\u001b[0m \u001b[32m━━━━━━━━━━━━━━━━━━━━\u001b[0m\u001b[37m\u001b[0m \u001b[1m0s\u001b[0m 180ms/step - accuracy: 0.8546 - loss: 0.3317\n",
      "Epoch 15: ReduceLROnPlateau reducing learning rate to 2.499999936844688e-05.\n",
      "\u001b[1m7/7\u001b[0m \u001b[32m━━━━━━━━━━━━━━━━━━━━\u001b[0m\u001b[37m\u001b[0m \u001b[1m2s\u001b[0m 369ms/step - accuracy: 0.8561 - loss: 0.3283 - val_accuracy: 0.7606 - val_loss: 0.4961 - learning_rate: 5.0000e-05\n",
      "Epoch 16/50\n",
      "\u001b[1m7/7\u001b[0m \u001b[32m━━━━━━━━━━━━━━━━━━━━\u001b[0m\u001b[37m\u001b[0m \u001b[1m3s\u001b[0m 378ms/step - accuracy: 0.8710 - loss: 0.3015 - val_accuracy: 0.7465 - val_loss: 0.5021 - learning_rate: 2.5000e-05\n",
      "Epoch 17/50\n",
      "\u001b[1m7/7\u001b[0m \u001b[32m━━━━━━━━━━━━━━━━━━━━\u001b[0m\u001b[37m\u001b[0m \u001b[1m3s\u001b[0m 384ms/step - accuracy: 0.8614 - loss: 0.3124 - val_accuracy: 0.7394 - val_loss: 0.5069 - learning_rate: 2.5000e-05\n",
      "Epoch 18/50\n",
      "\u001b[1m7/7\u001b[0m \u001b[32m━━━━━━━━━━━━━━━━━━━━\u001b[0m\u001b[37m\u001b[0m \u001b[1m0s\u001b[0m 180ms/step - accuracy: 0.8803 - loss: 0.2833\n",
      "Epoch 18: ReduceLROnPlateau reducing learning rate to 1.249999968422344e-05.\n",
      "\u001b[1m7/7\u001b[0m \u001b[32m━━━━━━━━━━━━━━━━━━━━\u001b[0m\u001b[37m\u001b[0m \u001b[1m3s\u001b[0m 443ms/step - accuracy: 0.8803 - loss: 0.2830 - val_accuracy: 0.7254 - val_loss: 0.5123 - learning_rate: 2.5000e-05\n",
      "Epoch 19/50\n",
      "\u001b[1m7/7\u001b[0m \u001b[32m━━━━━━━━━━━━━━━━━━━━\u001b[0m\u001b[37m\u001b[0m \u001b[1m2s\u001b[0m 376ms/step - accuracy: 0.8805 - loss: 0.2841 - val_accuracy: 0.7254 - val_loss: 0.5191 - learning_rate: 1.2500e-05\n",
      "Epoch 20/50\n",
      "\u001b[1m7/7\u001b[0m \u001b[32m━━━━━━━━━━━━━━━━━━━━\u001b[0m\u001b[37m\u001b[0m \u001b[1m3s\u001b[0m 402ms/step - accuracy: 0.8604 - loss: 0.3427 - val_accuracy: 0.7254 - val_loss: 0.5252 - learning_rate: 1.2500e-05\n",
      "Epoch 21/50\n",
      "\u001b[1m7/7\u001b[0m \u001b[32m━━━━━━━━━━━━━━━━━━━━\u001b[0m\u001b[37m\u001b[0m \u001b[1m0s\u001b[0m 182ms/step - accuracy: 0.8707 - loss: 0.2906\n",
      "Epoch 21: ReduceLROnPlateau reducing learning rate to 6.24999984211172e-06.\n",
      "\u001b[1m7/7\u001b[0m \u001b[32m━━━━━━━━━━━━━━━━━━━━\u001b[0m\u001b[37m\u001b[0m \u001b[1m3s\u001b[0m 415ms/step - accuracy: 0.8713 - loss: 0.2901 - val_accuracy: 0.7183 - val_loss: 0.5299 - learning_rate: 1.2500e-05\n",
      "\n",
      "Elapsed time: 118.03136396408081 seconds\n"
     ]
    }
   ],
   "source": [
    "ROWS = 224; COLS = 224; CHANNELS = 3; CLASSES = 2; block_layers = [2,2,2,2] # ResNet18\n",
    "dropout_rate = 0.5\n",
    "# Build Network Graph \n",
    "model_ResNet18 = ResNet(shape = (ROWS, COLS, CHANNELS), classes = CLASSES, block_layers = block_layers, dropout_rate = dropout_rate)\n",
    "\n",
    "# Compile Model \n",
    "l_rate = 1.e-4 # CHANGE HERE\n",
    "opt = keras.optimizers.Adam(learning_rate=l_rate)\n",
    "model_ResNet18.compile(optimizer=opt, loss='binary_crossentropy', metrics=[\"accuracy\"]) # Set threshold here\n",
    "\n",
    "# Train Model \n",
    "batch = 64\n",
    "epochs = 50\n",
    "start_time = time.time()\n",
    "\n",
    "history_ResNet18 = model_ResNet18.fit(X_train_resampled, y_train_resampled,\n",
    "                                      epochs = epochs, batch_size = batch, \n",
    "                                      validation_data = (X_val_resampled, y_val_resampled), callbacks = callbacks_list)\n",
    "\n",
    "end_time = time.time()\n",
    "elapsed_time = end_time - start_time\n",
    "print(f\"\\nElapsed time: {elapsed_time} seconds\")"
   ]
  },
  {
   "cell_type": "markdown",
   "id": "709beed1-a75a-400a-9904-8340e3b55139",
   "metadata": {},
   "source": [
    "### Testing Accuracy"
   ]
  },
  {
   "cell_type": "code",
   "execution_count": 38,
   "id": "9fefed7a-c815-4be1-83d5-cee9d889cc8f",
   "metadata": {},
   "outputs": [
    {
     "name": "stdout",
     "output_type": "stream",
     "text": [
      "\u001b[1m7/7\u001b[0m \u001b[32m━━━━━━━━━━━━━━━━━━━━\u001b[0m\u001b[37m\u001b[0m \u001b[1m2s\u001b[0m 108ms/step - accuracy: 0.8209 - loss: 0.4509\n",
      "Test Accuracy (for unbalanced test set) is: 0.83%\n"
     ]
    }
   ],
   "source": [
    "# To load the model from file uncomment and run the following \n",
    "loaded_model = keras.saving.load_model('./models_ResNet/model_ResNet18_46_dropout_callbacks_sigmoid_balanced_biological_channels_trained.keras')\n",
    "print(\"Test Accuracy (for unbalanced test set) is: {:.2f}%\".format(loaded_model.evaluate(X_test, y_test)[1]))"
   ]
  },
  {
   "cell_type": "markdown",
   "id": "3f6c791d-09f6-43bc-a375-1af27bde97ca",
   "metadata": {},
   "source": [
    "### Testing Accuracy on balanced test set"
   ]
  },
  {
   "cell_type": "code",
   "execution_count": 39,
   "id": "0da348ca-177d-493d-a96a-8f8e9321ac9d",
   "metadata": {},
   "outputs": [
    {
     "name": "stderr",
     "output_type": "stream",
     "text": [
      "/home/jupyter-luvogt/.local/lib/python3.12/site-packages/sklearn/utils/deprecation.py:151: FutureWarning: 'force_all_finite' was renamed to 'ensure_all_finite' in 1.6 and will be removed in 1.8.\n",
      "  warnings.warn(\n",
      "/home/jupyter-luvogt/.local/lib/python3.12/site-packages/sklearn/base.py:484: FutureWarning: `BaseEstimator._check_n_features` is deprecated in 1.6 and will be removed in 1.7. Use `sklearn.utils.validation._check_n_features` instead.\n",
      "  warnings.warn(\n",
      "/home/jupyter-luvogt/.local/lib/python3.12/site-packages/sklearn/base.py:493: FutureWarning: `BaseEstimator._check_feature_names` is deprecated in 1.6 and will be removed in 1.7. Use `sklearn.utils.validation._check_feature_names` instead.\n",
      "  warnings.warn(\n"
     ]
    }
   ],
   "source": [
    "# X_train: Define Undersampling balancing method\n",
    "import imblearn\n",
    "from imblearn.under_sampling import RandomUnderSampler\n",
    "balancer = RandomUnderSampler(random_state = 42) # Undersampling majority class\n",
    "X_test_flat = X_test.reshape(X_test.shape[0], -1) # Reshape images for balancer\n",
    "X_test_resampled, y_test_resampled = balancer.fit_resample(X_test_flat, y_test) # resample (Undersampling)\n",
    "X_test_resampled = X_test_resampled.reshape(-1, *X_test.shape[1:]) # Reshape the image"
   ]
  },
  {
   "cell_type": "code",
   "execution_count": 40,
   "id": "e9e8bcb4-28a0-4146-8c40-e3887a092488",
   "metadata": {},
   "outputs": [
    {
     "name": "stdout",
     "output_type": "stream",
     "text": [
      "\u001b[1m5/5\u001b[0m \u001b[32m━━━━━━━━━━━━━━━━━━━━\u001b[0m\u001b[37m\u001b[0m \u001b[1m1s\u001b[0m 161ms/step - accuracy: 0.8487 - loss: 0.4495\n",
      "Test Accuracy (for balanced test set) is: 0.78%\n"
     ]
    }
   ],
   "source": [
    "print(\"Test Accuracy (for balanced test set) is: {:.2f}%\".format(loaded_model.evaluate(X_test_resampled, y_test_resampled)[1]))"
   ]
  },
  {
   "cell_type": "markdown",
   "id": "d681e8bf-b623-4994-b7d7-90a91f4f3490",
   "metadata": {},
   "source": [
    "### F1-Score Balanced"
   ]
  },
  {
   "cell_type": "code",
   "execution_count": 41,
   "id": "5e38bbf4-3b62-4cb2-80b3-98eb39dd64a2",
   "metadata": {},
   "outputs": [
    {
     "name": "stdout",
     "output_type": "stream",
     "text": [
      "WARNING:tensorflow:5 out of the last 15 calls to <function TensorFlowTrainer.make_predict_function.<locals>.one_step_on_data_distributed at 0x7f40c202cfe0> triggered tf.function retracing. Tracing is expensive and the excessive number of tracings could be due to (1) creating @tf.function repeatedly in a loop, (2) passing tensors with different shapes, (3) passing Python objects instead of tensors. For (1), please define your @tf.function outside of the loop. For (2), @tf.function has reduce_retracing=True option that can avoid unnecessary retracing. For (3), please refer to https://www.tensorflow.org/guide/function#controlling_retracing and https://www.tensorflow.org/api_docs/python/tf/function for  more details.\n",
      "\u001b[1m5/5\u001b[0m \u001b[32m━━━━━━━━━━━━━━━━━━━━\u001b[0m\u001b[37m\u001b[0m \u001b[1m2s\u001b[0m 282ms/step\n"
     ]
    }
   ],
   "source": [
    "from sklearn.metrics import f1_score\n",
    "\n",
    "y_pred_test = loaded_model.predict(X_test_resampled)\n",
    "y_pred_test = (y_pred_test > 0.5).astype(int)\n",
    "f1 = f1_score(y_test_resampled, y_pred_test)"
   ]
  },
  {
   "cell_type": "code",
   "execution_count": 42,
   "id": "228ae34b-3a3c-4c0e-88d2-de282ce1b1f1",
   "metadata": {},
   "outputs": [
    {
     "name": "stdout",
     "output_type": "stream",
     "text": [
      "F1-Score (for balanced test set) is: 0.73\n"
     ]
    }
   ],
   "source": [
    "print(\"F1-Score (for balanced test set) is: {:.2f}\".format(f1))"
   ]
  },
  {
   "cell_type": "markdown",
   "id": "cb304e13-a98d-480a-bc8e-bc2e3e62b9ab",
   "metadata": {},
   "source": [
    "### F1-Score Unbalanced"
   ]
  },
  {
   "cell_type": "code",
   "execution_count": 44,
   "id": "1ff543d7-1ded-4eaa-9f0d-17365267cab5",
   "metadata": {},
   "outputs": [
    {
     "name": "stdout",
     "output_type": "stream",
     "text": [
      "\u001b[1m7/7\u001b[0m \u001b[32m━━━━━━━━━━━━━━━━━━━━\u001b[0m\u001b[37m\u001b[0m \u001b[1m1s\u001b[0m 125ms/step\n"
     ]
    }
   ],
   "source": [
    "y_pred_test = loaded_model.predict(X_test)\n",
    "y_pred_test = (y_pred_test > 0.5).astype(int)\n",
    "f1 = f1_score(y_test, y_pred_test)"
   ]
  },
  {
   "cell_type": "code",
   "execution_count": 45,
   "id": "f9f5526f-4657-4186-a11e-03b8a75e176f",
   "metadata": {},
   "outputs": [
    {
     "name": "stdout",
     "output_type": "stream",
     "text": [
      "F1-Score (for unbalanced test set) is: 0.73\n"
     ]
    }
   ],
   "source": [
    "print(\"F1-Score (for unbalanced test set) is: {:.2f}\".format(f1))"
   ]
  },
  {
   "cell_type": "markdown",
   "id": "e3d36761-ed02-46a4-960d-9544a41bb5a2",
   "metadata": {},
   "source": [
    "### Confusion Matrix: Balanced Dataset"
   ]
  },
  {
   "cell_type": "code",
   "execution_count": 46,
   "id": "372fdfdd-e910-4693-b223-e5f3bec15845",
   "metadata": {},
   "outputs": [
    {
     "name": "stdout",
     "output_type": "stream",
     "text": [
      "\u001b[1m5/5\u001b[0m \u001b[32m━━━━━━━━━━━━━━━━━━━━\u001b[0m\u001b[37m\u001b[0m \u001b[1m2s\u001b[0m 244ms/step\n"
     ]
    }
   ],
   "source": [
    "from sklearn.metrics import confusion_matrix\n",
    "loaded_model = keras.saving.load_model('./models_ResNet/model_ResNet18_46_dropout_callbacks_sigmoid_balanced_biological_channels_trained.keras')\n",
    "y_pred_test = loaded_model.predict(X_test_resampled)\n",
    "y_pred_test = (y_pred_test > 0.5).astype(int)\n",
    "# Compute confusion matrix\n",
    "cm = confusion_matrix(y_test_resampled, y_pred_test)"
   ]
  },
  {
   "cell_type": "code",
   "execution_count": 47,
   "id": "7cadadb5-0d22-43a6-952e-ee1d34476711",
   "metadata": {},
   "outputs": [
    {
     "data": {
      "image/png": "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",
      "text/plain": [
       "<Figure size 800x600 with 2 Axes>"
      ]
     },
     "metadata": {},
     "output_type": "display_data"
    }
   ],
   "source": [
    "def plot_confusion_matrix(cm, class_names):\n",
    "    plt.figure(figsize=(8, 6))\n",
    "    plt.imshow(cm, interpolation='nearest', cmap=plt.cm.Blues)\n",
    "    plt.title(\"Confusion Matrix (Balanced Test Dataset)\")\n",
    "    plt.colorbar()\n",
    "\n",
    "    # Add class labels to axes\n",
    "    tick_marks = np.arange(len(class_names))\n",
    "    plt.xticks(tick_marks, class_names, rotation=45)\n",
    "    plt.yticks(tick_marks, class_names)\n",
    "\n",
    "    # Add text annotations for each cell\n",
    "    thresh = cm.max() / 2  # Threshold for text color\n",
    "    for i, j in np.ndindex(cm.shape):\n",
    "        plt.text(j, i, format(cm[i, j], 'd'),\n",
    "                 horizontalalignment=\"center\",\n",
    "                 color=\"white\" if cm[i, j] > thresh else \"black\")\n",
    "\n",
    "    plt.ylabel(\"True Label\")\n",
    "    plt.xlabel(\"Predicted Label\")\n",
    "    plt.tight_layout()\n",
    "    plt.show()\n",
    "\n",
    "\n",
    "# # Example confusion matrix (computed earlier or loaded)\n",
    "# cm_ex = np.array([\n",
    "#     [50, 2, 1],\n",
    "#     [5, 45, 3],\n",
    "#     [2, 6, 40]\n",
    "# ])\n",
    "\n",
    "# Class names (optional, for labeling the axes)\n",
    "class_names = ['PDL1 == 0', 'PDL1 == 1']\n",
    "\n",
    "# Call the function to plot the confusion matrix\n",
    "plot_confusion_matrix(cm, class_names)"
   ]
  },
  {
   "cell_type": "markdown",
   "id": "ef6f3a1b-8a2c-4373-b337-8475a13a7032",
   "metadata": {},
   "source": [
    "### Confusion Matrix: Unbalanced Dataset"
   ]
  },
  {
   "cell_type": "code",
   "execution_count": 48,
   "id": "304dc1c9-bd80-44b0-96b5-5841348a208d",
   "metadata": {},
   "outputs": [
    {
     "name": "stdout",
     "output_type": "stream",
     "text": [
      "\u001b[1m7/7\u001b[0m \u001b[32m━━━━━━━━━━━━━━━━━━━━\u001b[0m\u001b[37m\u001b[0m \u001b[1m2s\u001b[0m 179ms/step\n"
     ]
    }
   ],
   "source": [
    "from sklearn.metrics import confusion_matrix\n",
    "loaded_model = keras.saving.load_model('./models_ResNet/model_ResNet18_46_dropout_callbacks_sigmoid_balanced_biological_channels_trained.keras')\n",
    "y_pred_test = loaded_model.predict(X_test)\n",
    "y_pred_test = (y_pred_test > 0.5).astype(int)\n",
    "# Compute confusion matrix\n",
    "cm = confusion_matrix(y_test, y_pred_test)"
   ]
  },
  {
   "cell_type": "code",
   "execution_count": 49,
   "id": "fcebf9de-9493-4631-9dd4-60ec9bf38501",
   "metadata": {},
   "outputs": [
    {
     "data": {
      "image/png": "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",
      "text/plain": [
       "<Figure size 800x600 with 2 Axes>"
      ]
     },
     "metadata": {},
     "output_type": "display_data"
    }
   ],
   "source": [
    "def plot_confusion_matrix(cm, class_names):\n",
    "    plt.figure(figsize=(8, 6))\n",
    "    plt.imshow(cm, interpolation='nearest', cmap=plt.cm.Blues)\n",
    "    plt.title(\"Confusion Matrix (Unbalanced Test Dataset)\")\n",
    "    plt.colorbar()\n",
    "\n",
    "    # Add class labels to axes\n",
    "    tick_marks = np.arange(len(class_names))\n",
    "    plt.xticks(tick_marks, class_names, rotation=45)\n",
    "    plt.yticks(tick_marks, class_names)\n",
    "\n",
    "    # Add text annotations for each cell\n",
    "    thresh = cm.max() / 2  # Threshold for text color\n",
    "    for i, j in np.ndindex(cm.shape):\n",
    "        plt.text(j, i, format(cm[i, j], 'd'),\n",
    "                 horizontalalignment=\"center\",\n",
    "                 color=\"white\" if cm[i, j] > thresh else \"black\")\n",
    "\n",
    "    plt.ylabel(\"True Label\")\n",
    "    plt.xlabel(\"Predicted Label\")\n",
    "    plt.tight_layout()\n",
    "    plt.show()\n",
    "\n",
    "\n",
    "# # Example confusion matrix (computed earlier or loaded)\n",
    "# cm_ex = np.array([\n",
    "#     [50, 2, 1],\n",
    "#     [5, 45, 3],\n",
    "#     [2, 6, 40]\n",
    "# ])\n",
    "\n",
    "# Class names (optional, for labeling the axes)\n",
    "class_names = ['PDL1 == 0', 'PDL1 == 1']\n",
    "\n",
    "# Call the function to plot the confusion matrix\n",
    "plot_confusion_matrix(cm, class_names)"
   ]
  },
  {
   "cell_type": "markdown",
   "id": "053634fe-c922-4939-88fd-aef2d8cc8b66",
   "metadata": {},
   "source": [
    "### Saving Model History"
   ]
  },
  {
   "cell_type": "code",
   "execution_count": 40,
   "id": "7deab983-a45f-4d39-a86f-3ccd99de9b19",
   "metadata": {},
   "outputs": [],
   "source": [
    "# Save the history of your experiments \n",
    "import pickle\n",
    "with open('./models_ResNet/model_ResNet18_46_dropout_callbacks_sigmoid_balanced_biological_channels_trained.pkl', 'wb') as f:\n",
    "    pickle.dump(history_ResNet18.history, f)\n",
    "\n",
    "with open('./models_ResNet/model_ResNet18_46_dropout_callbacks_sigmoid_balanced_biological_channels_trained.pkl', 'rb') as f:\n",
    "    loaded_history = pickle.load(f)"
   ]
  },
  {
   "cell_type": "markdown",
   "id": "cba17eb5-2490-48bb-9216-f4347c66a7eb",
   "metadata": {},
   "source": [
    "### COMMENTS: \n",
    "\n",
    "With balanced dataset and biological relevant channels, we get: \n",
    "\n",
    "    - Test Accuracy (balanced dataset): 78%\n",
    "    - F1 Score (balanced dataset): 0.73\n",
    "\n",
    "Even though this is suprising, the validation accuracy was constantly smaller and the model seemed to have a hard time to overfit."
   ]
  },
  {
   "cell_type": "markdown",
   "id": "9c2cdc0d-db75-47a0-a671-a599cfc0d0cc",
   "metadata": {},
   "source": [
    "## ResNet18: with Tensor Board + with Dropout + ReduceLR + EarlyStopping + sigmoid (1 neuron) + binary cross entropy + 10 Biological relevant channels"
   ]
  },
  {
   "cell_type": "markdown",
   "id": "90783537-c72e-48f4-8dca-c584c483b52f",
   "metadata": {},
   "source": [
    "### Create Datasets"
   ]
  },
  {
   "cell_type": "code",
   "execution_count": 6,
   "id": "281cf7f3-26a6-4630-8862-d1cfbae4b007",
   "metadata": {},
   "outputs": [],
   "source": [
    "# Training dataset without augmentation\n",
    "X_train, y_train = load_dataset(train_df, image_folder, normalize = True)\n",
    "# # Training dataset with data augmentation\n",
    "# X_train_aug, y_train_aug = load_dataset(train_df, image_folder, augment=True)\n",
    "# Validation dataset\n",
    "X_val, y_val = load_dataset(val_df, image_folder, normalize = True)\n",
    "# Test dataset\n",
    "X_test, y_test = load_dataset(test_df, image_folder, normalize = True)\n",
    "\n",
    "# #  Disable for F1_score / Sigmoid \n",
    "# # One Hot Encoding\n",
    "# y_train= to_categorical(y_train)\n",
    "# y_val= to_categorical(y_val)\n",
    "# y_test = to_categorical(y_test)"
   ]
  },
  {
   "cell_type": "markdown",
   "id": "3ba5b129-aaf2-4627-afcc-804be7a534ae",
   "metadata": {},
   "source": [
    "### Drop Biological irrelevant channels"
   ]
  },
  {
   "cell_type": "code",
   "execution_count": 7,
   "id": "50f62d49-06d7-4b8c-8103-407cf45b7f26",
   "metadata": {},
   "outputs": [],
   "source": [
    "def drop_channels(image, channels_of_interest, channel_names):\n",
    "        channel_names_new = [i for i in channel_names if i not in channels_of_interest]\n",
    "        mask = np.zeros(image.shape[2], dtype=bool) # Error: np.zeros(image.shape[0], dtype=bool) and NOT np.zeros(image.shape[2], dtype=bool) (ONLY ERROR IF YOU DONT TRANSPOSE THE IMAGE, OTHERWISE OKEY)\n",
    "        \n",
    "        for i in channels_of_interest:\n",
    "            mask[channel_names.index(i)] = True\n",
    "        image = image[:, :, mask] # Error: image[mask, :, :] and not image[:, :, mask] ! (ONLY ERROR IF YOU DONT TRANSPOSE THE IMAGE, OTHERWISE OKEY)\n",
    "        \n",
    "        return image"
   ]
  },
  {
   "cell_type": "code",
   "execution_count": 8,
   "id": "cce6e406-e9ba-4d21-b6ca-6746a8050b51",
   "metadata": {},
   "outputs": [],
   "source": [
    "channel_names_new = [\"Gd160\", \"Eu153\", \"Gd155\", \"Nd142\", \"Nd146\", \"Er166\", \"Er170\", \"Yb171\", \"Yb173\", \"Yb174\"]\n",
    "\n",
    "panel_dir = '../../../panel.csv' \n",
    "panel_df = pd.read_csv(panel_dir)\n",
    "channel_names = dict(zip(panel_df['clean_target'].to_list(), panel_df['channel'].to_list()))"
   ]
  },
  {
   "cell_type": "code",
   "execution_count": 9,
   "id": "ae794469-7975-41bd-bb94-83a5a96e5ccf",
   "metadata": {},
   "outputs": [],
   "source": [
    "X_train = [drop_channels(i, channel_names_new, list(channel_names.values())) for i in X_train]\n",
    "X_val = [drop_channels(i, channel_names_new, list(channel_names.values())) for i in X_val]\n",
    "X_test = [drop_channels(i, channel_names_new, list(channel_names.values())) for i in X_test]"
   ]
  },
  {
   "cell_type": "code",
   "execution_count": 10,
   "id": "392ae47f-2121-4037-b615-5a9e496262fe",
   "metadata": {},
   "outputs": [],
   "source": [
    "X_train = np.array(X_train)\n",
    "X_val = np.array(X_val)\n",
    "X_test = np.array(X_test)"
   ]
  },
  {
   "cell_type": "markdown",
   "id": "520db462-7eee-4d54-b63c-e3c674de180a",
   "metadata": {},
   "source": [
    "### Define ResNet18 "
   ]
  },
  {
   "cell_type": "code",
   "execution_count": 11,
   "id": "34b2b207-ca16-497c-b31d-8ef01bf0908e",
   "metadata": {},
   "outputs": [],
   "source": [
    "def identity_block(x, filter, dropout_rate = 0.5):\n",
    "    # copy tensor to variable called x_skip\n",
    "    x_skip = x\n",
    "    # Layer 1\n",
    "    x = tf.keras.layers.Conv2D(filter, (3,3), padding = 'same')(x)\n",
    "    x = tf.keras.layers.BatchNormalization(axis=3)(x)\n",
    "    x = Dropout(dropout_rate)(x)\n",
    "    x = tf.keras.layers.Activation('relu')(x)\n",
    "    # Layer 2\n",
    "    x = tf.keras.layers.Conv2D(filter, (3,3), padding = 'same')(x)\n",
    "    x = tf.keras.layers.BatchNormalization(axis=3)(x)\n",
    "    # Add Residue\n",
    "    x = tf.keras.layers.Add()([x, x_skip])     \n",
    "    x = tf.keras.layers.Activation('relu')(x)\n",
    "    return x\n",
    "\n",
    "def convolutional_block(x, filter, dropout_rate = 0.5):\n",
    "    # copy tensor to variable called x_skip\n",
    "    x_skip = x\n",
    "    # Layer 1\n",
    "    x = tf.keras.layers.Conv2D(filter, (3,3), padding = 'same', strides = (2,2))(x)\n",
    "    x = tf.keras.layers.BatchNormalization(axis=3)(x)\n",
    "    x = Dropout(dropout_rate)(x)\n",
    "    x = tf.keras.layers.Activation('relu')(x)\n",
    "    # Layer 2\n",
    "    x = tf.keras.layers.Conv2D(filter, (3,3), padding = 'same')(x)\n",
    "    x = tf.keras.layers.BatchNormalization(axis=3)(x)\n",
    "    # Processing Residue with conv(1,1)\n",
    "    x_skip = tf.keras.layers.Conv2D(filter, (1,1), strides = (2,2))(x_skip)\n",
    "    # Add Residue\n",
    "    x = tf.keras.layers.Add()([x, x_skip])     \n",
    "    x = tf.keras.layers.Activation('relu')(x)\n",
    "    return x\n",
    "\n",
    "def ResNet(shape = (32, 32, 3), classes = 10, block_layers = [3, 4, 6, 3], dropout_rate = 0.5):\n",
    "    # Step 1 (Setup Input Layer)\n",
    "    x_input = tf.keras.layers.Input(shape)\n",
    "    x = tf.keras.layers.ZeroPadding2D((3, 3))(x_input)\n",
    "    # Step 2 (Initial Conv layer along with maxPool)\n",
    "    x = tf.keras.layers.Conv2D(64, kernel_size=7, strides=2, padding='same')(x)\n",
    "    x = tf.keras.layers.BatchNormalization()(x)\n",
    "    x = Dropout(dropout_rate)(x)\n",
    "    x = tf.keras.layers.Activation('relu')(x)\n",
    "    x = tf.keras.layers.MaxPool2D(pool_size=3, strides=2, padding='same')(x)\n",
    "    # Define size of sub-blocks and initial filter size\n",
    "    block_layers = block_layers\n",
    "    filter_size = 64\n",
    "    # Step 3 Add the Resnet Blocks\n",
    "    for i in range(4):\n",
    "        if i == 0:\n",
    "            # For sub-block 1 Residual/Convolutional block not needed\n",
    "            for j in range(block_layers[i]):\n",
    "                x = identity_block(x, filter_size)\n",
    "        else:\n",
    "            # One Residual/Convolutional Block followed by Identity blocks\n",
    "            # The filter size will go on increasing by a factor of 2\n",
    "            filter_size = filter_size*2\n",
    "            x = convolutional_block(x, filter_size)\n",
    "            for j in range(block_layers[i] - 1):\n",
    "                x = identity_block(x, filter_size)\n",
    "    # Step 4 End Dense Network\n",
    "    x = tf.keras.layers.AveragePooling2D((2,2), padding = 'same')(x)\n",
    "    x = tf.keras.layers.Flatten()(x)\n",
    "    x = tf.keras.layers.Dense(512, activation = 'relu')(x)\n",
    "    x = Dropout(dropout_rate)(x)\n",
    "    x = tf.keras.layers.Dense(1, activation = 'sigmoid')(x) # Change last layer here: sigmoid and 1 neuron (classes -1)\n",
    "    model = tf.keras.models.Model(inputs = x_input, outputs = x, name = \"ResNet18\")\n",
    "    return model"
   ]
  },
  {
   "cell_type": "markdown",
   "id": "6951f57e-5bab-4a8d-925e-a2c4d88663ef",
   "metadata": {},
   "source": [
    "### Callbacks"
   ]
  },
  {
   "cell_type": "code",
   "execution_count": 12,
   "id": "2fe7ef3b-3d5f-4b87-81e5-214f5fa161a9",
   "metadata": {},
   "outputs": [],
   "source": [
    "# Callbacks\n",
    "log_dir = os.path.join(\"logs_ResNet50\", \"fit\", \"model_ResNet18_10_dropout_callbacks_sigmoid_10_biological_channels_trained\" + time.strftime(\"%Y%m%d-%H%M%S\"))\n",
    "tb_callback = TensorBoard(log_dir=log_dir, histogram_freq=1)\n",
    "\n",
    "callbacks_list = [\n",
    "    keras.callbacks.EarlyStopping(\n",
    "        monitor=\"val_loss\",\n",
    "        patience=12,   # Optimal patience value for validation accuracy\n",
    "    ),\n",
    "    keras.callbacks.ModelCheckpoint(\n",
    "        filepath=\"./models_ResNet/model_ResNet18_10_dropout_callbacks_sigmoid_10_biological_channels_trained.keras\", # save validation loss into file\n",
    "        monitor=\"val_loss\",  # monitor validation accuracy\n",
    "        save_best_only=True,\n",
    "    ),\n",
    "    ReduceLROnPlateau(\n",
    "    monitor=\"val_loss\",\n",
    "    factor=0.5,  \n",
    "    patience=3,\n",
    "    verbose=1,\n",
    "    mode=\"auto\",\n",
    "    min_delta=0.001,\n",
    "    min_lr=1.e-6,\n",
    "    ), \n",
    "    tb_callback\n",
    "]"
   ]
  },
  {
   "cell_type": "markdown",
   "id": "d31ec353-bfc9-4778-b547-682c210d76e1",
   "metadata": {},
   "source": [
    "### Train Model: now with 10 relevant biological channels"
   ]
  },
  {
   "cell_type": "code",
   "execution_count": 13,
   "id": "5deb2702-4a2f-4786-be9c-697054f0e85e",
   "metadata": {},
   "outputs": [
    {
     "name": "stdout",
     "output_type": "stream",
     "text": [
      "Epoch 1/50\n"
     ]
    },
    {
     "name": "stderr",
     "output_type": "stream",
     "text": [
      "I0000 00:00:1734532701.405598  834149 service.cc:146] XLA service 0x7f40f400b890 initialized for platform CUDA (this does not guarantee that XLA will be used). Devices:\n",
      "I0000 00:00:1734532701.405634  834149 service.cc:154]   StreamExecutor device (0): Tesla T4, Compute Capability 7.5\n",
      "2024-12-18 14:38:21.724212: I tensorflow/compiler/mlir/tensorflow/utils/dump_mlir_util.cc:268] disabling MLIR crash reproducer, set env var `MLIR_CRASH_REPRODUCER_DIRECTORY` to enable.\n",
      "2024-12-18 14:38:22.718843: I external/local_xla/xla/stream_executor/cuda/cuda_dnn.cc:531] Loaded cuDNN version 90300\n",
      "I0000 00:00:1734532722.222261  834149 device_compiler.h:188] Compiled cluster using XLA!  This line is logged at most once for the lifetime of the process.\n"
     ]
    },
    {
     "name": "stdout",
     "output_type": "stream",
     "text": [
      "\u001b[1m10/10\u001b[0m \u001b[32m━━━━━━━━━━━━━━━━━━━━\u001b[0m\u001b[37m\u001b[0m \u001b[1m54s\u001b[0m 3s/step - accuracy: 0.5326 - loss: 1.9484 - val_accuracy: 0.3706 - val_loss: 0.8165 - learning_rate: 1.0000e-04\n",
      "Epoch 2/50\n",
      "\u001b[1m10/10\u001b[0m \u001b[32m━━━━━━━━━━━━━━━━━━━━\u001b[0m\u001b[37m\u001b[0m \u001b[1m5s\u001b[0m 544ms/step - accuracy: 0.6235 - loss: 1.1048 - val_accuracy: 0.5482 - val_loss: 0.6828 - learning_rate: 1.0000e-04\n",
      "Epoch 3/50\n",
      "\u001b[1m10/10\u001b[0m \u001b[32m━━━━━━━━━━━━━━━━━━━━\u001b[0m\u001b[37m\u001b[0m \u001b[1m5s\u001b[0m 544ms/step - accuracy: 0.6948 - loss: 0.6035 - val_accuracy: 0.7665 - val_loss: 0.5835 - learning_rate: 1.0000e-04\n",
      "Epoch 4/50\n",
      "\u001b[1m10/10\u001b[0m \u001b[32m━━━━━━━━━━━━━━━━━━━━\u001b[0m\u001b[37m\u001b[0m \u001b[1m5s\u001b[0m 524ms/step - accuracy: 0.7810 - loss: 0.5012 - val_accuracy: 0.8274 - val_loss: 0.5057 - learning_rate: 1.0000e-04\n",
      "Epoch 5/50\n",
      "\u001b[1m10/10\u001b[0m \u001b[32m━━━━━━━━━━━━━━━━━━━━\u001b[0m\u001b[37m\u001b[0m \u001b[1m6s\u001b[0m 565ms/step - accuracy: 0.7893 - loss: 0.4768 - val_accuracy: 0.8122 - val_loss: 0.4424 - learning_rate: 1.0000e-04\n",
      "Epoch 6/50\n",
      "\u001b[1m10/10\u001b[0m \u001b[32m━━━━━━━━━━━━━━━━━━━━\u001b[0m\u001b[37m\u001b[0m \u001b[1m5s\u001b[0m 523ms/step - accuracy: 0.8115 - loss: 0.4281 - val_accuracy: 0.8376 - val_loss: 0.3842 - learning_rate: 1.0000e-04\n",
      "Epoch 7/50\n",
      "\u001b[1m10/10\u001b[0m \u001b[32m━━━━━━━━━━━━━━━━━━━━\u001b[0m\u001b[37m\u001b[0m \u001b[1m5s\u001b[0m 544ms/step - accuracy: 0.8172 - loss: 0.4123 - val_accuracy: 0.8325 - val_loss: 0.3751 - learning_rate: 1.0000e-04\n",
      "Epoch 8/50\n",
      "\u001b[1m10/10\u001b[0m \u001b[32m━━━━━━━━━━━━━━━━━━━━\u001b[0m\u001b[37m\u001b[0m \u001b[1m4s\u001b[0m 395ms/step - accuracy: 0.8433 - loss: 0.3797 - val_accuracy: 0.8528 - val_loss: 0.3795 - learning_rate: 1.0000e-04\n",
      "Epoch 9/50\n",
      "\u001b[1m10/10\u001b[0m \u001b[32m━━━━━━━━━━━━━━━━━━━━\u001b[0m\u001b[37m\u001b[0m \u001b[1m4s\u001b[0m 416ms/step - accuracy: 0.8538 - loss: 0.3774 - val_accuracy: 0.8274 - val_loss: 0.3962 - learning_rate: 1.0000e-04\n",
      "Epoch 10/50\n",
      "\u001b[1m10/10\u001b[0m \u001b[32m━━━━━━━━━━━━━━━━━━━━\u001b[0m\u001b[37m\u001b[0m \u001b[1m0s\u001b[0m 205ms/step - accuracy: 0.8727 - loss: 0.3518\n",
      "Epoch 10: ReduceLROnPlateau reducing learning rate to 4.999999873689376e-05.\n",
      "\u001b[1m10/10\u001b[0m \u001b[32m━━━━━━━━━━━━━━━━━━━━\u001b[0m\u001b[37m\u001b[0m \u001b[1m4s\u001b[0m 398ms/step - accuracy: 0.8724 - loss: 0.3509 - val_accuracy: 0.8325 - val_loss: 0.4180 - learning_rate: 1.0000e-04\n",
      "Epoch 11/50\n",
      "\u001b[1m10/10\u001b[0m \u001b[32m━━━━━━━━━━━━━━━━━━━━\u001b[0m\u001b[37m\u001b[0m \u001b[1m4s\u001b[0m 398ms/step - accuracy: 0.8277 - loss: 0.3773 - val_accuracy: 0.8426 - val_loss: 0.3801 - learning_rate: 5.0000e-05\n",
      "Epoch 12/50\n",
      "\u001b[1m10/10\u001b[0m \u001b[32m━━━━━━━━━━━━━━━━━━━━\u001b[0m\u001b[37m\u001b[0m \u001b[1m4s\u001b[0m 401ms/step - accuracy: 0.8562 - loss: 0.3433 - val_accuracy: 0.8274 - val_loss: 0.3886 - learning_rate: 5.0000e-05\n",
      "Epoch 13/50\n",
      "\u001b[1m10/10\u001b[0m \u001b[32m━━━━━━━━━━━━━━━━━━━━\u001b[0m\u001b[37m\u001b[0m \u001b[1m5s\u001b[0m 557ms/step - accuracy: 0.8621 - loss: 0.3056 - val_accuracy: 0.8376 - val_loss: 0.3724 - learning_rate: 5.0000e-05\n",
      "Epoch 14/50\n",
      "\u001b[1m10/10\u001b[0m \u001b[32m━━━━━━━━━━━━━━━━━━━━\u001b[0m\u001b[37m\u001b[0m \u001b[1m9s\u001b[0m 434ms/step - accuracy: 0.8600 - loss: 0.3309 - val_accuracy: 0.8274 - val_loss: 0.4042 - learning_rate: 5.0000e-05\n",
      "Epoch 15/50\n",
      "\u001b[1m10/10\u001b[0m \u001b[32m━━━━━━━━━━━━━━━━━━━━\u001b[0m\u001b[37m\u001b[0m \u001b[1m4s\u001b[0m 415ms/step - accuracy: 0.8547 - loss: 0.3525 - val_accuracy: 0.8223 - val_loss: 0.3961 - learning_rate: 5.0000e-05\n",
      "Epoch 16/50\n",
      "\u001b[1m10/10\u001b[0m \u001b[32m━━━━━━━━━━━━━━━━━━━━\u001b[0m\u001b[37m\u001b[0m \u001b[1m0s\u001b[0m 204ms/step - accuracy: 0.8717 - loss: 0.2950\n",
      "Epoch 16: ReduceLROnPlateau reducing learning rate to 2.499999936844688e-05.\n",
      "\u001b[1m10/10\u001b[0m \u001b[32m━━━━━━━━━━━━━━━━━━━━\u001b[0m\u001b[37m\u001b[0m \u001b[1m4s\u001b[0m 400ms/step - accuracy: 0.8717 - loss: 0.2965 - val_accuracy: 0.8274 - val_loss: 0.4002 - learning_rate: 5.0000e-05\n",
      "Epoch 17/50\n",
      "\u001b[1m10/10\u001b[0m \u001b[32m━━━━━━━━━━━━━━━━━━━━\u001b[0m\u001b[37m\u001b[0m \u001b[1m4s\u001b[0m 400ms/step - accuracy: 0.8691 - loss: 0.3109 - val_accuracy: 0.8223 - val_loss: 0.4185 - learning_rate: 2.5000e-05\n",
      "Epoch 18/50\n",
      "\u001b[1m10/10\u001b[0m \u001b[32m━━━━━━━━━━━━━━━━━━━━\u001b[0m\u001b[37m\u001b[0m \u001b[1m4s\u001b[0m 406ms/step - accuracy: 0.8883 - loss: 0.2819 - val_accuracy: 0.8274 - val_loss: 0.4089 - learning_rate: 2.5000e-05\n",
      "Epoch 19/50\n",
      "\u001b[1m10/10\u001b[0m \u001b[32m━━━━━━━━━━━━━━━━━━━━\u001b[0m\u001b[37m\u001b[0m \u001b[1m0s\u001b[0m 204ms/step - accuracy: 0.8717 - loss: 0.3424\n",
      "Epoch 19: ReduceLROnPlateau reducing learning rate to 1.249999968422344e-05.\n",
      "\u001b[1m10/10\u001b[0m \u001b[32m━━━━━━━━━━━━━━━━━━━━\u001b[0m\u001b[37m\u001b[0m \u001b[1m4s\u001b[0m 394ms/step - accuracy: 0.8710 - loss: 0.3432 - val_accuracy: 0.8122 - val_loss: 0.4621 - learning_rate: 2.5000e-05\n",
      "Epoch 20/50\n",
      "\u001b[1m10/10\u001b[0m \u001b[32m━━━━━━━━━━━━━━━━━━━━\u001b[0m\u001b[37m\u001b[0m \u001b[1m4s\u001b[0m 407ms/step - accuracy: 0.8553 - loss: 0.3266 - val_accuracy: 0.8223 - val_loss: 0.4215 - learning_rate: 1.2500e-05\n",
      "Epoch 21/50\n",
      "\u001b[1m10/10\u001b[0m \u001b[32m━━━━━━━━━━━━━━━━━━━━\u001b[0m\u001b[37m\u001b[0m \u001b[1m4s\u001b[0m 408ms/step - accuracy: 0.8731 - loss: 0.3034 - val_accuracy: 0.8223 - val_loss: 0.4197 - learning_rate: 1.2500e-05\n",
      "Epoch 22/50\n",
      "\u001b[1m10/10\u001b[0m \u001b[32m━━━━━━━━━━━━━━━━━━━━\u001b[0m\u001b[37m\u001b[0m \u001b[1m0s\u001b[0m 208ms/step - accuracy: 0.8440 - loss: 0.3392\n",
      "Epoch 22: ReduceLROnPlateau reducing learning rate to 6.24999984211172e-06.\n",
      "\u001b[1m10/10\u001b[0m \u001b[32m━━━━━━━━━━━━━━━━━━━━\u001b[0m\u001b[37m\u001b[0m \u001b[1m4s\u001b[0m 399ms/step - accuracy: 0.8452 - loss: 0.3388 - val_accuracy: 0.8223 - val_loss: 0.4386 - learning_rate: 1.2500e-05\n",
      "Epoch 23/50\n",
      "\u001b[1m10/10\u001b[0m \u001b[32m━━━━━━━━━━━━━━━━━━━━\u001b[0m\u001b[37m\u001b[0m \u001b[1m4s\u001b[0m 410ms/step - accuracy: 0.9000 - loss: 0.2772 - val_accuracy: 0.8173 - val_loss: 0.4509 - learning_rate: 6.2500e-06\n",
      "Epoch 24/50\n",
      "\u001b[1m10/10\u001b[0m \u001b[32m━━━━━━━━━━━━━━━━━━━━\u001b[0m\u001b[37m\u001b[0m \u001b[1m4s\u001b[0m 397ms/step - accuracy: 0.8758 - loss: 0.3169 - val_accuracy: 0.8173 - val_loss: 0.4539 - learning_rate: 6.2500e-06\n",
      "Epoch 25/50\n",
      "\u001b[1m10/10\u001b[0m \u001b[32m━━━━━━━━━━━━━━━━━━━━\u001b[0m\u001b[37m\u001b[0m \u001b[1m0s\u001b[0m 204ms/step - accuracy: 0.8465 - loss: 0.3863\n",
      "Epoch 25: ReduceLROnPlateau reducing learning rate to 3.12499992105586e-06.\n",
      "\u001b[1m10/10\u001b[0m \u001b[32m━━━━━━━━━━━━━━━━━━━━\u001b[0m\u001b[37m\u001b[0m \u001b[1m4s\u001b[0m 388ms/step - accuracy: 0.8486 - loss: 0.3828 - val_accuracy: 0.8071 - val_loss: 0.4588 - learning_rate: 6.2500e-06\n",
      "\n",
      "Elapsed time: 166.16032075881958 seconds\n"
=======
      "\u001b[1m13/13\u001b[0m \u001b[32m━━━━━━━━━━━━━━━━━━━━\u001b[0m\u001b[37m\u001b[0m \u001b[1m38s\u001b[0m 1s/step - accuracy: 0.6480 - loss: 0.9810 - learning_rate: 1.0000e-04\n",
      "Epoch 2/50\n",
      "\u001b[1m13/13\u001b[0m \u001b[32m━━━━━━━━━━━━━━━━━━━━\u001b[0m\u001b[37m\u001b[0m \u001b[1m6s\u001b[0m 426ms/step - accuracy: 0.6669 - loss: 0.8441 - learning_rate: 1.0000e-04\n",
      "Epoch 3/50\n",
      "\u001b[1m13/13\u001b[0m \u001b[32m━━━━━━━━━━━━━━━━━━━━\u001b[0m\u001b[37m\u001b[0m \u001b[1m6s\u001b[0m 429ms/step - accuracy: 0.7075 - loss: 0.6517 - learning_rate: 1.0000e-04\n",
      "Epoch 4/50\n",
      "\u001b[1m13/13\u001b[0m \u001b[32m━━━━━━━━━━━━━━━━━━━━\u001b[0m\u001b[37m\u001b[0m \u001b[1m6s\u001b[0m 443ms/step - accuracy: 0.7786 - loss: 0.4726 - learning_rate: 1.0000e-04\n",
      "Epoch 5/50\n",
      "\u001b[1m13/13\u001b[0m \u001b[32m━━━━━━━━━━━━━━━━━━━━\u001b[0m\u001b[37m\u001b[0m \u001b[1m6s\u001b[0m 474ms/step - accuracy: 0.8170 - loss: 0.3972 - learning_rate: 1.0000e-04\n",
      "Epoch 6/50\n",
      "\u001b[1m13/13\u001b[0m \u001b[32m━━━━━━━━━━━━━━━━━━━━\u001b[0m\u001b[37m\u001b[0m \u001b[1m6s\u001b[0m 468ms/step - accuracy: 0.8403 - loss: 0.3805 - learning_rate: 1.0000e-04\n",
      "Epoch 7/50\n",
      "\u001b[1m13/13\u001b[0m \u001b[32m━━━━━━━━━━━━━━━━━━━━\u001b[0m\u001b[37m\u001b[0m \u001b[1m6s\u001b[0m 454ms/step - accuracy: 0.8487 - loss: 0.3766 - learning_rate: 1.0000e-04\n",
      "Epoch 8/50\n",
      "\u001b[1m13/13\u001b[0m \u001b[32m━━━━━━━━━━━━━━━━━━━━\u001b[0m\u001b[37m\u001b[0m \u001b[1m6s\u001b[0m 453ms/step - accuracy: 0.8506 - loss: 0.3859 - learning_rate: 1.0000e-04\n",
      "Epoch 9/50\n",
      "\u001b[1m13/13\u001b[0m \u001b[32m━━━━━━━━━━━━━━━━━━━━\u001b[0m\u001b[37m\u001b[0m \u001b[1m6s\u001b[0m 436ms/step - accuracy: 0.8549 - loss: 0.3742 - learning_rate: 1.0000e-04\n",
      "Epoch 10/50\n",
      "\u001b[1m13/13\u001b[0m \u001b[32m━━━━━━━━━━━━━━━━━━━━\u001b[0m\u001b[37m\u001b[0m \u001b[1m6s\u001b[0m 484ms/step - accuracy: 0.8900 - loss: 0.2988 - learning_rate: 1.0000e-04\n",
      "Epoch 11/50\n",
      "\u001b[1m13/13\u001b[0m \u001b[32m━━━━━━━━━━━━━━━━━━━━\u001b[0m\u001b[37m\u001b[0m \u001b[1m5s\u001b[0m 359ms/step - accuracy: 0.8671 - loss: 0.3174 - learning_rate: 1.0000e-04\n",
      "Epoch 12/50\n",
      "\u001b[1m13/13\u001b[0m \u001b[32m━━━━━━━━━━━━━━━━━━━━\u001b[0m\u001b[37m\u001b[0m \u001b[1m5s\u001b[0m 355ms/step - accuracy: 0.8854 - loss: 0.2966 - learning_rate: 1.0000e-04\n",
      "Epoch 13/50\n",
      "\u001b[1m13/13\u001b[0m \u001b[32m━━━━━━━━━━━━━━━━━━━━\u001b[0m\u001b[37m\u001b[0m \u001b[1m0s\u001b[0m 224ms/step - accuracy: 0.8820 - loss: 0.3305\n",
      "Epoch 13: ReduceLROnPlateau reducing learning rate to 4.999999873689376e-05.\n",
      "\u001b[1m13/13\u001b[0m \u001b[32m━━━━━━━━━━━━━━━━━━━━\u001b[0m\u001b[37m\u001b[0m \u001b[1m6s\u001b[0m 458ms/step - accuracy: 0.8826 - loss: 0.3293 - learning_rate: 1.0000e-04\n",
      "Epoch 14/50\n",
      "\u001b[1m13/13\u001b[0m \u001b[32m━━━━━━━━━━━━━━━━━━━━\u001b[0m\u001b[37m\u001b[0m \u001b[1m5s\u001b[0m 350ms/step - accuracy: 0.8854 - loss: 0.3087 - learning_rate: 5.0000e-05\n",
      "Epoch 15/50\n",
      "\u001b[1m13/13\u001b[0m \u001b[32m━━━━━━━━━━━━━━━━━━━━\u001b[0m\u001b[37m\u001b[0m \u001b[1m5s\u001b[0m 353ms/step - accuracy: 0.8932 - loss: 0.2911 - learning_rate: 5.0000e-05\n",
      "Epoch 16/50\n",
      "\u001b[1m13/13\u001b[0m \u001b[32m━━━━━━━━━━━━━━━━━━━━\u001b[0m\u001b[37m\u001b[0m \u001b[1m6s\u001b[0m 464ms/step - accuracy: 0.8835 - loss: 0.2928 - learning_rate: 5.0000e-05\n",
      "Epoch 17/50\n",
      "\u001b[1m13/13\u001b[0m \u001b[32m━━━━━━━━━━━━━━━━━━━━\u001b[0m\u001b[37m\u001b[0m \u001b[1m6s\u001b[0m 462ms/step - accuracy: 0.8818 - loss: 0.3126 - learning_rate: 5.0000e-05\n",
      "Epoch 18/50\n",
      "\u001b[1m13/13\u001b[0m \u001b[32m━━━━━━━━━━━━━━━━━━━━\u001b[0m\u001b[37m\u001b[0m \u001b[1m6s\u001b[0m 474ms/step - accuracy: 0.8891 - loss: 0.2979 - learning_rate: 5.0000e-05\n",
      "Epoch 19/50\n",
      "\u001b[1m13/13\u001b[0m \u001b[32m━━━━━━━━━━━━━━━━━━━━\u001b[0m\u001b[37m\u001b[0m \u001b[1m5s\u001b[0m 352ms/step - accuracy: 0.8803 - loss: 0.3162 - learning_rate: 5.0000e-05\n",
      "Epoch 20/50\n",
      "\u001b[1m13/13\u001b[0m \u001b[32m━━━━━━━━━━━━━━━━━━━━\u001b[0m\u001b[37m\u001b[0m \u001b[1m5s\u001b[0m 348ms/step - accuracy: 0.8857 - loss: 0.2838 - learning_rate: 5.0000e-05\n",
      "Epoch 21/50\n",
      "\u001b[1m13/13\u001b[0m \u001b[32m━━━━━━━━━━━━━━━━━━━━\u001b[0m\u001b[37m\u001b[0m \u001b[1m6s\u001b[0m 447ms/step - accuracy: 0.8979 - loss: 0.2776 - learning_rate: 5.0000e-05\n",
      "Epoch 22/50\n",
      "\u001b[1m13/13\u001b[0m \u001b[32m━━━━━━━━━━━━━━━━━━━━\u001b[0m\u001b[37m\u001b[0m \u001b[1m5s\u001b[0m 354ms/step - accuracy: 0.8826 - loss: 0.2698 - learning_rate: 5.0000e-05\n",
      "Epoch 23/50\n",
      "\u001b[1m13/13\u001b[0m \u001b[32m━━━━━━━━━━━━━━━━━━━━\u001b[0m\u001b[37m\u001b[0m \u001b[1m5s\u001b[0m 343ms/step - accuracy: 0.9073 - loss: 0.2736 - learning_rate: 5.0000e-05\n",
      "Epoch 24/50\n",
      "\u001b[1m13/13\u001b[0m \u001b[32m━━━━━━━━━━━━━━━━━━━━\u001b[0m\u001b[37m\u001b[0m \u001b[1m6s\u001b[0m 471ms/step - accuracy: 0.8931 - loss: 0.2628 - learning_rate: 5.0000e-05\n",
      "Epoch 25/50\n",
      "\u001b[1m13/13\u001b[0m \u001b[32m━━━━━━━━━━━━━━━━━━━━\u001b[0m\u001b[37m\u001b[0m \u001b[1m5s\u001b[0m 355ms/step - accuracy: 0.8769 - loss: 0.2964 - learning_rate: 5.0000e-05\n",
      "Epoch 26/50\n",
      "\u001b[1m13/13\u001b[0m \u001b[32m━━━━━━━━━━━━━━━━━━━━\u001b[0m\u001b[37m\u001b[0m \u001b[1m5s\u001b[0m 352ms/step - accuracy: 0.8983 - loss: 0.2577 - learning_rate: 5.0000e-05\n",
      "Epoch 27/50\n",
      "\u001b[1m13/13\u001b[0m \u001b[32m━━━━━━━━━━━━━━━━━━━━\u001b[0m\u001b[37m\u001b[0m \u001b[1m0s\u001b[0m 227ms/step - accuracy: 0.8888 - loss: 0.2986\n",
      "Epoch 27: ReduceLROnPlateau reducing learning rate to 2.499999936844688e-05.\n",
      "\u001b[1m13/13\u001b[0m \u001b[32m━━━━━━━━━━━━━━━━━━━━\u001b[0m\u001b[37m\u001b[0m \u001b[1m5s\u001b[0m 350ms/step - accuracy: 0.8892 - loss: 0.2979 - learning_rate: 5.0000e-05\n",
      "Epoch 28/50\n",
      "\u001b[1m13/13\u001b[0m \u001b[32m━━━━━━━━━━━━━━━━━━━━\u001b[0m\u001b[37m\u001b[0m \u001b[1m5s\u001b[0m 362ms/step - accuracy: 0.8953 - loss: 0.2669 - learning_rate: 2.5000e-05\n",
      "Epoch 29/50\n",
      "\u001b[1m13/13\u001b[0m \u001b[32m━━━━━━━━━━━━━━━━━━━━\u001b[0m\u001b[37m\u001b[0m \u001b[1m5s\u001b[0m 361ms/step - accuracy: 0.8960 - loss: 0.2749 - learning_rate: 2.5000e-05\n",
      "Epoch 30/50\n",
      "\u001b[1m13/13\u001b[0m \u001b[32m━━━━━━━━━━━━━━━━━━━━\u001b[0m\u001b[37m\u001b[0m \u001b[1m6s\u001b[0m 444ms/step - accuracy: 0.9042 - loss: 0.2409 - learning_rate: 2.5000e-05\n",
      "Epoch 31/50\n",
      "\u001b[1m13/13\u001b[0m \u001b[32m━━━━━━━━━━━━━━━━━━━━\u001b[0m\u001b[37m\u001b[0m \u001b[1m5s\u001b[0m 348ms/step - accuracy: 0.8877 - loss: 0.2667 - learning_rate: 2.5000e-05\n",
      "Epoch 32/50\n",
      "\u001b[1m13/13\u001b[0m \u001b[32m━━━━━━━━━━━━━━━━━━━━\u001b[0m\u001b[37m\u001b[0m \u001b[1m5s\u001b[0m 357ms/step - accuracy: 0.8941 - loss: 0.2539 - learning_rate: 2.5000e-05\n",
      "Epoch 33/50\n",
      "\u001b[1m13/13\u001b[0m \u001b[32m━━━━━━━━━━━━━━━━━━━━\u001b[0m\u001b[37m\u001b[0m \u001b[1m0s\u001b[0m 230ms/step - accuracy: 0.9164 - loss: 0.2463\n",
      "Epoch 33: ReduceLROnPlateau reducing learning rate to 1.249999968422344e-05.\n",
      "\u001b[1m13/13\u001b[0m \u001b[32m━━━━━━━━━━━━━━━━━━━━\u001b[0m\u001b[37m\u001b[0m \u001b[1m6s\u001b[0m 468ms/step - accuracy: 0.9154 - loss: 0.2470 - learning_rate: 2.5000e-05\n",
      "Epoch 34/50\n",
      "\u001b[1m13/13\u001b[0m \u001b[32m━━━━━━━━━━━━━━━━━━━━\u001b[0m\u001b[37m\u001b[0m \u001b[1m6s\u001b[0m 463ms/step - accuracy: 0.8942 - loss: 0.2497 - learning_rate: 1.2500e-05\n",
      "Epoch 35/50\n",
      "\u001b[1m13/13\u001b[0m \u001b[32m━━━━━━━━━━━━━━━━━━━━\u001b[0m\u001b[37m\u001b[0m \u001b[1m5s\u001b[0m 374ms/step - accuracy: 0.8756 - loss: 0.2798 - learning_rate: 1.2500e-05\n",
      "Epoch 36/50\n",
      "\u001b[1m13/13\u001b[0m \u001b[32m━━━━━━━━━━━━━━━━━━━━\u001b[0m\u001b[37m\u001b[0m \u001b[1m5s\u001b[0m 360ms/step - accuracy: 0.9241 - loss: 0.2316 - learning_rate: 1.2500e-05\n",
      "Epoch 37/50\n",
      "\u001b[1m13/13\u001b[0m \u001b[32m━━━━━━━━━━━━━━━━━━━━\u001b[0m\u001b[37m\u001b[0m \u001b[1m0s\u001b[0m 231ms/step - accuracy: 0.9113 - loss: 0.2234\n",
      "Epoch 37: ReduceLROnPlateau reducing learning rate to 6.24999984211172e-06.\n",
      "\u001b[1m13/13\u001b[0m \u001b[32m━━━━━━━━━━━━━━━━━━━━\u001b[0m\u001b[37m\u001b[0m \u001b[1m5s\u001b[0m 365ms/step - accuracy: 0.9108 - loss: 0.2253 - learning_rate: 1.2500e-05\n",
      "Epoch 38/50\n",
      "\u001b[1m13/13\u001b[0m \u001b[32m━━━━━━━━━━━━━━━━━━━━\u001b[0m\u001b[37m\u001b[0m \u001b[1m6s\u001b[0m 464ms/step - accuracy: 0.9204 - loss: 0.2251 - learning_rate: 6.2500e-06\n",
      "Epoch 39/50\n",
      "\u001b[1m13/13\u001b[0m \u001b[32m━━━━━━━━━━━━━━━━━━━━\u001b[0m\u001b[37m\u001b[0m \u001b[1m5s\u001b[0m 370ms/step - accuracy: 0.9041 - loss: 0.2462 - learning_rate: 6.2500e-06\n",
      "Epoch 40/50\n",
      "\u001b[1m13/13\u001b[0m \u001b[32m━━━━━━━━━━━━━━━━━━━━\u001b[0m\u001b[37m\u001b[0m \u001b[1m5s\u001b[0m 368ms/step - accuracy: 0.8927 - loss: 0.2562 - learning_rate: 6.2500e-06\n",
      "Epoch 41/50\n",
      "\u001b[1m13/13\u001b[0m \u001b[32m━━━━━━━━━━━━━━━━━━━━\u001b[0m\u001b[37m\u001b[0m \u001b[1m0s\u001b[0m 230ms/step - accuracy: 0.8995 - loss: 0.2506\n",
      "Epoch 41: ReduceLROnPlateau reducing learning rate to 3.12499992105586e-06.\n",
      "\u001b[1m13/13\u001b[0m \u001b[32m━━━━━━━━━━━━━━━━━━━━\u001b[0m\u001b[37m\u001b[0m \u001b[1m5s\u001b[0m 371ms/step - accuracy: 0.8998 - loss: 0.2505 - learning_rate: 6.2500e-06\n",
      "Epoch 42/50\n",
      "\u001b[1m13/13\u001b[0m \u001b[32m━━━━━━━━━━━━━━━━━━━━\u001b[0m\u001b[37m\u001b[0m \u001b[1m5s\u001b[0m 375ms/step - accuracy: 0.9233 - loss: 0.2199 - learning_rate: 3.1250e-06\n",
      "Epoch 43/50\n",
      "\u001b[1m13/13\u001b[0m \u001b[32m━━━━━━━━━━━━━━━━━━━━\u001b[0m\u001b[37m\u001b[0m \u001b[1m5s\u001b[0m 367ms/step - accuracy: 0.8953 - loss: 0.2513 - learning_rate: 3.1250e-06\n",
      "Epoch 44/50\n",
      "\u001b[1m13/13\u001b[0m \u001b[32m━━━━━━━━━━━━━━━━━━━━\u001b[0m\u001b[37m\u001b[0m \u001b[1m0s\u001b[0m 228ms/step - accuracy: 0.9107 - loss: 0.2422\n",
      "Epoch 44: ReduceLROnPlateau reducing learning rate to 1.56249996052793e-06.\n",
      "\u001b[1m13/13\u001b[0m \u001b[32m━━━━━━━━━━━━━━━━━━━━\u001b[0m\u001b[37m\u001b[0m \u001b[1m5s\u001b[0m 363ms/step - accuracy: 0.9101 - loss: 0.2430 - learning_rate: 3.1250e-06\n",
      "Epoch 45/50\n",
      "\u001b[1m13/13\u001b[0m \u001b[32m━━━━━━━━━━━━━━━━━━━━\u001b[0m\u001b[37m\u001b[0m \u001b[1m6s\u001b[0m 460ms/step - accuracy: 0.9175 - loss: 0.2536 - learning_rate: 1.5625e-06\n",
      "Epoch 46/50\n",
      "\u001b[1m13/13\u001b[0m \u001b[32m━━━━━━━━━━━━━━━━━━━━\u001b[0m\u001b[37m\u001b[0m \u001b[1m6s\u001b[0m 472ms/step - accuracy: 0.9166 - loss: 0.2135 - learning_rate: 1.5625e-06\n",
      "Epoch 47/50\n",
      "\u001b[1m13/13\u001b[0m \u001b[32m━━━━━━━━━━━━━━━━━━━━\u001b[0m\u001b[37m\u001b[0m \u001b[1m6s\u001b[0m 455ms/step - accuracy: 0.8919 - loss: 0.2354 - learning_rate: 1.5625e-06\n",
      "Epoch 48/50\n",
      "\u001b[1m13/13\u001b[0m \u001b[32m━━━━━━━━━━━━━━━━━━━━\u001b[0m\u001b[37m\u001b[0m \u001b[1m5s\u001b[0m 354ms/step - accuracy: 0.9034 - loss: 0.2521 - learning_rate: 1.5625e-06\n",
      "Epoch 49/50\n",
      "\u001b[1m13/13\u001b[0m \u001b[32m━━━━━━━━━━━━━━━━━━━━\u001b[0m\u001b[37m\u001b[0m \u001b[1m5s\u001b[0m 346ms/step - accuracy: 0.9053 - loss: 0.2601 - learning_rate: 1.5625e-06\n",
      "Epoch 50/50\n",
      "\u001b[1m13/13\u001b[0m \u001b[32m━━━━━━━━━━━━━━━━━━━━\u001b[0m\u001b[37m\u001b[0m \u001b[1m0s\u001b[0m 229ms/step - accuracy: 0.9035 - loss: 0.2470\n",
      "Epoch 50: ReduceLROnPlateau reducing learning rate to 1e-06.\n",
      "\u001b[1m13/13\u001b[0m \u001b[32m━━━━━━━━━━━━━━━━━━━━\u001b[0m\u001b[37m\u001b[0m \u001b[1m5s\u001b[0m 347ms/step - accuracy: 0.9040 - loss: 0.2463 - learning_rate: 1.5625e-06\n",
      "\n",
      "Elapsed time: 301.2234773635864 seconds\n"
>>>>>>> luca4
     ]
    }
   ],
   "source": [
    "ROWS = 224; COLS = 224; CHANNELS = 10; CLASSES = 2; block_layers = [2,2,2,2] # ResNet18\n",
<<<<<<< HEAD
    "dropout_rate = 0.5\n",
    "# Build Network Graph \n",
=======
    "dropout_rate = 0.2# Build Network Graph \n",
>>>>>>> luca4
    "model_ResNet18 = ResNet(shape = (ROWS, COLS, CHANNELS), classes = CLASSES, block_layers = block_layers, dropout_rate = dropout_rate)\n",
    "\n",
    "# Compile Model \n",
    "l_rate = 1.e-4 # CHANGE HERE\n",
    "opt = keras.optimizers.Adam(learning_rate=l_rate)\n",
    "model_ResNet18.compile(optimizer=opt, loss='binary_crossentropy', metrics=[\"accuracy\"]) # Set threshold here\n",
    "\n",
    "# Train Model \n",
    "batch = 64\n",
    "epochs = 50\n",
    "start_time = time.time()\n",
    "\n",
    "history_ResNet18 = model_ResNet18.fit(X_train, y_train,\n",
    "                                      epochs = epochs, batch_size = batch, \n",
<<<<<<< HEAD
    "                                      validation_data = (X_val, y_val), callbacks = callbacks_list)\n",
=======
    "                                      callbacks = callbacks_list)\n",
>>>>>>> luca4
    "\n",
    "end_time = time.time()\n",
    "elapsed_time = end_time - start_time\n",
    "print(f\"\\nElapsed time: {elapsed_time} seconds\")"
   ]
  },
  {
<<<<<<< HEAD
   "cell_type": "markdown",
   "id": "48dcb0f5-d5bb-4246-a2c8-64da034bcabc",
   "metadata": {},
   "source": [
    "### Testing Accuracy"
   ]
  },
  {
   "cell_type": "code",
   "execution_count": 18,
   "id": "cffe7bbc-17b9-4f33-99c4-3f75bc0d3117",
=======
   "cell_type": "code",
   "execution_count": 35,
   "id": "0e965f57-23cf-4a61-b5d8-fe6f1cc663e8",
>>>>>>> luca4
   "metadata": {},
   "outputs": [
    {
     "name": "stdout",
     "output_type": "stream",
     "text": [
<<<<<<< HEAD
      "\u001b[1m7/7\u001b[0m \u001b[32m━━━━━━━━━━━━━━━━━━━━\u001b[0m\u001b[37m\u001b[0m \u001b[1m2s\u001b[0m 117ms/step - accuracy: 0.8029 - loss: 0.4065\n",
      "Test Accuracy (for unbalanced test set) is: 0.81%\n"
=======
      "\u001b[1m7/7\u001b[0m \u001b[32m━━━━━━━━━━━━━━━━━━━━\u001b[0m\u001b[37m\u001b[0m \u001b[1m2s\u001b[0m 125ms/step - accuracy: 0.8074 - loss: 0.5489\n",
      "Test Accuracy (for unbalanced test set) is: 0.82%\n"
>>>>>>> luca4
     ]
    }
   ],
   "source": [
    "# To load the model from file uncomment and run the following \n",
<<<<<<< HEAD
    "loaded_model = keras.saving.load_model('./models_ResNet/model_ResNet18_10_dropout_callbacks_sigmoid_10_biological_channels_trained.keras')\n",
=======
    "loaded_model = keras.saving.load_model('./models_ResNet/model_ResNet18_10_dropout_callbacks_sigmoid_balanced_10_biological_channels_full_trained.keras')\n",
>>>>>>> luca4
    "print(\"Test Accuracy (for unbalanced test set) is: {:.2f}%\".format(loaded_model.evaluate(X_test, y_test)[1]))"
   ]
  },
  {
<<<<<<< HEAD
   "cell_type": "markdown",
   "id": "e113359c-aa38-4bac-9e26-bf27bdec1ef6",
   "metadata": {},
   "source": [
    "### F1 Score"
   ]
  },
  {
   "cell_type": "code",
   "execution_count": 15,
   "id": "586a0571-7db1-449c-8924-62f4dea50d18",
=======
   "cell_type": "code",
   "execution_count": 36,
   "id": "7561da25-8f6d-4dce-a25e-98b0f09ba6e3",
>>>>>>> luca4
   "metadata": {},
   "outputs": [
    {
     "name": "stdout",
     "output_type": "stream",
     "text": [
<<<<<<< HEAD
      "\u001b[1m7/7\u001b[0m \u001b[32m━━━━━━━━━━━━━━━━━━━━\u001b[0m\u001b[37m\u001b[0m \u001b[1m2s\u001b[0m 206ms/step\n"
=======
      "WARNING:tensorflow:5 out of the last 15 calls to <function TensorFlowTrainer.make_predict_function.<locals>.one_step_on_data_distributed at 0x7fdbf29f3060> triggered tf.function retracing. Tracing is expensive and the excessive number of tracings could be due to (1) creating @tf.function repeatedly in a loop, (2) passing tensors with different shapes, (3) passing Python objects instead of tensors. For (1), please define your @tf.function outside of the loop. For (2), @tf.function has reduce_retracing=True option that can avoid unnecessary retracing. For (3), please refer to https://www.tensorflow.org/guide/function#controlling_retracing and https://www.tensorflow.org/api_docs/python/tf/function for  more details.\n",
      "\u001b[1m7/7\u001b[0m \u001b[32m━━━━━━━━━━━━━━━━━━━━\u001b[0m\u001b[37m\u001b[0m \u001b[1m2s\u001b[0m 194ms/step\n"
>>>>>>> luca4
     ]
    }
   ],
   "source": [
    "from sklearn.metrics import f1_score\n",
    "\n",
    "y_pred_test = loaded_model.predict(X_test)\n",
    "y_pred_test = (y_pred_test > 0.5).astype(int)\n",
    "f1 = f1_score(y_test, y_pred_test)"
   ]
  },
  {
   "cell_type": "code",
<<<<<<< HEAD
   "execution_count": 16,
   "id": "d95ad61c-440a-4d86-afac-d093097c34e0",
=======
   "execution_count": 37,
   "id": "40cb5cb0-d02e-447b-8bdf-7abe2d284490",
>>>>>>> luca4
   "metadata": {},
   "outputs": [
    {
     "name": "stdout",
     "output_type": "stream",
     "text": [
<<<<<<< HEAD
      "F1-Score (for balanced test set) is: 0.71\n"
=======
      "0.6949152542372882\n"
>>>>>>> luca4
     ]
    }
   ],
   "source": [
<<<<<<< HEAD
    "print(\"F1-Score (for balanced test set) is: {:.2f}\".format(f1))"
   ]
  },
  {
   "cell_type": "markdown",
   "id": "2e2df7a3-a62a-45fe-9a0c-56f442a25a75",
   "metadata": {},
   "source": [
    "### Confusion Matrix"
=======
    "print(f1)"
>>>>>>> luca4
   ]
  },
  {
   "cell_type": "code",
<<<<<<< HEAD
   "execution_count": 22,
   "id": "2ba4c107-c657-43e0-b27f-df0fa9a46e28",
=======
   "execution_count": 38,
   "id": "56e2f985-c7c4-4292-a4d5-4fd268ea3757",
>>>>>>> luca4
   "metadata": {},
   "outputs": [
    {
     "name": "stdout",
     "output_type": "stream",
     "text": [
<<<<<<< HEAD
      "WARNING:tensorflow:5 out of the last 15 calls to <function TensorFlowTrainer.make_predict_function.<locals>.one_step_on_data_distributed at 0x7f405295fa60> triggered tf.function retracing. Tracing is expensive and the excessive number of tracings could be due to (1) creating @tf.function repeatedly in a loop, (2) passing tensors with different shapes, (3) passing Python objects instead of tensors. For (1), please define your @tf.function outside of the loop. For (2), @tf.function has reduce_retracing=True option that can avoid unnecessary retracing. For (3), please refer to https://www.tensorflow.org/guide/function#controlling_retracing and https://www.tensorflow.org/api_docs/python/tf/function for  more details.\n",
      "\u001b[1m7/7\u001b[0m \u001b[32m━━━━━━━━━━━━━━━━━━━━\u001b[0m\u001b[37m\u001b[0m \u001b[1m2s\u001b[0m 205ms/step\n"
=======
      "\u001b[1m7/7\u001b[0m \u001b[32m━━━━━━━━━━━━━━━━━━━━\u001b[0m\u001b[37m\u001b[0m \u001b[1m2s\u001b[0m 192ms/step\n"
>>>>>>> luca4
     ]
    }
   ],
   "source": [
    "from sklearn.metrics import confusion_matrix\n",
<<<<<<< HEAD
    "loaded_model = keras.saving.load_model('./models_ResNet/model_ResNet18_10_dropout_callbacks_sigmoid_10_biological_channels_trained.keras')\n",
=======
    "loaded_model = keras.saving.load_model('./models_ResNet/model_ResNet18_10_dropout_callbacks_sigmoid_balanced_10_biological_channels_full_trained.keras')\n",
>>>>>>> luca4
    "y_pred_test = loaded_model.predict(X_test)\n",
    "y_pred_test = (y_pred_test > 0.5).astype(int)\n",
    "# Compute confusion matrix\n",
    "cm = confusion_matrix(y_test, y_pred_test)"
   ]
  },
  {
   "cell_type": "code",
<<<<<<< HEAD
   "execution_count": 23,
   "id": "95ea391d-bce8-48f0-9a06-52f7872d962e",
=======
   "execution_count": 39,
   "id": "7baf4c2f-8d2f-41d0-b8b7-bb099d646e08",
>>>>>>> luca4
   "metadata": {},
   "outputs": [
    {
     "data": {
<<<<<<< HEAD
      "image/png": "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",
=======
      "image/png": "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",
>>>>>>> luca4
      "text/plain": [
       "<Figure size 800x600 with 2 Axes>"
      ]
     },
     "metadata": {},
     "output_type": "display_data"
    }
   ],
   "source": [
    "def plot_confusion_matrix(cm, class_names):\n",
    "    plt.figure(figsize=(8, 6))\n",
    "    plt.imshow(cm, interpolation='nearest', cmap=plt.cm.Blues)\n",
<<<<<<< HEAD
    "    plt.title(\"Confusion Matrix (Unbalanced Test Dataset)\")\n",
=======
    "    plt.title(\"Confusion Matrix (Unbalanced Test Dataset): Full Model\")\n",
>>>>>>> luca4
    "    plt.colorbar()\n",
    "\n",
    "    # Add class labels to axes\n",
    "    tick_marks = np.arange(len(class_names))\n",
    "    plt.xticks(tick_marks, class_names, rotation=45)\n",
    "    plt.yticks(tick_marks, class_names)\n",
    "\n",
    "    # Add text annotations for each cell\n",
    "    thresh = cm.max() / 2  # Threshold for text color\n",
    "    for i, j in np.ndindex(cm.shape):\n",
    "        plt.text(j, i, format(cm[i, j], 'd'),\n",
    "                 horizontalalignment=\"center\",\n",
    "                 color=\"white\" if cm[i, j] > thresh else \"black\")\n",
    "\n",
    "    plt.ylabel(\"True Label\")\n",
    "    plt.xlabel(\"Predicted Label\")\n",
    "    plt.tight_layout()\n",
    "    plt.show()\n",
<<<<<<< HEAD
    "\n",
    "\n",
    "# # Example confusion matrix (computed earlier or loaded)\n",
    "# cm_ex = np.array([\n",
    "#     [50, 2, 1],\n",
    "#     [5, 45, 3],\n",
    "#     [2, 6, 40]\n",
    "# ])\n",
    "\n",
=======
    "    \n",
>>>>>>> luca4
    "# Class names (optional, for labeling the axes)\n",
    "class_names = ['PDL1 == 0', 'PDL1 == 1']\n",
    "\n",
    "# Call the function to plot the confusion matrix\n",
    "plot_confusion_matrix(cm, class_names)"
   ]
  }
 ],
 "metadata": {
  "kernelspec": {
   "display_name": "BME342 Env",
   "language": "python",
   "name": "bme342_gpu_env"
  },
  "language_info": {
   "codemirror_mode": {
    "name": "ipython",
    "version": 3
   },
   "file_extension": ".py",
   "mimetype": "text/x-python",
   "name": "python",
   "nbconvert_exporter": "python",
   "pygments_lexer": "ipython3",
   "version": "3.12.6"
  }
 },
 "nbformat": 4,
 "nbformat_minor": 5
}
