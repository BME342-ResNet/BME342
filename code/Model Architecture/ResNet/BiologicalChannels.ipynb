{
 "cells": [
  {
   "cell_type": "markdown",
   "id": "6423c422-04da-4edb-ba56-2a146476f0ba",
   "metadata": {},
   "source": [
    "# ResNet: Balanced Data Set \n",
    "\n",
    "After evaluating F1 Score, we want to train our model on balanced dataset and then predict the unbalanced dataset"
   ]
  },
  {
   "cell_type": "markdown",
   "id": "d287ef90-f246-452c-82a0-9d04df91e2d6",
   "metadata": {},
   "source": [
    "### Initialize Notebook & packages"
   ]
  },
  {
   "cell_type": "code",
   "execution_count": 1,
   "id": "540f84f3-10a2-4635-b20c-3fd5939db3f4",
   "metadata": {},
   "outputs": [
    {
     "name": "stderr",
     "output_type": "stream",
     "text": [
      "2024-12-22 16:06:32.268140: E external/local_xla/xla/stream_executor/cuda/cuda_fft.cc:477] Unable to register cuFFT factory: Attempting to register factory for plugin cuFFT when one has already been registered\n",
      "WARNING: All log messages before absl::InitializeLog() is called are written to STDERR\n",
      "E0000 00:00:1734883592.288580 1030022 cuda_dnn.cc:8310] Unable to register cuDNN factory: Attempting to register factory for plugin cuDNN when one has already been registered\n",
      "E0000 00:00:1734883592.294969 1030022 cuda_blas.cc:1418] Unable to register cuBLAS factory: Attempting to register factory for plugin cuBLAS when one has already been registered\n",
      "2024-12-22 16:06:32.317329: I tensorflow/core/platform/cpu_feature_guard.cc:210] This TensorFlow binary is optimized to use available CPU instructions in performance-critical operations.\n",
      "To enable the following instructions: AVX2 FMA, in other operations, rebuild TensorFlow with the appropriate compiler flags.\n"
     ]
    },
    {
     "name": "stdout",
     "output_type": "stream",
     "text": [
      "GPU enabled. Checking for available GPUs...\n",
      "1 Physical GPUs, 1 Logical GPUs\n",
      "\n",
      "Verifying TensorFlow and PyTorch CUDA setup...\n",
      "TensorFlow version: 2.18.0\n",
      "Built with CUDA: True\n",
      "Num GPUs Available: 1\n",
      "\n",
      "Keras version: 3.7.0\n",
      "\n",
      "End checks and initialization.\n"
     ]
    },
    {
     "name": "stderr",
     "output_type": "stream",
     "text": [
      "I0000 00:00:1734883595.764580 1030022 gpu_device.cc:2022] Created device /job:localhost/replica:0/task:0/device:GPU:0 with 13312 MB memory:  -> device: 0, name: Tesla T4, pci bus id: 0000:00:06.0, compute capability: 7.5\n"
     ]
    }
   ],
   "source": [
    "import helper as hp \n",
    "hp.initialize_notebook() # initialize with GPU enabled  \n",
    "# hp.initialize_notebook(False) # to disable GPU "
   ]
  },
  {
   "cell_type": "code",
   "execution_count": 2,
   "id": "9a539d5b-87bd-4bef-9dce-e8ed23101a53",
   "metadata": {},
   "outputs": [],
   "source": [
    "# Import standard libraries\n",
    "import os\n",
    "import sys\n",
    "import gc\n",
    "import numpy as np\n",
    "import pandas as pd\n",
    "import matplotlib.pyplot as plt\n",
    "import seaborn as sns\n",
    "import time\n",
    "import keras\n",
    "# Import DL libraries\n",
    "import tensorflow as tf\n",
    "from keras.models import Sequential\n",
    "from keras.layers import Input, Add, Dense, Activation, ZeroPadding2D, BatchNormalization, Flatten, Conv2D, AveragePooling2D, MaxPooling2D, Dropout # General Layers\n",
    "from keras.layers import RandomRotation, RandomFlip\n",
    "from keras import layers, models, Model, Input\n",
    "from keras.utils import to_categorical\n",
    "from keras.optimizers import Adam\n",
    "from keras.callbacks import ReduceLROnPlateau, EarlyStopping, TensorBoard\n",
    "from keras.initializers import glorot_uniform\n",
    "from keras.utils import plot_model\n",
    "from keras.metrics import F1Score, AUC\n",
    "# Suppress tensorflow warnings\n",
    "os.environ['TF_CPP_MIN_LOG_LEVEL'] = '2'\n",
    "\n",
    "# Import ML libraries\n",
    "from sklearn.metrics import f1_score, confusion_matrix, ConfusionMatrixDisplay\n",
    "from sklearn.preprocessing import LabelEncoder\n",
    "from sklearn.model_selection import train_test_split, StratifiedKFold, StratifiedShuffleSplit\n",
    "from sklearn.utils.class_weight import compute_class_weight\n",
    "\n",
    "# Import image libraries\n",
    "from skimage import transform\n",
    "import tifffile as tiff\n",
    "from tifffile import imread\n",
    "\n",
    "# Appends current working dir\n",
    "current_path = os.getcwd()\n",
    "sys.path.append(current_path)\n",
    "\n",
    "# Import custom preprocessing class\n",
    "from imc_preprocessing import IMCPreprocessor"
   ]
  },
  {
   "cell_type": "markdown",
   "id": "ffae5700-11b4-45a2-8685-0f902de0fe82",
   "metadata": {},
   "source": [
    "### Clear GPU memory"
   ]
  },
  {
   "cell_type": "code",
   "execution_count": 3,
   "id": "e6d5b5a3-ffb8-4aa6-a104-007089a21c2b",
   "metadata": {},
   "outputs": [],
   "source": [
    "import tensorflow as tf\n",
    "from keras import backend as K\n",
    "\n",
    "# Clear TensorFlow session and reset the graph\n",
    "K.clear_session()\n",
    "tf.compat.v1.reset_default_graph()"
   ]
  },
  {
   "cell_type": "markdown",
   "id": "a4b81817-ac05-4c27-9a08-c4358a629c1b",
   "metadata": {},
   "source": [
    "## IMPORT DATA"
   ]
  },
  {
   "cell_type": "markdown",
   "id": "1c2b0bc5-7e74-41b4-a06f-35ada36a27fc",
   "metadata": {},
   "source": [
    "### Train, validation and test split "
   ]
  },
  {
   "cell_type": "code",
   "execution_count": 4,
   "id": "fb5405b3-fab2-4569-8522-f7b2c02a69ad",
   "metadata": {},
   "outputs": [],
   "source": [
    "images_dir = '/home/jupyter-luvogt/Final_Project_LR/IMC_images' \n",
    "metadata_dir = '/home/jupyter-luvogt/Final_Project_LR/metadata.csv'\n",
    "# --- Load CSV and filter dataset ---\n",
    "csv_file = metadata_dir\n",
    "image_folder = images_dir\n",
    "\n",
    "# Load the CSV\n",
    "df = pd.read_csv(csv_file)\n",
    "\n",
    "# Filter rows with NA in PDL1_score and convert to binary\n",
    "df = df.dropna(subset=[\"PDL1_score\"])\n",
    "df[\"PDL1_score\"] = df[\"PDL1_score\"].astype(int)\n",
    "\n",
    "# --- Train-Test-Validation Split ---\n",
    "train_df, val_and_test_df = train_test_split(df, test_size=0.4, random_state=42, stratify=df[\"PDL1_score\"])\n",
    "test_df, val_df = train_test_split(val_and_test_df, test_size=0.5, random_state=42, stratify=val_and_test_df[\"PDL1_score\"])\n"
   ]
  },
  {
   "cell_type": "markdown",
   "id": "eebbbc41-02aa-43bb-b875-552d15b12834",
   "metadata": {},
   "source": [
    "### Import function for dataset"
   ]
  },
  {
   "cell_type": "code",
   "execution_count": 5,
   "id": "9f060b1f-09d4-4828-b6c6-06305c1d984a",
   "metadata": {},
   "outputs": [],
   "source": [
    "# --- Load Images and Compute Mean and Standard Deviation ---\n",
    "# Function to load a single image\n",
    "def load_image(image_path):\n",
    "    image = imread(image_path)  # Load all 46 channels\n",
    "    return image.astype(np.float32)\n",
    "\n",
    "# Initialize variables to accumulate sum and sum of squares\n",
    "nr_images = 0\n",
    "sum_images = np.zeros((46, 224, 224))\n",
    "sum_squared_images = np.zeros((46, 224, 224))\n",
    "\n",
    "# Accumulate the sum and sum of squares for the training dataset\n",
    "for _, row in train_df.iterrows():\n",
    "    image_path = os.path.join(image_folder, f\"{row['sample_id']}.tiff\")\n",
    "    image = load_image(image_path)\n",
    "    nr_images += 1\n",
    "    sum_images += image\n",
    "    sum_squared_images += image ** 2\n",
    "\n",
    "# Compute mean and standard deviation\n",
    "mean = sum_images / nr_images\n",
    "std = np.sqrt(sum_squared_images / nr_images - mean ** 2)\n",
    "\n",
    "# --- Dataset Loading Function ---\n",
    "\n",
    "def load_dataset(dataframe, image_folder, normalize = True): # augment = False\n",
    "    images = []\n",
    "    labels = []\n",
    "    \n",
    "    for _, row in dataframe.iterrows():\n",
    "        image_path = os.path.join(image_folder, f\"{row['sample_id']}.tiff\")\n",
    "        image = load_image(image_path)\n",
    "\n",
    "        if normalize:\n",
    "            image = (image - mean) / std # Z-Score\n",
    "\n",
    "        # Convert to channels-last format (224, 224, 46)\n",
    "        image = np.transpose(image, (1, 2, 0))\n",
    "\n",
    "        # # Apply data augmentation if specified\n",
    "        # if augment:\n",
    "        #     # Random horizontal flip\n",
    "        #     if np.random.rand() > 0.5:\n",
    "        #         image = np.flip(image, axis=2)\n",
    "        #     # Random vertical flip\n",
    "        #     if np.random.rand() > 0.5:\n",
    "        #         image = np.flip(image, axis=1)\n",
    "\n",
    "        images.append(image)\n",
    "        labels.append(row[\"PDL1_score\"])\n",
    "\n",
    "    return np.array(images), np.array(labels)"
   ]
  },
  {
   "cell_type": "markdown",
   "id": "06dfaf9f-8ab2-4b85-b576-fe70bbb53ffc",
   "metadata": {},
   "source": [
    "## ResNet18: with Tensor Board + 3 Channels + with Dropout + ReduceLR + EarlyStopping + sigmoid instead of softmax + 1 neuron instead of "
   ]
  },
  {
   "cell_type": "markdown",
   "id": "7db913bb-2abf-4c3a-aa86-523e2f5390f7",
   "metadata": {},
   "source": [
    "Adjust the last classificaiton layer to contain 1 neuron and the sigmoid activation function (instead of 2 neurons and the softmax), because this is more suited for binary classificaiton. Model retrained underneath"
   ]
  },
  {
   "cell_type": "markdown",
   "id": "d993d258-5cfe-4b4d-8e6a-4d484243aa18",
   "metadata": {},
   "source": [
    "### Create Datasets: Disable one-hot encoding for sigmoid / F1-Score"
   ]
  },
  {
   "cell_type": "code",
   "execution_count": 6,
   "id": "0b8101ec-37e6-40e5-9463-00f60c31e4b8",
   "metadata": {},
   "outputs": [],
   "source": [
    "# Training dataset without augmentation\n",
    "X_train, y_train = load_dataset(train_df, image_folder, normalize = True)\n",
    "# # Training dataset with data augmentation\n",
    "# X_train_aug, y_train_aug = load_dataset(train_df, image_folder, augment=True)\n",
    "# Validation dataset\n",
    "X_val, y_val = load_dataset(val_df, image_folder, normalize = True)\n",
    "# Test dataset\n",
    "X_test, y_test = load_dataset(test_df, image_folder, normalize = True)\n"
   ]
  },
  {
   "cell_type": "markdown",
   "id": "04802160-2647-4c04-b574-0c83d3b17045",
   "metadata": {},
   "source": [
    "### Drop biological irrelevant channels"
   ]
  },
  {
   "cell_type": "code",
   "execution_count": 7,
   "id": "1cc1cd02-9694-429c-9707-fec88f1490f0",
   "metadata": {},
   "outputs": [],
   "source": [
    "def drop_channels(image, channels_of_interest, channel_names):\n",
    "        channel_names_new = [i for i in channel_names if i not in channels_of_interest]\n",
    "        mask = np.zeros(image.shape[2], dtype=bool) # Error: np.zeros(image.shape[0], dtype=bool) and NOT np.zeros(image.shape[2], dtype=bool) (ONLY ERROR IF YOU DONT TRANSPOSE THE IMAGE, OTHERWISE OKEY)\n",
    "        \n",
    "        for i in channels_of_interest:\n",
    "            mask[channel_names.index(i)] = True\n",
    "        image = image[:, :, mask] # Error: image[mask, :, :] and not image[:, :, mask] ! (ONLY ERROR IF YOU DONT TRANSPOSE THE IMAGE, OTHERWISE OKEY)\n",
    "        \n",
    "        return image"
   ]
  },
  {
   "cell_type": "code",
   "execution_count": 8,
   "id": "77afc4b7-ca50-4d07-9fa8-f9335beac8aa",
   "metadata": {},
   "outputs": [],
   "source": [
    "channel_names_new = [\"Gd160\", \"Eu153\", \"Gd155\"]\n",
    "\n",
    "panel_dir = '/home/jupyter-luvogt/Final_Project_LR/panel.csv' \n",
    "panel_df = pd.read_csv(panel_dir)\n",
    "channel_names = dict(zip(panel_df['clean_target'].to_list(), panel_df['channel'].to_list()))"
   ]
  },
  {
   "cell_type": "code",
   "execution_count": 9,
   "id": "284cb64a-ca3c-41d3-b17e-e15533fdbdf1",
   "metadata": {},
   "outputs": [],
   "source": [
    "X_train = [drop_channels(i, channel_names_new, list(channel_names.values())) for i in X_train]\n",
    "X_val = [drop_channels(i, channel_names_new, list(channel_names.values())) for i in X_val]\n",
    "X_test = [drop_channels(i, channel_names_new, list(channel_names.values())) for i in X_test]"
   ]
  },
  {
   "cell_type": "code",
   "execution_count": 10,
   "id": "3f3b74f3-4f7c-4f9f-a26e-f2af7c0634db",
   "metadata": {},
   "outputs": [],
   "source": [
    "X_train = np.array(X_train)\n",
    "X_val = np.array(X_val)\n",
    "X_test = np.array(X_test)\n"
   ]
  },
  {
   "cell_type": "markdown",
   "id": "25bfb016-edd4-468f-9107-b9f3b1bcbbb4",
   "metadata": {},
   "source": [
    "### ResNet18: with Tensor Board + 3 Channels + with Dropout + ReduceLR + EarlyStopping + sigmoid (1 neuron) + binary cross entropy + 3 Channels"
   ]
  },
  {
   "cell_type": "code",
   "execution_count": 11,
   "id": "b2b46899-0938-4817-bb2d-c6771a086e13",
   "metadata": {
    "jupyter": {
     "source_hidden": true
    }
   },
   "outputs": [],
   "source": [
    "def identity_block(x, filter, dropout_rate = 0.5):\n",
    "    # copy tensor to variable called x_skip\n",
    "    x_skip = x\n",
    "    # Layer 1\n",
    "    x = tf.keras.layers.Conv2D(filter, (3,3), padding = 'same')(x)\n",
    "    x = tf.keras.layers.BatchNormalization(axis=3)(x)\n",
    "    x = Dropout(dropout_rate)(x)\n",
    "    x = tf.keras.layers.Activation('relu')(x)\n",
    "    # Layer 2\n",
    "    x = tf.keras.layers.Conv2D(filter, (3,3), padding = 'same')(x)\n",
    "    x = tf.keras.layers.BatchNormalization(axis=3)(x)\n",
    "    # Add Residue\n",
    "    x = tf.keras.layers.Add()([x, x_skip])     \n",
    "    x = tf.keras.layers.Activation('relu')(x)\n",
    "    return x\n",
    "\n",
    "def convolutional_block(x, filter, dropout_rate = 0.5):\n",
    "    # copy tensor to variable called x_skip\n",
    "    x_skip = x\n",
    "    # Layer 1\n",
    "    x = tf.keras.layers.Conv2D(filter, (3,3), padding = 'same', strides = (2,2))(x)\n",
    "    x = tf.keras.layers.BatchNormalization(axis=3)(x)\n",
    "    x = Dropout(dropout_rate)(x)\n",
    "    x = tf.keras.layers.Activation('relu')(x)\n",
    "    # Layer 2\n",
    "    x = tf.keras.layers.Conv2D(filter, (3,3), padding = 'same')(x)\n",
    "    x = tf.keras.layers.BatchNormalization(axis=3)(x)\n",
    "    # Processing Residue with conv(1,1)\n",
    "    x_skip = tf.keras.layers.Conv2D(filter, (1,1), strides = (2,2))(x_skip)\n",
    "    # Add Residue\n",
    "    x = tf.keras.layers.Add()([x, x_skip])     \n",
    "    x = tf.keras.layers.Activation('relu')(x)\n",
    "    return x\n",
    "\n",
    "def ResNet(shape = (32, 32, 3), classes = 10, block_layers = [3, 4, 6, 3], dropout_rate = 0.5):\n",
    "    # Step 1 (Setup Input Layer)\n",
    "    x_input = tf.keras.layers.Input(shape)\n",
    "    x = tf.keras.layers.ZeroPadding2D((3, 3))(x_input)\n",
    "    # Step 2 (Initial Conv layer along with maxPool)\n",
    "    x = tf.keras.layers.Conv2D(64, kernel_size=7, strides=2, padding='same')(x)\n",
    "    x = tf.keras.layers.BatchNormalization()(x)\n",
    "    x = Dropout(dropout_rate)(x)\n",
    "    x = tf.keras.layers.Activation('relu')(x)\n",
    "    x = tf.keras.layers.MaxPool2D(pool_size=3, strides=2, padding='same')(x)\n",
    "    # Define size of sub-blocks and initial filter size\n",
    "    block_layers = block_layers\n",
    "    filter_size = 64\n",
    "    # Step 3 Add the Resnet Blocks\n",
    "    for i in range(4):\n",
    "        if i == 0:\n",
    "            # For sub-block 1 Residual/Convolutional block not needed\n",
    "            for j in range(block_layers[i]):\n",
    "                x = identity_block(x, filter_size)\n",
    "        else:\n",
    "            # One Residual/Convolutional Block followed by Identity blocks\n",
    "            # The filter size will go on increasing by a factor of 2\n",
    "            filter_size = filter_size*2\n",
    "            x = convolutional_block(x, filter_size)\n",
    "            for j in range(block_layers[i] - 1):\n",
    "                x = identity_block(x, filter_size)\n",
    "    # Step 4 End Dense Network\n",
    "    x = tf.keras.layers.AveragePooling2D((2,2), padding = 'same')(x)\n",
    "    x = tf.keras.layers.Flatten()(x)\n",
    "    x = tf.keras.layers.Dense(512, activation = 'relu')(x)\n",
    "    x = Dropout(dropout_rate)(x)\n",
    "    x = tf.keras.layers.Dense(1, activation = 'sigmoid')(x) # Change last layer here: sigmoid and 1 neuron (classes -1)\n",
    "    model = tf.keras.models.Model(inputs = x_input, outputs = x, name = \"ResNet18\")\n",
    "    return model"
   ]
  },
  {
   "cell_type": "markdown",
   "id": "2a4f2069-52eb-4f95-b038-5e2fbbc75f40",
   "metadata": {},
   "source": [
    "### Callbacks "
   ]
  },
  {
   "cell_type": "code",
   "execution_count": 16,
   "id": "613392c7-5ea6-4641-85f2-de0172872332",
   "metadata": {
    "jupyter": {
     "source_hidden": true
    }
   },
   "outputs": [],
   "source": [
    "# Callbacks\n",
    "log_dir = os.path.join(\"logs_ResNet50\", \"fit\", \"model_ResNet18_46_dropout_callbacks_sigmoid_biological_channels_trained\" + time.strftime(\"%Y%m%d-%H%M%S\"))\n",
    "tb_callback = TensorBoard(log_dir=log_dir, histogram_freq=1)\n",
    "\n",
    "callbacks_list = [\n",
    "    keras.callbacks.EarlyStopping(\n",
    "        monitor=\"val_loss\",\n",
    "        patience=12,   # Optimal patience value for validation accuracy\n",
    "    ),\n",
    "    keras.callbacks.ModelCheckpoint(\n",
    "        filepath=\"./models_ResNet/model_ResNet18_46_dropout_callbacks_sigmoid_biological_channels_trained.keras\", # save validation loss into file\n",
    "        monitor=\"val_loss\",  # monitor validation accuracy\n",
    "        save_best_only=True,\n",
    "    ),\n",
    "    ReduceLROnPlateau(\n",
    "    monitor=\"val_loss\",\n",
    "    factor=0.5,  \n",
    "    patience=3,\n",
    "    verbose=1,\n",
    "    mode=\"auto\",\n",
    "    min_delta=0.001,\n",
    "    min_lr=1.e-6,\n",
    "    ), \n",
    "    tb_callback\n",
    "]"
   ]
  },
  {
   "cell_type": "markdown",
   "id": "01b74064-c987-475d-9c91-23c09fd358d1",
   "metadata": {},
   "source": [
    "### Train Model: NOW ONLY 3 CHANNELS"
   ]
  },
  {
   "cell_type": "code",
   "execution_count": 18,
   "id": "2a43deb3-3a42-41b7-a801-942b7a8559d1",
   "metadata": {
    "collapsed": true,
    "jupyter": {
     "outputs_hidden": true,
     "source_hidden": true
    }
   },
   "outputs": [
    {
     "name": "stdout",
     "output_type": "stream",
     "text": [
      "Epoch 1/50\n"
     ]
    },
    {
     "name": "stderr",
     "output_type": "stream",
     "text": [
      "I0000 00:00:1734476922.660306  748125 service.cc:146] XLA service 0x7efd6c005720 initialized for platform CUDA (this does not guarantee that XLA will be used). Devices:\n",
      "I0000 00:00:1734476922.660342  748125 service.cc:154]   StreamExecutor device (0): Tesla T4, Compute Capability 7.5\n",
      "2024-12-17 23:08:42.952908: I tensorflow/compiler/mlir/tensorflow/utils/dump_mlir_util.cc:268] disabling MLIR crash reproducer, set env var `MLIR_CRASH_REPRODUCER_DIRECTORY` to enable.\n",
      "2024-12-17 23:08:43.956313: I external/local_xla/xla/stream_executor/cuda/cuda_dnn.cc:531] Loaded cuDNN version 90300\n",
      "I0000 00:00:1734476942.125781  748125 device_compiler.h:188] Compiled cluster using XLA!  This line is logged at most once for the lifetime of the process.\n"
     ]
    },
    {
     "name": "stdout",
     "output_type": "stream",
     "text": [
      "\u001b[1m10/10\u001b[0m \u001b[32m━━━━━━━━━━━━━━━━━━━━\u001b[0m\u001b[37m\u001b[0m \u001b[1m51s\u001b[0m 3s/step - accuracy: 0.6364 - loss: 1.2215 - val_accuracy: 0.4772 - val_loss: 0.7406 - learning_rate: 1.0000e-04\n",
      "Epoch 2/50\n",
      "\u001b[1m10/10\u001b[0m \u001b[32m━━━━━━━━━━━━━━━━━━━━\u001b[0m\u001b[37m\u001b[0m \u001b[1m5s\u001b[0m 497ms/step - accuracy: 0.7671 - loss: 0.6652 - val_accuracy: 0.7817 - val_loss: 0.5766 - learning_rate: 1.0000e-04\n",
      "Epoch 3/50\n",
      "\u001b[1m10/10\u001b[0m \u001b[32m━━━━━━━━━━━━━━━━━━━━\u001b[0m\u001b[37m\u001b[0m \u001b[1m4s\u001b[0m 446ms/step - accuracy: 0.7917 - loss: 0.5535 - val_accuracy: 0.7665 - val_loss: 0.5324 - learning_rate: 1.0000e-04\n",
      "Epoch 4/50\n",
      "\u001b[1m10/10\u001b[0m \u001b[32m━━━━━━━━━━━━━━━━━━━━\u001b[0m\u001b[37m\u001b[0m \u001b[1m4s\u001b[0m 430ms/step - accuracy: 0.8141 - loss: 0.4327 - val_accuracy: 0.7817 - val_loss: 0.5287 - learning_rate: 1.0000e-04\n",
      "Epoch 5/50\n",
      "\u001b[1m10/10\u001b[0m \u001b[32m━━━━━━━━━━━━━━━━━━━━\u001b[0m\u001b[37m\u001b[0m \u001b[1m4s\u001b[0m 452ms/step - accuracy: 0.8658 - loss: 0.3454 - val_accuracy: 0.7970 - val_loss: 0.4584 - learning_rate: 1.0000e-04\n",
      "Epoch 6/50\n",
      "\u001b[1m10/10\u001b[0m \u001b[32m━━━━━━━━━━━━━━━━━━━━\u001b[0m\u001b[37m\u001b[0m \u001b[1m3s\u001b[0m 331ms/step - accuracy: 0.8608 - loss: 0.3679 - val_accuracy: 0.7817 - val_loss: 0.4686 - learning_rate: 1.0000e-04\n",
      "Epoch 7/50\n",
      "\u001b[1m10/10\u001b[0m \u001b[32m━━━━━━━━━━━━━━━━━━━━\u001b[0m\u001b[37m\u001b[0m \u001b[1m4s\u001b[0m 462ms/step - accuracy: 0.8652 - loss: 0.3831 - val_accuracy: 0.8274 - val_loss: 0.4568 - learning_rate: 1.0000e-04\n",
      "Epoch 8/50\n",
      "\u001b[1m10/10\u001b[0m \u001b[32m━━━━━━━━━━━━━━━━━━━━\u001b[0m\u001b[37m\u001b[0m \u001b[1m5s\u001b[0m 428ms/step - accuracy: 0.8726 - loss: 0.3226 - val_accuracy: 0.7970 - val_loss: 0.4399 - learning_rate: 1.0000e-04\n",
      "Epoch 9/50\n",
      "\u001b[1m10/10\u001b[0m \u001b[32m━━━━━━━━━━━━━━━━━━━━\u001b[0m\u001b[37m\u001b[0m \u001b[1m3s\u001b[0m 320ms/step - accuracy: 0.8396 - loss: 0.3871 - val_accuracy: 0.8223 - val_loss: 0.4561 - learning_rate: 1.0000e-04\n",
      "Epoch 10/50\n",
      "\u001b[1m10/10\u001b[0m \u001b[32m━━━━━━━━━━━━━━━━━━━━\u001b[0m\u001b[37m\u001b[0m \u001b[1m3s\u001b[0m 335ms/step - accuracy: 0.8842 - loss: 0.2940 - val_accuracy: 0.8020 - val_loss: 0.4529 - learning_rate: 1.0000e-04\n",
      "Epoch 11/50\n",
      "\u001b[1m10/10\u001b[0m \u001b[32m━━━━━━━━━━━━━━━━━━━━\u001b[0m\u001b[37m\u001b[0m \u001b[1m4s\u001b[0m 462ms/step - accuracy: 0.8604 - loss: 0.3606 - val_accuracy: 0.8020 - val_loss: 0.4373 - learning_rate: 1.0000e-04\n",
      "Epoch 12/50\n",
      "\u001b[1m10/10\u001b[0m \u001b[32m━━━━━━━━━━━━━━━━━━━━\u001b[0m\u001b[37m\u001b[0m \u001b[1m5s\u001b[0m 478ms/step - accuracy: 0.8777 - loss: 0.2998 - val_accuracy: 0.8376 - val_loss: 0.4164 - learning_rate: 1.0000e-04\n",
      "Epoch 13/50\n",
      "\u001b[1m10/10\u001b[0m \u001b[32m━━━━━━━━━━━━━━━━━━━━\u001b[0m\u001b[37m\u001b[0m \u001b[1m3s\u001b[0m 328ms/step - accuracy: 0.8677 - loss: 0.3498 - val_accuracy: 0.8173 - val_loss: 0.4319 - learning_rate: 1.0000e-04\n",
      "Epoch 14/50\n",
      "\u001b[1m10/10\u001b[0m \u001b[32m━━━━━━━━━━━━━━━━━━━━\u001b[0m\u001b[37m\u001b[0m \u001b[1m3s\u001b[0m 341ms/step - accuracy: 0.8513 - loss: 0.3620 - val_accuracy: 0.8477 - val_loss: 0.4549 - learning_rate: 1.0000e-04\n",
      "Epoch 15/50\n",
      "\u001b[1m10/10\u001b[0m \u001b[32m━━━━━━━━━━━━━━━━━━━━\u001b[0m\u001b[37m\u001b[0m \u001b[1m0s\u001b[0m 178ms/step - accuracy: 0.8692 - loss: 0.3250\n",
      "Epoch 15: ReduceLROnPlateau reducing learning rate to 4.999999873689376e-05.\n",
      "\u001b[1m10/10\u001b[0m \u001b[32m━━━━━━━━━━━━━━━━━━━━\u001b[0m\u001b[37m\u001b[0m \u001b[1m3s\u001b[0m 338ms/step - accuracy: 0.8697 - loss: 0.3243 - val_accuracy: 0.8325 - val_loss: 0.4272 - learning_rate: 1.0000e-04\n",
      "Epoch 16/50\n",
      "\u001b[1m10/10\u001b[0m \u001b[32m━━━━━━━━━━━━━━━━━━━━\u001b[0m\u001b[37m\u001b[0m \u001b[1m3s\u001b[0m 345ms/step - accuracy: 0.8756 - loss: 0.2955 - val_accuracy: 0.8477 - val_loss: 0.4292 - learning_rate: 5.0000e-05\n",
      "Epoch 17/50\n",
      "\u001b[1m10/10\u001b[0m \u001b[32m━━━━━━━━━━━━━━━━━━━━\u001b[0m\u001b[37m\u001b[0m \u001b[1m3s\u001b[0m 334ms/step - accuracy: 0.8959 - loss: 0.2715 - val_accuracy: 0.8071 - val_loss: 0.4694 - learning_rate: 5.0000e-05\n",
      "Epoch 18/50\n",
      "\u001b[1m10/10\u001b[0m \u001b[32m━━━━━━━━━━━━━━━━━━━━\u001b[0m\u001b[37m\u001b[0m \u001b[1m0s\u001b[0m 180ms/step - accuracy: 0.8649 - loss: 0.2963\n",
      "Epoch 18: ReduceLROnPlateau reducing learning rate to 2.499999936844688e-05.\n",
      "\u001b[1m10/10\u001b[0m \u001b[32m━━━━━━━━━━━━━━━━━━━━\u001b[0m\u001b[37m\u001b[0m \u001b[1m3s\u001b[0m 351ms/step - accuracy: 0.8646 - loss: 0.2972 - val_accuracy: 0.8122 - val_loss: 0.4686 - learning_rate: 5.0000e-05\n",
      "Epoch 19/50\n",
      "\u001b[1m10/10\u001b[0m \u001b[32m━━━━━━━━━━━━━━━━━━━━\u001b[0m\u001b[37m\u001b[0m \u001b[1m3s\u001b[0m 337ms/step - accuracy: 0.8922 - loss: 0.2838 - val_accuracy: 0.8020 - val_loss: 0.4555 - learning_rate: 2.5000e-05\n",
      "Epoch 20/50\n",
      "\u001b[1m10/10\u001b[0m \u001b[32m━━━━━━━━━━━━━━━━━━━━\u001b[0m\u001b[37m\u001b[0m \u001b[1m3s\u001b[0m 325ms/step - accuracy: 0.8925 - loss: 0.2772 - val_accuracy: 0.7868 - val_loss: 0.4567 - learning_rate: 2.5000e-05\n",
      "Epoch 21/50\n",
      "\u001b[1m10/10\u001b[0m \u001b[32m━━━━━━━━━━━━━━━━━━━━\u001b[0m\u001b[37m\u001b[0m \u001b[1m0s\u001b[0m 179ms/step - accuracy: 0.8731 - loss: 0.3117\n",
      "Epoch 21: ReduceLROnPlateau reducing learning rate to 1.249999968422344e-05.\n",
      "\u001b[1m10/10\u001b[0m \u001b[32m━━━━━━━━━━━━━━━━━━━━\u001b[0m\u001b[37m\u001b[0m \u001b[1m3s\u001b[0m 344ms/step - accuracy: 0.8741 - loss: 0.3098 - val_accuracy: 0.7868 - val_loss: 0.4702 - learning_rate: 2.5000e-05\n",
      "Epoch 22/50\n",
      "\u001b[1m10/10\u001b[0m \u001b[32m━━━━━━━━━━━━━━━━━━━━\u001b[0m\u001b[37m\u001b[0m \u001b[1m3s\u001b[0m 351ms/step - accuracy: 0.8850 - loss: 0.2910 - val_accuracy: 0.7868 - val_loss: 0.4741 - learning_rate: 1.2500e-05\n",
      "Epoch 23/50\n",
      "\u001b[1m10/10\u001b[0m \u001b[32m━━━━━━━━━━━━━━━━━━━━\u001b[0m\u001b[37m\u001b[0m \u001b[1m3s\u001b[0m 324ms/step - accuracy: 0.8883 - loss: 0.2941 - val_accuracy: 0.7868 - val_loss: 0.4771 - learning_rate: 1.2500e-05\n",
      "Epoch 24/50\n",
      "\u001b[1m10/10\u001b[0m \u001b[32m━━━━━━━━━━━━━━━━━━━━\u001b[0m\u001b[37m\u001b[0m \u001b[1m0s\u001b[0m 179ms/step - accuracy: 0.8958 - loss: 0.2723\n",
      "Epoch 24: ReduceLROnPlateau reducing learning rate to 6.24999984211172e-06.\n",
      "\u001b[1m10/10\u001b[0m \u001b[32m━━━━━━━━━━━━━━━━━━━━\u001b[0m\u001b[37m\u001b[0m \u001b[1m3s\u001b[0m 325ms/step - accuracy: 0.8951 - loss: 0.2743 - val_accuracy: 0.7919 - val_loss: 0.4793 - learning_rate: 1.2500e-05\n",
      "\n",
      "Elapsed time: 138.8389768600464 seconds\n"
     ]
    }
   ],
   "source": [
    "ROWS = 224; COLS = 224; CHANNELS = 3; CLASSES = 2; block_layers = [2,2,2,2] # ResNet18\n",
    "dropout_rate = 0.5\n",
    "# Build Network Graph \n",
    "model_ResNet18 = ResNet(shape = (ROWS, COLS, CHANNELS), classes = CLASSES, block_layers = block_layers, dropout_rate = dropout_rate)\n",
    "\n",
    "# Compile Model \n",
    "l_rate = 1.e-4 # CHANGE HERE\n",
    "opt = keras.optimizers.Adam(learning_rate=l_rate)\n",
    "model_ResNet18.compile(optimizer=opt, loss='binary_crossentropy', metrics=[\"accuracy\"]) # Set threshold here\n",
    "\n",
    "# Train Model \n",
    "batch = 64\n",
    "epochs = 50\n",
    "start_time = time.time()\n",
    "\n",
    "history_ResNet18 = model_ResNet18.fit(X_train, y_train,\n",
    "                                      epochs = epochs, batch_size = batch, \n",
    "                                      validation_data = (X_val, y_val), callbacks = callbacks_list)\n",
    "\n",
    "end_time = time.time()\n",
    "elapsed_time = end_time - start_time\n",
    "print(f\"\\nElapsed time: {elapsed_time} seconds\")"
   ]
  },
  {
   "cell_type": "code",
   "execution_count": 21,
   "id": "b28f4678-2435-4035-bc48-a7de3432a9db",
   "metadata": {
    "jupyter": {
     "source_hidden": true
    }
   },
   "outputs": [],
   "source": [
    "# Batch Sizes & Learnign now different different\n",
    "# Callbacks\n",
    "log_dir = os.path.join(\"logs_ResNet50\", \"fit\", \"model_ResNet18_46_dropout_callbacks_sigmoid_biological_channels_trained_lr2\" + time.strftime(\"%Y%m%d-%H%M%S\"))\n",
    "tb_callback = TensorBoard(log_dir=log_dir, histogram_freq=1)\n",
    "\n",
    "callbacks_list = [\n",
    "    keras.callbacks.EarlyStopping(\n",
    "        monitor=\"val_loss\",\n",
    "        patience=12,   # Optimal patience value for validation accuracy\n",
    "    ),\n",
    "    keras.callbacks.ModelCheckpoint(\n",
    "        filepath=\"./models_ResNet/model_ResNet18_46_dropout_callbacks_sigmoid_biological_channels_trained_lr2.keras\", # save validation loss into file\n",
    "        monitor=\"val_loss\",  # monitor validation accuracy\n",
    "        save_best_only=True,\n",
    "    ),\n",
    "    ReduceLROnPlateau(\n",
    "    monitor=\"val_loss\",\n",
    "    factor=0.5,  \n",
    "    patience=3,\n",
    "    verbose=1,\n",
    "    mode=\"auto\",\n",
    "    min_delta=0.001,\n",
    "    min_lr=1.e-6,\n",
    "    ), \n",
    "    tb_callback\n",
    "]"
   ]
  },
  {
   "cell_type": "code",
   "execution_count": 22,
   "id": "5f1f2db2-a609-4890-bc84-adf71d758d41",
   "metadata": {
    "collapsed": true,
    "jupyter": {
     "outputs_hidden": true,
     "source_hidden": true
    }
   },
   "outputs": [
    {
     "name": "stdout",
     "output_type": "stream",
     "text": [
      "Epoch 1/50\n",
      "\u001b[1m10/10\u001b[0m \u001b[32m━━━━━━━━━━━━━━━━━━━━\u001b[0m\u001b[37m\u001b[0m \u001b[1m39s\u001b[0m 2s/step - accuracy: 0.5260 - loss: 75.6202 - val_accuracy: 0.5076 - val_loss: 85474328576.0000 - learning_rate: 0.0100\n",
      "Epoch 2/50\n",
      "\u001b[1m10/10\u001b[0m \u001b[32m━━━━━━━━━━━━━━━━━━━━\u001b[0m\u001b[37m\u001b[0m \u001b[1m5s\u001b[0m 502ms/step - accuracy: 0.5664 - loss: 3.9623 - val_accuracy: 0.3604 - val_loss: 4689342464.0000 - learning_rate: 0.0100\n",
      "Epoch 3/50\n",
      "\u001b[1m10/10\u001b[0m \u001b[32m━━━━━━━━━━━━━━━━━━━━\u001b[0m\u001b[37m\u001b[0m \u001b[1m5s\u001b[0m 513ms/step - accuracy: 0.6674 - loss: 3.5486 - val_accuracy: 0.6345 - val_loss: 12539939.0000 - learning_rate: 0.0100\n",
      "Epoch 4/50\n",
      "\u001b[1m10/10\u001b[0m \u001b[32m━━━━━━━━━━━━━━━━━━━━\u001b[0m\u001b[37m\u001b[0m \u001b[1m5s\u001b[0m 546ms/step - accuracy: 0.7396 - loss: 0.7426 - val_accuracy: 0.3604 - val_loss: 2641269.5000 - learning_rate: 0.0100\n",
      "Epoch 5/50\n",
      "\u001b[1m10/10\u001b[0m \u001b[32m━━━━━━━━━━━━━━━━━━━━\u001b[0m\u001b[37m\u001b[0m \u001b[1m5s\u001b[0m 514ms/step - accuracy: 0.6792 - loss: 0.6293 - val_accuracy: 0.3655 - val_loss: 63773.3711 - learning_rate: 0.0100\n",
      "Epoch 6/50\n",
      "\u001b[1m10/10\u001b[0m \u001b[32m━━━━━━━━━━━━━━━━━━━━\u001b[0m\u001b[37m\u001b[0m \u001b[1m5s\u001b[0m 535ms/step - accuracy: 0.7072 - loss: 0.6440 - val_accuracy: 0.4112 - val_loss: 253.0368 - learning_rate: 0.0100\n",
      "Epoch 7/50\n",
      "\u001b[1m10/10\u001b[0m \u001b[32m━━━━━━━━━━━━━━━━━━━━\u001b[0m\u001b[37m\u001b[0m \u001b[1m4s\u001b[0m 392ms/step - accuracy: 0.6691 - loss: 1.7909 - val_accuracy: 0.3706 - val_loss: 82604.3984 - learning_rate: 0.0100\n",
      "Epoch 8/50\n",
      "\u001b[1m10/10\u001b[0m \u001b[32m━━━━━━━━━━━━━━━━━━━━\u001b[0m\u001b[37m\u001b[0m \u001b[1m4s\u001b[0m 389ms/step - accuracy: 0.4291 - loss: 1.1021 - val_accuracy: 0.3249 - val_loss: 15497.7666 - learning_rate: 0.0100\n",
      "Epoch 9/50\n",
      "\u001b[1m10/10\u001b[0m \u001b[32m━━━━━━━━━━━━━━━━━━━━\u001b[0m\u001b[37m\u001b[0m \u001b[1m0s\u001b[0m 182ms/step - accuracy: 0.6438 - loss: 1.0853\n",
      "Epoch 9: ReduceLROnPlateau reducing learning rate to 0.004999999888241291.\n",
      "\u001b[1m10/10\u001b[0m \u001b[32m━━━━━━━━━━━━━━━━━━━━\u001b[0m\u001b[37m\u001b[0m \u001b[1m4s\u001b[0m 370ms/step - accuracy: 0.6422 - loss: 1.0916 - val_accuracy: 0.3299 - val_loss: 4461.0166 - learning_rate: 0.0100\n",
      "Epoch 10/50\n",
      "\u001b[1m10/10\u001b[0m \u001b[32m━━━━━━━━━━━━━━━━━━━━\u001b[0m\u001b[37m\u001b[0m \u001b[1m4s\u001b[0m 378ms/step - accuracy: 0.6576 - loss: 0.9265 - val_accuracy: 0.2690 - val_loss: 310.1215 - learning_rate: 0.0050\n",
      "Epoch 11/50\n",
      "\u001b[1m10/10\u001b[0m \u001b[32m━━━━━━━━━━━━━━━━━━━━\u001b[0m\u001b[37m\u001b[0m \u001b[1m5s\u001b[0m 509ms/step - accuracy: 0.6471 - loss: 0.7670 - val_accuracy: 0.5025 - val_loss: 32.8152 - learning_rate: 0.0050\n",
      "Epoch 12/50\n",
      "\u001b[1m10/10\u001b[0m \u001b[32m━━━━━━━━━━━━━━━━━━━━\u001b[0m\u001b[37m\u001b[0m \u001b[1m5s\u001b[0m 536ms/step - accuracy: 0.6397 - loss: 0.7226 - val_accuracy: 0.4721 - val_loss: 6.1116 - learning_rate: 0.0050\n",
      "Epoch 13/50\n",
      "\u001b[1m10/10\u001b[0m \u001b[32m━━━━━━━━━━━━━━━━━━━━\u001b[0m\u001b[37m\u001b[0m \u001b[1m5s\u001b[0m 522ms/step - accuracy: 0.6501 - loss: 0.7225 - val_accuracy: 0.6447 - val_loss: 1.8061 - learning_rate: 0.0050\n",
      "Epoch 14/50\n",
      "\u001b[1m10/10\u001b[0m \u001b[32m━━━━━━━━━━━━━━━━━━━━\u001b[0m\u001b[37m\u001b[0m \u001b[1m5s\u001b[0m 501ms/step - accuracy: 0.6850 - loss: 0.7373 - val_accuracy: 0.6497 - val_loss: 0.7940 - learning_rate: 0.0050\n",
      "Epoch 15/50\n",
      "\u001b[1m10/10\u001b[0m \u001b[32m━━━━━━━━━━━━━━━━━━━━\u001b[0m\u001b[37m\u001b[0m \u001b[1m4s\u001b[0m 391ms/step - accuracy: 0.6418 - loss: 0.6869 - val_accuracy: 0.6497 - val_loss: 0.8499 - learning_rate: 0.0050\n",
      "Epoch 16/50\n",
      "\u001b[1m10/10\u001b[0m \u001b[32m━━━━━━━━━━━━━━━━━━━━\u001b[0m\u001b[37m\u001b[0m \u001b[1m4s\u001b[0m 378ms/step - accuracy: 0.6316 - loss: 0.7787 - val_accuracy: 0.6345 - val_loss: 1.0847 - learning_rate: 0.0050\n",
      "Epoch 17/50\n",
      "\u001b[1m10/10\u001b[0m \u001b[32m━━━━━━━━━━━━━━━━━━━━\u001b[0m\u001b[37m\u001b[0m \u001b[1m0s\u001b[0m 182ms/step - accuracy: 0.6257 - loss: 0.7681\n",
      "Epoch 17: ReduceLROnPlateau reducing learning rate to 0.0024999999441206455.\n",
      "\u001b[1m10/10\u001b[0m \u001b[32m━━━━━━━━━━━━━━━━━━━━\u001b[0m\u001b[37m\u001b[0m \u001b[1m4s\u001b[0m 368ms/step - accuracy: 0.6240 - loss: 0.7739 - val_accuracy: 0.6041 - val_loss: 2.4135 - learning_rate: 0.0050\n",
      "Epoch 18/50\n",
      "\u001b[1m10/10\u001b[0m \u001b[32m━━━━━━━━━━━━━━━━━━━━\u001b[0m\u001b[37m\u001b[0m \u001b[1m4s\u001b[0m 372ms/step - accuracy: 0.5622 - loss: 0.8632 - val_accuracy: 0.6041 - val_loss: 1.6301 - learning_rate: 0.0025\n",
      "Epoch 19/50\n",
      "\u001b[1m10/10\u001b[0m \u001b[32m━━━━━━━━━━━━━━━━━━━━\u001b[0m\u001b[37m\u001b[0m \u001b[1m4s\u001b[0m 377ms/step - accuracy: 0.6642 - loss: 0.6606 - val_accuracy: 0.6142 - val_loss: 1.0460 - learning_rate: 0.0025\n",
      "Epoch 20/50\n",
      "\u001b[1m10/10\u001b[0m \u001b[32m━━━━━━━━━━━━━━━━━━━━\u001b[0m\u001b[37m\u001b[0m \u001b[1m0s\u001b[0m 184ms/step - accuracy: 0.6333 - loss: 0.6625\n",
      "Epoch 20: ReduceLROnPlateau reducing learning rate to 0.0012499999720603228.\n",
      "\u001b[1m10/10\u001b[0m \u001b[32m━━━━━━━━━━━━━━━━━━━━\u001b[0m\u001b[37m\u001b[0m \u001b[1m4s\u001b[0m 379ms/step - accuracy: 0.6338 - loss: 0.6627 - val_accuracy: 0.6041 - val_loss: 0.8160 - learning_rate: 0.0025\n",
      "Epoch 21/50\n",
      "\u001b[1m10/10\u001b[0m \u001b[32m━━━━━━━━━━━━━━━━━━━━\u001b[0m\u001b[37m\u001b[0m \u001b[1m5s\u001b[0m 479ms/step - accuracy: 0.6519 - loss: 0.6662 - val_accuracy: 0.6244 - val_loss: 0.7212 - learning_rate: 0.0012\n",
      "Epoch 22/50\n",
      "\u001b[1m10/10\u001b[0m \u001b[32m━━━━━━━━━━━━━━━━━━━━\u001b[0m\u001b[37m\u001b[0m \u001b[1m5s\u001b[0m 506ms/step - accuracy: 0.6198 - loss: 0.6597 - val_accuracy: 0.6244 - val_loss: 0.6724 - learning_rate: 0.0012\n",
      "Epoch 23/50\n",
      "\u001b[1m10/10\u001b[0m \u001b[32m━━━━━━━━━━━━━━━━━━━━\u001b[0m\u001b[37m\u001b[0m \u001b[1m4s\u001b[0m 390ms/step - accuracy: 0.6486 - loss: 0.6840 - val_accuracy: 0.6345 - val_loss: 0.6893 - learning_rate: 0.0012\n",
      "Epoch 24/50\n",
      "\u001b[1m10/10\u001b[0m \u001b[32m━━━━━━━━━━━━━━━━━━━━\u001b[0m\u001b[37m\u001b[0m \u001b[1m4s\u001b[0m 367ms/step - accuracy: 0.6577 - loss: 0.6754 - val_accuracy: 0.6294 - val_loss: 0.7052 - learning_rate: 0.0012\n",
      "Epoch 25/50\n",
      "\u001b[1m10/10\u001b[0m \u001b[32m━━━━━━━━━━━━━━━━━━━━\u001b[0m\u001b[37m\u001b[0m \u001b[1m0s\u001b[0m 184ms/step - accuracy: 0.6855 - loss: 0.6096\n",
      "Epoch 25: ReduceLROnPlateau reducing learning rate to 0.0006249999860301614.\n",
      "\u001b[1m10/10\u001b[0m \u001b[32m━━━━━━━━━━━━━━━━━━━━\u001b[0m\u001b[37m\u001b[0m \u001b[1m4s\u001b[0m 373ms/step - accuracy: 0.6848 - loss: 0.6102 - val_accuracy: 0.6193 - val_loss: 0.6835 - learning_rate: 0.0012\n",
      "Epoch 26/50\n",
      "\u001b[1m10/10\u001b[0m \u001b[32m━━━━━━━━━━━━━━━━━━━━\u001b[0m\u001b[37m\u001b[0m \u001b[1m4s\u001b[0m 370ms/step - accuracy: 0.6515 - loss: 0.6358 - val_accuracy: 0.6294 - val_loss: 0.6904 - learning_rate: 6.2500e-04\n",
      "Epoch 27/50\n",
      "\u001b[1m10/10\u001b[0m \u001b[32m━━━━━━━━━━━━━━━━━━━━\u001b[0m\u001b[37m\u001b[0m \u001b[1m3s\u001b[0m 361ms/step - accuracy: 0.6674 - loss: 0.6129 - val_accuracy: 0.6345 - val_loss: 0.6737 - learning_rate: 6.2500e-04\n",
      "Epoch 28/50\n",
      "\u001b[1m10/10\u001b[0m \u001b[32m━━━━━━━━━━━━━━━━━━━━\u001b[0m\u001b[37m\u001b[0m \u001b[1m5s\u001b[0m 534ms/step - accuracy: 0.6597 - loss: 0.6096 - val_accuracy: 0.6396 - val_loss: 0.6700 - learning_rate: 6.2500e-04\n",
      "Epoch 29/50\n",
      "\u001b[1m10/10\u001b[0m \u001b[32m━━━━━━━━━━━━━━━━━━━━\u001b[0m\u001b[37m\u001b[0m \u001b[1m4s\u001b[0m 370ms/step - accuracy: 0.6744 - loss: 0.6108 - val_accuracy: 0.6345 - val_loss: 0.6722 - learning_rate: 6.2500e-04\n",
      "Epoch 30/50\n",
      "\u001b[1m10/10\u001b[0m \u001b[32m━━━━━━━━━━━━━━━━━━━━\u001b[0m\u001b[37m\u001b[0m \u001b[1m5s\u001b[0m 512ms/step - accuracy: 0.6618 - loss: 0.5983 - val_accuracy: 0.6345 - val_loss: 0.6608 - learning_rate: 6.2500e-04\n",
      "Epoch 31/50\n",
      "\u001b[1m10/10\u001b[0m \u001b[32m━━━━━━━━━━━━━━━━━━━━\u001b[0m\u001b[37m\u001b[0m \u001b[1m5s\u001b[0m 514ms/step - accuracy: 0.6800 - loss: 0.5911 - val_accuracy: 0.6345 - val_loss: 0.6476 - learning_rate: 6.2500e-04\n",
      "Epoch 32/50\n",
      "\u001b[1m10/10\u001b[0m \u001b[32m━━━━━━━━━━━━━━━━━━━━\u001b[0m\u001b[37m\u001b[0m \u001b[1m4s\u001b[0m 357ms/step - accuracy: 0.6890 - loss: 0.5995 - val_accuracy: 0.6904 - val_loss: 0.6484 - learning_rate: 6.2500e-04\n",
      "Epoch 33/50\n",
      "\u001b[1m10/10\u001b[0m \u001b[32m━━━━━━━━━━━━━━━━━━━━\u001b[0m\u001b[37m\u001b[0m \u001b[1m4s\u001b[0m 366ms/step - accuracy: 0.7187 - loss: 0.5646 - val_accuracy: 0.7157 - val_loss: 0.6543 - learning_rate: 6.2500e-04\n",
      "Epoch 34/50\n",
      "\u001b[1m10/10\u001b[0m \u001b[32m━━━━━━━━━━━━━━━━━━━━\u001b[0m\u001b[37m\u001b[0m \u001b[1m5s\u001b[0m 535ms/step - accuracy: 0.7332 - loss: 0.5458 - val_accuracy: 0.7005 - val_loss: 0.6424 - learning_rate: 6.2500e-04\n",
      "Epoch 35/50\n",
      "\u001b[1m10/10\u001b[0m \u001b[32m━━━━━━━━━━━━━━━━━━━━\u001b[0m\u001b[37m\u001b[0m \u001b[1m5s\u001b[0m 512ms/step - accuracy: 0.7845 - loss: 0.5027 - val_accuracy: 0.6853 - val_loss: 0.6394 - learning_rate: 6.2500e-04\n",
      "Epoch 36/50\n",
      "\u001b[1m10/10\u001b[0m \u001b[32m━━━━━━━━━━━━━━━━━━━━\u001b[0m\u001b[37m\u001b[0m \u001b[1m4s\u001b[0m 369ms/step - accuracy: 0.7381 - loss: 0.5435 - val_accuracy: 0.6041 - val_loss: 0.6680 - learning_rate: 6.2500e-04\n",
      "Epoch 37/50\n",
      "\u001b[1m10/10\u001b[0m \u001b[32m━━━━━━━━━━━━━━━━━━━━\u001b[0m\u001b[37m\u001b[0m \u001b[1m4s\u001b[0m 382ms/step - accuracy: 0.7581 - loss: 0.5437 - val_accuracy: 0.5787 - val_loss: 0.6684 - learning_rate: 6.2500e-04\n",
      "Epoch 38/50\n",
      "\u001b[1m10/10\u001b[0m \u001b[32m━━━━━━━━━━━━━━━━━━━━\u001b[0m\u001b[37m\u001b[0m \u001b[1m0s\u001b[0m 184ms/step - accuracy: 0.7763 - loss: 0.4941\n",
      "Epoch 38: ReduceLROnPlateau reducing learning rate to 0.0003124999930150807.\n",
      "\u001b[1m10/10\u001b[0m \u001b[32m━━━━━━━━━━━━━━━━━━━━\u001b[0m\u001b[37m\u001b[0m \u001b[1m4s\u001b[0m 387ms/step - accuracy: 0.7758 - loss: 0.4952 - val_accuracy: 0.5381 - val_loss: 0.6887 - learning_rate: 6.2500e-04\n",
      "Epoch 39/50\n",
      "\u001b[1m10/10\u001b[0m \u001b[32m━━━━━━━━━━━━━━━━━━━━\u001b[0m\u001b[37m\u001b[0m \u001b[1m4s\u001b[0m 379ms/step - accuracy: 0.7798 - loss: 0.4946 - val_accuracy: 0.5482 - val_loss: 0.6936 - learning_rate: 3.1250e-04\n",
      "Epoch 40/50\n",
      "\u001b[1m10/10\u001b[0m \u001b[32m━━━━━━━━━━━━━━━━━━━━\u001b[0m\u001b[37m\u001b[0m \u001b[1m4s\u001b[0m 393ms/step - accuracy: 0.7811 - loss: 0.4769 - val_accuracy: 0.5279 - val_loss: 0.7057 - learning_rate: 3.1250e-04\n",
      "Epoch 41/50\n",
      "\u001b[1m10/10\u001b[0m \u001b[32m━━━━━━━━━━━━━━━━━━━━\u001b[0m\u001b[37m\u001b[0m \u001b[1m0s\u001b[0m 184ms/step - accuracy: 0.8018 - loss: 0.5045\n",
      "Epoch 41: ReduceLROnPlateau reducing learning rate to 0.00015624999650754035.\n",
      "\u001b[1m10/10\u001b[0m \u001b[32m━━━━━━━━━━━━━━━━━━━━\u001b[0m\u001b[37m\u001b[0m \u001b[1m5s\u001b[0m 391ms/step - accuracy: 0.8007 - loss: 0.5051 - val_accuracy: 0.5279 - val_loss: 0.7172 - learning_rate: 3.1250e-04\n",
      "Epoch 42/50\n",
      "\u001b[1m10/10\u001b[0m \u001b[32m━━━━━━━━━━━━━━━━━━━━\u001b[0m\u001b[37m\u001b[0m \u001b[1m4s\u001b[0m 393ms/step - accuracy: 0.7813 - loss: 0.4713 - val_accuracy: 0.5482 - val_loss: 0.7055 - learning_rate: 1.5625e-04\n",
      "Epoch 43/50\n",
      "\u001b[1m10/10\u001b[0m \u001b[32m━━━━━━━━━━━━━━━━━━━━\u001b[0m\u001b[37m\u001b[0m \u001b[1m4s\u001b[0m 393ms/step - accuracy: 0.7838 - loss: 0.4770 - val_accuracy: 0.5685 - val_loss: 0.6961 - learning_rate: 1.5625e-04\n",
      "Epoch 44/50\n",
      "\u001b[1m10/10\u001b[0m \u001b[32m━━━━━━━━━━━━━━━━━━━━\u001b[0m\u001b[37m\u001b[0m \u001b[1m0s\u001b[0m 183ms/step - accuracy: 0.7523 - loss: 0.5104\n",
      "Epoch 44: ReduceLROnPlateau reducing learning rate to 7.812499825377017e-05.\n",
      "\u001b[1m10/10\u001b[0m \u001b[32m━━━━━━━━━━━━━━━━━━━━\u001b[0m\u001b[37m\u001b[0m \u001b[1m4s\u001b[0m 383ms/step - accuracy: 0.7543 - loss: 0.5080 - val_accuracy: 0.5888 - val_loss: 0.6784 - learning_rate: 1.5625e-04\n",
      "Epoch 45/50\n",
      "\u001b[1m10/10\u001b[0m \u001b[32m━━━━━━━━━━━━━━━━━━━━\u001b[0m\u001b[37m\u001b[0m \u001b[1m4s\u001b[0m 393ms/step - accuracy: 0.8068 - loss: 0.4418 - val_accuracy: 0.5990 - val_loss: 0.6672 - learning_rate: 7.8125e-05\n",
      "Epoch 46/50\n",
      "\u001b[1m10/10\u001b[0m \u001b[32m━━━━━━━━━━━━━━━━━━━━\u001b[0m\u001b[37m\u001b[0m \u001b[1m4s\u001b[0m 390ms/step - accuracy: 0.7709 - loss: 0.5022 - val_accuracy: 0.6041 - val_loss: 0.6598 - learning_rate: 7.8125e-05\n",
      "Epoch 47/50\n",
      "\u001b[1m10/10\u001b[0m \u001b[32m━━━━━━━━━━━━━━━━━━━━\u001b[0m\u001b[37m\u001b[0m \u001b[1m0s\u001b[0m 182ms/step - accuracy: 0.7836 - loss: 0.4602\n",
      "Epoch 47: ReduceLROnPlateau reducing learning rate to 3.9062499126885086e-05.\n",
      "\u001b[1m10/10\u001b[0m \u001b[32m━━━━━━━━━━━━━━━━━━━━\u001b[0m\u001b[37m\u001b[0m \u001b[1m4s\u001b[0m 389ms/step - accuracy: 0.7834 - loss: 0.4624 - val_accuracy: 0.6294 - val_loss: 0.6491 - learning_rate: 7.8125e-05\n",
      "\n",
      "Elapsed time: 229.46515822410583 seconds\n"
     ]
    }
   ],
   "source": [
    "ROWS = 224; COLS = 224; CHANNELS = 3; CLASSES = 2; block_layers = [2,2,2,2] # ResNet18\n",
    "dropout_rate = 0.5\n",
    "# Build Network Graph \n",
    "model_ResNet18 = ResNet(shape = (ROWS, COLS, CHANNELS), classes = CLASSES, block_layers = block_layers, dropout_rate = dropout_rate)\n",
    "\n",
    "# Compile Model \n",
    "l_rate = 1.e-2 # CHANGE HERE\n",
    "opt = keras.optimizers.Adam(learning_rate=l_rate)\n",
    "model_ResNet18.compile(optimizer=opt, loss='binary_crossentropy', metrics=[\"accuracy\"]) # Set threshold here\n",
    "\n",
    "# Train Model \n",
    "batch = 64\n",
    "epochs = 50\n",
    "start_time = time.time()\n",
    "\n",
    "history_ResNet18 = model_ResNet18.fit(X_train, y_train,\n",
    "                                      epochs = epochs, batch_size = batch, \n",
    "                                      validation_data = (X_val, y_val), callbacks = callbacks_list)\n",
    "\n",
    "end_time = time.time()\n",
    "elapsed_time = end_time - start_time\n",
    "print(f\"\\nElapsed time: {elapsed_time} seconds\")"
   ]
  },
  {
   "cell_type": "code",
   "execution_count": null,
   "id": "8f227581-a3c5-41c3-9a6e-923f5189a52b",
   "metadata": {},
   "outputs": [],
   "source": []
  },
  {
   "cell_type": "markdown",
   "id": "787f0048-24a3-4ad9-9da4-eea881800c07",
   "metadata": {},
   "source": [
    "### Testing Accuracy! "
   ]
  },
  {
   "cell_type": "code",
   "execution_count": null,
   "id": "2dfb078d-18b8-42a7-910d-1a37feb0cc6e",
   "metadata": {
    "collapsed": true,
    "jupyter": {
     "outputs_hidden": true,
     "source_hidden": true
    }
   },
   "outputs": [
    {
     "name": "stderr",
     "output_type": "stream",
     "text": [
      "2024-12-19 00:05:15.707331: I external/local_xla/xla/stream_executor/cuda/cuda_driver.cc:1578] failed to allocate 13.00GiB (13958643712 bytes) from device: CUDA_ERROR_OUT_OF_MEMORY: out of memory\n",
      "2024-12-19 00:05:15.707472: I external/local_xla/xla/stream_executor/cuda/cuda_driver.cc:1578] failed to allocate 11.70GiB (12562779136 bytes) from device: CUDA_ERROR_OUT_OF_MEMORY: out of memory\n",
      "2024-12-19 00:05:15.707573: I external/local_xla/xla/stream_executor/cuda/cuda_driver.cc:1578] failed to allocate 10.53GiB (11306501120 bytes) from device: CUDA_ERROR_OUT_OF_MEMORY: out of memory\n",
      "2024-12-19 00:05:15.707670: I external/local_xla/xla/stream_executor/cuda/cuda_driver.cc:1578] failed to allocate 9.48GiB (10175850496 bytes) from device: CUDA_ERROR_OUT_OF_MEMORY: out of memory\n",
      "2024-12-19 00:05:15.707767: I external/local_xla/xla/stream_executor/cuda/cuda_driver.cc:1578] failed to allocate 8.53GiB (9158264832 bytes) from device: CUDA_ERROR_OUT_OF_MEMORY: out of memory\n",
      "2024-12-19 00:05:15.707865: I external/local_xla/xla/stream_executor/cuda/cuda_driver.cc:1578] failed to allocate 7.68GiB (8242438144 bytes) from device: CUDA_ERROR_OUT_OF_MEMORY: out of memory\n",
      "2024-12-19 00:05:15.707957: I external/local_xla/xla/stream_executor/cuda/cuda_driver.cc:1578] failed to allocate 6.91GiB (7418193920 bytes) from device: CUDA_ERROR_OUT_OF_MEMORY: out of memory\n",
      "2024-12-19 00:05:15.708047: I external/local_xla/xla/stream_executor/cuda/cuda_driver.cc:1578] failed to allocate 6.22GiB (6676374528 bytes) from device: CUDA_ERROR_OUT_OF_MEMORY: out of memory\n",
      "2024-12-19 00:05:15.708137: I external/local_xla/xla/stream_executor/cuda/cuda_driver.cc:1578] failed to allocate 5.60GiB (6008736768 bytes) from device: CUDA_ERROR_OUT_OF_MEMORY: out of memory\n",
      "2024-12-19 00:05:15.708226: I external/local_xla/xla/stream_executor/cuda/cuda_driver.cc:1578] failed to allocate 5.04GiB (5407862784 bytes) from device: CUDA_ERROR_OUT_OF_MEMORY: out of memory\n",
      "2024-12-19 00:05:15.708314: I external/local_xla/xla/stream_executor/cuda/cuda_driver.cc:1578] failed to allocate 4.53GiB (4867076608 bytes) from device: CUDA_ERROR_OUT_OF_MEMORY: out of memory\n",
      "2024-12-19 00:05:15.708402: I external/local_xla/xla/stream_executor/cuda/cuda_driver.cc:1578] failed to allocate 4.08GiB (4380368896 bytes) from device: CUDA_ERROR_OUT_OF_MEMORY: out of memory\n",
      "2024-12-19 00:05:15.708492: I external/local_xla/xla/stream_executor/cuda/cuda_driver.cc:1578] failed to allocate 3.67GiB (3942331904 bytes) from device: CUDA_ERROR_OUT_OF_MEMORY: out of memory\n",
      "2024-12-19 00:05:15.708579: I external/local_xla/xla/stream_executor/cuda/cuda_driver.cc:1578] failed to allocate 3.30GiB (3548098560 bytes) from device: CUDA_ERROR_OUT_OF_MEMORY: out of memory\n",
      "2024-12-19 00:05:15.708665: I external/local_xla/xla/stream_executor/cuda/cuda_driver.cc:1578] failed to allocate 2.97GiB (3193288704 bytes) from device: CUDA_ERROR_OUT_OF_MEMORY: out of memory\n",
      "2024-12-19 00:05:15.708750: I external/local_xla/xla/stream_executor/cuda/cuda_driver.cc:1578] failed to allocate 2.68GiB (2873959680 bytes) from device: CUDA_ERROR_OUT_OF_MEMORY: out of memory\n",
      "2024-12-19 00:05:15.708835: I external/local_xla/xla/stream_executor/cuda/cuda_driver.cc:1578] failed to allocate 2.41GiB (2586563584 bytes) from device: CUDA_ERROR_OUT_OF_MEMORY: out of memory\n",
      "2024-12-19 00:05:15.708920: I external/local_xla/xla/stream_executor/cuda/cuda_driver.cc:1578] failed to allocate 2.17GiB (2327907072 bytes) from device: CUDA_ERROR_OUT_OF_MEMORY: out of memory\n",
      "2024-12-19 00:05:15.709004: I external/local_xla/xla/stream_executor/cuda/cuda_driver.cc:1578] failed to allocate 1.95GiB (2095116288 bytes) from device: CUDA_ERROR_OUT_OF_MEMORY: out of memory\n",
      "2024-12-19 00:05:15.709086: I external/local_xla/xla/stream_executor/cuda/cuda_driver.cc:1578] failed to allocate 1.76GiB (1885604608 bytes) from device: CUDA_ERROR_OUT_OF_MEMORY: out of memory\n",
      "2024-12-19 00:05:15.709168: I external/local_xla/xla/stream_executor/cuda/cuda_driver.cc:1578] failed to allocate 1.58GiB (1697044224 bytes) from device: CUDA_ERROR_OUT_OF_MEMORY: out of memory\n",
      "2024-12-19 00:05:15.709250: I external/local_xla/xla/stream_executor/cuda/cuda_driver.cc:1578] failed to allocate 1.42GiB (1527339776 bytes) from device: CUDA_ERROR_OUT_OF_MEMORY: out of memory\n"
     ]
    }
   ],
   "source": [
    "# To load the model from file uncomment and run the following \n",
    "loaded_model = keras.saving.load_model('./models_ResNet/model_ResNet18_46_dropout_callbacks_sigmoid_biological_channels_trained.keras')\n",
    "print(\"Test Accuracy (for unbalanced test set) is: {:.2f}%\".format(loaded_model.evaluate(X_test, y_test)[1]))"
   ]
  },
  {
   "cell_type": "markdown",
   "id": "b499da9e-c437-4899-b202-f904f0b51303",
   "metadata": {},
   "source": [
    "### F1-Score"
   ]
  },
  {
   "cell_type": "code",
   "execution_count": null,
   "id": "698f6f69-e833-4c43-bbba-177584908ba4",
   "metadata": {
    "jupyter": {
     "source_hidden": true
    }
   },
   "outputs": [],
   "source": [
    "from sklearn.metrics import f1_score\n",
    "\n",
    "y_pred_test = loaded_model.predict(X_test)\n",
    "y_pred_test = (y_pred_test > 0.5).astype(int)\n",
    "f1 = f1_score(y_test, y_pred_test)"
   ]
  },
  {
   "cell_type": "code",
   "execution_count": null,
   "id": "7c50b18c-b000-4aa0-af48-1335396888fc",
   "metadata": {},
   "outputs": [],
   "source": [
    "print(\"F1-Score (for balanced test set) is: {:.4f}\".format(f1))"
   ]
  },
  {
   "cell_type": "markdown",
   "id": "cb5e4f49-be48-4059-ad40-5b8e2b850706",
   "metadata": {},
   "source": [
    "### Confusion Matrix"
   ]
  },
  {
   "cell_type": "code",
   "execution_count": 13,
   "id": "10155bb2-7fc3-44de-a822-0bc724ad4a58",
   "metadata": {
    "jupyter": {
     "source_hidden": true
    }
   },
   "outputs": [
    {
     "name": "stdout",
     "output_type": "stream",
     "text": [
      "\u001b[1m7/7\u001b[0m \u001b[32m━━━━━━━━━━━━━━━━━━━━\u001b[0m\u001b[37m\u001b[0m \u001b[1m2s\u001b[0m 193ms/step\n"
     ]
    }
   ],
   "source": [
    "from sklearn.metrics import confusion_matrix\n",
    "loaded_model = keras.saving.load_model('./models_ResNet/model_ResNet18_46_dropout_callbacks_sigmoid_biological_channels_trained.keras')\n",
    "y_pred_test = loaded_model.predict(X_test)\n",
    "y_pred_test = (y_pred_test > 0.5).astype(int)\n",
    "# Compute confusion matrix\n",
    "cm = confusion_matrix(y_test, y_pred_test)"
   ]
  },
  {
   "cell_type": "code",
   "execution_count": 14,
   "id": "a75b9906-0ab9-420a-8c56-8a5514ff9d42",
   "metadata": {
    "jupyter": {
     "source_hidden": true
    }
   },
   "outputs": [
    {
     "data": {
      "image/png": "[encoded data removed]",
      "text/plain": [
       "<Figure size 800x600 with 2 Axes>"
      ]
     },
     "metadata": {},
     "output_type": "display_data"
    }
   ],
   "source": [
    "def plot_confusion_matrix(cm, class_names):\n",
    "    plt.figure(figsize=(8, 6))\n",
    "    plt.imshow(cm, interpolation='nearest', cmap=plt.cm.Blues)\n",
    "    plt.title(\"Confusion Matrix (Unbalanced Test Dataset)\")\n",
    "    plt.colorbar()\n",
    "\n",
    "    # Add class labels to axes\n",
    "    tick_marks = np.arange(len(class_names))\n",
    "    plt.xticks(tick_marks, class_names, rotation=45)\n",
    "    plt.yticks(tick_marks, class_names)\n",
    "\n",
    "    # Add text annotations for each cell\n",
    "    thresh = cm.max() / 2  # Threshold for text color\n",
    "    for i, j in np.ndindex(cm.shape):\n",
    "        plt.text(j, i, format(cm[i, j], 'd'),\n",
    "                 horizontalalignment=\"center\",\n",
    "                 color=\"white\" if cm[i, j] > thresh else \"black\")\n",
    "\n",
    "    plt.ylabel(\"True Label\")\n",
    "    plt.xlabel(\"Predicted Label\")\n",
    "    plt.tight_layout()\n",
    "    plt.show()\n",
    "\n",
    "\n",
    "# # Example confusion matrix (computed earlier or loaded)\n",
    "# cm_ex = np.array([\n",
    "#     [50, 2, 1],\n",
    "#     [5, 45, 3],\n",
    "#     [2, 6, 40]\n",
    "# ])\n",
    "\n",
    "# Class names (optional, for labeling the axes)\n",
    "class_names = ['PDL1 == 0', 'PDL1 == 1']\n",
    "\n",
    "# Call the function to plot the confusion matrix\n",
    "plot_confusion_matrix(cm, class_names)"
   ]
  },
  {
   "cell_type": "markdown",
   "id": "a7761262-fe71-43fb-8d81-033a2923f6ae",
   "metadata": {},
   "source": [
    "### Saving History"
   ]
  },
  {
   "cell_type": "code",
   "execution_count": 31,
   "id": "76533899-5797-49a8-a4b0-ea4db0eb043d",
   "metadata": {
    "jupyter": {
     "source_hidden": true
    }
   },
   "outputs": [],
   "source": [
    "# Save the history of your experiments \n",
    "import pickle\n",
    "with open('./models_ResNet/model_ResNet18_46_dropout_callbacks_sigmoid_biological_channels_trained.pkl', 'wb') as f:\n",
    "    pickle.dump(history_ResNet18.history, f)\n",
    "\n",
    "with open('./models_ResNet/model_ResNet18_46_dropout_callbacks_sigmoid_biological_channels_trained.pkl', 'rb') as f:\n",
    "    loaded_history = pickle.load(f)"
   ]
  },
  {
   "cell_type": "markdown",
   "id": "a3b40d2e-8e0e-4442-99d7-cf93708b4bc5",
   "metadata": {},
   "source": [
    "### Comments\n",
    "\n",
    "When using only 3 channels, the model converges way faster than with all 46 channels!\n",
    "\n",
    "    - Achieves similar accuracy, but lower F1 Score (Higher FN but lower FT)\n",
    "    - Lets try with balanced dataset!"
   ]
  },
  {
   "cell_type": "markdown",
   "id": "cea606f9-8d79-46e2-a369-7269a6ffb7b2",
   "metadata": {},
   "source": [
    "### ResNet18: with Tensor Board + 3 Channels + with Dropout + ReduceLR + EarlyStopping + sigmoid (1 neuron) + binary cross entropy + 3 Channels + BALANCED DATA"
   ]
  },
  {
   "cell_type": "markdown",
   "id": "ba3cb3fc-a0a2-4e59-a292-dd2e7e142f91",
   "metadata": {},
   "source": [
    "### Downsample majority class"
   ]
  },
  {
   "cell_type": "code",
   "execution_count": 32,
   "id": "f5448783-6ff5-4bdb-ba0e-b23da94bd289",
   "metadata": {
    "collapsed": true,
    "jupyter": {
     "outputs_hidden": true,
     "source_hidden": true
    }
   },
   "outputs": [
    {
     "name": "stderr",
     "output_type": "stream",
     "text": [
      "/home/jupyter-luvogt/.local/lib/python3.12/site-packages/sklearn/utils/deprecation.py:151: FutureWarning: 'force_all_finite' was renamed to 'ensure_all_finite' in 1.6 and will be removed in 1.8.\n",
      "  warnings.warn(\n",
      "/home/jupyter-luvogt/.local/lib/python3.12/site-packages/sklearn/base.py:484: FutureWarning: `BaseEstimator._check_n_features` is deprecated in 1.6 and will be removed in 1.7. Use `sklearn.utils.validation._check_n_features` instead.\n",
      "  warnings.warn(\n",
      "/home/jupyter-luvogt/.local/lib/python3.12/site-packages/sklearn/base.py:493: FutureWarning: `BaseEstimator._check_feature_names` is deprecated in 1.6 and will be removed in 1.7. Use `sklearn.utils.validation._check_feature_names` instead.\n",
      "  warnings.warn(\n",
      "/home/jupyter-luvogt/.local/lib/python3.12/site-packages/sklearn/utils/deprecation.py:151: FutureWarning: 'force_all_finite' was renamed to 'ensure_all_finite' in 1.6 and will be removed in 1.8.\n",
      "  warnings.warn(\n",
      "/home/jupyter-luvogt/.local/lib/python3.12/site-packages/sklearn/base.py:484: FutureWarning: `BaseEstimator._check_n_features` is deprecated in 1.6 and will be removed in 1.7. Use `sklearn.utils.validation._check_n_features` instead.\n",
      "  warnings.warn(\n",
      "/home/jupyter-luvogt/.local/lib/python3.12/site-packages/sklearn/base.py:493: FutureWarning: `BaseEstimator._check_feature_names` is deprecated in 1.6 and will be removed in 1.7. Use `sklearn.utils.validation._check_feature_names` instead.\n",
      "  warnings.warn(\n"
     ]
    }
   ],
   "source": [
    "import imblearn\n",
    "from imblearn.under_sampling import RandomUnderSampler\n",
    "\n",
    "# X_train: Define Undersampling balancing method\n",
    "balancer = RandomUnderSampler(random_state = 42) # Undersampling majority class\n",
    "X_train_flat = X_train.reshape(X_train.shape[0], -1) # Reshape images for balancer\n",
    "X_train_resampled, y_train_resampled = balancer.fit_resample(X_train_flat, y_train) # resample (Undersampling)\n",
    "X_train_resampled = X_train_resampled.reshape(-1, *X_train.shape[1:]) # Reshape the image\n",
    "\n",
    "# X_val: Define Undersampling balancing method\n",
    "balancer = RandomUnderSampler(random_state = 42) # Undersampling majority class\n",
    "X_val_flat = X_val.reshape(X_val.shape[0], -1) # Reshape images for balancer\n",
    "X_val_resampled, y_val_resampled = balancer.fit_resample(X_val_flat, y_val) # resample (Undersampling)\n",
    "X_val_resampled = X_val_resampled.reshape(-1, *X_val.shape[1:]) # Reshape the image"
   ]
  },
  {
   "cell_type": "markdown",
   "id": "eda55537-67b1-48a1-bca6-081fe30b1e5a",
   "metadata": {},
   "source": [
    "### Callbacks"
   ]
  },
  {
   "cell_type": "code",
   "execution_count": 33,
   "id": "fcf3d94b-e591-4603-bb56-b36ef13a0768",
   "metadata": {
    "jupyter": {
     "source_hidden": true
    }
   },
   "outputs": [],
   "source": [
    "# Callbacks\n",
    "log_dir = os.path.join(\"logs_ResNet50\", \"fit\", \"model_ResNet18_46_dropout_callbacks_sigmoid_balanced_biological_channels_trained\" + time.strftime(\"%Y%m%d-%H%M%S\"))\n",
    "tb_callback = TensorBoard(log_dir=log_dir, histogram_freq=1)\n",
    "\n",
    "callbacks_list = [\n",
    "    keras.callbacks.EarlyStopping(\n",
    "        monitor=\"val_loss\",\n",
    "        patience=12,   # Optimal patience value for validation accuracy\n",
    "    ),\n",
    "    keras.callbacks.ModelCheckpoint(\n",
    "        filepath=\"./models_ResNet/model_ResNet18_46_dropout_callbacks_sigmoid_balanced_biological_channels_trained.keras\", # save validation loss into file\n",
    "        monitor=\"val_loss\",  # monitor validation accuracy\n",
    "        save_best_only=True,\n",
    "    ),\n",
    "    ReduceLROnPlateau(\n",
    "    monitor=\"val_loss\",\n",
    "    factor=0.5,  \n",
    "    patience=3,\n",
    "    verbose=1,\n",
    "    mode=\"auto\",\n",
    "    min_delta=0.001,\n",
    "    min_lr=1.e-6,\n",
    "    ), \n",
    "    tb_callback\n",
    "]"
   ]
  },
  {
   "cell_type": "markdown",
   "id": "d8fc80c8-ba11-4516-8b60-383b1c8fad52",
   "metadata": {},
   "source": [
    "### Train Model on balanced training data set & only 3 channels"
   ]
  },
  {
   "cell_type": "code",
   "execution_count": 34,
   "id": "4bb41b2d-7f41-4648-8c24-cd7d4bdd1cff",
   "metadata": {
    "collapsed": true,
    "jupyter": {
     "outputs_hidden": true,
     "source_hidden": true
    },
    "scrolled": true
   },
   "outputs": [
    {
     "name": "stdout",
     "output_type": "stream",
     "text": [
      "Epoch 1/50\n",
      "\u001b[1m7/7\u001b[0m \u001b[32m━━━━━━━━━━━━━━━━━━━━\u001b[0m\u001b[37m\u001b[0m \u001b[1m46s\u001b[0m 4s/step - accuracy: 0.6340 - loss: 1.1652 - val_accuracy: 0.5000 - val_loss: 1.2645 - learning_rate: 1.0000e-04\n",
      "Epoch 2/50\n",
      "\u001b[1m7/7\u001b[0m \u001b[32m━━━━━━━━━━━━━━━━━━━━\u001b[0m\u001b[37m\u001b[0m \u001b[1m4s\u001b[0m 584ms/step - accuracy: 0.6738 - loss: 0.8663 - val_accuracy: 0.7113 - val_loss: 0.6288 - learning_rate: 1.0000e-04\n",
      "Epoch 3/50\n",
      "\u001b[1m7/7\u001b[0m \u001b[32m━━━━━━━━━━━━━━━━━━━━\u001b[0m\u001b[37m\u001b[0m \u001b[1m10s\u001b[0m 2s/step - accuracy: 0.7252 - loss: 0.5269 - val_accuracy: 0.8028 - val_loss: 0.5332 - learning_rate: 1.0000e-04\n",
      "Epoch 4/50\n",
      "\u001b[1m7/7\u001b[0m \u001b[32m━━━━━━━━━━━━━━━━━━━━\u001b[0m\u001b[37m\u001b[0m \u001b[1m4s\u001b[0m 580ms/step - accuracy: 0.7906 - loss: 0.4568 - val_accuracy: 0.7606 - val_loss: 0.5099 - learning_rate: 1.0000e-04\n",
      "Epoch 5/50\n",
      "\u001b[1m7/7\u001b[0m \u001b[32m━━━━━━━━━━━━━━━━━━━━\u001b[0m\u001b[37m\u001b[0m \u001b[1m4s\u001b[0m 553ms/step - accuracy: 0.8448 - loss: 0.4331 - val_accuracy: 0.7535 - val_loss: 0.4964 - learning_rate: 1.0000e-04\n",
      "Epoch 6/50\n",
      "\u001b[1m7/7\u001b[0m \u001b[32m━━━━━━━━━━━━━━━━━━━━\u001b[0m\u001b[37m\u001b[0m \u001b[1m4s\u001b[0m 610ms/step - accuracy: 0.8337 - loss: 0.3880 - val_accuracy: 0.7535 - val_loss: 0.4868 - learning_rate: 1.0000e-04\n",
      "Epoch 7/50\n",
      "\u001b[1m7/7\u001b[0m \u001b[32m━━━━━━━━━━━━━━━━━━━━\u001b[0m\u001b[37m\u001b[0m \u001b[1m3s\u001b[0m 367ms/step - accuracy: 0.8545 - loss: 0.3572 - val_accuracy: 0.7676 - val_loss: 0.4983 - learning_rate: 1.0000e-04\n",
      "Epoch 8/50\n",
      "\u001b[1m7/7\u001b[0m \u001b[32m━━━━━━━━━━━━━━━━━━━━\u001b[0m\u001b[37m\u001b[0m \u001b[1m4s\u001b[0m 577ms/step - accuracy: 0.8437 - loss: 0.3559 - val_accuracy: 0.7817 - val_loss: 0.4573 - learning_rate: 1.0000e-04\n",
      "Epoch 9/50\n",
      "\u001b[1m7/7\u001b[0m \u001b[32m━━━━━━━━━━━━━━━━━━━━\u001b[0m\u001b[37m\u001b[0m \u001b[1m5s\u001b[0m 595ms/step - accuracy: 0.8614 - loss: 0.3397 - val_accuracy: 0.7887 - val_loss: 0.4409 - learning_rate: 1.0000e-04\n",
      "Epoch 10/50\n",
      "\u001b[1m7/7\u001b[0m \u001b[32m━━━━━━━━━━━━━━━━━━━━\u001b[0m\u001b[37m\u001b[0m \u001b[1m3s\u001b[0m 423ms/step - accuracy: 0.8630 - loss: 0.3129 - val_accuracy: 0.7958 - val_loss: 0.4548 - learning_rate: 1.0000e-04\n",
      "Epoch 11/50\n",
      "\u001b[1m7/7\u001b[0m \u001b[32m━━━━━━━━━━━━━━━━━━━━\u001b[0m\u001b[37m\u001b[0m \u001b[1m3s\u001b[0m 413ms/step - accuracy: 0.8252 - loss: 0.3794 - val_accuracy: 0.7958 - val_loss: 0.4475 - learning_rate: 1.0000e-04\n",
      "Epoch 12/50\n",
      "\u001b[1m7/7\u001b[0m \u001b[32m━━━━━━━━━━━━━━━━━━━━\u001b[0m\u001b[37m\u001b[0m \u001b[1m0s\u001b[0m 182ms/step - accuracy: 0.8615 - loss: 0.3382\n",
      "Epoch 12: ReduceLROnPlateau reducing learning rate to 4.999999873689376e-05.\n",
      "\u001b[1m7/7\u001b[0m \u001b[32m━━━━━━━━━━━━━━━━━━━━\u001b[0m\u001b[37m\u001b[0m \u001b[1m5s\u001b[0m 392ms/step - accuracy: 0.8632 - loss: 0.3362 - val_accuracy: 0.7606 - val_loss: 0.4639 - learning_rate: 1.0000e-04\n",
      "Epoch 13/50\n",
      "\u001b[1m7/7\u001b[0m \u001b[32m━━━━━━━━━━━━━━━━━━━━\u001b[0m\u001b[37m\u001b[0m \u001b[1m3s\u001b[0m 396ms/step - accuracy: 0.8484 - loss: 0.3303 - val_accuracy: 0.7676 - val_loss: 0.4677 - learning_rate: 5.0000e-05\n",
      "Epoch 14/50\n",
      "\u001b[1m7/7\u001b[0m \u001b[32m━━━━━━━━━━━━━━━━━━━━\u001b[0m\u001b[37m\u001b[0m \u001b[1m3s\u001b[0m 388ms/step - accuracy: 0.9077 - loss: 0.2831 - val_accuracy: 0.7606 - val_loss: 0.4834 - learning_rate: 5.0000e-05\n",
      "Epoch 15/50\n",
      "\u001b[1m7/7\u001b[0m \u001b[32m━━━━━━━━━━━━━━━━━━━━\u001b[0m\u001b[37m\u001b[0m \u001b[1m0s\u001b[0m 180ms/step - accuracy: 0.8546 - loss: 0.3317\n",
      "Epoch 15: ReduceLROnPlateau reducing learning rate to 2.499999936844688e-05.\n",
      "\u001b[1m7/7\u001b[0m \u001b[32m━━━━━━━━━━━━━━━━━━━━\u001b[0m\u001b[37m\u001b[0m \u001b[1m2s\u001b[0m 369ms/step - accuracy: 0.8561 - loss: 0.3283 - val_accuracy: 0.7606 - val_loss: 0.4961 - learning_rate: 5.0000e-05\n",
      "Epoch 16/50\n",
      "\u001b[1m7/7\u001b[0m \u001b[32m━━━━━━━━━━━━━━━━━━━━\u001b[0m\u001b[37m\u001b[0m \u001b[1m3s\u001b[0m 378ms/step - accuracy: 0.8710 - loss: 0.3015 - val_accuracy: 0.7465 - val_loss: 0.5021 - learning_rate: 2.5000e-05\n",
      "Epoch 17/50\n",
      "\u001b[1m7/7\u001b[0m \u001b[32m━━━━━━━━━━━━━━━━━━━━\u001b[0m\u001b[37m\u001b[0m \u001b[1m3s\u001b[0m 384ms/step - accuracy: 0.8614 - loss: 0.3124 - val_accuracy: 0.7394 - val_loss: 0.5069 - learning_rate: 2.5000e-05\n",
      "Epoch 18/50\n",
      "\u001b[1m7/7\u001b[0m \u001b[32m━━━━━━━━━━━━━━━━━━━━\u001b[0m\u001b[37m\u001b[0m \u001b[1m0s\u001b[0m 180ms/step - accuracy: 0.8803 - loss: 0.2833\n",
      "Epoch 18: ReduceLROnPlateau reducing learning rate to 1.249999968422344e-05.\n",
      "\u001b[1m7/7\u001b[0m \u001b[32m━━━━━━━━━━━━━━━━━━━━\u001b[0m\u001b[37m\u001b[0m \u001b[1m3s\u001b[0m 443ms/step - accuracy: 0.8803 - loss: 0.2830 - val_accuracy: 0.7254 - val_loss: 0.5123 - learning_rate: 2.5000e-05\n",
      "Epoch 19/50\n",
      "\u001b[1m7/7\u001b[0m \u001b[32m━━━━━━━━━━━━━━━━━━━━\u001b[0m\u001b[37m\u001b[0m \u001b[1m2s\u001b[0m 376ms/step - accuracy: 0.8805 - loss: 0.2841 - val_accuracy: 0.7254 - val_loss: 0.5191 - learning_rate: 1.2500e-05\n",
      "Epoch 20/50\n",
      "\u001b[1m7/7\u001b[0m \u001b[32m━━━━━━━━━━━━━━━━━━━━\u001b[0m\u001b[37m\u001b[0m \u001b[1m3s\u001b[0m 402ms/step - accuracy: 0.8604 - loss: 0.3427 - val_accuracy: 0.7254 - val_loss: 0.5252 - learning_rate: 1.2500e-05\n",
      "Epoch 21/50\n",
      "\u001b[1m7/7\u001b[0m \u001b[32m━━━━━━━━━━━━━━━━━━━━\u001b[0m\u001b[37m\u001b[0m \u001b[1m0s\u001b[0m 182ms/step - accuracy: 0.8707 - loss: 0.2906\n",
      "Epoch 21: ReduceLROnPlateau reducing learning rate to 6.24999984211172e-06.\n",
      "\u001b[1m7/7\u001b[0m \u001b[32m━━━━━━━━━━━━━━━━━━━━\u001b[0m\u001b[37m\u001b[0m \u001b[1m3s\u001b[0m 415ms/step - accuracy: 0.8713 - loss: 0.2901 - val_accuracy: 0.7183 - val_loss: 0.5299 - learning_rate: 1.2500e-05\n",
      "\n",
      "Elapsed time: 118.03136396408081 seconds\n"
     ]
    }
   ],
   "source": [
    "ROWS = 224; COLS = 224; CHANNELS = 3; CLASSES = 2; block_layers = [2,2,2,2] # ResNet18\n",
    "dropout_rate = 0.5\n",
    "# Build Network Graph \n",
    "model_ResNet18 = ResNet(shape = (ROWS, COLS, CHANNELS), classes = CLASSES, block_layers = block_layers, dropout_rate = dropout_rate)\n",
    "\n",
    "# Compile Model \n",
    "l_rate = 1.e-4 # CHANGE HERE\n",
    "opt = keras.optimizers.Adam(learning_rate=l_rate)\n",
    "model_ResNet18.compile(optimizer=opt, loss='binary_crossentropy', metrics=[\"accuracy\"]) # Set threshold here\n",
    "\n",
    "# Train Model \n",
    "batch = 64\n",
    "epochs = 50\n",
    "start_time = time.time()\n",
    "\n",
    "history_ResNet18 = model_ResNet18.fit(X_train_resampled, y_train_resampled,\n",
    "                                      epochs = epochs, batch_size = batch, \n",
    "                                      validation_data = (X_val_resampled, y_val_resampled), callbacks = callbacks_list)\n",
    "\n",
    "end_time = time.time()\n",
    "elapsed_time = end_time - start_time\n",
    "print(f\"\\nElapsed time: {elapsed_time} seconds\")"
   ]
  },
  {
   "cell_type": "markdown",
   "id": "709beed1-a75a-400a-9904-8340e3b55139",
   "metadata": {},
   "source": [
    "### Testing Accuracy"
   ]
  },
  {
   "cell_type": "code",
   "execution_count": 38,
   "id": "9fefed7a-c815-4be1-83d5-cee9d889cc8f",
   "metadata": {},
   "outputs": [
    {
     "name": "stdout",
     "output_type": "stream",
     "text": [
      "\u001b[1m7/7\u001b[0m \u001b[32m━━━━━━━━━━━━━━━━━━━━\u001b[0m\u001b[37m\u001b[0m \u001b[1m2s\u001b[0m 108ms/step - accuracy: 0.8209 - loss: 0.4509\n",
      "Test Accuracy (for unbalanced test set) is: 0.83%\n"
     ]
    }
   ],
   "source": [
    "# To load the model from file uncomment and run the following \n",
    "loaded_model = keras.saving.load_model('./models_ResNet/model_ResNet18_46_dropout_callbacks_sigmoid_balanced_biological_channels_trained.keras')\n",
    "print(\"Test Accuracy (for unbalanced test set) is: {:.2f}%\".format(loaded_model.evaluate(X_test, y_test)[1]))"
   ]
  },
  {
   "cell_type": "markdown",
   "id": "3f6c791d-09f6-43bc-a375-1af27bde97ca",
   "metadata": {},
   "source": [
    "### Testing Accuracy on balanced test set"
   ]
  },
  {
   "cell_type": "code",
   "execution_count": 39,
   "id": "0da348ca-177d-493d-a96a-8f8e9321ac9d",
   "metadata": {
    "jupyter": {
     "source_hidden": true
    }
   },
   "outputs": [
    {
     "name": "stderr",
     "output_type": "stream",
     "text": [
      "/home/jupyter-luvogt/.local/lib/python3.12/site-packages/sklearn/utils/deprecation.py:151: FutureWarning: 'force_all_finite' was renamed to 'ensure_all_finite' in 1.6 and will be removed in 1.8.\n",
      "  warnings.warn(\n",
      "/home/jupyter-luvogt/.local/lib/python3.12/site-packages/sklearn/base.py:484: FutureWarning: `BaseEstimator._check_n_features` is deprecated in 1.6 and will be removed in 1.7. Use `sklearn.utils.validation._check_n_features` instead.\n",
      "  warnings.warn(\n",
      "/home/jupyter-luvogt/.local/lib/python3.12/site-packages/sklearn/base.py:493: FutureWarning: `BaseEstimator._check_feature_names` is deprecated in 1.6 and will be removed in 1.7. Use `sklearn.utils.validation._check_feature_names` instead.\n",
      "  warnings.warn(\n"
     ]
    }
   ],
   "source": [
    "# X_train: Define Undersampling balancing method\n",
    "import imblearn\n",
    "from imblearn.under_sampling import RandomUnderSampler\n",
    "balancer = RandomUnderSampler(random_state = 42) # Undersampling majority class\n",
    "X_test_flat = X_test.reshape(X_test.shape[0], -1) # Reshape images for balancer\n",
    "X_test_resampled, y_test_resampled = balancer.fit_resample(X_test_flat, y_test) # resample (Undersampling)\n",
    "X_test_resampled = X_test_resampled.reshape(-1, *X_test.shape[1:]) # Reshape the image"
   ]
  },
  {
   "cell_type": "code",
   "execution_count": 40,
   "id": "e9e8bcb4-28a0-4146-8c40-e3887a092488",
   "metadata": {},
   "outputs": [
    {
     "name": "stdout",
     "output_type": "stream",
     "text": [
      "\u001b[1m5/5\u001b[0m \u001b[32m━━━━━━━━━━━━━━━━━━━━\u001b[0m\u001b[37m\u001b[0m \u001b[1m1s\u001b[0m 161ms/step - accuracy: 0.8487 - loss: 0.4495\n",
      "Test Accuracy (for balanced test set) is: 0.78%\n"
     ]
    }
   ],
   "source": [
    "print(\"Test Accuracy (for balanced test set) is: {:.2f}%\".format(loaded_model.evaluate(X_test_resampled, y_test_resampled)[1]))"
   ]
  },
  {
   "cell_type": "markdown",
   "id": "d681e8bf-b623-4994-b7d7-90a91f4f3490",
   "metadata": {},
   "source": [
    "### F1-Score Balanced"
   ]
  },
  {
   "cell_type": "code",
   "execution_count": 41,
   "id": "5e38bbf4-3b62-4cb2-80b3-98eb39dd64a2",
   "metadata": {
    "jupyter": {
     "source_hidden": true
    }
   },
   "outputs": [
    {
     "name": "stdout",
     "output_type": "stream",
     "text": [
      "WARNING:tensorflow:5 out of the last 15 calls to <function TensorFlowTrainer.make_predict_function.<locals>.one_step_on_data_distributed at 0x7f40c202cfe0> triggered tf.function retracing. Tracing is expensive and the excessive number of tracings could be due to (1) creating @tf.function repeatedly in a loop, (2) passing tensors with different shapes, (3) passing Python objects instead of tensors. For (1), please define your @tf.function outside of the loop. For (2), @tf.function has reduce_retracing=True option that can avoid unnecessary retracing. For (3), please refer to https://www.tensorflow.org/guide/function#controlling_retracing and https://www.tensorflow.org/api_docs/python/tf/function for  more details.\n",
      "\u001b[1m5/5\u001b[0m \u001b[32m━━━━━━━━━━━━━━━━━━━━\u001b[0m\u001b[37m\u001b[0m \u001b[1m2s\u001b[0m 282ms/step\n"
     ]
    }
   ],
   "source": [
    "from sklearn.metrics import f1_score\n",
    "\n",
    "y_pred_test = loaded_model.predict(X_test_resampled)\n",
    "y_pred_test = (y_pred_test > 0.5).astype(int)\n",
    "f1 = f1_score(y_test_resampled, y_pred_test)"
   ]
  },
  {
   "cell_type": "code",
   "execution_count": 42,
   "id": "228ae34b-3a3c-4c0e-88d2-de282ce1b1f1",
   "metadata": {},
   "outputs": [
    {
     "name": "stdout",
     "output_type": "stream",
     "text": [
      "F1-Score (for balanced test set) is: 0.73\n"
     ]
    }
   ],
   "source": [
    "print(\"F1-Score (for balanced test set) is: {:.2f}\".format(f1))"
   ]
  },
  {
   "cell_type": "markdown",
   "id": "cb304e13-a98d-480a-bc8e-bc2e3e62b9ab",
   "metadata": {},
   "source": [
    "### F1-Score Unbalanced"
   ]
  },
  {
   "cell_type": "code",
   "execution_count": 44,
   "id": "1ff543d7-1ded-4eaa-9f0d-17365267cab5",
   "metadata": {
    "jupyter": {
     "source_hidden": true
    }
   },
   "outputs": [
    {
     "name": "stdout",
     "output_type": "stream",
     "text": [
      "\u001b[1m7/7\u001b[0m \u001b[32m━━━━━━━━━━━━━━━━━━━━\u001b[0m\u001b[37m\u001b[0m \u001b[1m1s\u001b[0m 125ms/step\n"
     ]
    }
   ],
   "source": [
    "y_pred_test = loaded_model.predict(X_test)\n",
    "y_pred_test = (y_pred_test > 0.5).astype(int)\n",
    "f1 = f1_score(y_test, y_pred_test)"
   ]
  },
  {
   "cell_type": "code",
   "execution_count": 45,
   "id": "f9f5526f-4657-4186-a11e-03b8a75e176f",
   "metadata": {},
   "outputs": [
    {
     "name": "stdout",
     "output_type": "stream",
     "text": [
      "F1-Score (for unbalanced test set) is: 0.73\n"
     ]
    }
   ],
   "source": [
    "print(\"F1-Score (for unbalanced test set) is: {:.2f}\".format(f1))"
   ]
  },
  {
   "cell_type": "markdown",
   "id": "e3d36761-ed02-46a4-960d-9544a41bb5a2",
   "metadata": {},
   "source": [
    "### Confusion Matrix: Balanced Dataset"
   ]
  },
  {
   "cell_type": "code",
   "execution_count": 46,
   "id": "372fdfdd-e910-4693-b223-e5f3bec15845",
   "metadata": {
    "jupyter": {
     "source_hidden": true
    }
   },
   "outputs": [
    {
     "name": "stdout",
     "output_type": "stream",
     "text": [
      "\u001b[1m5/5\u001b[0m \u001b[32m━━━━━━━━━━━━━━━━━━━━\u001b[0m\u001b[37m\u001b[0m \u001b[1m2s\u001b[0m 244ms/step\n"
     ]
    }
   ],
   "source": [
    "from sklearn.metrics import confusion_matrix\n",
    "loaded_model = keras.saving.load_model('./models_ResNet/model_ResNet18_46_dropout_callbacks_sigmoid_balanced_biological_channels_trained.keras')\n",
    "y_pred_test = loaded_model.predict(X_test_resampled)\n",
    "y_pred_test = (y_pred_test > 0.5).astype(int)\n",
    "# Compute confusion matrix\n",
    "cm = confusion_matrix(y_test_resampled, y_pred_test)"
   ]
  },
  {
   "cell_type": "code",
   "execution_count": 47,
   "id": "7cadadb5-0d22-43a6-952e-ee1d34476711",
   "metadata": {
    "jupyter": {
     "source_hidden": true
    }
   },
   "outputs": [
    {
     "data": {
      "image/png": "[encoded data removed]",
      "text/plain": [
       "<Figure size 800x600 with 2 Axes>"
      ]
     },
     "metadata": {},
     "output_type": "display_data"
    }
   ],
   "source": [
    "def plot_confusion_matrix(cm, class_names):\n",
    "    plt.figure(figsize=(8, 6))\n",
    "    plt.imshow(cm, interpolation='nearest', cmap=plt.cm.Blues)\n",
    "    plt.title(\"Confusion Matrix (Balanced Test Dataset)\")\n",
    "    plt.colorbar()\n",
    "\n",
    "    # Add class labels to axes\n",
    "    tick_marks = np.arange(len(class_names))\n",
    "    plt.xticks(tick_marks, class_names, rotation=45)\n",
    "    plt.yticks(tick_marks, class_names)\n",
    "\n",
    "    # Add text annotations for each cell\n",
    "    thresh = cm.max() / 2  # Threshold for text color\n",
    "    for i, j in np.ndindex(cm.shape):\n",
    "        plt.text(j, i, format(cm[i, j], 'd'),\n",
    "                 horizontalalignment=\"center\",\n",
    "                 color=\"white\" if cm[i, j] > thresh else \"black\")\n",
    "\n",
    "    plt.ylabel(\"True Label\")\n",
    "    plt.xlabel(\"Predicted Label\")\n",
    "    plt.tight_layout()\n",
    "    plt.show()\n",
    "\n",
    "\n",
    "# # Example confusion matrix (computed earlier or loaded)\n",
    "# cm_ex = np.array([\n",
    "#     [50, 2, 1],\n",
    "#     [5, 45, 3],\n",
    "#     [2, 6, 40]\n",
    "# ])\n",
    "\n",
    "# Class names (optional, for labeling the axes)\n",
    "class_names = ['PDL1 == 0', 'PDL1 == 1']\n",
    "\n",
    "# Call the function to plot the confusion matrix\n",
    "plot_confusion_matrix(cm, class_names)"
   ]
  },
  {
   "cell_type": "markdown",
   "id": "ef6f3a1b-8a2c-4373-b337-8475a13a7032",
   "metadata": {},
   "source": [
    "### Confusion Matrix: Unbalanced Dataset"
   ]
  },
  {
   "cell_type": "code",
   "execution_count": 48,
   "id": "304dc1c9-bd80-44b0-96b5-5841348a208d",
   "metadata": {
    "jupyter": {
     "source_hidden": true
    }
   },
   "outputs": [
    {
     "name": "stdout",
     "output_type": "stream",
     "text": [
      "\u001b[1m7/7\u001b[0m \u001b[32m━━━━━━━━━━━━━━━━━━━━\u001b[0m\u001b[37m\u001b[0m \u001b[1m2s\u001b[0m 179ms/step\n"
     ]
    }
   ],
   "source": [
    "from sklearn.metrics import confusion_matrix\n",
    "loaded_model = keras.saving.load_model('./models_ResNet/model_ResNet18_46_dropout_callbacks_sigmoid_balanced_biological_channels_trained.keras')\n",
    "y_pred_test = loaded_model.predict(X_test)\n",
    "y_pred_test = (y_pred_test > 0.5).astype(int)\n",
    "# Compute confusion matrix\n",
    "cm = confusion_matrix(y_test, y_pred_test)"
   ]
  },
  {
   "cell_type": "code",
   "execution_count": 49,
   "id": "fcebf9de-9493-4631-9dd4-60ec9bf38501",
   "metadata": {
    "jupyter": {
     "source_hidden": true
    }
   },
   "outputs": [
    {
     "data": {
      "image/png": "[encoded data removed]",
      "text/plain": [
       "<Figure size 800x600 with 2 Axes>"
      ]
     },
     "metadata": {},
     "output_type": "display_data"
    }
   ],
   "source": [
    "def plot_confusion_matrix(cm, class_names):\n",
    "    plt.figure(figsize=(8, 6))\n",
    "    plt.imshow(cm, interpolation='nearest', cmap=plt.cm.Blues)\n",
    "    plt.title(\"Confusion Matrix (Unbalanced Test Dataset)\")\n",
    "    plt.colorbar()\n",
    "\n",
    "    # Add class labels to axes\n",
    "    tick_marks = np.arange(len(class_names))\n",
    "    plt.xticks(tick_marks, class_names, rotation=45)\n",
    "    plt.yticks(tick_marks, class_names)\n",
    "\n",
    "    # Add text annotations for each cell\n",
    "    thresh = cm.max() / 2  # Threshold for text color\n",
    "    for i, j in np.ndindex(cm.shape):\n",
    "        plt.text(j, i, format(cm[i, j], 'd'),\n",
    "                 horizontalalignment=\"center\",\n",
    "                 color=\"white\" if cm[i, j] > thresh else \"black\")\n",
    "\n",
    "    plt.ylabel(\"True Label\")\n",
    "    plt.xlabel(\"Predicted Label\")\n",
    "    plt.tight_layout()\n",
    "    plt.show()\n",
    "\n",
    "\n",
    "# # Example confusion matrix (computed earlier or loaded)\n",
    "# cm_ex = np.array([\n",
    "#     [50, 2, 1],\n",
    "#     [5, 45, 3],\n",
    "#     [2, 6, 40]\n",
    "# ])\n",
    "\n",
    "# Class names (optional, for labeling the axes)\n",
    "class_names = ['PDL1 == 0', 'PDL1 == 1']\n",
    "\n",
    "# Call the function to plot the confusion matrix\n",
    "plot_confusion_matrix(cm, class_names)"
   ]
  },
  {
   "cell_type": "markdown",
   "id": "053634fe-c922-4939-88fd-aef2d8cc8b66",
   "metadata": {},
   "source": [
    "### Saving Model History"
   ]
  },
  {
   "cell_type": "code",
   "execution_count": 40,
   "id": "7deab983-a45f-4d39-a86f-3ccd99de9b19",
   "metadata": {
    "jupyter": {
     "source_hidden": true
    }
   },
   "outputs": [],
   "source": [
    "# Save the history of your experiments \n",
    "import pickle\n",
    "with open('./models_ResNet/model_ResNet18_46_dropout_callbacks_sigmoid_balanced_biological_channels_trained.pkl', 'wb') as f:\n",
    "    pickle.dump(history_ResNet18.history, f)\n",
    "\n",
    "with open('./models_ResNet/model_ResNet18_46_dropout_callbacks_sigmoid_balanced_biological_channels_trained.pkl', 'rb') as f:\n",
    "    loaded_history = pickle.load(f)"
   ]
  },
  {
   "cell_type": "markdown",
   "id": "cba17eb5-2490-48bb-9216-f4347c66a7eb",
   "metadata": {},
   "source": [
    "### COMMENTS: \n",
    "\n",
    "With balanced dataset and biological relevant channels, we get: \n",
    "\n",
    "    - Test Accuracy (balanced dataset): 78%\n",
    "    - F1 Score (balanced dataset): 0.73\n",
    "\n",
    "Even though this is suprising, the validation accuracy was constantly smaller and the model seemed to have a hard time to overfit."
   ]
  },
  {
   "cell_type": "markdown",
   "id": "9c2cdc0d-db75-47a0-a671-a599cfc0d0cc",
   "metadata": {},
   "source": [
    "## ResNet18: with Tensor Board + with Dropout + ReduceLR + EarlyStopping + sigmoid (1 neuron) + binary cross entropy + 10 Biological relevant channels"
   ]
  },
  {
   "cell_type": "markdown",
   "id": "90783537-c72e-48f4-8dca-c584c483b52f",
   "metadata": {},
   "source": [
    "### Create Datasets"
   ]
  },
  {
   "cell_type": "code",
   "execution_count": 7,
   "id": "281cf7f3-26a6-4630-8862-d1cfbae4b007",
   "metadata": {
    "jupyter": {
     "source_hidden": true
    }
   },
   "outputs": [],
   "source": [
    "# Training dataset without augmentation\n",
    "X_train, y_train = load_dataset(train_df, image_folder, normalize = True)\n",
    "# # Training dataset with data augmentation\n",
    "# X_train_aug, y_train_aug = load_dataset(train_df, image_folder, augment=True)\n",
    "# Validation dataset\n",
    "X_val, y_val = load_dataset(val_df, image_folder, normalize = True)\n",
    "# Test dataset\n",
    "X_test, y_test = load_dataset(test_df, image_folder, normalize = True)"
   ]
  },
  {
   "cell_type": "markdown",
   "id": "3ba5b129-aaf2-4627-afcc-804be7a534ae",
   "metadata": {},
   "source": [
    "### Drop Biological irrelevant channels"
   ]
  },
  {
   "cell_type": "code",
   "execution_count": 8,
   "id": "50f62d49-06d7-4b8c-8103-407cf45b7f26",
   "metadata": {
    "jupyter": {
     "source_hidden": true
    }
   },
   "outputs": [],
   "source": [
    "def drop_channels(image, channels_of_interest, channel_names):\n",
    "        channel_names_new = [i for i in channel_names if i not in channels_of_interest]\n",
    "        mask = np.zeros(image.shape[2], dtype=bool) # Error: np.zeros(image.shape[0], dtype=bool) and NOT np.zeros(image.shape[2], dtype=bool) (ONLY ERROR IF YOU DONT TRANSPOSE THE IMAGE, OTHERWISE OKEY)\n",
    "        \n",
    "        for i in channels_of_interest:\n",
    "            mask[channel_names.index(i)] = True\n",
    "        image = image[:, :, mask] # Error: image[mask, :, :] and not image[:, :, mask] ! (ONLY ERROR IF YOU DONT TRANSPOSE THE IMAGE, OTHERWISE OKEY)\n",
    "        \n",
    "        return image"
   ]
  },
  {
   "cell_type": "code",
   "execution_count": 6,
   "id": "cce6e406-e9ba-4d21-b6ca-6746a8050b51",
   "metadata": {
    "jupyter": {
     "source_hidden": true
    }
   },
   "outputs": [],
   "source": [
    "channel_names_new = [\"Gd160\", \"Eu153\", \"Gd155\", \"Nd142\", \"Nd146\", \"Er166\", \"Er170\", \"Yb171\", \"Yb173\", \"Yb174\"]\n",
    "\n",
    "panel_dir = '/home/jupyter-luvogt/Final_Project_LR/panel.csv' \n",
    "panel_df = pd.read_csv(panel_dir)\n",
    "channel_names = dict(zip(panel_df['clean_target'].to_list(), panel_df['channel'].to_list()))"
   ]
  },
  {
   "cell_type": "code",
   "execution_count": 9,
   "id": "ae794469-7975-41bd-bb94-83a5a96e5ccf",
   "metadata": {
    "jupyter": {
     "source_hidden": true
    }
   },
   "outputs": [],
   "source": [
    "X_train = [drop_channels(i, channel_names_new, list(channel_names.values())) for i in X_train]\n",
    "X_val = [drop_channels(i, channel_names_new, list(channel_names.values())) for i in X_val]\n",
    "X_test = [drop_channels(i, channel_names_new, list(channel_names.values())) for i in X_test]"
   ]
  },
  {
   "cell_type": "code",
   "execution_count": 10,
   "id": "392ae47f-2121-4037-b615-5a9e496262fe",
   "metadata": {
    "jupyter": {
     "source_hidden": true
    }
   },
   "outputs": [],
   "source": [
    "X_train = np.array(X_train)\n",
    "X_val = np.array(X_val)\n",
    "X_test = np.array(X_test)"
   ]
  },
  {
   "cell_type": "markdown",
   "id": "520db462-7eee-4d54-b63c-e3c674de180a",
   "metadata": {},
   "source": [
    "### Define ResNet18 "
   ]
  },
  {
   "cell_type": "code",
   "execution_count": 12,
   "id": "34b2b207-ca16-497c-b31d-8ef01bf0908e",
   "metadata": {},
   "outputs": [],
   "source": [
    "def identity_block(x, filter, dropout_rate = 0.5):\n",
    "    # copy tensor to variable called x_skip\n",
    "    x_skip = x\n",
    "    # Layer 1\n",
    "    x = tf.keras.layers.Conv2D(filter, (3,3), padding = 'same')(x)\n",
    "    x = tf.keras.layers.BatchNormalization(axis=3)(x)\n",
    "    x = Dropout(dropout_rate)(x)\n",
    "    x = tf.keras.layers.Activation('relu')(x)\n",
    "    # Layer 2\n",
    "    x = tf.keras.layers.Conv2D(filter, (3,3), padding = 'same')(x)\n",
    "    x = tf.keras.layers.BatchNormalization(axis=3)(x)\n",
    "    # Add Residue\n",
    "    x = tf.keras.layers.Add()([x, x_skip])     \n",
    "    x = tf.keras.layers.Activation('relu')(x)\n",
    "    return x\n",
    "\n",
    "def convolutional_block(x, filter, dropout_rate = 0.5):\n",
    "    # copy tensor to variable called x_skip\n",
    "    x_skip = x\n",
    "    # Layer 1\n",
    "    x = tf.keras.layers.Conv2D(filter, (3,3), padding = 'same', strides = (2,2))(x)\n",
    "    x = tf.keras.layers.BatchNormalization(axis=3)(x)\n",
    "    x = Dropout(dropout_rate)(x)\n",
    "    x = tf.keras.layers.Activation('relu')(x)\n",
    "    # Layer 2\n",
    "    x = tf.keras.layers.Conv2D(filter, (3,3), padding = 'same')(x)\n",
    "    x = tf.keras.layers.BatchNormalization(axis=3)(x)\n",
    "    # Processing Residue with conv(1,1)\n",
    "    x_skip = tf.keras.layers.Conv2D(filter, (1,1), strides = (2,2))(x_skip)\n",
    "    # Add Residue\n",
    "    x = tf.keras.layers.Add()([x, x_skip])     \n",
    "    x = tf.keras.layers.Activation('relu')(x)\n",
    "    return x\n",
    "\n",
    "def ResNet(shape = (32, 32, 3), classes = 10, block_layers = [3, 4, 6, 3], dropout_rate = 0.5):\n",
    "    # Step 1 (Setup Input Layer)\n",
    "    x_input = tf.keras.layers.Input(shape)\n",
    "    x = tf.keras.layers.ZeroPadding2D((3, 3))(x_input)\n",
    "    # Step 2 (Initial Conv layer along with maxPool)\n",
    "    x = tf.keras.layers.Conv2D(64, kernel_size=7, strides=2, padding='same')(x)\n",
    "    x = tf.keras.layers.BatchNormalization()(x)\n",
    "    x = Dropout(dropout_rate)(x)\n",
    "    x = tf.keras.layers.Activation('relu')(x)\n",
    "    x = tf.keras.layers.MaxPool2D(pool_size=3, strides=2, padding='same')(x)\n",
    "    # Define size of sub-blocks and initial filter size\n",
    "    block_layers = block_layers\n",
    "    filter_size = 64\n",
    "    # Step 3 Add the Resnet Blocks\n",
    "    for i in range(4):\n",
    "        if i == 0:\n",
    "            # For sub-block 1 Residual/Convolutional block not needed\n",
    "            for j in range(block_layers[i]):\n",
    "                x = identity_block(x, filter_size)\n",
    "        else:\n",
    "            # One Residual/Convolutional Block followed by Identity blocks\n",
    "            # The filter size will go on increasing by a factor of 2\n",
    "            filter_size = filter_size*2\n",
    "            x = convolutional_block(x, filter_size)\n",
    "            for j in range(block_layers[i] - 1):\n",
    "                x = identity_block(x, filter_size)\n",
    "    # Step 4 End Dense Network\n",
    "    x = tf.keras.layers.AveragePooling2D((2,2), padding = 'same')(x)\n",
    "    x = tf.keras.layers.Flatten()(x)\n",
    "    x = tf.keras.layers.Dense(512, activation = 'relu')(x)\n",
    "    x = Dropout(dropout_rate)(x)\n",
    "    x = tf.keras.layers.Dense(1, activation = 'sigmoid')(x) # Change last layer here: sigmoid and 1 neuron (classes -1)\n",
    "    model = tf.keras.models.Model(inputs = x_input, outputs = x, name = \"ResNet18\")\n",
    "    return model"
   ]
  },
  {
   "cell_type": "markdown",
   "id": "6951f57e-5bab-4a8d-925e-a2c4d88663ef",
   "metadata": {},
   "source": [
    "### Callbacks"
   ]
  },
  {
   "cell_type": "code",
   "execution_count": 12,
   "id": "2fe7ef3b-3d5f-4b87-81e5-214f5fa161a9",
   "metadata": {
    "jupyter": {
     "source_hidden": true
    }
   },
   "outputs": [],
   "source": [
    "# Callbacks\n",
    "log_dir = os.path.join(\"logs_ResNet50\", \"fit\", \"model_ResNet18_10_dropout_callbacks_sigmoid_10_biological_channels_trained\" + time.strftime(\"%Y%m%d-%H%M%S\"))\n",
    "tb_callback = TensorBoard(log_dir=log_dir, histogram_freq=1)\n",
    "\n",
    "callbacks_list = [\n",
    "    keras.callbacks.EarlyStopping(\n",
    "        monitor=\"val_loss\",\n",
    "        patience=12,   # Optimal patience value for validation accuracy\n",
    "    ),\n",
    "    keras.callbacks.ModelCheckpoint(\n",
    "        filepath=\"./models_ResNet/model_ResNet18_10_dropout_callbacks_sigmoid_10_biological_channels_trained.keras\", # save validation loss into file\n",
    "        monitor=\"val_loss\",  # monitor validation accuracy\n",
    "        save_best_only=True,\n",
    "    ),\n",
    "    ReduceLROnPlateau(\n",
    "    monitor=\"val_loss\",\n",
    "    factor=0.5,  \n",
    "    patience=3,\n",
    "    verbose=1,\n",
    "    mode=\"auto\",\n",
    "    min_delta=0.001,\n",
    "    min_lr=1.e-6,\n",
    "    ), \n",
    "    tb_callback\n",
    "]"
   ]
  },
  {
   "cell_type": "markdown",
   "id": "d31ec353-bfc9-4778-b547-682c210d76e1",
   "metadata": {},
   "source": [
    "### Train Model: now with 10 relevant biological channels"
   ]
  },
  {
   "cell_type": "code",
   "execution_count": 13,
   "id": "5deb2702-4a2f-4786-be9c-697054f0e85e",
   "metadata": {
    "collapsed": true,
    "jupyter": {
     "outputs_hidden": true,
     "source_hidden": true
    }
   },
   "outputs": [
    {
     "name": "stdout",
     "output_type": "stream",
     "text": [
      "Epoch 1/50\n"
     ]
    },
    {
     "name": "stderr",
     "output_type": "stream",
     "text": [
      "I0000 00:00:1734532701.405598  834149 service.cc:146] XLA service 0x7f40f400b890 initialized for platform CUDA (this does not guarantee that XLA will be used). Devices:\n",
      "I0000 00:00:1734532701.405634  834149 service.cc:154]   StreamExecutor device (0): Tesla T4, Compute Capability 7.5\n",
      "2024-12-18 14:38:21.724212: I tensorflow/compiler/mlir/tensorflow/utils/dump_mlir_util.cc:268] disabling MLIR crash reproducer, set env var `MLIR_CRASH_REPRODUCER_DIRECTORY` to enable.\n",
      "2024-12-18 14:38:22.718843: I external/local_xla/xla/stream_executor/cuda/cuda_dnn.cc:531] Loaded cuDNN version 90300\n",
      "I0000 00:00:1734532722.222261  834149 device_compiler.h:188] Compiled cluster using XLA!  This line is logged at most once for the lifetime of the process.\n"
     ]
    },
    {
     "name": "stdout",
     "output_type": "stream",
     "text": [
      "\u001b[1m10/10\u001b[0m \u001b[32m━━━━━━━━━━━━━━━━━━━━\u001b[0m\u001b[37m\u001b[0m \u001b[1m54s\u001b[0m 3s/step - accuracy: 0.5326 - loss: 1.9484 - val_accuracy: 0.3706 - val_loss: 0.8165 - learning_rate: 1.0000e-04\n",
      "Epoch 2/50\n",
      "\u001b[1m10/10\u001b[0m \u001b[32m━━━━━━━━━━━━━━━━━━━━\u001b[0m\u001b[37m\u001b[0m \u001b[1m5s\u001b[0m 544ms/step - accuracy: 0.6235 - loss: 1.1048 - val_accuracy: 0.5482 - val_loss: 0.6828 - learning_rate: 1.0000e-04\n",
      "Epoch 3/50\n",
      "\u001b[1m10/10\u001b[0m \u001b[32m━━━━━━━━━━━━━━━━━━━━\u001b[0m\u001b[37m\u001b[0m \u001b[1m5s\u001b[0m 544ms/step - accuracy: 0.6948 - loss: 0.6035 - val_accuracy: 0.7665 - val_loss: 0.5835 - learning_rate: 1.0000e-04\n",
      "Epoch 4/50\n",
      "\u001b[1m10/10\u001b[0m \u001b[32m━━━━━━━━━━━━━━━━━━━━\u001b[0m\u001b[37m\u001b[0m \u001b[1m5s\u001b[0m 524ms/step - accuracy: 0.7810 - loss: 0.5012 - val_accuracy: 0.8274 - val_loss: 0.5057 - learning_rate: 1.0000e-04\n",
      "Epoch 5/50\n",
      "\u001b[1m10/10\u001b[0m \u001b[32m━━━━━━━━━━━━━━━━━━━━\u001b[0m\u001b[37m\u001b[0m \u001b[1m6s\u001b[0m 565ms/step - accuracy: 0.7893 - loss: 0.4768 - val_accuracy: 0.8122 - val_loss: 0.4424 - learning_rate: 1.0000e-04\n",
      "Epoch 6/50\n",
      "\u001b[1m10/10\u001b[0m \u001b[32m━━━━━━━━━━━━━━━━━━━━\u001b[0m\u001b[37m\u001b[0m \u001b[1m5s\u001b[0m 523ms/step - accuracy: 0.8115 - loss: 0.4281 - val_accuracy: 0.8376 - val_loss: 0.3842 - learning_rate: 1.0000e-04\n",
      "Epoch 7/50\n",
      "\u001b[1m10/10\u001b[0m \u001b[32m━━━━━━━━━━━━━━━━━━━━\u001b[0m\u001b[37m\u001b[0m \u001b[1m5s\u001b[0m 544ms/step - accuracy: 0.8172 - loss: 0.4123 - val_accuracy: 0.8325 - val_loss: 0.3751 - learning_rate: 1.0000e-04\n",
      "Epoch 8/50\n",
      "\u001b[1m10/10\u001b[0m \u001b[32m━━━━━━━━━━━━━━━━━━━━\u001b[0m\u001b[37m\u001b[0m \u001b[1m4s\u001b[0m 395ms/step - accuracy: 0.8433 - loss: 0.3797 - val_accuracy: 0.8528 - val_loss: 0.3795 - learning_rate: 1.0000e-04\n",
      "Epoch 9/50\n",
      "\u001b[1m10/10\u001b[0m \u001b[32m━━━━━━━━━━━━━━━━━━━━\u001b[0m\u001b[37m\u001b[0m \u001b[1m4s\u001b[0m 416ms/step - accuracy: 0.8538 - loss: 0.3774 - val_accuracy: 0.8274 - val_loss: 0.3962 - learning_rate: 1.0000e-04\n",
      "Epoch 10/50\n",
      "\u001b[1m10/10\u001b[0m \u001b[32m━━━━━━━━━━━━━━━━━━━━\u001b[0m\u001b[37m\u001b[0m \u001b[1m0s\u001b[0m 205ms/step - accuracy: 0.8727 - loss: 0.3518\n",
      "Epoch 10: ReduceLROnPlateau reducing learning rate to 4.999999873689376e-05.\n",
      "\u001b[1m10/10\u001b[0m \u001b[32m━━━━━━━━━━━━━━━━━━━━\u001b[0m\u001b[37m\u001b[0m \u001b[1m4s\u001b[0m 398ms/step - accuracy: 0.8724 - loss: 0.3509 - val_accuracy: 0.8325 - val_loss: 0.4180 - learning_rate: 1.0000e-04\n",
      "Epoch 11/50\n",
      "\u001b[1m10/10\u001b[0m \u001b[32m━━━━━━━━━━━━━━━━━━━━\u001b[0m\u001b[37m\u001b[0m \u001b[1m4s\u001b[0m 398ms/step - accuracy: 0.8277 - loss: 0.3773 - val_accuracy: 0.8426 - val_loss: 0.3801 - learning_rate: 5.0000e-05\n",
      "Epoch 12/50\n",
      "\u001b[1m10/10\u001b[0m \u001b[32m━━━━━━━━━━━━━━━━━━━━\u001b[0m\u001b[37m\u001b[0m \u001b[1m4s\u001b[0m 401ms/step - accuracy: 0.8562 - loss: 0.3433 - val_accuracy: 0.8274 - val_loss: 0.3886 - learning_rate: 5.0000e-05\n",
      "Epoch 13/50\n",
      "\u001b[1m10/10\u001b[0m \u001b[32m━━━━━━━━━━━━━━━━━━━━\u001b[0m\u001b[37m\u001b[0m \u001b[1m5s\u001b[0m 557ms/step - accuracy: 0.8621 - loss: 0.3056 - val_accuracy: 0.8376 - val_loss: 0.3724 - learning_rate: 5.0000e-05\n",
      "Epoch 14/50\n",
      "\u001b[1m10/10\u001b[0m \u001b[32m━━━━━━━━━━━━━━━━━━━━\u001b[0m\u001b[37m\u001b[0m \u001b[1m9s\u001b[0m 434ms/step - accuracy: 0.8600 - loss: 0.3309 - val_accuracy: 0.8274 - val_loss: 0.4042 - learning_rate: 5.0000e-05\n",
      "Epoch 15/50\n",
      "\u001b[1m10/10\u001b[0m \u001b[32m━━━━━━━━━━━━━━━━━━━━\u001b[0m\u001b[37m\u001b[0m \u001b[1m4s\u001b[0m 415ms/step - accuracy: 0.8547 - loss: 0.3525 - val_accuracy: 0.8223 - val_loss: 0.3961 - learning_rate: 5.0000e-05\n",
      "Epoch 16/50\n",
      "\u001b[1m10/10\u001b[0m \u001b[32m━━━━━━━━━━━━━━━━━━━━\u001b[0m\u001b[37m\u001b[0m \u001b[1m0s\u001b[0m 204ms/step - accuracy: 0.8717 - loss: 0.2950\n",
      "Epoch 16: ReduceLROnPlateau reducing learning rate to 2.499999936844688e-05.\n",
      "\u001b[1m10/10\u001b[0m \u001b[32m━━━━━━━━━━━━━━━━━━━━\u001b[0m\u001b[37m\u001b[0m \u001b[1m4s\u001b[0m 400ms/step - accuracy: 0.8717 - loss: 0.2965 - val_accuracy: 0.8274 - val_loss: 0.4002 - learning_rate: 5.0000e-05\n",
      "Epoch 17/50\n",
      "\u001b[1m10/10\u001b[0m \u001b[32m━━━━━━━━━━━━━━━━━━━━\u001b[0m\u001b[37m\u001b[0m \u001b[1m4s\u001b[0m 400ms/step - accuracy: 0.8691 - loss: 0.3109 - val_accuracy: 0.8223 - val_loss: 0.4185 - learning_rate: 2.5000e-05\n",
      "Epoch 18/50\n",
      "\u001b[1m10/10\u001b[0m \u001b[32m━━━━━━━━━━━━━━━━━━━━\u001b[0m\u001b[37m\u001b[0m \u001b[1m4s\u001b[0m 406ms/step - accuracy: 0.8883 - loss: 0.2819 - val_accuracy: 0.8274 - val_loss: 0.4089 - learning_rate: 2.5000e-05\n",
      "Epoch 19/50\n",
      "\u001b[1m10/10\u001b[0m \u001b[32m━━━━━━━━━━━━━━━━━━━━\u001b[0m\u001b[37m\u001b[0m \u001b[1m0s\u001b[0m 204ms/step - accuracy: 0.8717 - loss: 0.3424\n",
      "Epoch 19: ReduceLROnPlateau reducing learning rate to 1.249999968422344e-05.\n",
      "\u001b[1m10/10\u001b[0m \u001b[32m━━━━━━━━━━━━━━━━━━━━\u001b[0m\u001b[37m\u001b[0m \u001b[1m4s\u001b[0m 394ms/step - accuracy: 0.8710 - loss: 0.3432 - val_accuracy: 0.8122 - val_loss: 0.4621 - learning_rate: 2.5000e-05\n",
      "Epoch 20/50\n",
      "\u001b[1m10/10\u001b[0m \u001b[32m━━━━━━━━━━━━━━━━━━━━\u001b[0m\u001b[37m\u001b[0m \u001b[1m4s\u001b[0m 407ms/step - accuracy: 0.8553 - loss: 0.3266 - val_accuracy: 0.8223 - val_loss: 0.4215 - learning_rate: 1.2500e-05\n",
      "Epoch 21/50\n",
      "\u001b[1m10/10\u001b[0m \u001b[32m━━━━━━━━━━━━━━━━━━━━\u001b[0m\u001b[37m\u001b[0m \u001b[1m4s\u001b[0m 408ms/step - accuracy: 0.8731 - loss: 0.3034 - val_accuracy: 0.8223 - val_loss: 0.4197 - learning_rate: 1.2500e-05\n",
      "Epoch 22/50\n",
      "\u001b[1m10/10\u001b[0m \u001b[32m━━━━━━━━━━━━━━━━━━━━\u001b[0m\u001b[37m\u001b[0m \u001b[1m0s\u001b[0m 208ms/step - accuracy: 0.8440 - loss: 0.3392\n",
      "Epoch 22: ReduceLROnPlateau reducing learning rate to 6.24999984211172e-06.\n",
      "\u001b[1m10/10\u001b[0m \u001b[32m━━━━━━━━━━━━━━━━━━━━\u001b[0m\u001b[37m\u001b[0m \u001b[1m4s\u001b[0m 399ms/step - accuracy: 0.8452 - loss: 0.3388 - val_accuracy: 0.8223 - val_loss: 0.4386 - learning_rate: 1.2500e-05\n",
      "Epoch 23/50\n",
      "\u001b[1m10/10\u001b[0m \u001b[32m━━━━━━━━━━━━━━━━━━━━\u001b[0m\u001b[37m\u001b[0m \u001b[1m4s\u001b[0m 410ms/step - accuracy: 0.9000 - loss: 0.2772 - val_accuracy: 0.8173 - val_loss: 0.4509 - learning_rate: 6.2500e-06\n",
      "Epoch 24/50\n",
      "\u001b[1m10/10\u001b[0m \u001b[32m━━━━━━━━━━━━━━━━━━━━\u001b[0m\u001b[37m\u001b[0m \u001b[1m4s\u001b[0m 397ms/step - accuracy: 0.8758 - loss: 0.3169 - val_accuracy: 0.8173 - val_loss: 0.4539 - learning_rate: 6.2500e-06\n",
      "Epoch 25/50\n",
      "\u001b[1m10/10\u001b[0m \u001b[32m━━━━━━━━━━━━━━━━━━━━\u001b[0m\u001b[37m\u001b[0m \u001b[1m0s\u001b[0m 204ms/step - accuracy: 0.8465 - loss: 0.3863\n",
      "Epoch 25: ReduceLROnPlateau reducing learning rate to 3.12499992105586e-06.\n",
      "\u001b[1m10/10\u001b[0m \u001b[32m━━━━━━━━━━━━━━━━━━━━\u001b[0m\u001b[37m\u001b[0m \u001b[1m4s\u001b[0m 388ms/step - accuracy: 0.8486 - loss: 0.3828 - val_accuracy: 0.8071 - val_loss: 0.4588 - learning_rate: 6.2500e-06\n",
      "\n",
      "Elapsed time: 166.16032075881958 seconds\n"
     ]
    }
   ],
   "source": [
    "ROWS = 224; COLS = 224; CHANNELS = 10; CLASSES = 2; block_layers = [2,2,2,2] # ResNet18\n",
    "dropout_rate = 0.5\n",
    "# Build Network Graph \n",
    "model_ResNet18 = ResNet(shape = (ROWS, COLS, CHANNELS), classes = CLASSES, block_layers = block_layers, dropout_rate = dropout_rate)\n",
    "\n",
    "# Compile Model \n",
    "l_rate = 1.e-4 # CHANGE HERE\n",
    "opt = keras.optimizers.Adam(learning_rate=l_rate)\n",
    "model_ResNet18.compile(optimizer=opt, loss='binary_crossentropy', metrics=[\"accuracy\"]) # Set threshold here\n",
    "\n",
    "# Train Model \n",
    "batch = 64\n",
    "epochs = 50\n",
    "start_time = time.time()\n",
    "\n",
    "history_ResNet18 = model_ResNet18.fit(X_train, y_train,\n",
    "                                      epochs = epochs, batch_size = batch, \n",
    "                                      validation_data = (X_val, y_val), callbacks = callbacks_list)\n",
    "\n",
    "end_time = time.time()\n",
    "elapsed_time = end_time - start_time\n",
    "print(f\"\\nElapsed time: {elapsed_time} seconds\")"
   ]
  },
  {
   "cell_type": "markdown",
   "id": "48dcb0f5-d5bb-4246-a2c8-64da034bcabc",
   "metadata": {},
   "source": [
    "### Testing Accuracy"
   ]
  },
  {
   "cell_type": "code",
   "execution_count": 12,
   "id": "cffe7bbc-17b9-4f33-99c4-3f75bc0d3117",
   "metadata": {},
   "outputs": [
    {
     "name": "stderr",
     "output_type": "stream",
     "text": [
      "I0000 00:00:1734594494.076127  881635 service.cc:146] XLA service 0x7faf6c008330 initialized for platform CUDA (this does not guarantee that XLA will be used). Devices:\n",
      "I0000 00:00:1734594494.076169  881635 service.cc:154]   StreamExecutor device (0): Tesla T4, Compute Capability 7.5\n",
      "2024-12-19 07:48:14.108789: I tensorflow/compiler/mlir/tensorflow/utils/dump_mlir_util.cc:268] disabling MLIR crash reproducer, set env var `MLIR_CRASH_REPRODUCER_DIRECTORY` to enable.\n",
      "2024-12-19 07:48:14.259303: I external/local_xla/xla/stream_executor/cuda/cuda_dnn.cc:531] Loaded cuDNN version 90300\n"
     ]
    },
    {
     "name": "stdout",
     "output_type": "stream",
     "text": [
      "\u001b[1m4/7\u001b[0m \u001b[32m━━━━━━━━━━━\u001b[0m\u001b[37m━━━━━━━━━\u001b[0m \u001b[1m0s\u001b[0m 36ms/step - accuracy: 0.7949 - loss: 0.4102"
     ]
    },
    {
     "name": "stderr",
     "output_type": "stream",
     "text": [
      "I0000 00:00:1734594496.411117  881635 device_compiler.h:188] Compiled cluster using XLA!  This line is logged at most once for the lifetime of the process.\n"
     ]
    },
    {
     "name": "stdout",
     "output_type": "stream",
     "text": [
      "\u001b[1m7/7\u001b[0m \u001b[32m━━━━━━━━━━━━━━━━━━━━\u001b[0m\u001b[37m\u001b[0m \u001b[1m5s\u001b[0m 233ms/step - accuracy: 0.8029 - loss: 0.4065\n",
      "Test Accuracy (for unbalanced test set) is: 0.81%\n"
     ]
    }
   ],
   "source": [
    "# To load the model from file uncomment and run the following \n",
    "loaded_model = keras.saving.load_model('./models_ResNet/model_ResNet18_10_dropout_callbacks_sigmoid_10_biological_channels_trained.keras')\n",
    "print(\"Test Accuracy (for unbalanced test set) is: {:.2f}%\".format(loaded_model.evaluate(X_test, y_test)[1]))"
   ]
  },
  {
   "cell_type": "markdown",
   "id": "e113359c-aa38-4bac-9e26-bf27bdec1ef6",
   "metadata": {},
   "source": [
    "### F1 Score"
   ]
  },
  {
   "cell_type": "code",
   "execution_count": 13,
   "id": "586a0571-7db1-449c-8924-62f4dea50d18",
   "metadata": {
    "jupyter": {
     "source_hidden": true
    }
   },
   "outputs": [
    {
     "name": "stdout",
     "output_type": "stream",
     "text": [
      "\u001b[1m7/7\u001b[0m \u001b[32m━━━━━━━━━━━━━━━━━━━━\u001b[0m\u001b[37m\u001b[0m \u001b[1m3s\u001b[0m 204ms/step\n"
     ]
    }
   ],
   "source": [
    "from sklearn.metrics import f1_score\n",
    "\n",
    "y_pred_test = loaded_model.predict(X_test)\n",
    "y_pred_test = (y_pred_test > 0.5).astype(int)\n",
    "f1 = f1_score(y_test, y_pred_test)"
   ]
  },
  {
   "cell_type": "code",
   "execution_count": 14,
   "id": "d95ad61c-440a-4d86-afac-d093097c34e0",
   "metadata": {},
   "outputs": [
    {
     "name": "stdout",
     "output_type": "stream",
     "text": [
      "F1-Score (for unbalanced test set) is: 0.71\n"
     ]
    }
   ],
   "source": [
    "print(\"F1-Score (for unbalanced test set) is: {:.2f}\".format(f1))"
   ]
  },
  {
   "cell_type": "code",
   "execution_count": null,
   "id": "2e9ade07-d7bc-46bd-8be4-f16d965a9e21",
   "metadata": {
    "jupyter": {
     "source_hidden": true
    }
   },
   "outputs": [],
   "source": [
    "from sklearn.metrics import f1_score\n",
    "\n",
    "y_pred_test = loaded_model.predict(X_test)\n",
    "y_pred_test = (y_pred_test > 0.5).astype(int)\n",
    "f1 = f1_score(y_test, y_pred_test)"
   ]
  },
  {
   "cell_type": "markdown",
   "id": "2e2df7a3-a62a-45fe-9a0c-56f442a25a75",
   "metadata": {},
   "source": [
    "### Confusion Matrix"
   ]
  },
  {
   "cell_type": "code",
   "execution_count": 22,
   "id": "2ba4c107-c657-43e0-b27f-df0fa9a46e28",
   "metadata": {
    "jupyter": {
     "source_hidden": true
    }
   },
   "outputs": [
    {
     "name": "stdout",
     "output_type": "stream",
     "text": [
      "WARNING:tensorflow:5 out of the last 15 calls to <function TensorFlowTrainer.make_predict_function.<locals>.one_step_on_data_distributed at 0x7f405295fa60> triggered tf.function retracing. Tracing is expensive and the excessive number of tracings could be due to (1) creating @tf.function repeatedly in a loop, (2) passing tensors with different shapes, (3) passing Python objects instead of tensors. For (1), please define your @tf.function outside of the loop. For (2), @tf.function has reduce_retracing=True option that can avoid unnecessary retracing. For (3), please refer to https://www.tensorflow.org/guide/function#controlling_retracing and https://www.tensorflow.org/api_docs/python/tf/function for  more details.\n",
      "\u001b[1m7/7\u001b[0m \u001b[32m━━━━━━━━━━━━━━━━━━━━\u001b[0m\u001b[37m\u001b[0m \u001b[1m2s\u001b[0m 205ms/step\n"
     ]
    }
   ],
   "source": [
    "from sklearn.metrics import confusion_matrix\n",
    "loaded_model = keras.saving.load_model('./models_ResNet/model_ResNet18_10_dropout_callbacks_sigmoid_10_biological_channels_full_trained.keras')\n",
    "y_pred_test = loaded_model.predict(X_test)\n",
    "y_pred_test = (y_pred_test > 0.5).astype(int)\n",
    "# Compute confusion matrix\n",
    "cm = confusion_matrix(y_test, y_pred_test)"
   ]
  },
  {
   "cell_type": "code",
   "execution_count": 23,
   "id": "95ea391d-bce8-48f0-9a06-52f7872d962e",
   "metadata": {
    "collapsed": true,
    "jupyter": {
     "outputs_hidden": true,
     "source_hidden": true
    }
   },
   "outputs": [
    {
     "data": {
      "image/png": "[encoded data removed]",
      "text/plain": [
       "<Figure size 800x600 with 2 Axes>"
      ]
     },
     "metadata": {},
     "output_type": "display_data"
    }
   ],
   "source": [
    "def plot_confusion_matrix(cm, class_names):\n",
    "    plt.figure(figsize=(8, 6))\n",
    "    plt.imshow(cm, interpolation='nearest', cmap=plt.cm.Blues)\n",
    "    plt.title(\"Confusion Matrix (Unbalanced Test Dataset)\")\n",
    "    plt.colorbar()\n",
    "\n",
    "    # Add class labels to axes\n",
    "    tick_marks = np.arange(len(class_names))\n",
    "    plt.xticks(tick_marks, class_names, rotation=45)\n",
    "    plt.yticks(tick_marks, class_names)\n",
    "\n",
    "    # Add text annotations for each cell\n",
    "    thresh = cm.max() / 2  # Threshold for text color\n",
    "    for i, j in np.ndindex(cm.shape):\n",
    "        plt.text(j, i, format(cm[i, j], 'd'),\n",
    "                 horizontalalignment=\"center\",\n",
    "                 color=\"white\" if cm[i, j] > thresh else \"black\")\n",
    "\n",
    "    plt.ylabel(\"True Label\")\n",
    "    plt.xlabel(\"Predicted Label\")\n",
    "    plt.tight_layout()\n",
    "    plt.show()\n",
    "    \n",
    "# Class names (optional, for labeling the axes)\n",
    "class_names = ['PDL1 == 0', 'PDL1 == 1']\n",
    "\n",
    "# Call the function to plot the confusion matrix\n",
    "plot_confusion_matrix(cm, class_names)"
   ]
  },
  {
   "cell_type": "markdown",
   "id": "437350e7-5d87-4de0-b28e-cd72cfdc8333",
   "metadata": {},
   "source": [
    "## ResNet18: with Tensor Board + with Dropout + ReduceLR + EarlyStopping + sigmoid (1 neuron) + binary cross entropy + 10 Biological relevant channels + BALANCED"
   ]
  },
  {
   "cell_type": "markdown",
   "id": "aa6d8aaf-d1b0-4458-be5b-1d942c21c55d",
   "metadata": {},
   "source": [
    "### Created balanced datasets "
   ]
  },
  {
   "cell_type": "code",
   "execution_count": 13,
   "id": "3f78bb1e-8d33-422d-bd1c-8e204802cd43",
   "metadata": {
    "collapsed": true,
    "jupyter": {
     "outputs_hidden": true,
     "source_hidden": true
    }
   },
   "outputs": [
    {
     "name": "stderr",
     "output_type": "stream",
     "text": [
      "/home/jupyter-luvogt/.local/lib/python3.12/site-packages/sklearn/utils/deprecation.py:151: FutureWarning: 'force_all_finite' was renamed to 'ensure_all_finite' in 1.6 and will be removed in 1.8.\n",
      "  warnings.warn(\n",
      "/home/jupyter-luvogt/.local/lib/python3.12/site-packages/sklearn/base.py:484: FutureWarning: `BaseEstimator._check_n_features` is deprecated in 1.6 and will be removed in 1.7. Use `sklearn.utils.validation._check_n_features` instead.\n",
      "  warnings.warn(\n",
      "/home/jupyter-luvogt/.local/lib/python3.12/site-packages/sklearn/base.py:493: FutureWarning: `BaseEstimator._check_feature_names` is deprecated in 1.6 and will be removed in 1.7. Use `sklearn.utils.validation._check_feature_names` instead.\n",
      "  warnings.warn(\n",
      "/home/jupyter-luvogt/.local/lib/python3.12/site-packages/sklearn/utils/deprecation.py:151: FutureWarning: 'force_all_finite' was renamed to 'ensure_all_finite' in 1.6 and will be removed in 1.8.\n",
      "  warnings.warn(\n",
      "/home/jupyter-luvogt/.local/lib/python3.12/site-packages/sklearn/base.py:484: FutureWarning: `BaseEstimator._check_n_features` is deprecated in 1.6 and will be removed in 1.7. Use `sklearn.utils.validation._check_n_features` instead.\n",
      "  warnings.warn(\n",
      "/home/jupyter-luvogt/.local/lib/python3.12/site-packages/sklearn/base.py:493: FutureWarning: `BaseEstimator._check_feature_names` is deprecated in 1.6 and will be removed in 1.7. Use `sklearn.utils.validation._check_feature_names` instead.\n",
      "  warnings.warn(\n",
      "/home/jupyter-luvogt/.local/lib/python3.12/site-packages/sklearn/utils/deprecation.py:151: FutureWarning: 'force_all_finite' was renamed to 'ensure_all_finite' in 1.6 and will be removed in 1.8.\n",
      "  warnings.warn(\n",
      "/home/jupyter-luvogt/.local/lib/python3.12/site-packages/sklearn/base.py:484: FutureWarning: `BaseEstimator._check_n_features` is deprecated in 1.6 and will be removed in 1.7. Use `sklearn.utils.validation._check_n_features` instead.\n",
      "  warnings.warn(\n",
      "/home/jupyter-luvogt/.local/lib/python3.12/site-packages/sklearn/base.py:493: FutureWarning: `BaseEstimator._check_feature_names` is deprecated in 1.6 and will be removed in 1.7. Use `sklearn.utils.validation._check_feature_names` instead.\n",
      "  warnings.warn(\n"
     ]
    }
   ],
   "source": [
    "import imblearn\n",
    "from imblearn.under_sampling import RandomUnderSampler\n",
    "\n",
    "# X_train: Define Undersampling balancing method\n",
    "balancer = RandomUnderSampler(random_state = 42) # Undersampling majority class\n",
    "X_train_flat = X_train.reshape(X_train.shape[0], -1) # Reshape images for balancer\n",
    "X_train_resampled, y_train_resampled = balancer.fit_resample(X_train_flat, y_train) # resample (Undersampling)\n",
    "X_train_resampled = X_train_resampled.reshape(-1, *X_train.shape[1:]) # Reshape the image\n",
    "\n",
    "# X_val: Define Undersampling balancing method\n",
    "balancer = RandomUnderSampler(random_state = 42) # Undersampling majority class\n",
    "X_val_flat = X_val.reshape(X_val.shape[0], -1) # Reshape images for balancer\n",
    "X_val_resampled, y_val_resampled = balancer.fit_resample(X_val_flat, y_val) # resample (Undersampling)\n",
    "X_val_resampled = X_val_resampled.reshape(-1, *X_val.shape[1:]) # Reshape the image\n",
    "\n",
    "# X_test: Test set\n",
    "X_test_flat = X_test.reshape(X_test.shape[0], -1) # Reshape images for balancer\n",
    "X_test_resampled, y_test_resampled = balancer.fit_resample(X_test_flat, y_test) # resample (Undersampling)\n",
    "X_test_resampled = X_test_resampled.reshape(-1, *X_test.shape[1:]) # Reshape the image"
   ]
  },
  {
   "cell_type": "markdown",
   "id": "7350239a-5b25-4fc4-88ee-108fc45f3b24",
   "metadata": {},
   "source": [
    "### Callbacks "
   ]
  },
  {
   "cell_type": "code",
   "execution_count": 34,
   "id": "8fff2092-be84-48d4-bf31-a3d665cef4cd",
   "metadata": {},
   "outputs": [],
   "source": [
    "log_dir = os.path.join(\"logs_ResNet50\", \"fit\", \"model_ResNet18_10_dropout_callbacks_sigmoid_balanced_10_biological_channels_trained\" + time.strftime(\"%Y%m%d-%H%M%S\"))\n",
    "tb_callback = TensorBoard(log_dir=log_dir, histogram_freq=1)\n",
    "\n",
    "callbacks_list = [\n",
    "    keras.callbacks.EarlyStopping(\n",
    "        monitor=\"val_loss\",\n",
    "        patience=12,   # Optimal patience value for validation accuracy\n",
    "    ),\n",
    "    keras.callbacks.ModelCheckpoint(\n",
    "        filepath=\"./models_ResNet/model_ResNet18_10_dropout_callbacks_sigmoid_balanced_10_biological_channels_trained.keras\", # save validation loss into file\n",
    "        monitor=\"val_loss\",  # monitor validation accuracy\n",
    "        save_best_only=True,\n",
    "    ),\n",
    "    ReduceLROnPlateau(\n",
    "    monitor=\"val_loss\",\n",
    "    factor=0.5,  \n",
    "    patience=3,\n",
    "    verbose=1,\n",
    "    mode=\"auto\",\n",
    "    min_delta=0.001,\n",
    "    min_lr=1.e-6,\n",
    "    ), \n",
    "    tb_callback\n",
    "]"
   ]
  },
  {
   "cell_type": "markdown",
   "id": "7a0ddebd-0aa1-4c4e-8373-8020431aceb1",
   "metadata": {},
   "source": [
    "### Train Model"
   ]
  },
  {
   "cell_type": "code",
   "execution_count": 35,
   "id": "545c1d47-c4ed-45a1-a7d7-866b75a9b245",
   "metadata": {
    "collapsed": true,
    "jupyter": {
     "outputs_hidden": true
    }
   },
   "outputs": [
    {
     "name": "stdout",
     "output_type": "stream",
     "text": [
      "Epoch 1/50\n",
      "\u001b[1m7/7\u001b[0m \u001b[32m━━━━━━━━━━━━━━━━━━━━\u001b[0m\u001b[37m\u001b[0m \u001b[1m40s\u001b[0m 3s/step - accuracy: 0.5485 - loss: 1.0451 - val_accuracy: 0.3604 - val_loss: 1.5371 - learning_rate: 1.0000e-04\n",
      "Epoch 2/50\n",
      "\u001b[1m7/7\u001b[0m \u001b[32m━━━━━━━━━━━━━━━━━━━━\u001b[0m\u001b[37m\u001b[0m \u001b[1m5s\u001b[0m 717ms/step - accuracy: 0.6054 - loss: 0.9313 - val_accuracy: 0.4772 - val_loss: 0.7177 - learning_rate: 1.0000e-04\n",
      "Epoch 3/50\n",
      "\u001b[1m7/7\u001b[0m \u001b[32m━━━━━━━━━━━━━━━━━━━━\u001b[0m\u001b[37m\u001b[0m \u001b[1m5s\u001b[0m 764ms/step - accuracy: 0.6390 - loss: 0.7527 - val_accuracy: 0.7157 - val_loss: 0.6172 - learning_rate: 1.0000e-04\n",
      "Epoch 4/50\n",
      "\u001b[1m7/7\u001b[0m \u001b[32m━━━━━━━━━━━━━━━━━━━━\u001b[0m\u001b[37m\u001b[0m \u001b[1m4s\u001b[0m 542ms/step - accuracy: 0.6915 - loss: 0.5940 - val_accuracy: 0.6091 - val_loss: 0.6909 - learning_rate: 1.0000e-04\n",
      "Epoch 5/50\n",
      "\u001b[1m7/7\u001b[0m \u001b[32m━━━━━━━━━━━━━━━━━━━━\u001b[0m\u001b[37m\u001b[0m \u001b[1m6s\u001b[0m 917ms/step - accuracy: 0.7483 - loss: 0.6048 - val_accuracy: 0.8020 - val_loss: 0.5430 - learning_rate: 1.0000e-04\n",
      "Epoch 6/50\n",
      "\u001b[1m7/7\u001b[0m \u001b[32m━━━━━━━━━━━━━━━━━━━━\u001b[0m\u001b[37m\u001b[0m \u001b[1m5s\u001b[0m 713ms/step - accuracy: 0.7914 - loss: 0.4876 - val_accuracy: 0.8274 - val_loss: 0.5121 - learning_rate: 1.0000e-04\n",
      "Epoch 7/50\n",
      "\u001b[1m7/7\u001b[0m \u001b[32m━━━━━━━━━━━━━━━━━━━━\u001b[0m\u001b[37m\u001b[0m \u001b[1m5s\u001b[0m 721ms/step - accuracy: 0.8046 - loss: 0.4275 - val_accuracy: 0.8325 - val_loss: 0.4409 - learning_rate: 1.0000e-04\n",
      "Epoch 8/50\n",
      "\u001b[1m7/7\u001b[0m \u001b[32m━━━━━━━━━━━━━━━━━━━━\u001b[0m\u001b[37m\u001b[0m \u001b[1m5s\u001b[0m 733ms/step - accuracy: 0.7975 - loss: 0.4444 - val_accuracy: 0.8223 - val_loss: 0.4205 - learning_rate: 1.0000e-04\n",
      "Epoch 9/50\n",
      "\u001b[1m7/7\u001b[0m \u001b[32m━━━━━━━━━━━━━━━━━━━━\u001b[0m\u001b[37m\u001b[0m \u001b[1m5s\u001b[0m 772ms/step - accuracy: 0.8365 - loss: 0.3768 - val_accuracy: 0.8426 - val_loss: 0.3998 - learning_rate: 1.0000e-04\n",
      "Epoch 10/50\n",
      "\u001b[1m7/7\u001b[0m \u001b[32m━━━━━━━━━━━━━━━━━━━━\u001b[0m\u001b[37m\u001b[0m \u001b[1m4s\u001b[0m 552ms/step - accuracy: 0.8557 - loss: 0.3566 - val_accuracy: 0.8325 - val_loss: 0.4039 - learning_rate: 1.0000e-04\n",
      "Epoch 11/50\n",
      "\u001b[1m7/7\u001b[0m \u001b[32m━━━━━━━━━━━━━━━━━━━━\u001b[0m\u001b[37m\u001b[0m \u001b[1m5s\u001b[0m 753ms/step - accuracy: 0.8537 - loss: 0.3427 - val_accuracy: 0.8579 - val_loss: 0.3957 - learning_rate: 1.0000e-04\n",
      "Epoch 12/50\n",
      "\u001b[1m7/7\u001b[0m \u001b[32m━━━━━━━━━━━━━━━━━━━━\u001b[0m\u001b[37m\u001b[0m \u001b[1m4s\u001b[0m 548ms/step - accuracy: 0.8691 - loss: 0.3350 - val_accuracy: 0.8579 - val_loss: 0.4020 - learning_rate: 1.0000e-04\n",
      "Epoch 13/50\n",
      "\u001b[1m7/7\u001b[0m \u001b[32m━━━━━━━━━━━━━━━━━━━━\u001b[0m\u001b[37m\u001b[0m \u001b[1m4s\u001b[0m 555ms/step - accuracy: 0.8203 - loss: 0.3750 - val_accuracy: 0.8274 - val_loss: 0.4283 - learning_rate: 1.0000e-04\n",
      "Epoch 14/50\n",
      "\u001b[1m7/7\u001b[0m \u001b[32m━━━━━━━━━━━━━━━━━━━━\u001b[0m\u001b[37m\u001b[0m \u001b[1m0s\u001b[0m 223ms/step - accuracy: 0.8538 - loss: 0.3674\n",
      "Epoch 14: ReduceLROnPlateau reducing learning rate to 4.999999873689376e-05.\n",
      "\u001b[1m7/7\u001b[0m \u001b[32m━━━━━━━━━━━━━━━━━━━━\u001b[0m\u001b[37m\u001b[0m \u001b[1m4s\u001b[0m 570ms/step - accuracy: 0.8554 - loss: 0.3643 - val_accuracy: 0.8477 - val_loss: 0.4175 - learning_rate: 1.0000e-04\n",
      "Epoch 15/50\n",
      "\u001b[1m7/7\u001b[0m \u001b[32m━━━━━━━━━━━━━━━━━━━━\u001b[0m\u001b[37m\u001b[0m \u001b[1m4s\u001b[0m 560ms/step - accuracy: 0.8768 - loss: 0.2992 - val_accuracy: 0.8477 - val_loss: 0.4168 - learning_rate: 5.0000e-05\n",
      "Epoch 16/50\n",
      "\u001b[1m7/7\u001b[0m \u001b[32m━━━━━━━━━━━━━━━━━━━━\u001b[0m\u001b[37m\u001b[0m \u001b[1m4s\u001b[0m 557ms/step - accuracy: 0.8795 - loss: 0.3051 - val_accuracy: 0.8274 - val_loss: 0.4306 - learning_rate: 5.0000e-05\n",
      "Epoch 17/50\n",
      "\u001b[1m7/7\u001b[0m \u001b[32m━━━━━━━━━━━━━━━━━━━━\u001b[0m\u001b[37m\u001b[0m \u001b[1m0s\u001b[0m 221ms/step - accuracy: 0.8782 - loss: 0.3136\n",
      "Epoch 17: ReduceLROnPlateau reducing learning rate to 2.499999936844688e-05.\n",
      "\u001b[1m7/7\u001b[0m \u001b[32m━━━━━━━━━━━━━━━━━━━━\u001b[0m\u001b[37m\u001b[0m \u001b[1m4s\u001b[0m 555ms/step - accuracy: 0.8773 - loss: 0.3130 - val_accuracy: 0.8325 - val_loss: 0.4345 - learning_rate: 5.0000e-05\n",
      "Epoch 18/50\n",
      "\u001b[1m7/7\u001b[0m \u001b[32m━━━━━━━━━━━━━━━━━━━━\u001b[0m\u001b[37m\u001b[0m \u001b[1m4s\u001b[0m 531ms/step - accuracy: 0.8496 - loss: 0.3121 - val_accuracy: 0.8426 - val_loss: 0.4286 - learning_rate: 2.5000e-05\n",
      "Epoch 19/50\n",
      "\u001b[1m7/7\u001b[0m \u001b[32m━━━━━━━━━━━━━━━━━━━━\u001b[0m\u001b[37m\u001b[0m \u001b[1m4s\u001b[0m 549ms/step - accuracy: 0.9062 - loss: 0.2365 - val_accuracy: 0.8426 - val_loss: 0.4326 - learning_rate: 2.5000e-05\n",
      "Epoch 20/50\n",
      "\u001b[1m7/7\u001b[0m \u001b[32m━━━━━━━━━━━━━━━━━━━━\u001b[0m\u001b[37m\u001b[0m \u001b[1m0s\u001b[0m 221ms/step - accuracy: 0.8363 - loss: 0.3267\n",
      "Epoch 20: ReduceLROnPlateau reducing learning rate to 1.249999968422344e-05.\n",
      "\u001b[1m7/7\u001b[0m \u001b[32m━━━━━━━━━━━━━━━━━━━━\u001b[0m\u001b[37m\u001b[0m \u001b[1m4s\u001b[0m 545ms/step - accuracy: 0.8383 - loss: 0.3260 - val_accuracy: 0.8376 - val_loss: 0.4512 - learning_rate: 2.5000e-05\n",
      "Epoch 21/50\n",
      "\u001b[1m7/7\u001b[0m \u001b[32m━━━━━━━━━━━━━━━━━━━━\u001b[0m\u001b[37m\u001b[0m \u001b[1m4s\u001b[0m 541ms/step - accuracy: 0.8856 - loss: 0.2991 - val_accuracy: 0.8274 - val_loss: 0.4571 - learning_rate: 1.2500e-05\n",
      "Epoch 22/50\n",
      "\u001b[1m7/7\u001b[0m \u001b[32m━━━━━━━━━━━━━━━━━━━━\u001b[0m\u001b[37m\u001b[0m \u001b[1m4s\u001b[0m 566ms/step - accuracy: 0.8761 - loss: 0.2791 - val_accuracy: 0.8274 - val_loss: 0.4616 - learning_rate: 1.2500e-05\n",
      "Epoch 23/50\n",
      "\u001b[1m7/7\u001b[0m \u001b[32m━━━━━━━━━━━━━━━━━━━━\u001b[0m\u001b[37m\u001b[0m \u001b[1m0s\u001b[0m 222ms/step - accuracy: 0.8829 - loss: 0.2752\n",
      "Epoch 23: ReduceLROnPlateau reducing learning rate to 6.24999984211172e-06.\n",
      "\u001b[1m7/7\u001b[0m \u001b[32m━━━━━━━━━━━━━━━━━━━━\u001b[0m\u001b[37m\u001b[0m \u001b[1m4s\u001b[0m 536ms/step - accuracy: 0.8826 - loss: 0.2765 - val_accuracy: 0.8325 - val_loss: 0.4575 - learning_rate: 1.2500e-05\n",
      "\n",
      "Elapsed time: 133.9842357635498 seconds\n"
     ]
    }
   ],
   "source": [
    "ROWS = 224; COLS = 224; CHANNELS = 10; CLASSES = 2; block_layers = [2,2,2,2] # ResNet18\n",
    "dropout_rate = 0.5\n",
    "# Build Network Graph \n",
    "model_ResNet18 = ResNet(shape = (ROWS, COLS, CHANNELS), classes = CLASSES, block_layers = block_layers, dropout_rate = dropout_rate)\n",
    "\n",
    "# Compile Model \n",
    "l_rate = 1.e-4 # CHANGE HERE\n",
    "opt = keras.optimizers.Adam(learning_rate=l_rate)\n",
    "model_ResNet18.compile(optimizer=opt, loss='binary_crossentropy', metrics=[\"accuracy\"]) # Set threshold here\n",
    "\n",
    "# Train Model \n",
    "batch = 64\n",
    "epochs = 50\n",
    "start_time = time.time()\n",
    "\n",
    "history_ResNet18 = model_ResNet18.fit(X_train_resampled, y_train_resampled,\n",
    "                                      epochs = epochs, batch_size = batch, \n",
    "                                      validation_data = (X_val, y_val), callbacks = callbacks_list)\n",
    "\n",
    "end_time = time.time()\n",
    "elapsed_time = end_time - start_time\n",
    "print(f\"\\nElapsed time: {elapsed_time} seconds\")"
   ]
  },
  {
   "cell_type": "markdown",
   "id": "e5ec9e58-f84c-4f07-9585-2e5d53efc555",
   "metadata": {},
   "source": [
    "### Testing Accuracy"
   ]
  },
  {
   "cell_type": "code",
   "execution_count": 36,
   "id": "92b1fe40-52f0-42ae-8e2e-3eae261e1466",
   "metadata": {},
   "outputs": [
    {
     "name": "stdout",
     "output_type": "stream",
     "text": [
      "\u001b[1m7/7\u001b[0m \u001b[32m━━━━━━━━━━━━━━━━━━━━\u001b[0m\u001b[37m\u001b[0m \u001b[1m2s\u001b[0m 132ms/step - accuracy: 0.8010 - loss: 0.4742\n",
      "Test Accuracy (for unbalanced test set) is: 0.80%\n"
     ]
    }
   ],
   "source": [
    "loaded_model = keras.saving.load_model('./models_ResNet/model_ResNet18_10_dropout_callbacks_sigmoid_balanced_10_biological_channels_trained.keras')\n",
    "print(\"Test Accuracy (for unbalanced test set) is: {:.2f}%\".format(loaded_model.evaluate(X_test, y_test)[1]))"
   ]
  },
  {
   "cell_type": "code",
   "execution_count": 37,
   "id": "58368574-25b1-4ce7-8689-92e315500d2b",
   "metadata": {},
   "outputs": [
    {
     "name": "stdout",
     "output_type": "stream",
     "text": [
      "\u001b[1m5/5\u001b[0m \u001b[32m━━━━━━━━━━━━━━━━━━━━\u001b[0m\u001b[37m\u001b[0m \u001b[1m1s\u001b[0m 174ms/step - accuracy: 0.8430 - loss: 0.4432\n",
      "Test Accuracy (for balanced test set) is: 0.80%\n"
     ]
    }
   ],
   "source": [
    "print(\"Test Accuracy (for balanced test set) is: {:.2f}%\".format(loaded_model.evaluate(X_test_resampled, y_test_resampled)[1]))"
   ]
  },
  {
   "cell_type": "markdown",
   "id": "56288ca6-d5ed-435b-93df-44bbf0b03f4a",
   "metadata": {},
   "source": [
    "### F1 Score"
   ]
  },
  {
   "cell_type": "code",
   "execution_count": 38,
   "id": "87448269-a1a5-4c34-ba0e-b72f4dd31017",
   "metadata": {},
   "outputs": [
    {
     "name": "stdout",
     "output_type": "stream",
     "text": [
      "\u001b[1m7/7\u001b[0m \u001b[32m━━━━━━━━━━━━━━━━━━━━\u001b[0m\u001b[37m\u001b[0m \u001b[1m2s\u001b[0m 188ms/step\n"
     ]
    }
   ],
   "source": [
    "from sklearn.metrics import f1_score\n",
    "\n",
    "y_pred_test = loaded_model.predict(X_test)\n",
    "y_pred_test = (y_pred_test > 0.5).astype(int)\n",
    "f1 = f1_score(y_test, y_pred_test)"
   ]
  },
  {
   "cell_type": "code",
   "execution_count": 39,
   "id": "749c8a7f-12bb-4645-a7b9-df8c02453a44",
   "metadata": {},
   "outputs": [
    {
     "name": "stdout",
     "output_type": "stream",
     "text": [
      "F1-Score (for unbalanced test set) is: 0.72\n"
     ]
    }
   ],
   "source": [
    "print(\"F1-Score (for unbalanced test set) is: {:.2f}\".format(f1))"
   ]
  },
  {
   "cell_type": "code",
   "execution_count": 40,
   "id": "151760c1-8184-4684-ab8a-a40cc0007a5d",
   "metadata": {
    "jupyter": {
     "source_hidden": true
    }
   },
   "outputs": [
    {
     "name": "stdout",
     "output_type": "stream",
     "text": [
      "\u001b[1m5/5\u001b[0m \u001b[32m━━━━━━━━━━━━━━━━━━━━\u001b[0m\u001b[37m\u001b[0m \u001b[1m1s\u001b[0m 158ms/step\n"
     ]
    }
   ],
   "source": [
    "y_pred_test = loaded_model.predict(X_test_resampled)\n",
    "y_pred_test = (y_pred_test > 0.5).astype(int)\n",
    "f1 = f1_score(y_test_resampled, y_pred_test)"
   ]
  },
  {
   "cell_type": "code",
   "execution_count": 41,
   "id": "5e20cf00-e2c4-4df5-827f-29c5582fd3cb",
   "metadata": {},
   "outputs": [
    {
     "name": "stdout",
     "output_type": "stream",
     "text": [
      "F1-Score (for balanced test set) is: 0.77\n"
     ]
    }
   ],
   "source": [
    "print(\"F1-Score (for balanced test set) is: {:.2f}\".format(f1))"
   ]
  },
  {
   "cell_type": "markdown",
   "id": "f1ad20d0-dade-41be-984c-6a43c1e62764",
   "metadata": {},
   "source": [
    "### Confusion Matrix"
   ]
  },
  {
   "cell_type": "code",
   "execution_count": 42,
   "id": "6bcf6c7f-41be-485e-89bd-f1f247f9f9bd",
   "metadata": {
    "jupyter": {
     "source_hidden": true
    }
   },
   "outputs": [
    {
     "name": "stdout",
     "output_type": "stream",
     "text": [
      "\u001b[1m7/7\u001b[0m \u001b[32m━━━━━━━━━━━━━━━━━━━━\u001b[0m\u001b[37m\u001b[0m \u001b[1m2s\u001b[0m 190ms/step\n"
     ]
    }
   ],
   "source": [
    "from sklearn.metrics import confusion_matrix\n",
    "loaded_model = keras.saving.load_model('./models_ResNet/model_ResNet18_10_dropout_callbacks_sigmoid_balanced_10_biological_channels_trained.keras')\n",
    "y_pred_test = loaded_model.predict(X_test)\n",
    "y_pred_test = (y_pred_test > 0.5).astype(int)\n",
    "# Compute confusion matrix\n",
    "cm = confusion_matrix(y_test, y_pred_test)"
   ]
  },
  {
   "cell_type": "code",
   "execution_count": 43,
   "id": "7f9e4ccf-cd3d-4f9a-b463-d09fee5964d3",
   "metadata": {
    "jupyter": {
     "source_hidden": true
    }
   },
   "outputs": [
    {
     "data": {
      "image/png": "[encoded data removed]",
      "text/plain": [
       "<Figure size 800x600 with 2 Axes>"
      ]
     },
     "metadata": {},
     "output_type": "display_data"
    }
   ],
   "source": [
    "def plot_confusion_matrix(cm, class_names):\n",
    "    plt.figure(figsize=(8, 6))\n",
    "    plt.imshow(cm, interpolation='nearest', cmap=plt.cm.Blues)\n",
    "    plt.title(\"Confusion Matrix (Unbalanced Test Dataset)\")\n",
    "    plt.colorbar()\n",
    "\n",
    "    # Add class labels to axes\n",
    "    tick_marks = np.arange(len(class_names))\n",
    "    plt.xticks(tick_marks, class_names, rotation=45)\n",
    "    plt.yticks(tick_marks, class_names)\n",
    "\n",
    "    # Add text annotations for each cell\n",
    "    thresh = cm.max() / 2  # Threshold for text color\n",
    "    for i, j in np.ndindex(cm.shape):\n",
    "        plt.text(j, i, format(cm[i, j], 'd'),\n",
    "                 horizontalalignment=\"center\",\n",
    "                 color=\"white\" if cm[i, j] > thresh else \"black\")\n",
    "\n",
    "    plt.ylabel(\"True Label\")\n",
    "    plt.xlabel(\"Predicted Label\")\n",
    "    plt.tight_layout()\n",
    "    plt.show()\n",
    "    \n",
    "# Class names (optional, for labeling the axes)\n",
    "class_names = ['PDL1 == 0', 'PDL1 == 1']\n",
    "\n",
    "# Call the function to plot the confusion matrix\n",
    "plot_confusion_matrix(cm, class_names)"
   ]
  },
  {
   "cell_type": "markdown",
   "id": "b4fb01f9-034e-44f4-98e5-b537febd7977",
   "metadata": {},
   "source": [
    "## Best Model\n",
    "\n",
    "Unfortunately, a big part of the notebook was not saved when training the model. Because of time reasons, we can't show again the whole training and experiment with differnet hyperparamters (we will retrain the best model below for confirmation; just rename it with \"2\".)\n",
    "What we did: we selected 17 biological channels (which we choosen dependent on GradCAM, but the GradCAM file was also not saved, only the model and the channels names...)\n",
    "\n",
    "Channels: [\"In113\", \"Nd145\", \"Sm152\", \"Sm154\", \"Gd155\", \"Gd156\", \"Gd158\", \"Gd160\", \"Dy161\", \"Dy162\", \"Dy164\", \"Er166\", \"Er167\", \"Er170\", \"Yb171\", \"Yb173\", \"Yb176\"]\n",
    "\n",
    "Model that was saved: model_ResNet18 = keras.saving.load_model('./models_ResNet/model_ResNet18_dropout_01_callbacks_sigmoid_biological_channels_GradCAM_trained.keras')\n",
    "    - This Model only has a dropout of 0.1 and 17 relevant channels: \n",
    "        - F1-Score: 0.79 (84%)"
   ]
  },
  {
   "cell_type": "code",
   "execution_count": 17,
   "id": "65fe98e3-f0f5-41e0-b0fc-a5b46cf387f2",
   "metadata": {},
   "outputs": [],
   "source": [
    "best_model = keras.saving.load_model('./models_ResNet/model_ResNet18_dropout_01_callbacks_sigmoid_biological_channels_GradCAM_trained.keras')"
   ]
  },
  {
   "cell_type": "markdown",
   "id": "a0c57f50-3623-4f2d-bc87-f29e0df58fd7",
   "metadata": {},
   "source": [
    "### Drop Channels: 17 Channels"
   ]
  },
  {
   "cell_type": "code",
   "execution_count": 8,
   "id": "da5eae70-9654-4ce5-873b-e82748004ad5",
   "metadata": {},
   "outputs": [],
   "source": [
    "channel_names_new = [\"In113\", \"Nd145\", \"Sm152\", \"Sm154\", \"Gd155\", \"Gd156\", \"Gd158\", \"Gd160\", \"Dy161\", \"Dy162\", \"Dy164\", \"Er166\", \"Er167\", \"Er170\", \"Yb171\", \"Yb173\", \"Yb176\"]\n",
    "panel_dir = '/home/jupyter-luvogt/Final_Project_LR/panel.csv' \n",
    "panel_df = pd.read_csv(panel_dir)\n",
    "channel_names = dict(zip(panel_df['clean_target'].to_list(), panel_df['channel'].to_list()))\n",
    "X_train = [drop_channels(i, channel_names_new, list(channel_names.values())) for i in X_train]\n",
    "X_val = [drop_channels(i, channel_names_new, list(channel_names.values())) for i in X_val]\n",
    "X_test = [drop_channels(i, channel_names_new, list(channel_names.values())) for i in X_test]\n",
    "X_train = np.array(X_train)\n",
    "X_val = np.array(X_val)\n",
    "X_test = np.array(X_test)"
   ]
  },
  {
   "cell_type": "code",
   "execution_count": 18,
   "id": "c2ec31b4-d535-4075-b923-acdd39482b50",
   "metadata": {},
   "outputs": [
    {
     "name": "stdout",
     "output_type": "stream",
     "text": [
      "\u001b[1m7/7\u001b[0m \u001b[32m━━━━━━━━━━━━━━━━━━━━\u001b[0m\u001b[37m\u001b[0m \u001b[1m4s\u001b[0m 444ms/step - accuracy: 0.8431 - loss: 0.4901\n",
      "Test Accuracy (for unbalanced test set) is: 0.84%\n"
     ]
    }
   ],
   "source": [
    "print(\"Test Accuracy (for unbalanced test set) is: {:.2f}%\".format(best_model.evaluate(X_test, y_test)[1]))"
   ]
  },
  {
   "cell_type": "code",
   "execution_count": 20,
   "id": "7078d3cd-91c8-4367-b966-92d4ab101210",
   "metadata": {},
   "outputs": [
    {
     "name": "stdout",
     "output_type": "stream",
     "text": [
      "\u001b[1m7/7\u001b[0m \u001b[32m━━━━━━━━━━━━━━━━━━━━\u001b[0m\u001b[37m\u001b[0m \u001b[1m3s\u001b[0m 374ms/step\n",
      "F1-Score (for unbalanced test set) is: 0.79\n"
     ]
    }
   ],
   "source": [
    "from sklearn.metrics import f1_score\n",
    "\n",
    "y_pred_test = best_model.predict(X_test)\n",
    "y_pred_test = (y_pred_test > 0.5).astype(int)\n",
    "f1 = f1_score(y_test, y_pred_test)\n",
    "print(\"F1-Score (for unbalanced test set) is: {:.2f}\".format(f1))"
   ]
  },
  {
   "cell_type": "code",
   "execution_count": 21,
   "id": "a7698470-1493-4ab8-8936-ce7086cc4156",
   "metadata": {},
   "outputs": [
    {
     "name": "stdout",
     "output_type": "stream",
     "text": [
      "\u001b[1m7/7\u001b[0m \u001b[32m━━━━━━━━━━━━━━━━━━━━\u001b[0m\u001b[37m\u001b[0m \u001b[1m4s\u001b[0m 503ms/step\n"
     ]
    }
   ],
   "source": [
    "from sklearn.metrics import confusion_matrix\n",
    "loaded_model = keras.saving.load_model('./models_ResNet/model_ResNet18_dropout_01_callbacks_sigmoid_biological_channels_GradCAM_trained.keras')\n",
    "y_pred_test = loaded_model.predict(X_test)\n",
    "y_pred_test = (y_pred_test > 0.5).astype(int)\n",
    "# Compute confusion matrix\n",
    "cm = confusion_matrix(y_test, y_pred_test)"
   ]
  },
  {
   "cell_type": "code",
   "execution_count": 22,
   "id": "2298de51-b751-4edb-91cd-0b7e37411da9",
   "metadata": {},
   "outputs": [
    {
     "data": {
      "image/png": "[encoded data removed]",
      "text/plain": [
       "<Figure size 800x600 with 2 Axes>"
      ]
     },
     "metadata": {},
     "output_type": "display_data"
    }
   ],
   "source": [
    "def plot_confusion_matrix(cm, class_names):\n",
    "    plt.figure(figsize=(8, 6))\n",
    "    plt.imshow(cm, interpolation='nearest', cmap=plt.cm.Blues)\n",
    "    plt.title(\"Confusion Matrix (Unbalanced Test Dataset): Best Model (Dropout 0.1; 17 Channels)\")\n",
    "    plt.colorbar()\n",
    "\n",
    "    # Add class labels to axes\n",
    "    tick_marks = np.arange(len(class_names))\n",
    "    plt.xticks(tick_marks, class_names, rotation=45)\n",
    "    plt.yticks(tick_marks, class_names)\n",
    "\n",
    "    # Add text annotations for each cell\n",
    "    thresh = cm.max() / 2  # Threshold for text color\n",
    "    for i, j in np.ndindex(cm.shape):\n",
    "        plt.text(j, i, format(cm[i, j], 'd'),\n",
    "                 horizontalalignment=\"center\",\n",
    "                 color=\"white\" if cm[i, j] > thresh else \"black\")\n",
    "\n",
    "    plt.ylabel(\"True Label\")\n",
    "    plt.xlabel(\"Predicted Label\")\n",
    "    plt.tight_layout()\n",
    "    plt.show()\n",
    "    \n",
    "# Class names (optional, for labeling the axes)\n",
    "class_names = ['PDL1 == 0', 'PDL1 == 1']\n",
    "\n",
    "# Call the function to plot the confusion matrix\n",
    "plot_confusion_matrix(cm, class_names)"
   ]
  },
  {
   "cell_type": "markdown",
   "id": "e3cc072d-9b46-48cb-888f-b6fed56fb662",
   "metadata": {},
   "source": [
    "### Retraining the best model"
   ]
  },
  {
   "cell_type": "code",
   "execution_count": 9,
   "id": "5e59de71-e05f-486a-9e9f-c3b38f8b3819",
   "metadata": {},
   "outputs": [],
   "source": [
    "def identity_block(x, filter, dropout_rate = 0.5):\n",
    "    # copy tensor to variable called x_skip\n",
    "    x_skip = x\n",
    "    # Layer 1\n",
    "    x = tf.keras.layers.Conv2D(filter, (3,3), padding = 'same')(x)\n",
    "    x = tf.keras.layers.BatchNormalization(axis=3)(x)\n",
    "    x = Dropout(dropout_rate)(x)\n",
    "    x = tf.keras.layers.Activation('relu')(x)\n",
    "    # Layer 2\n",
    "    x = tf.keras.layers.Conv2D(filter, (3,3), padding = 'same')(x)\n",
    "    x = tf.keras.layers.BatchNormalization(axis=3)(x)\n",
    "    # Add Residue\n",
    "    x = tf.keras.layers.Add()([x, x_skip])     \n",
    "    x = tf.keras.layers.Activation('relu')(x)\n",
    "    return x\n",
    "\n",
    "def convolutional_block(x, filter, dropout_rate = 0.5):\n",
    "    # copy tensor to variable called x_skip\n",
    "    x_skip = x\n",
    "    # Layer 1\n",
    "    x = tf.keras.layers.Conv2D(filter, (3,3), padding = 'same', strides = (2,2))(x)\n",
    "    x = tf.keras.layers.BatchNormalization(axis=3)(x)\n",
    "    x = Dropout(dropout_rate)(x)\n",
    "    x = tf.keras.layers.Activation('relu')(x)\n",
    "    # Layer 2\n",
    "    x = tf.keras.layers.Conv2D(filter, (3,3), padding = 'same')(x)\n",
    "    x = tf.keras.layers.BatchNormalization(axis=3)(x)\n",
    "    # Processing Residue with conv(1,1)\n",
    "    x_skip = tf.keras.layers.Conv2D(filter, (1,1), strides = (2,2))(x_skip)\n",
    "    # Add Residue\n",
    "    x = tf.keras.layers.Add()([x, x_skip])     \n",
    "    x = tf.keras.layers.Activation('relu')(x)\n",
    "    return x\n",
    "\n",
    "def ResNet(shape = (32, 32, 3), classes = 10, block_layers = [3, 4, 6, 3], dropout_rate = 0.5):\n",
    "    # Step 1 (Setup Input Layer)\n",
    "    x_input = tf.keras.layers.Input(shape)\n",
    "    x = tf.keras.layers.ZeroPadding2D((3, 3))(x_input)\n",
    "    # Step 2 (Initial Conv layer along with maxPool)\n",
    "    x = tf.keras.layers.Conv2D(64, kernel_size=7, strides=2, padding='same')(x)\n",
    "    x = tf.keras.layers.BatchNormalization()(x)\n",
    "    x = Dropout(dropout_rate)(x)\n",
    "    x = tf.keras.layers.Activation('relu')(x)\n",
    "    x = tf.keras.layers.MaxPool2D(pool_size=3, strides=2, padding='same')(x)\n",
    "    # Define size of sub-blocks and initial filter size\n",
    "    block_layers = block_layers\n",
    "    filter_size = 64\n",
    "    # Step 3 Add the Resnet Blocks\n",
    "    for i in range(4):\n",
    "        if i == 0:\n",
    "            # For sub-block 1 Residual/Convolutional block not needed\n",
    "            for j in range(block_layers[i]):\n",
    "                x = identity_block(x, filter_size)\n",
    "        else:\n",
    "            # One Residual/Convolutional Block followed by Identity blocks\n",
    "            # The filter size will go on increasing by a factor of 2\n",
    "            filter_size = filter_size*2\n",
    "            x = convolutional_block(x, filter_size)\n",
    "            for j in range(block_layers[i] - 1):\n",
    "                x = identity_block(x, filter_size)\n",
    "    # Step 4 End Dense Network\n",
    "    x = tf.keras.layers.AveragePooling2D((2,2), padding = 'same')(x)\n",
    "    x = tf.keras.layers.Flatten()(x)\n",
    "    x = tf.keras.layers.Dense(512, activation = 'relu')(x)\n",
    "    x = Dropout(dropout_rate)(x)\n",
    "    x = tf.keras.layers.Dense(1, activation = 'sigmoid')(x) # Change last layer here: sigmoid and 1 neuron (classes -1)\n",
    "    model = tf.keras.models.Model(inputs = x_input, outputs = x, name = \"ResNet18\")\n",
    "    return model"
   ]
  },
  {
   "cell_type": "code",
   "execution_count": 10,
   "id": "2dad16b1-d669-4183-9403-513709ffef05",
   "metadata": {},
   "outputs": [],
   "source": [
    "log_dir = os.path.join(\"logs_ResNet50\", \"fit\", \"model_ResNet18_dropout_01_callbacks_sigmoid_biological_channels_GradCAM_trained_2\" + time.strftime(\"%Y%m%d-%H%M%S\"))\n",
    "tb_callback = TensorBoard(log_dir=log_dir, histogram_freq=1)\n",
    "\n",
    "callbacks_list = [\n",
    "    keras.callbacks.EarlyStopping(\n",
    "        monitor=\"val_loss\",\n",
    "        patience=12,   # Optimal patience value for validation accuracy\n",
    "    ),\n",
    "    keras.callbacks.ModelCheckpoint(\n",
    "        filepath=\"./models_ResNet/model_ResNet18_dropout_01_callbacks_sigmoid_biological_channels_GradCAM_trained_2.keras\", # save validation loss into file\n",
    "        monitor=\"val_loss\",  # monitor validation accuracy\n",
    "        save_best_only=True,\n",
    "    ),\n",
    "    ReduceLROnPlateau(\n",
    "    monitor=\"val_loss\",\n",
    "    factor=0.5,  \n",
    "    patience=3,\n",
    "    verbose=1,\n",
    "    mode=\"auto\",\n",
    "    min_delta=0.001,\n",
    "    min_lr=1.e-6,\n",
    "    ), \n",
    "    tb_callback\n",
    "]"
   ]
  },
  {
   "cell_type": "code",
   "execution_count": 13,
   "id": "72694a31-234a-45b6-8372-dcb0c7c91df6",
   "metadata": {},
   "outputs": [
    {
     "name": "stdout",
     "output_type": "stream",
     "text": [
      "Epoch 1/50\n",
      "\u001b[1m10/10\u001b[0m \u001b[32m━━━━━━━━━━━━━━━━━━━━\u001b[0m\u001b[37m\u001b[0m \u001b[1m42s\u001b[0m 2s/step - accuracy: 0.5555 - loss: 1.1250 - val_accuracy: 0.6396 - val_loss: 0.7647 - learning_rate: 1.0000e-04\n",
      "Epoch 2/50\n",
      "\u001b[1m10/10\u001b[0m \u001b[32m━━━━━━━━━━━━━━━━━━━━\u001b[0m\u001b[37m\u001b[0m \u001b[1m5s\u001b[0m 493ms/step - accuracy: 0.6567 - loss: 0.7602 - val_accuracy: 0.7462 - val_loss: 0.6245 - learning_rate: 1.0000e-04\n",
      "Epoch 3/50\n",
      "\u001b[1m10/10\u001b[0m \u001b[32m━━━━━━━━━━━━━━━━━━━━\u001b[0m\u001b[37m\u001b[0m \u001b[1m5s\u001b[0m 501ms/step - accuracy: 0.6995 - loss: 0.6227 - val_accuracy: 0.8122 - val_loss: 0.5815 - learning_rate: 1.0000e-04\n",
      "Epoch 4/50\n",
      "\u001b[1m10/10\u001b[0m \u001b[32m━━━━━━━━━━━━━━━━━━━━\u001b[0m\u001b[37m\u001b[0m \u001b[1m5s\u001b[0m 498ms/step - accuracy: 0.7396 - loss: 0.5163 - val_accuracy: 0.7614 - val_loss: 0.5345 - learning_rate: 1.0000e-04\n",
      "Epoch 5/50\n",
      "\u001b[1m10/10\u001b[0m \u001b[32m━━━━━━━━━━━━━━━━━━━━\u001b[0m\u001b[37m\u001b[0m \u001b[1m6s\u001b[0m 612ms/step - accuracy: 0.8245 - loss: 0.4248 - val_accuracy: 0.8223 - val_loss: 0.3991 - learning_rate: 1.0000e-04\n",
      "Epoch 6/50\n",
      "\u001b[1m10/10\u001b[0m \u001b[32m━━━━━━━━━━━━━━━━━━━━\u001b[0m\u001b[37m\u001b[0m \u001b[1m5s\u001b[0m 483ms/step - accuracy: 0.8443 - loss: 0.3981 - val_accuracy: 0.8325 - val_loss: 0.4002 - learning_rate: 1.0000e-04\n",
      "Epoch 7/50\n",
      "\u001b[1m10/10\u001b[0m \u001b[32m━━━━━━━━━━━━━━━━━━━━\u001b[0m\u001b[37m\u001b[0m \u001b[1m6s\u001b[0m 640ms/step - accuracy: 0.8618 - loss: 0.3286 - val_accuracy: 0.8223 - val_loss: 0.3911 - learning_rate: 1.0000e-04\n",
      "Epoch 8/50\n",
      "\u001b[1m10/10\u001b[0m \u001b[32m━━━━━━━━━━━━━━━━━━━━\u001b[0m\u001b[37m\u001b[0m \u001b[1m6s\u001b[0m 617ms/step - accuracy: 0.8478 - loss: 0.3607 - val_accuracy: 0.8325 - val_loss: 0.3619 - learning_rate: 1.0000e-04\n",
      "Epoch 9/50\n",
      "\u001b[1m10/10\u001b[0m \u001b[32m━━━━━━━━━━━━━━━━━━━━\u001b[0m\u001b[37m\u001b[0m \u001b[1m5s\u001b[0m 496ms/step - accuracy: 0.8698 - loss: 0.3387 - val_accuracy: 0.8426 - val_loss: 0.3723 - learning_rate: 1.0000e-04\n",
      "Epoch 10/50\n",
      "\u001b[1m10/10\u001b[0m \u001b[32m━━━━━━━━━━━━━━━━━━━━\u001b[0m\u001b[37m\u001b[0m \u001b[1m5s\u001b[0m 504ms/step - accuracy: 0.8686 - loss: 0.3076 - val_accuracy: 0.8528 - val_loss: 0.3631 - learning_rate: 1.0000e-04\n",
      "Epoch 11/50\n",
      "\u001b[1m10/10\u001b[0m \u001b[32m━━━━━━━━━━━━━━━━━━━━\u001b[0m\u001b[37m\u001b[0m \u001b[1m11s\u001b[0m 627ms/step - accuracy: 0.8598 - loss: 0.3376 - val_accuracy: 0.8528 - val_loss: 0.3435 - learning_rate: 1.0000e-04\n",
      "Epoch 12/50\n",
      "\u001b[1m10/10\u001b[0m \u001b[32m━━━━━━━━━━━━━━━━━━━━\u001b[0m\u001b[37m\u001b[0m \u001b[1m9s\u001b[0m 477ms/step - accuracy: 0.8710 - loss: 0.3428 - val_accuracy: 0.8477 - val_loss: 0.3676 - learning_rate: 1.0000e-04\n",
      "Epoch 13/50\n",
      "\u001b[1m10/10\u001b[0m \u001b[32m━━━━━━━━━━━━━━━━━━━━\u001b[0m\u001b[37m\u001b[0m \u001b[1m5s\u001b[0m 512ms/step - accuracy: 0.8667 - loss: 0.2984 - val_accuracy: 0.8477 - val_loss: 0.3886 - learning_rate: 1.0000e-04\n",
      "Epoch 14/50\n",
      "\u001b[1m10/10\u001b[0m \u001b[32m━━━━━━━━━━━━━━━━━━━━\u001b[0m\u001b[37m\u001b[0m \u001b[1m0s\u001b[0m 268ms/step - accuracy: 0.8837 - loss: 0.2791\n",
      "Epoch 14: ReduceLROnPlateau reducing learning rate to 4.999999873689376e-05.\n",
      "\u001b[1m10/10\u001b[0m \u001b[32m━━━━━━━━━━━━━━━━━━━━\u001b[0m\u001b[37m\u001b[0m \u001b[1m5s\u001b[0m 527ms/step - accuracy: 0.8837 - loss: 0.2794 - val_accuracy: 0.8376 - val_loss: 0.4001 - learning_rate: 1.0000e-04\n",
      "Epoch 15/50\n",
      "\u001b[1m10/10\u001b[0m \u001b[32m━━━━━━━━━━━━━━━━━━━━\u001b[0m\u001b[37m\u001b[0m \u001b[1m5s\u001b[0m 512ms/step - accuracy: 0.8762 - loss: 0.2917 - val_accuracy: 0.8376 - val_loss: 0.4213 - learning_rate: 5.0000e-05\n",
      "Epoch 16/50\n",
      "\u001b[1m10/10\u001b[0m \u001b[32m━━━━━━━━━━━━━━━━━━━━\u001b[0m\u001b[37m\u001b[0m \u001b[1m5s\u001b[0m 527ms/step - accuracy: 0.8892 - loss: 0.2595 - val_accuracy: 0.8426 - val_loss: 0.3941 - learning_rate: 5.0000e-05\n",
      "Epoch 17/50\n",
      "\u001b[1m10/10\u001b[0m \u001b[32m━━━━━━━━━━━━━━━━━━━━\u001b[0m\u001b[37m\u001b[0m \u001b[1m0s\u001b[0m 274ms/step - accuracy: 0.8877 - loss: 0.2709\n",
      "Epoch 17: ReduceLROnPlateau reducing learning rate to 2.499999936844688e-05.\n",
      "\u001b[1m10/10\u001b[0m \u001b[32m━━━━━━━━━━━━━━━━━━━━\u001b[0m\u001b[37m\u001b[0m \u001b[1m5s\u001b[0m 525ms/step - accuracy: 0.8876 - loss: 0.2709 - val_accuracy: 0.8325 - val_loss: 0.4370 - learning_rate: 5.0000e-05\n",
      "Epoch 18/50\n",
      "\u001b[1m10/10\u001b[0m \u001b[32m━━━━━━━━━━━━━━━━━━━━\u001b[0m\u001b[37m\u001b[0m \u001b[1m5s\u001b[0m 521ms/step - accuracy: 0.8900 - loss: 0.2716 - val_accuracy: 0.8325 - val_loss: 0.3768 - learning_rate: 2.5000e-05\n",
      "Epoch 19/50\n",
      "\u001b[1m10/10\u001b[0m \u001b[32m━━━━━━━━━━━━━━━━━━━━\u001b[0m\u001b[37m\u001b[0m \u001b[1m5s\u001b[0m 524ms/step - accuracy: 0.8877 - loss: 0.2532 - val_accuracy: 0.8274 - val_loss: 0.4292 - learning_rate: 2.5000e-05\n",
      "Epoch 20/50\n",
      "\u001b[1m10/10\u001b[0m \u001b[32m━━━━━━━━━━━━━━━━━━━━\u001b[0m\u001b[37m\u001b[0m \u001b[1m0s\u001b[0m 277ms/step - accuracy: 0.9051 - loss: 0.2481\n",
      "Epoch 20: ReduceLROnPlateau reducing learning rate to 1.249999968422344e-05.\n",
      "\u001b[1m10/10\u001b[0m \u001b[32m━━━━━━━━━━━━━━━━━━━━\u001b[0m\u001b[37m\u001b[0m \u001b[1m5s\u001b[0m 523ms/step - accuracy: 0.9043 - loss: 0.2489 - val_accuracy: 0.8274 - val_loss: 0.4042 - learning_rate: 2.5000e-05\n",
      "Epoch 21/50\n",
      "\u001b[1m10/10\u001b[0m \u001b[32m━━━━━━━━━━━━━━━━━━━━\u001b[0m\u001b[37m\u001b[0m \u001b[1m5s\u001b[0m 513ms/step - accuracy: 0.9184 - loss: 0.2167 - val_accuracy: 0.8325 - val_loss: 0.4130 - learning_rate: 1.2500e-05\n",
      "Epoch 22/50\n",
      "\u001b[1m10/10\u001b[0m \u001b[32m━━━━━━━━━━━━━━━━━━━━\u001b[0m\u001b[37m\u001b[0m \u001b[1m5s\u001b[0m 533ms/step - accuracy: 0.9135 - loss: 0.2297 - val_accuracy: 0.8223 - val_loss: 0.4074 - learning_rate: 1.2500e-05\n",
      "Epoch 23/50\n",
      "\u001b[1m10/10\u001b[0m \u001b[32m━━━━━━━━━━━━━━━━━━━━\u001b[0m\u001b[37m\u001b[0m \u001b[1m0s\u001b[0m 275ms/step - accuracy: 0.8890 - loss: 0.2612\n",
      "Epoch 23: ReduceLROnPlateau reducing learning rate to 6.24999984211172e-06.\n",
      "\u001b[1m10/10\u001b[0m \u001b[32m━━━━━━━━━━━━━━━━━━━━\u001b[0m\u001b[37m\u001b[0m \u001b[1m5s\u001b[0m 538ms/step - accuracy: 0.8897 - loss: 0.2598 - val_accuracy: 0.8274 - val_loss: 0.4246 - learning_rate: 1.2500e-05\n",
      "\n",
      "Elapsed time: 173.49872303009033 seconds\n"
     ]
    }
   ],
   "source": [
    "ROWS = 224; COLS = 224; CHANNELS = 17; CLASSES = 2; block_layers = [2,2,2,2] # ResNet18\n",
    "dropout_rate = 0.1\n",
    "# Build Network Graph \n",
    "model_ResNet18 = ResNet(shape = (ROWS, COLS, CHANNELS), classes = CLASSES, block_layers = block_layers, dropout_rate = dropout_rate)\n",
    "\n",
    "# Compile Model \n",
    "l_rate = 1.e-4 # CHANGE HERE\n",
    "opt = keras.optimizers.Adam(learning_rate=l_rate)\n",
    "model_ResNet18.compile(optimizer=opt, loss='binary_crossentropy', metrics=[\"accuracy\"]) # Set threshold here\n",
    "\n",
    "# Train Model \n",
    "batch = 64\n",
    "epochs = 50\n",
    "start_time = time.time()\n",
    "\n",
    "history_ResNet18 = model_ResNet18.fit(X_train, y_train,\n",
    "                                      epochs = epochs, batch_size = batch, \n",
    "                                      validation_data = (X_val, y_val), callbacks = callbacks_list)\n",
    "\n",
    "end_time = time.time()\n",
    "elapsed_time = end_time - start_time\n",
    "print(f\"\\nElapsed time: {elapsed_time} seconds\")"
   ]
  },
  {
   "cell_type": "markdown",
   "id": "145d56c0-27c4-4e2a-bc0e-dc164d01ee57",
   "metadata": {},
   "source": [
    "Now only F1-Score of 0.76"
   ]
  },
  {
   "cell_type": "code",
   "execution_count": 14,
   "id": "920caaa5-a553-4e36-a7c9-fbc4fe449574",
   "metadata": {},
   "outputs": [
    {
     "name": "stdout",
     "output_type": "stream",
     "text": [
      "\u001b[1m7/7\u001b[0m \u001b[32m━━━━━━━━━━━━━━━━━━━━\u001b[0m\u001b[37m\u001b[0m \u001b[1m3s\u001b[0m 257ms/step\n",
      "F1-Score (for unbalanced test set) is: 0.76\n"
     ]
    }
   ],
   "source": [
    "from sklearn.metrics import f1_score\n",
    "loaded_model = keras.saving.load_model('./models_ResNet/model_ResNet18_dropout_01_callbacks_sigmoid_biological_channels_GradCAM_trained_2.keras')\n",
    "y_pred_test = loaded_model.predict(X_test)\n",
    "y_pred_test = (y_pred_test > 0.5).astype(int)\n",
    "f1 = f1_score(y_test, y_pred_test)\n",
    "print(\"F1-Score (for unbalanced test set) is: {:.2f}\".format(f1))"
   ]
  },
  {
   "cell_type": "markdown",
   "id": "41ff83ee-9db6-4216-bec7-5b53a891c335",
   "metadata": {},
   "source": [
    "## Re-Trying GradCAM... (previous file deleted)"
   ]
  },
  {
   "cell_type": "code",
   "execution_count": 17,
   "id": "537a7e40-9145-4cfd-84d6-64c304518cee",
   "metadata": {},
   "outputs": [],
   "source": [
    "# Training dataset without augmentation\n",
    "X_train, y_train = load_dataset(train_df, image_folder, normalize = True)\n",
    "# # Training dataset with data augmentation\n",
    "# X_train_aug, y_train_aug = load_dataset(train_df, image_folder, augment=True)\n",
    "# Validation dataset\n",
    "X_val, y_val = load_dataset(val_df, image_folder, normalize = True)\n",
    "# Test dataset\n",
    "X_test, y_test = load_dataset(test_df, image_folder, normalize = True)\n"
   ]
  },
  {
   "cell_type": "code",
   "execution_count": 7,
   "id": "777f12d4-69a5-4a85-bb3f-ee513cb46117",
   "metadata": {},
   "outputs": [],
   "source": [
    "def drop_channels(image, channels_of_interest, channel_names):\n",
    "        channel_names_new = [i for i in channel_names if i not in channels_of_interest]\n",
    "        mask = np.zeros(image.shape[2], dtype=bool) # Error: np.zeros(image.shape[0], dtype=bool) and NOT np.zeros(image.shape[2], dtype=bool) (ONLY ERROR IF YOU DONT TRANSPOSE THE IMAGE, OTHERWISE OKEY)\n",
    "        \n",
    "        for i in channels_of_interest:\n",
    "            mask[channel_names.index(i)] = True\n",
    "        image = image[:, :, mask] # Error: image[mask, :, :] and not image[:, :, mask] ! (ONLY ERROR IF YOU DONT TRANSPOSE THE IMAGE, OTHERWISE OKEY)\n",
    "        \n",
    "        return image"
   ]
  },
  {
   "cell_type": "code",
   "execution_count": 18,
   "id": "930fff52-c626-4293-8941-de7a955a2271",
   "metadata": {},
   "outputs": [],
   "source": [
    "channel_names_new = [\"Tb159\", \"Dy161\", \"Er167\", \"Pt194\",\"Yb174\", \"In115\",\"Lu175\", \"Nd144\", \"Gd158\", \"Er170\", \"Gd156\", \"Ir191\", \"Xe134\", \"Ba138\", \"Er166\", \"Pr141\", \"Dy163\", \"Dy164\", \"Gd155\", \"Er168\", \"Y89\", \"La139\"]\n",
    "panel_dir = '/home/jupyter-luvogt/Final_Project_LR/panel.csv' \n",
    "panel_df = pd.read_csv(panel_dir)\n",
    "channel_names = dict(zip(panel_df['clean_target'].to_list(), panel_df['channel'].to_list()))\n",
    "X_train = [drop_channels(i, channel_names_new, list(channel_names.values())) for i in X_train]\n",
    "X_val = [drop_channels(i, channel_names_new, list(channel_names.values())) for i in X_val]\n",
    "X_test = [drop_channels(i, channel_names_new, list(channel_names.values())) for i in X_test]\n",
    "X_train = np.array(X_train)\n",
    "X_val = np.array(X_val)\n",
    "X_test = np.array(X_test)"
   ]
  },
  {
   "cell_type": "code",
   "execution_count": 9,
   "id": "6c15a694-7f4b-4e5c-916b-e3b2b01ca200",
   "metadata": {},
   "outputs": [],
   "source": [
    "def identity_block(x, filter, dropout_rate = 0.5):\n",
    "    # copy tensor to variable called x_skip\n",
    "    x_skip = x\n",
    "    # Layer 1\n",
    "    x = tf.keras.layers.Conv2D(filter, (3,3), padding = 'same')(x)\n",
    "    x = tf.keras.layers.BatchNormalization(axis=3)(x)\n",
    "    x = Dropout(dropout_rate)(x)\n",
    "    x = tf.keras.layers.Activation('relu')(x)\n",
    "    # Layer 2\n",
    "    x = tf.keras.layers.Conv2D(filter, (3,3), padding = 'same')(x)\n",
    "    x = tf.keras.layers.BatchNormalization(axis=3)(x)\n",
    "    # Add Residue\n",
    "    x = tf.keras.layers.Add()([x, x_skip])     \n",
    "    x = tf.keras.layers.Activation('relu')(x)\n",
    "    return x\n",
    "\n",
    "def convolutional_block(x, filter, dropout_rate = 0.5):\n",
    "    # copy tensor to variable called x_skip\n",
    "    x_skip = x\n",
    "    # Layer 1\n",
    "    x = tf.keras.layers.Conv2D(filter, (3,3), padding = 'same', strides = (2,2))(x)\n",
    "    x = tf.keras.layers.BatchNormalization(axis=3)(x)\n",
    "    x = Dropout(dropout_rate)(x)\n",
    "    x = tf.keras.layers.Activation('relu')(x)\n",
    "    # Layer 2\n",
    "    x = tf.keras.layers.Conv2D(filter, (3,3), padding = 'same')(x)\n",
    "    x = tf.keras.layers.BatchNormalization(axis=3)(x)\n",
    "    # Processing Residue with conv(1,1)\n",
    "    x_skip = tf.keras.layers.Conv2D(filter, (1,1), strides = (2,2))(x_skip)\n",
    "    # Add Residue\n",
    "    x = tf.keras.layers.Add()([x, x_skip])     \n",
    "    x = tf.keras.layers.Activation('relu')(x)\n",
    "    return x\n",
    "\n",
    "def ResNet(shape = (32, 32, 3), classes = 10, block_layers = [3, 4, 6, 3], dropout_rate = 0.5):\n",
    "    # Step 1 (Setup Input Layer)\n",
    "    x_input = tf.keras.layers.Input(shape)\n",
    "    x = tf.keras.layers.ZeroPadding2D((3, 3))(x_input)\n",
    "    # Step 2 (Initial Conv layer along with maxPool)\n",
    "    x = tf.keras.layers.Conv2D(64, kernel_size=7, strides=2, padding='same')(x)\n",
    "    x = tf.keras.layers.BatchNormalization()(x)\n",
    "    x = Dropout(dropout_rate)(x)\n",
    "    x = tf.keras.layers.Activation('relu')(x)\n",
    "    x = tf.keras.layers.MaxPool2D(pool_size=3, strides=2, padding='same')(x)\n",
    "    # Define size of sub-blocks and initial filter size\n",
    "    block_layers = block_layers\n",
    "    filter_size = 64\n",
    "    # Step 3 Add the Resnet Blocks\n",
    "    for i in range(4):\n",
    "        if i == 0:\n",
    "            # For sub-block 1 Residual/Convolutional block not needed\n",
    "            for j in range(block_layers[i]):\n",
    "                x = identity_block(x, filter_size)\n",
    "        else:\n",
    "            # One Residual/Convolutional Block followed by Identity blocks\n",
    "            # The filter size will go on increasing by a factor of 2\n",
    "            filter_size = filter_size*2\n",
    "            x = convolutional_block(x, filter_size)\n",
    "            for j in range(block_layers[i] - 1):\n",
    "                x = identity_block(x, filter_size)\n",
    "    # Step 4 End Dense Network\n",
    "    x = tf.keras.layers.AveragePooling2D((2,2), padding = 'same')(x)\n",
    "    x = tf.keras.layers.Flatten()(x)\n",
    "    x = tf.keras.layers.Dense(512, activation = 'relu')(x)\n",
    "    x = Dropout(dropout_rate)(x)\n",
    "    x = tf.keras.layers.Dense(1, activation = 'sigmoid')(x) # Change last layer here: sigmoid and 1 neuron (classes -1)\n",
    "    model = tf.keras.models.Model(inputs = x_input, outputs = x, name = \"ResNet18\")\n",
    "    return model"
   ]
  },
  {
   "cell_type": "code",
   "execution_count": 10,
   "id": "8934f3b9-427f-4f39-a851-00200166d90d",
   "metadata": {},
   "outputs": [],
   "source": [
    "log_dir = os.path.join(\"logs_ResNet50\", \"fit\", \"model_ResNet18_dropout_01_callbacks_sigmoid_biological_channels_GradCAM_perchannel_trained\" + time.strftime(\"%Y%m%d-%H%M%S\"))\n",
    "tb_callback = TensorBoard(log_dir=log_dir, histogram_freq=1)\n",
    "\n",
    "callbacks_list = [\n",
    "    keras.callbacks.EarlyStopping(\n",
    "        monitor=\"val_loss\",\n",
    "        patience=12,   # Optimal patience value for validation accuracy\n",
    "    ),\n",
    "    keras.callbacks.ModelCheckpoint(\n",
    "        filepath=\"./models_ResNet/model_ResNet18_dropout_01_callbacks_sigmoid_biological_channels_GradCAM_perchannel_trained.keras\", # save validation loss into file\n",
    "        monitor=\"val_loss\",  # monitor validation accuracy\n",
    "        save_best_only=True,\n",
    "    ),\n",
    "    ReduceLROnPlateau(\n",
    "    monitor=\"val_loss\",\n",
    "    factor=0.5,  \n",
    "    patience=3,\n",
    "    verbose=1,\n",
    "    mode=\"auto\",\n",
    "    min_delta=0.001,\n",
    "    min_lr=1.e-6,\n",
    "    ), \n",
    "    tb_callback\n",
    "]"
   ]
  },
  {
   "cell_type": "code",
   "execution_count": 19,
   "id": "189cf905-e293-4ec0-9cc5-271f305607b8",
   "metadata": {},
   "outputs": [
    {
     "name": "stdout",
     "output_type": "stream",
     "text": [
      "Epoch 1/50\n",
      "\u001b[1m10/10\u001b[0m \u001b[32m━━━━━━━━━━━━━━━━━━━━\u001b[0m\u001b[37m\u001b[0m \u001b[1m51s\u001b[0m 3s/step - accuracy: 0.5364 - loss: 1.8204 - val_accuracy: 0.4670 - val_loss: 0.9095 - learning_rate: 1.0000e-04\n",
      "Epoch 2/50\n",
      "\u001b[1m10/10\u001b[0m \u001b[32m━━━━━━━━━━━━━━━━━━━━\u001b[0m\u001b[37m\u001b[0m \u001b[1m5s\u001b[0m 458ms/step - accuracy: 0.6588 - loss: 0.7252 - val_accuracy: 0.6548 - val_loss: 0.7851 - learning_rate: 1.0000e-04\n",
      "Epoch 3/50\n",
      "\u001b[1m10/10\u001b[0m \u001b[32m━━━━━━━━━━━━━━━━━━━━\u001b[0m\u001b[37m\u001b[0m \u001b[1m5s\u001b[0m 459ms/step - accuracy: 0.6735 - loss: 0.6470 - val_accuracy: 0.6345 - val_loss: 0.8409 - learning_rate: 1.0000e-04\n",
      "Epoch 4/50\n",
      "\u001b[1m10/10\u001b[0m \u001b[32m━━━━━━━━━━━━━━━━━━━━\u001b[0m\u001b[37m\u001b[0m \u001b[1m5s\u001b[0m 472ms/step - accuracy: 0.6668 - loss: 0.6203 - val_accuracy: 0.6294 - val_loss: 0.9496 - learning_rate: 1.0000e-04\n",
      "Epoch 5/50\n",
      "\u001b[1m10/10\u001b[0m \u001b[32m━━━━━━━━━━━━━━━━━━━━\u001b[0m\u001b[37m\u001b[0m \u001b[1m0s\u001b[0m 278ms/step - accuracy: 0.6666 - loss: 0.6510\n",
      "Epoch 5: ReduceLROnPlateau reducing learning rate to 4.999999873689376e-05.\n",
      "\u001b[1m10/10\u001b[0m \u001b[32m━━━━━━━━━━━━━━━━━━━━\u001b[0m\u001b[37m\u001b[0m \u001b[1m5s\u001b[0m 463ms/step - accuracy: 0.6660 - loss: 0.6509 - val_accuracy: 0.6294 - val_loss: 0.9833 - learning_rate: 1.0000e-04\n",
      "Epoch 6/50\n",
      "\u001b[1m10/10\u001b[0m \u001b[32m━━━━━━━━━━━━━━━━━━━━\u001b[0m\u001b[37m\u001b[0m \u001b[1m5s\u001b[0m 463ms/step - accuracy: 0.7066 - loss: 0.5839 - val_accuracy: 0.6751 - val_loss: 0.8930 - learning_rate: 5.0000e-05\n",
      "Epoch 7/50\n",
      "\u001b[1m10/10\u001b[0m \u001b[32m━━━━━━━━━━━━━━━━━━━━\u001b[0m\u001b[37m\u001b[0m \u001b[1m5s\u001b[0m 471ms/step - accuracy: 0.6936 - loss: 0.5919 - val_accuracy: 0.6701 - val_loss: 0.9006 - learning_rate: 5.0000e-05\n",
      "Epoch 8/50\n",
      "\u001b[1m10/10\u001b[0m \u001b[32m━━━━━━━━━━━━━━━━━━━━\u001b[0m\u001b[37m\u001b[0m \u001b[1m0s\u001b[0m 285ms/step - accuracy: 0.7291 - loss: 0.5587\n",
      "Epoch 8: ReduceLROnPlateau reducing learning rate to 2.499999936844688e-05.\n",
      "\u001b[1m10/10\u001b[0m \u001b[32m━━━━━━━━━━━━━━━━━━━━\u001b[0m\u001b[37m\u001b[0m \u001b[1m5s\u001b[0m 495ms/step - accuracy: 0.7282 - loss: 0.5603 - val_accuracy: 0.6599 - val_loss: 0.8865 - learning_rate: 5.0000e-05\n",
      "Epoch 9/50\n",
      "\u001b[1m10/10\u001b[0m \u001b[32m━━━━━━━━━━━━━━━━━━━━\u001b[0m\u001b[37m\u001b[0m \u001b[1m5s\u001b[0m 486ms/step - accuracy: 0.7135 - loss: 0.5662 - val_accuracy: 0.6650 - val_loss: 0.8483 - learning_rate: 2.5000e-05\n",
      "Epoch 10/50\n",
      "\u001b[1m10/10\u001b[0m \u001b[32m━━━━━━━━━━━━━━━━━━━━\u001b[0m\u001b[37m\u001b[0m \u001b[1m5s\u001b[0m 472ms/step - accuracy: 0.7086 - loss: 0.5561 - val_accuracy: 0.6802 - val_loss: 0.8106 - learning_rate: 2.5000e-05\n",
      "Epoch 11/50\n",
      "\u001b[1m10/10\u001b[0m \u001b[32m━━━━━━━━━━━━━━━━━━━━\u001b[0m\u001b[37m\u001b[0m \u001b[1m0s\u001b[0m 282ms/step - accuracy: 0.6782 - loss: 0.6147\n",
      "Epoch 11: ReduceLROnPlateau reducing learning rate to 1.249999968422344e-05.\n",
      "\u001b[1m10/10\u001b[0m \u001b[32m━━━━━━━━━━━━━━━━━━━━\u001b[0m\u001b[37m\u001b[0m \u001b[1m5s\u001b[0m 485ms/step - accuracy: 0.6815 - loss: 0.6103 - val_accuracy: 0.7056 - val_loss: 0.7980 - learning_rate: 2.5000e-05\n",
      "Epoch 12/50\n",
      "\u001b[1m10/10\u001b[0m \u001b[32m━━━━━━━━━━━━━━━━━━━━\u001b[0m\u001b[37m\u001b[0m \u001b[1m5s\u001b[0m 478ms/step - accuracy: 0.7469 - loss: 0.5584 - val_accuracy: 0.7107 - val_loss: 0.7747 - learning_rate: 1.2500e-05\n",
      "Epoch 13/50\n",
      "\u001b[1m10/10\u001b[0m \u001b[32m━━━━━━━━━━━━━━━━━━━━\u001b[0m\u001b[37m\u001b[0m \u001b[1m5s\u001b[0m 486ms/step - accuracy: 0.7720 - loss: 0.5126 - val_accuracy: 0.7107 - val_loss: 0.7712 - learning_rate: 1.2500e-05\n",
      "Epoch 14/50\n",
      "\u001b[1m10/10\u001b[0m \u001b[32m━━━━━━━━━━━━━━━━━━━━\u001b[0m\u001b[37m\u001b[0m \u001b[1m5s\u001b[0m 474ms/step - accuracy: 0.7414 - loss: 0.5407 - val_accuracy: 0.7107 - val_loss: 0.8105 - learning_rate: 1.2500e-05\n",
      "Epoch 15/50\n",
      "\u001b[1m10/10\u001b[0m \u001b[32m━━━━━━━━━━━━━━━━━━━━\u001b[0m\u001b[37m\u001b[0m \u001b[1m5s\u001b[0m 461ms/step - accuracy: 0.7332 - loss: 0.5041 - val_accuracy: 0.7107 - val_loss: 0.7851 - learning_rate: 1.2500e-05\n",
      "Epoch 16/50\n"
     ]
    },
    {
     "ename": "KeyboardInterrupt",
     "evalue": "",
     "output_type": "error",
     "traceback": [
      "\u001b[0;31m---------------------------------------------------------------------------\u001b[0m",
      "\u001b[0;31mKeyboardInterrupt\u001b[0m                         Traceback (most recent call last)",
      "Cell \u001b[0;32mIn[19], line 16\u001b[0m\n\u001b[1;32m     13\u001b[0m epochs \u001b[38;5;241m=\u001b[39m \u001b[38;5;241m50\u001b[39m\n\u001b[1;32m     14\u001b[0m start_time \u001b[38;5;241m=\u001b[39m time\u001b[38;5;241m.\u001b[39mtime()\n\u001b[0;32m---> 16\u001b[0m history_ResNet18 \u001b[38;5;241m=\u001b[39m \u001b[43mmodel_ResNet18\u001b[49m\u001b[38;5;241;43m.\u001b[39;49m\u001b[43mfit\u001b[49m\u001b[43m(\u001b[49m\u001b[43mX_train\u001b[49m\u001b[43m,\u001b[49m\u001b[43m \u001b[49m\u001b[43my_train\u001b[49m\u001b[43m,\u001b[49m\n\u001b[1;32m     17\u001b[0m \u001b[43m                                      \u001b[49m\u001b[43mepochs\u001b[49m\u001b[43m \u001b[49m\u001b[38;5;241;43m=\u001b[39;49m\u001b[43m \u001b[49m\u001b[43mepochs\u001b[49m\u001b[43m,\u001b[49m\u001b[43m \u001b[49m\u001b[43mbatch_size\u001b[49m\u001b[43m \u001b[49m\u001b[38;5;241;43m=\u001b[39;49m\u001b[43m \u001b[49m\u001b[43mbatch\u001b[49m\u001b[43m,\u001b[49m\u001b[43m \u001b[49m\n\u001b[1;32m     18\u001b[0m \u001b[43m                                      \u001b[49m\u001b[43mvalidation_data\u001b[49m\u001b[43m \u001b[49m\u001b[38;5;241;43m=\u001b[39;49m\u001b[43m \u001b[49m\u001b[43m(\u001b[49m\u001b[43mX_val\u001b[49m\u001b[43m,\u001b[49m\u001b[43m \u001b[49m\u001b[43my_val\u001b[49m\u001b[43m)\u001b[49m\u001b[43m,\u001b[49m\u001b[43m \u001b[49m\u001b[43mcallbacks\u001b[49m\u001b[43m \u001b[49m\u001b[38;5;241;43m=\u001b[39;49m\u001b[43m \u001b[49m\u001b[43mcallbacks_list\u001b[49m\u001b[43m)\u001b[49m\n\u001b[1;32m     20\u001b[0m end_time \u001b[38;5;241m=\u001b[39m time\u001b[38;5;241m.\u001b[39mtime()\n\u001b[1;32m     21\u001b[0m elapsed_time \u001b[38;5;241m=\u001b[39m end_time \u001b[38;5;241m-\u001b[39m start_time\n",
      "File \u001b[0;32m~/.local/lib/python3.12/site-packages/keras/src/utils/traceback_utils.py:117\u001b[0m, in \u001b[0;36mfilter_traceback.<locals>.error_handler\u001b[0;34m(*args, **kwargs)\u001b[0m\n\u001b[1;32m    115\u001b[0m filtered_tb \u001b[38;5;241m=\u001b[39m \u001b[38;5;28;01mNone\u001b[39;00m\n\u001b[1;32m    116\u001b[0m \u001b[38;5;28;01mtry\u001b[39;00m:\n\u001b[0;32m--> 117\u001b[0m     \u001b[38;5;28;01mreturn\u001b[39;00m \u001b[43mfn\u001b[49m\u001b[43m(\u001b[49m\u001b[38;5;241;43m*\u001b[39;49m\u001b[43margs\u001b[49m\u001b[43m,\u001b[49m\u001b[43m \u001b[49m\u001b[38;5;241;43m*\u001b[39;49m\u001b[38;5;241;43m*\u001b[39;49m\u001b[43mkwargs\u001b[49m\u001b[43m)\u001b[49m\n\u001b[1;32m    118\u001b[0m \u001b[38;5;28;01mexcept\u001b[39;00m \u001b[38;5;167;01mException\u001b[39;00m \u001b[38;5;28;01mas\u001b[39;00m e:\n\u001b[1;32m    119\u001b[0m     filtered_tb \u001b[38;5;241m=\u001b[39m _process_traceback_frames(e\u001b[38;5;241m.\u001b[39m__traceback__)\n",
      "File \u001b[0;32m~/.local/lib/python3.12/site-packages/keras/src/backend/tensorflow/trainer.py:368\u001b[0m, in \u001b[0;36mTensorFlowTrainer.fit\u001b[0;34m(self, x, y, batch_size, epochs, verbose, callbacks, validation_split, validation_data, shuffle, class_weight, sample_weight, initial_epoch, steps_per_epoch, validation_steps, validation_batch_size, validation_freq)\u001b[0m\n\u001b[1;32m    366\u001b[0m \u001b[38;5;28;01mfor\u001b[39;00m step, iterator \u001b[38;5;129;01min\u001b[39;00m epoch_iterator:\n\u001b[1;32m    367\u001b[0m     callbacks\u001b[38;5;241m.\u001b[39mon_train_batch_begin(step)\n\u001b[0;32m--> 368\u001b[0m     logs \u001b[38;5;241m=\u001b[39m \u001b[38;5;28;43mself\u001b[39;49m\u001b[38;5;241;43m.\u001b[39;49m\u001b[43mtrain_function\u001b[49m\u001b[43m(\u001b[49m\u001b[43miterator\u001b[49m\u001b[43m)\u001b[49m\n\u001b[1;32m    369\u001b[0m     callbacks\u001b[38;5;241m.\u001b[39mon_train_batch_end(step, logs)\n\u001b[1;32m    370\u001b[0m     \u001b[38;5;28;01mif\u001b[39;00m \u001b[38;5;28mself\u001b[39m\u001b[38;5;241m.\u001b[39mstop_training:\n",
      "File \u001b[0;32m~/.local/lib/python3.12/site-packages/keras/src/backend/tensorflow/trainer.py:217\u001b[0m, in \u001b[0;36mTensorFlowTrainer._make_function.<locals>.function\u001b[0;34m(iterator)\u001b[0m\n\u001b[1;32m    213\u001b[0m \u001b[38;5;28;01mif\u001b[39;00m \u001b[38;5;28misinstance\u001b[39m(\n\u001b[1;32m    214\u001b[0m     iterator, (tf\u001b[38;5;241m.\u001b[39mdata\u001b[38;5;241m.\u001b[39mIterator, tf\u001b[38;5;241m.\u001b[39mdistribute\u001b[38;5;241m.\u001b[39mDistributedIterator)\n\u001b[1;32m    215\u001b[0m ):\n\u001b[1;32m    216\u001b[0m     opt_outputs \u001b[38;5;241m=\u001b[39m multi_step_on_iterator(iterator)\n\u001b[0;32m--> 217\u001b[0m     \u001b[38;5;28;01mif\u001b[39;00m \u001b[38;5;129;01mnot\u001b[39;00m \u001b[43mopt_outputs\u001b[49m\u001b[38;5;241;43m.\u001b[39;49m\u001b[43mhas_value\u001b[49m\u001b[43m(\u001b[49m\u001b[43m)\u001b[49m:\n\u001b[1;32m    218\u001b[0m         \u001b[38;5;28;01mraise\u001b[39;00m \u001b[38;5;167;01mStopIteration\u001b[39;00m\n\u001b[1;32m    219\u001b[0m     \u001b[38;5;28;01mreturn\u001b[39;00m opt_outputs\u001b[38;5;241m.\u001b[39mget_value()\n",
      "File \u001b[0;32m~/.local/lib/python3.12/site-packages/tensorflow/python/data/ops/optional_ops.py:176\u001b[0m, in \u001b[0;36m_OptionalImpl.has_value\u001b[0;34m(self, name)\u001b[0m\n\u001b[1;32m    174\u001b[0m \u001b[38;5;28;01mdef\u001b[39;00m \u001b[38;5;21mhas_value\u001b[39m(\u001b[38;5;28mself\u001b[39m, name\u001b[38;5;241m=\u001b[39m\u001b[38;5;28;01mNone\u001b[39;00m):\n\u001b[1;32m    175\u001b[0m   \u001b[38;5;28;01mwith\u001b[39;00m ops\u001b[38;5;241m.\u001b[39mcolocate_with(\u001b[38;5;28mself\u001b[39m\u001b[38;5;241m.\u001b[39m_variant_tensor):\n\u001b[0;32m--> 176\u001b[0m     \u001b[38;5;28;01mreturn\u001b[39;00m \u001b[43mgen_optional_ops\u001b[49m\u001b[38;5;241;43m.\u001b[39;49m\u001b[43moptional_has_value\u001b[49m\u001b[43m(\u001b[49m\n\u001b[1;32m    177\u001b[0m \u001b[43m        \u001b[49m\u001b[38;5;28;43mself\u001b[39;49m\u001b[38;5;241;43m.\u001b[39;49m\u001b[43m_variant_tensor\u001b[49m\u001b[43m,\u001b[49m\u001b[43m \u001b[49m\u001b[43mname\u001b[49m\u001b[38;5;241;43m=\u001b[39;49m\u001b[43mname\u001b[49m\n\u001b[1;32m    178\u001b[0m \u001b[43m    \u001b[49m\u001b[43m)\u001b[49m\n",
      "File \u001b[0;32m~/.local/lib/python3.12/site-packages/tensorflow/python/ops/gen_optional_ops.py:172\u001b[0m, in \u001b[0;36moptional_has_value\u001b[0;34m(optional, name)\u001b[0m\n\u001b[1;32m    170\u001b[0m \u001b[38;5;28;01mif\u001b[39;00m tld\u001b[38;5;241m.\u001b[39mis_eager:\n\u001b[1;32m    171\u001b[0m   \u001b[38;5;28;01mtry\u001b[39;00m:\n\u001b[0;32m--> 172\u001b[0m     _result \u001b[38;5;241m=\u001b[39m \u001b[43mpywrap_tfe\u001b[49m\u001b[38;5;241;43m.\u001b[39;49m\u001b[43mTFE_Py_FastPathExecute\u001b[49m\u001b[43m(\u001b[49m\n\u001b[1;32m    173\u001b[0m \u001b[43m      \u001b[49m\u001b[43m_ctx\u001b[49m\u001b[43m,\u001b[49m\u001b[43m \u001b[49m\u001b[38;5;124;43m\"\u001b[39;49m\u001b[38;5;124;43mOptionalHasValue\u001b[39;49m\u001b[38;5;124;43m\"\u001b[39;49m\u001b[43m,\u001b[49m\u001b[43m \u001b[49m\u001b[43mname\u001b[49m\u001b[43m,\u001b[49m\u001b[43m \u001b[49m\u001b[43moptional\u001b[49m\u001b[43m)\u001b[49m\n\u001b[1;32m    174\u001b[0m     \u001b[38;5;28;01mreturn\u001b[39;00m _result\n\u001b[1;32m    175\u001b[0m   \u001b[38;5;28;01mexcept\u001b[39;00m _core\u001b[38;5;241m.\u001b[39m_NotOkStatusException \u001b[38;5;28;01mas\u001b[39;00m e:\n",
      "\u001b[0;31mKeyboardInterrupt\u001b[0m: "
     ]
    }
   ],
   "source": [
    "ROWS = 224; COLS = 224; CHANNELS = 22; CLASSES = 2; block_layers = [2,2,2,2] # ResNet18\n",
    "dropout_rate = 0.1\n",
    "# Build Network Graph \n",
    "model_ResNet18 = ResNet(shape = (ROWS, COLS, CHANNELS), classes = CLASSES, block_layers = block_layers, dropout_rate = dropout_rate)\n",
    "\n",
    "# Compile Model \n",
    "l_rate = 1.e-4 # CHANGE HERE\n",
    "opt = keras.optimizers.Adam(learning_rate=l_rate)\n",
    "model_ResNet18.compile(optimizer=opt, loss='binary_crossentropy', metrics=[\"accuracy\"]) # Set threshold here\n",
    "\n",
    "# Train Model \n",
    "batch = 64\n",
    "epochs = 50\n",
    "start_time = time.time()\n",
    "\n",
    "history_ResNet18 = model_ResNet18.fit(X_train, y_train,\n",
    "                                      epochs = epochs, batch_size = batch, \n",
    "                                      validation_data = (X_val, y_val), callbacks = callbacks_list)\n",
    "\n",
    "end_time = time.time()\n",
    "elapsed_time = end_time - start_time\n",
    "print(f\"\\nElapsed time: {elapsed_time} seconds\")"
   ]
  }
 ],
 "metadata": {
  "kernelspec": {
   "display_name": "BME342 Env",
   "language": "python",
   "name": "bme342_gpu_env"
  },
  "language_info": {
   "codemirror_mode": {
    "name": "ipython",
    "version": 3
   },
   "file_extension": ".py",
   "mimetype": "text/x-python",
   "name": "python",
   "nbconvert_exporter": "python",
   "pygments_lexer": "ipython3",
   "version": "3.12.6"
  }
 },
 "nbformat": 4,
 "nbformat_minor": 5
}
