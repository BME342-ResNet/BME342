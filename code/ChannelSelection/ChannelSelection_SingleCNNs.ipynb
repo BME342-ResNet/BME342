{
 "cells": [
  {
   "cell_type": "code",
   "execution_count": null,
   "id": "5af14c06-00b9-4224-848a-98240595a715",
   "metadata": {},
   "outputs": [],
   "source": []
  }
 ],
 "metadata": {
  "kernelspec": {
   "display_name": "BME342 Env",
   "language": "python",
   "name": "bme342_gpu_env"
  },
  "language_info": {
   "codemirror_mode": {
    "name": "ipython",
    "version": 3
   },
   "file_extension": ".py",
   "mimetype": "text/x-python",
   "name": "python",
   "nbconvert_exporter": "python",
   "pygments_lexer": "ipython3",
   "version": "3.12.6"
  }
 },
 "nbformat": 4,
 "nbformat_minor": 5
}
